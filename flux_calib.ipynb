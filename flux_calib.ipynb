{
 "cells": [
  {
   "cell_type": "code",
   "execution_count": 4,
   "metadata": {
    "collapsed": false
   },
   "outputs": [],
   "source": [
    "import matplotlib\n",
    "import matplotlib.pyplot as plt\n",
    "import matplotlib.image as mgimg\n",
    "import scipy as sp\n",
    "import numpy as np\n",
    "from scipy import interpolate\n",
    "from scipy.interpolate import interp1d\n",
    "from IPython.display import display\n",
    "%matplotlib inline\n",
    "#%config InlineBackend.close_figures = False\n",
    "from scipy.io.idl import readsav\n"
   ]
  },
  {
   "cell_type": "code",
   "execution_count": null,
   "metadata": {
    "collapsed": false
   },
   "outputs": [],
   "source": [
    "rawfilt = np.loadtxt(\"UKIRT-UKIDSS.J.dat\",unpack=\"True\",skiprows=0)\n",
    "# load spex spectrum and skip to 1um\n",
    "rawspec = np.loadtxt(\"spex-prism_2MASSWJ2224438-015852_20030905_BUR10A.txt\",unpack=\"True\",skiprows=18)\n",
    "rawvega = np.loadtxt(\"vega.txt\", unpack=\"True\", skiprows=6)\n",
    "print rawfilt.shape\n",
    "rawfilt[0,:] = rawfilt[0,:] / 10000.\n",
    "rawvega[0,:] = rawvega[0,:] / 10000.\n",
    "rawvega[1,:] = rawvega[1,:] * 10. # erg/cm/s/A to W/m2/um"
   ]
  },
  {
   "cell_type": "code",
   "execution_count": null,
   "metadata": {
    "collapsed": false
   },
   "outputs": [],
   "source": [
    "# Now trim target spectrum to wavelength region of filter, and rebin filter onto new target grid\n",
    "w1 = rawfilt[0,0]\n",
    "w2 = rawfilt[0,rawfilt.shape[1] -1]\n",
    "trimspec =  rawspec[:,np.logical_not(np.logical_or(rawspec[0,:] > w2, rawspec[0,:] < w1))]\n",
    "wfit = sp.interpolate.splrep(rawfilt[0,:],rawfilt[1,:],s=0)\n",
    "filt = np.zeros_like(trimspec)\n",
    "filt[0,:] = trimspec[0,:]\n",
    "# should we multiply filter by lambda and renormalise to get response curve in terms of flux, instead of photons???\n",
    "wfilt = sp.interpolate.splev(filt[0,:],wfit,der=0)# * filt[0,:]\n",
    "filt[1,:] = wfilt\n",
    "#filt[1,:] = wfilt / np.amax(wfilt)\n",
    "# and vega\n",
    "trimvega =  rawvega[:,np.logical_not(np.logical_or(rawvega[0,:] > w2, rawvega[0,:] < w1))]\n",
    "wfit = sp.interpolate.splrep(trimvega[0,:],trimvega[1,:],s=0)\n",
    "vega = np.zeros_like(trimspec)\n",
    "vega[0,:] = filt[0,:]\n",
    "vega[1,:] = sp.interpolate.splev(filt[0,:],wfit,der=0)"
   ]
  },
  {
   "cell_type": "code",
   "execution_count": null,
   "metadata": {
    "collapsed": false
   },
   "outputs": [],
   "source": [
    "Mag = 13.89\n",
    "intspec = sum(filt[1,:]*trimspec[1,:])\n",
    "intvega = sum(filt[1,:]*vega[1,:])\n",
    "scale =(10.**(-Mag/2.5)) * (intvega / intspec)\n",
    "print scale\n",
    "intspec = 0.\n",
    "intvega = 0.\n",
    "print filt.shape\n",
    "sbin = np.zeros(filt.shape[1])\n",
    "for i in range(1,filt.shape[1]-1):\n",
    "    sbin[i]= ((trimspec[0,i] - trimspec[0,i-1]) + (trimspec[0,i+1] - trimspec[0,i])) / 2.\n",
    "# Deal with the ends...\n",
    "sbin[0] = sbin[1]\n",
    "sbin[sbin.size-1] = sbin[sbin.size-2]\n",
    "intspec = sum(sbin*filt[1,:]*trimspec[1,:])\n",
    "intvega = sum(sbin*filt[1,:]*vega[1,:])\n",
    "scale =(10.**(-Mag/2.5)) * (intvega / intspec)\n",
    "print scale"
   ]
  },
  {
   "cell_type": "code",
   "execution_count": null,
   "metadata": {
    "collapsed": false
   },
   "outputs": [],
   "source": [
    "#scale = 9.95766136255e-15\n",
    "scalespec = np.empty_like(rawspec)\n",
    "scalespec[0,:] = rawspec[0,:]\n",
    "scalespec[1,:] = rawspec[1,:] * scale\n",
    "scalespec[2,:] = rawspec[2,:] * scale"
   ]
  },
  {
   "cell_type": "code",
   "execution_count": null,
   "metadata": {
    "collapsed": true
   },
   "outputs": [],
   "source": [
    "#np.savetxt('2M2224_mkoJcalib.dat', np.c_[scalespec[0],scalespec[1],scalespec[2]])"
   ]
  },
  {
   "cell_type": "code",
   "execution_count": null,
   "metadata": {
    "collapsed": false
   },
   "outputs": [],
   "source": [
    "plt.rc('font',family='Times New Roman')\n",
    "fig=plt.figure(dpi=320)\n",
    "plt.axis([0.65, 3.0,0.0,3])\n",
    "\n",
    "\n",
    "plt.plot(rawspec[0,:],rawspec[1,:],'g-')\n",
    "plt.plot([0.8,0.8],[0.,3.0],'r-')\n",
    "plt.plot([2.5,2.5],[0.,3.0],'r-')\n",
    "\n",
    "plt.ylabel(r'Flux')\n",
    "plt.xlabel('Wavelength / Microns')\n"
   ]
  },
  {
   "cell_type": "code",
   "execution_count": 1,
   "metadata": {
    "collapsed": true
   },
   "outputs": [],
   "source": [
    "import band"
   ]
  },
  {
   "cell_type": "code",
   "execution_count": 2,
   "metadata": {
    "collapsed": false
   },
   "outputs": [
    {
     "name": "stdout",
     "output_type": "stream",
     "text": [
      "(5.458953441771598e-17, 1.005576385469746e-17)\n"
     ]
    }
   ],
   "source": [
    "print band.mag2flux(15,0.2, \"w1\",iso=False)\n",
    "\n"
   ]
  },
  {
   "cell_type": "code",
   "execution_count": 5,
   "metadata": {
    "collapsed": false
   },
   "outputs": [
    {
     "name": "stdout",
     "output_type": "stream",
     "text": [
      "[[  1.00000000e+00   1.00010001e+00   1.00020004e+00 ...,   9.98003992e+00\n",
      "    9.99000999e+00   1.00000000e+01]\n",
      " [  8.23984116e+02   1.46503669e+03   3.96412927e+03 ...,   2.40680353e+03\n",
      "    2.43804207e+03   2.32811739e+03]]\n"
     ]
    }
   ],
   "source": [
    "oldspec = np.loadtxt(\"10gas_TESTspectrum.dat\", unpack=True)\n",
    "oldspec[:,:] = oldspec[:,::-1]\n",
    "print oldspec"
   ]
  },
  {
   "cell_type": "code",
   "execution_count": 6,
   "metadata": {
    "collapsed": false
   },
   "outputs": [
    {
     "name": "stdout",
     "output_type": "stream",
     "text": [
      "2.411478007e-17\n"
     ]
    }
   ],
   "source": [
    "print band.spec2flux(oldspec,\"w2\")* 1e-21"
   ]
  },
  {
   "cell_type": "code",
   "execution_count": null,
   "metadata": {
    "collapsed": true
   },
   "outputs": [],
   "source": []
  }
 ],
 "metadata": {
  "kernelspec": {
   "display_name": "Python 2",
   "language": "python",
   "name": "python2"
  },
  "language_info": {
   "codemirror_mode": {
    "name": "ipython",
    "version": 2
   },
   "file_extension": ".py",
   "mimetype": "text/x-python",
   "name": "python",
   "nbconvert_exporter": "python",
   "pygments_lexer": "ipython2",
   "version": "2.7.10"
  }
 },
 "nbformat": 4,
 "nbformat_minor": 0
}
