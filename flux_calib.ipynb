{
 "cells": [
  {
   "cell_type": "code",
   "execution_count": 1,
   "metadata": {
    "collapsed": false
   },
   "outputs": [],
   "source": [
    "import matplotlib\n",
    "import matplotlib.pyplot as plt\n",
    "import matplotlib.image as mgimg\n",
    "import scipy as sp\n",
    "import numpy as np\n",
    "from scipy import interpolate\n",
    "from scipy.interpolate import interp1d\n",
    "from IPython.display import display\n",
    "%matplotlib inline\n",
    "#%config InlineBackend.close_figures = False\n",
    "from scipy.io.idl import readsav\n"
   ]
  },
  {
   "cell_type": "code",
   "execution_count": 2,
   "metadata": {
    "collapsed": false
   },
   "outputs": [
    {
     "name": "stdout",
     "output_type": "stream",
     "text": [
      "(2, 107)\n"
     ]
    }
   ],
   "source": [
    "rawfilt = np.loadtxt(\"2MASS-2MASS.J.dat\",unpack=\"True\",skiprows=0)\n",
    "# load spex spectrum and skip to 1um\n",
    "rawspec = np.loadtxt(\"spex_prism_0355+1133_091207--L5.txt\",unpack=\"True\",skiprows=1)\n",
    "rawvega = np.loadtxt(\"vega.txt\", unpack=\"True\", skiprows=6)\n",
    "print rawfilt.shape\n",
    "rawfilt[0,:] = rawfilt[0,:] / 10000.\n",
    "rawvega[0,:] = rawvega[0,:] / 10000.\n",
    "rawvega[1,:] = rawvega[1,:] * 10. # erg/cm/s/A to W/m2/um"
   ]
  },
  {
   "cell_type": "code",
   "execution_count": 3,
   "metadata": {
    "collapsed": false
   },
   "outputs": [],
   "source": [
    "# Now trim target spectrum to wavelength region of filter, and rebin filter onto new target grid\n",
    "w1 = rawfilt[0,0]\n",
    "w2 = rawfilt[0,rawfilt.shape[1] -1]\n",
    "trimspec =  rawspec[:,np.logical_not(np.logical_or(rawspec[0,:] > w2, rawspec[0,:] < w1))]\n",
    "wfit = sp.interpolate.splrep(rawfilt[0,:],rawfilt[1,:],s=0)\n",
    "filt = np.zeros_like(trimspec)\n",
    "filt[0,:] = trimspec[0,:]\n",
    "# should we multiply filter by lambda and renormalise to get response curve in terms of flux, instead of photons???\n",
    "wfilt = sp.interpolate.splev(filt[0,:],wfit,der=0)# * filt[0,:]\n",
    "filt[1,:] = wfilt\n",
    "#filt[1,:] = wfilt / np.amax(wfilt)\n",
    "# and vega\n",
    "trimvega =  rawvega[:,np.logical_not(np.logical_or(rawvega[0,:] > w2, rawvega[0,:] < w1))]\n",
    "wfit = sp.interpolate.splrep(trimvega[0,:],trimvega[1,:],s=0)\n",
    "vega = np.zeros_like(trimspec)\n",
    "vega[0,:] = filt[0,:]\n",
    "vega[1,:] = sp.interpolate.splev(filt[0,:],wfit,der=0)"
   ]
  },
  {
   "cell_type": "code",
   "execution_count": 4,
   "metadata": {
    "collapsed": false
   },
   "outputs": [
    {
     "name": "stdout",
     "output_type": "stream",
     "text": [
      "1.30087491539e-14\n",
      "(3, 91)\n",
      "1.29643073272e-14\n"
     ]
    }
   ],
   "source": [
    "Mag = 14.05\n",
    "intspec = sum(filt[1,:]*trimspec[1,:])\n",
    "intvega = sum(filt[1,:]*vega[1,:])\n",
    "scale =(10.**(-Mag/2.5)) * (intvega / intspec)\n",
    "print scale\n",
    "intspec = 0.\n",
    "intvega = 0.\n",
    "print filt.shape\n",
    "sbin = np.zeros(filt.shape[1])\n",
    "for i in range(1,filt.shape[1]-1):\n",
    "    sbin[i]= ((trimspec[0,i] - trimspec[0,i-1]) + (trimspec[0,i+1] - trimspec[0,i])) / 2.\n",
    "# Deal with the ends...\n",
    "sbin[0] = sbin[1]\n",
    "sbin[sbin.size-1] = sbin[sbin.size-2]\n",
    "intspec = sum(sbin*filt[1,:]*trimspec[1,:])\n",
    "intvega = sum(sbin*filt[1,:]*vega[1,:])\n",
    "scale =(10.**(-Mag/2.5)) * (intvega / intspec)\n",
    "print scale"
   ]
  },
  {
   "cell_type": "code",
   "execution_count": 5,
   "metadata": {
    "collapsed": false
   },
   "outputs": [],
   "source": [
    "#scale = 9.95766136255e-15\n",
    "scalespec = np.empty_like(rawspec)\n",
    "scalespec[0,:] = rawspec[0,:]\n",
    "scalespec[1,:] = rawspec[1,:] * scale\n",
    "scalespec[2,:] = rawspec[2,:] * scale"
   ]
  },
  {
   "cell_type": "code",
   "execution_count": 6,
   "metadata": {
    "collapsed": true
   },
   "outputs": [],
   "source": [
    "np.savetxt('2M0355_2massJcalib_full.dat', np.c_[scalespec[0],scalespec[1],scalespec[2]])"
   ]
  },
  {
   "cell_type": "code",
   "execution_count": 7,
   "metadata": {
    "collapsed": false
   },
   "outputs": [
    {
     "data": {
      "text/plain": [
       "<matplotlib.text.Text at 0x10d490110>"
      ]
     },
     "execution_count": 7,
     "metadata": {},
     "output_type": "execute_result"
    },
    {
     "data": {
      "image/png": "[encoded data removed]",
      "text/plain": [
       "<matplotlib.figure.Figure at 0x1123a58d0>"
      ]
     },
     "metadata": {},
     "output_type": "display_data"
    }
   ],
   "source": [
    "plt.rc('font',family='Times New Roman')\n",
    "fig=plt.figure(dpi=320)\n",
    "plt.axis([0.7, 2.5,0.0,1.2])\n",
    "\n",
    "\n",
    "plt.plot(rawspec[0,:],rawspec[1,:],'g-')\n",
    "plt.plot([0.8,0.8],[0.,3.0],'r-')\n",
    "plt.plot([2.5,2.5],[0.,3.0],'r-')\n",
    "\n",
    "plt.ylabel(r'Flux')\n",
    "plt.xlabel('Wavelength / Microns')\n"
   ]
  },
  {
   "cell_type": "code",
   "execution_count": 8,
   "metadata": {
    "collapsed": false
   },
   "outputs": [
    {
     "name": "stdout",
     "output_type": "stream",
     "text": [
      "(561,)\n"
     ]
    }
   ],
   "source": [
    "disp = np.zeros([rawspec.shape[1] - 1])\n",
    "print disp.shape"
   ]
  },
  {
   "cell_type": "code",
   "execution_count": 9,
   "metadata": {
    "collapsed": false
   },
   "outputs": [
    {
     "name": "stdout",
     "output_type": "stream",
     "text": [
      "562\n",
      "561\n"
     ]
    }
   ],
   "source": [
    "for i in range (0,rawspec.shape[1]-1):\n",
    "    disp[i] = rawspec[0,i+1] - rawspec[0,i]\n",
    "    \n",
    "wlen = rawspec.shape[1]\n",
    "dlen = wlen - 1\n",
    "print wlen\n",
    "print dlen"
   ]
  },
  {
   "cell_type": "code",
   "execution_count": 10,
   "metadata": {
    "collapsed": false
   },
   "outputs": [
    {
     "data": {
      "text/plain": [
       "<matplotlib.text.Text at 0x1123a5810>"
      ]
     },
     "execution_count": 10,
     "metadata": {},
     "output_type": "execute_result"
    },
    {
     "data": {
      "image/png": "[encoded data removed]",
      "text/plain": [
       "<matplotlib.figure.Figure at 0x1123f7490>"
      ]
     },
     "metadata": {},
     "output_type": "display_data"
    }
   ],
   "source": [
    "plt.rc('font',family='Times New Roman')\n",
    "fig=plt.figure(dpi=320)\n",
    "plt.axis([0.65,2.6,0.0,450])\n",
    "\n",
    "\n",
    "plt.plot(rawspec[0,0:dlen],(rawspec[0,0:dlen]/disp)/2.355,'g-')\n",
    "\n",
    "plt.ylabel(r'dispersion')\n",
    "plt.xlabel('Wavelength / Microns')"
   ]
  },
  {
   "cell_type": "code",
   "execution_count": 41,
   "metadata": {
    "collapsed": false
   },
   "outputs": [
    {
     "name": "stdout",
     "output_type": "stream",
     "text": [
      "[  0   3   6   9  12  15  18  21  24  27  30  33  36  39  42  45  48  51\n",
      "  54  57  60  63  66  69  72  75  78  81  84  87  90  93  96  99 102 105\n",
      " 108 111 114 117 120 123 126 129 132 135 138 141 144 147 150 153 156 159\n",
      " 162 165 168 171 174 177 180 183 186 189 192 195 198 201 204 207 210 213\n",
      " 216 219 222 225 228 231 234 237 240 243 246 249 252 255 258 261 264 267\n",
      " 270 273 276 279 282 285 288 291 294 297 300 303 306 309 312 315 318]\n",
      "[376 379 382 385 388 391 394 397 400 403 406 409 412 415 418 421 424 427\n",
      " 430 433 436 439 442 445 448 451 454 457 460 463 466 469 472 475 478 481\n",
      " 484 487 490 493 496 499 502 505 508 511 514 517 520 523 526 529 532 535\n",
      " 538 541 544 547 550 553 556 559]\n"
     ]
    },
    {
     "data": {
      "text/plain": [
       "1.7575552501062512e-12"
      ]
     },
     "execution_count": 41,
     "metadata": {},
     "output_type": "execute_result"
    }
   ],
   "source": [
    "c1 = np.array((np.where(scalespec[0] < 1.8)))[0,::3]\n",
    "#c1 =  tmp[0,::3]\n",
    "print c1\n",
    "tmp = np.array((np.where(scalespec[0] > 2.0)))\n",
    "c2 =  tmp[0,::3]\n",
    "print c2\n",
    "np.sum(scalespec[1,tmp])"
   ]
  },
  {
   "cell_type": "code",
   "execution_count": null,
   "metadata": {
    "collapsed": true
   },
   "outputs": [],
   "source": []
  }
 ],
 "metadata": {
  "kernelspec": {
   "display_name": "Python 2",
   "language": "python",
   "name": "python2"
  },
  "language_info": {
   "codemirror_mode": {
    "name": "ipython",
    "version": 2
   },
   "file_extension": ".py",
   "mimetype": "text/x-python",
   "name": "python",
   "nbconvert_exporter": "python",
   "pygments_lexer": "ipython2",
   "version": "2.7.10"
  }
 },
 "nbformat": 4,
 "nbformat_minor": 0
}
