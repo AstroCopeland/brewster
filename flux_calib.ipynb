{
 "cells": [
  {
   "cell_type": "code",
   "execution_count": 1,
   "metadata": {
    "collapsed": false
   },
   "outputs": [],
   "source": [
    "import matplotlib\n",
    "import matplotlib.pyplot as plt\n",
    "import matplotlib.image as mgimg\n",
    "import scipy as sp\n",
    "import numpy as np\n",
    "from scipy import interpolate\n",
    "from scipy.interpolate import interp1d\n",
    "from IPython.display import display\n",
    "%matplotlib inline\n",
    "#%config InlineBackend.close_figures = False\n",
    "from scipy.io.idl import readsav\n"
   ]
  },
  {
   "cell_type": "code",
   "execution_count": 2,
   "metadata": {
    "collapsed": false
   },
   "outputs": [
    {
     "name": "stdout",
     "output_type": "stream",
     "text": [
      "(2, 409)\n"
     ]
    }
   ],
   "source": [
    "rawfilt = np.loadtxt(\"UKIRT-UKIDSS.J.dat\",unpack=\"True\",skiprows=0)\n",
    "# load spex spectrum and skip to 1um\n",
    "rawspec = np.loadtxt(\"spex-prism_Gliese570D_20030522_BUR04B.txt\",unpack=\"True\",skiprows=138)\n",
    "rawvega = np.loadtxt(\"vega.txt\", unpack=\"True\", skiprows=6)\n",
    "print rawfilt.shape\n",
    "rawfilt[0,:] = rawfilt[0,:] / 10000.\n",
    "rawvega[0,:] = rawvega[0,:] / 10000.\n",
    "rawvega[1,:] = rawvega[1,:] * 10. # erg/cm/s/A to W/m2/um"
   ]
  },
  {
   "cell_type": "code",
   "execution_count": 3,
   "metadata": {
    "collapsed": false
   },
   "outputs": [],
   "source": [
    "# Now trim target spectrum to wavelength region of filter, and rebin filter onto new target grid\n",
    "w1 = rawfilt[0,0]\n",
    "w2 = rawfilt[0,rawfilt.shape[1] -1]\n",
    "trimspec =  rawspec[:,np.logical_not(np.logical_or(rawspec[0,:] > w2, rawspec[0,:] < w1))]\n",
    "wfit = sp.interpolate.splrep(rawfilt[0,:],rawfilt[1,:],s=0)\n",
    "filt = np.zeros_like(trimspec)\n",
    "filt[0,:] = trimspec[0,:]\n",
    "# multiply filter by lambda and renormalise \n",
    "wfilt = sp.interpolate.splev(filt[0,:],wfit,der=0)# * filt[0,:]\n",
    "filt[1,:] = wfilt / np.amax(wfilt)\n",
    "# and vega\n",
    "trimvega =  rawvega[:,np.logical_not(np.logical_or(rawvega[0,:] > w2, rawvega[0,:] < w1))]\n",
    "wfit = sp.interpolate.splrep(trimvega[0,:],trimvega[1,:],s=0)\n",
    "vega = np.zeros_like(trimspec)\n",
    "vega[0,:] = filt[0,:]\n",
    "vega[1,:] = sp.interpolate.splev(filt[0,:],wfit,der=0)"
   ]
  },
  {
   "cell_type": "code",
   "execution_count": 4,
   "metadata": {
    "collapsed": false
   },
   "outputs": [
    {
     "name": "stdout",
     "output_type": "stream",
     "text": [
      "5.92277552972e-15\n"
     ]
    }
   ],
   "source": [
    "Mag = 14.82\n",
    "intspec = sum(filt[1,:]*trimspec[1,:])\n",
    "intvega = sum(filt[1,:]*vega[1,:])\n",
    "scale =(10.**(-Mag/2.5)) * (intvega / intspec)\n",
    "print scale"
   ]
  },
  {
   "cell_type": "code",
   "execution_count": 5,
   "metadata": {
    "collapsed": false
   },
   "outputs": [],
   "source": [
    "scale = 5.9e-15\n",
    "scalespec = np.empty_like(rawspec)\n",
    "scalespec[0,:] = rawspec[0,:]\n",
    "scalespec[1,:] = rawspec[1,:] * scale\n",
    "scalespec[2,:] = rawspec[2,:] * scale"
   ]
  },
  {
   "cell_type": "code",
   "execution_count": 6,
   "metadata": {
    "collapsed": true
   },
   "outputs": [],
   "source": [
    "np.savetxt('G570D_calib.dat', np.c_[scalespec[0],scalespec[1],scalespec[2]])"
   ]
  },
  {
   "cell_type": "code",
   "execution_count": null,
   "metadata": {
    "collapsed": true
   },
   "outputs": [],
   "source": []
  }
 ],
 "metadata": {
  "kernelspec": {
   "display_name": "Python 2",
   "language": "python",
   "name": "python2"
  },
  "language_info": {
   "codemirror_mode": {
    "name": "ipython",
    "version": 2
   },
   "file_extension": ".py",
   "mimetype": "text/x-python",
   "name": "python",
   "nbconvert_exporter": "python",
   "pygments_lexer": "ipython2",
   "version": "2.7.10"
  }
 },
 "nbformat": 4,
 "nbformat_minor": 0
}
