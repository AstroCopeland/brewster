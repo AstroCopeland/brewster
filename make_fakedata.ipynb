{
 "cells": [
  {
   "cell_type": "code",
   "execution_count": 1,
   "metadata": {
    "collapsed": false
   },
   "outputs": [],
   "source": [
    "import matplotlib\n",
    "import matplotlib.pyplot as plt\n",
    "import matplotlib.image as mgimg\n",
    "import scipy as sp\n",
    "import numpy as np\n",
    "import pickle as pickle\n",
    "from scipy import interpolate\n",
    "from scipy.interpolate import interp1d\n",
    "from scipy.interpolate import InterpolatedUnivariateSpline\n",
    "from IPython.display import display\n",
    "%matplotlib inline\n",
    "#%config InlineBackend.close_figures = False\n",
    "from scipy.io.idl import readsav\n",
    "from astropy.convolution import convolve, convolve_fft\n",
    "from astropy.convolution import Gaussian1DKernel\n",
    "#from pysynphot import observation\n",
    "#from pysynphot import spectrum\n",
    "import forwardmodel\n",
    "import ciamod\n",
    "import band\n",
    "import TPmod\n",
    "import cloud"
   ]
  },
  {
   "cell_type": "code",
   "execution_count": 2,
   "metadata": {
    "collapsed": false
   },
   "outputs": [
    {
     "name": "stdout",
     "output_type": "stream",
     "text": [
      "65\n",
      "13\n",
      "[  1.00000000e-04   1.25892541e-04   1.58489319e-04   1.99526231e-04\n",
      "   2.51188643e-04   3.16227766e-04   3.98107171e-04   5.01187234e-04\n",
      "   6.30957344e-04   7.94328235e-04   1.00000000e-03   1.25892541e-03\n",
      "   1.58489319e-03   1.99526231e-03   2.51188643e-03   3.16227766e-03\n",
      "   3.98107171e-03   5.01187234e-03   6.30957344e-03   7.94328235e-03\n",
      "   1.00000000e-02   1.25892541e-02   1.58489319e-02   1.99526231e-02\n",
      "   2.51188643e-02   3.16227766e-02   3.98107171e-02   5.01187234e-02\n",
      "   6.30957344e-02   7.94328235e-02   1.00000000e-01   1.25892541e-01\n",
      "   1.58489319e-01   1.99526231e-01   2.51188643e-01   3.16227766e-01\n",
      "   3.98107171e-01   5.01187234e-01   6.30957344e-01   7.94328235e-01\n",
      "   1.00000000e+00   1.25892541e+00   1.58489319e+00   1.99526231e+00\n",
      "   2.51188643e+00   3.16227766e+00   3.98107171e+00   5.01187234e+00\n",
      "   6.30957344e+00   7.94328235e+00   1.00000000e+01   1.25892541e+01\n",
      "   1.58489319e+01   1.99526231e+01   2.51188643e+01   3.16227766e+01\n",
      "   3.98107171e+01   5.01187234e+01   6.30957344e+01   7.94328235e+01\n",
      "   1.00000000e+02   1.25892541e+02   1.58489319e+02   1.99526231e+02\n",
      "   2.51188643e+02]\n"
     ]
    }
   ],
   "source": [
    "# set up coarse pressure grid and fine pressure grid\n",
    "logcoarsePress = np.arange(-4.0, 2.5, 0.53)\n",
    "coarsePress = pow(10,logcoarsePress)\n",
    "logfinePress = np.arange(-4.0, 2.5, 0.1)\n",
    "finePress = pow(10,logfinePress)\n",
    "print finePress.size\n",
    "print coarsePress.size\n",
    "print finePress"
   ]
  },
  {
   "cell_type": "code",
   "execution_count": 5,
   "metadata": {
    "collapsed": false
   },
   "outputs": [
    {
     "name": "stdout",
     "output_type": "stream",
     "text": [
      "[  650.37         657.42577527   664.48155055   671.53732582   678.59310109\n",
      "   685.64887637   692.70465164   701.43199516   710.47469009   720.51961318\n",
      "   731.54747462   741.43680234   751.32437027   761.19549645   771.06662263\n",
      "   781.36426851   791.70021546   801.977911     812.2369258    822.61226121\n",
      "   833.06963815   843.47905096   854.30240501   866.4121527    879.849088\n",
      "   894.83971436   910.73310585   926.67662564   944.24714533   963.36191797\n",
      "   985.87995628  1009.83462671  1036.11746229  1063.65366968  1096.07291181\n",
      "  1132.14126691  1171.95727454  1218.32912583  1273.98235289  1341.81634012\n",
      "  1431.24        1524.20118567  1621.93307413  1724.28190615  1831.42494962\n",
      "  1943.72639878  2078.28297307  2196.10826311  2262.65871381  2328.6745023\n",
      "  2400.39        2524.76438304  2648.14561605  2770.8506053   2893.46110566\n",
      "  3016.07160603  3138.6821064   3261.29260677  3383.90310714  3506.51360751\n",
      "  3629.12410788  3751.73460824  3874.34510861  3996.95560898  4119.56610935]\n"
     ]
    }
   ],
   "source": [
    "modP,modT = np.loadtxt(\"../Saumon_models/t1400g1000f2.dat\",skiprows=1,usecols=(1,2),unpack=True)\n",
    "tfit = InterpolatedUnivariateSpline(np.log10(modP),modT,k=1)\n",
    "temp = np.asfortranarray(tfit(np.log10(finePress)),dtype='d')\n",
    "print temp"
   ]
  },
  {
   "cell_type": "markdown",
   "metadata": {},
   "source": [
    "[(0.2736809413618656, 0.30293120551537384, 0.34120151462119891), (0.48445224059474712, 0.71156067717230687, 0.91769069497791866), (1.1961662281671723, 1.782589514584159, 3.0539810335834474), (35.951655767668505, 92.987676756895482, 161.68954644660636), (1866.2276590395848, 1887.7409333445908, 1925.8177054208306)]"
   ]
  },
  {
   "cell_type": "code",
   "execution_count": 6,
   "metadata": {
    "collapsed": false
   },
   "outputs": [
    {
     "data": {
      "text/plain": [
       "<matplotlib.text.Text at 0x1126faf50>"
      ]
     },
     "execution_count": 6,
     "metadata": {},
     "output_type": "execute_result"
    },
    {
     "data": {
      "image/png": "[encoded data removed]",
      "text/plain": [
       "<matplotlib.figure.Figure at 0x11121a850>"
      ]
     },
     "metadata": {},
     "output_type": "display_data"
    }
   ],
   "source": [
    "#Tparams = np.array([(0.24961265545013805, 0.29669980226249115, 0.34692402859455584), (0.12282222259062406, 0.15644945610649619, 0.19064094208914834), (-0.229568251913775, 0.16503714060561048, 0.68457833601497942), (3.0008442555754247, 4.1381930691794269, 4.7579819209736272), (4157.089778959039, 4851.2685890221546, 5767.5971072676621)])\n",
    "#temp = TPmod.set_prof(2,coarsePress,finePress,Tparams[:,1])\n",
    "plt.rc('font',family='Times New Roman')\n",
    "fig=plt.figure(dpi=320)\n",
    "plt.axis([0.,3000.,3.0,-5.0])\n",
    "#plt.plot(miketemp,np.log10(mikepress),'r-')\n",
    "#plt.plot(temp,np.log10(finePress),'b--')\n",
    "\n",
    "plt.plot(temp,np.log10(finePress),'r-')\n",
    "plt.plot(modT,np.log10(modP),'k--')\n",
    "plt.ylabel(r'logP')\n",
    "plt.xlabel('T / K')\n",
    "\n",
    "#"
   ]
  },
  {
   "cell_type": "code",
   "execution_count": 17,
   "metadata": {
    "collapsed": false
   },
   "outputs": [],
   "source": [
    "w1 = 0.8\n",
    "w2 = 2.4\n",
    "\n",
    "dist = 11.35\n",
    "# hardwired FWHM of data in microns\n",
    "fwhm = 0.005\n",
    "\n",
    "\n",
    "npatches = 1\n",
    "nclouds = 1\n",
    "\n",
    "\n",
    "do_clouds = np.array([0],dtype='i')\n",
    "\n",
    "\n",
    "# CURRENTLY ONLY COPE WITH ONE CLOUDY PATCH.\n",
    "#SO MAKE ALL CLOUD PARAMETERS THE SAME FOR EASE OF PROCESSING \n",
    "\n",
    "cloudnum = np.zeros([npatches,nclouds],dtype='i')\n",
    "cloudnum[:,:] = 89\n",
    "cloudtype = np.asfortranarray(np.ones([npatches,nclouds]),dtype='i')\n",
    "cloudtype[:,0] = 1\n",
    "#cloudtype[:,1] = 4\n",
    "\n",
    "\n",
    "use_disort = 0 \n",
    "\n",
    "# use the fudge factor?\n",
    "do_fudge = 1\n",
    "\n",
    "# Set the profile type\n",
    "proftype = 9\n",
    "\n",
    "prof = np.full(13,100.)\n",
    "\n",
    "if (proftype == 9):\n",
    "    modP,modT = np.loadtxt(\"../Saumon_models/t1700g1000f2.dat\",skiprows=1,usecols=(1,2),unpack=True)\n",
    "    tfit = InterpolatedUnivariateSpline(np.log10(modP),modT,k=1)\n",
    "    prof = tfit(logcoarsePress)\n",
    "    \n",
    "# place holder values for cloudparams\n",
    "cloudparams = np.ones([5,npatches,nclouds],dtype='d')\n",
    "cloudparams[0,:,0] = 4.0\n",
    "cloudparams[1,:,0] = -0.5\n",
    "cloudparams[2,:,0] = 0.1\n",
    "cloudparams[3,:,0] = 0.5\n",
    "cloudparams[4,:,0] = 0.00\n",
    "\n",
    "#cloudparams[0,:,1] = 0.0\n",
    "#cloudparams[1,:,1] = 0.5\n",
    "#cloudparams[2,:,1] = 3.0\n",
    "#cloudparams[3,:,1] = 0.5\n",
    "#cloudparams[4,:,1] = 0.6\n",
    "\n",
    "pcover = 1.0\n",
    "bits= np.array([(5.0225060735284526, 5.2071905701033137, 5.2882414217989506), (3.8810409944043399e-20, 4.0255440848136866e-20, 4.1710216532602051e-20), (0.0037438044311316355, 0.0045095531743837639, 0.0052347985565985942), (-31.218892232244485, -31.163579686043196, -31.094588555625002)])\n",
    "logg = 5.0\n",
    "r2d2 = np.array(bits[1,1])\n",
    "dlam = np.array(bits[2,1])"
   ]
  },
  {
   "cell_type": "code",
   "execution_count": 18,
   "metadata": {
    "collapsed": false
   },
   "outputs": [],
   "source": [
    "# Get the linelists\n",
    "ngas = 8\n",
    "gasnum = np.asfortranarray(np.array([1,4,7,8,10,11,20,21],dtype='i'))\n",
    "lists = [\"../Linelists/H2O_xsecs.pic\",\"../Linelists/co_xsecs.pic\",\"../Linelists/tio_xsecs.pic\",\"../Linelists/vo_xsecs.pic\",\"../Linelists/crh_xsecs.pic\" ,\"../Linelists/feh_xsecs.pic\",\"../Linelists/K_Mike_xsecs.pic\",\"../Linelists/Na_Mike_xsecs.pic\"]"
   ]
  },
  {
   "cell_type": "code",
   "execution_count": 9,
   "metadata": {
    "collapsed": false
   },
   "outputs": [],
   "source": [
    "# get the basic framework from water list\n",
    "rawwavenum, inpress, inlinetemps, inlinelist = pickle.load( open('../Linelists/H2O_xsecs.pic', \"rb\" ) )\n",
    "wn1 = 10000./w2\n",
    "wn2 = 10000. / w1\n",
    "inwavenum = np.asfortranarray(rawwavenum[np.where(np.logical_not(np.logical_or(rawwavenum[:] > wn2, rawwavenum[:] < wn1)))],dtype='float64')\n",
    "ntemps = inlinetemps.size\n",
    "npress= finePress.size\n",
    "nwave = inwavenum.size\n",
    "r1 = np.amin(np.where(np.logical_not(np.logical_or(rawwavenum[:] > wn2, rawwavenum[:] < wn1))))\n",
    "r2 = np.amax(np.where(np.logical_not(np.logical_or(rawwavenum[:] > wn2, rawwavenum[:] < wn1))))\n",
    "\n",
    "# Here we are interpolating the linelist onto our fine pressure scale.\n",
    "# pickles have linelist as 4th entry....\n",
    "linelist = (np.ones([ngas,npress,ntemps,nwave],order='F')).astype('float64', order='F')\n",
    "for gas in range (0,ngas):\n",
    "    inlinelist= pickle.load( open(lists[gas], \"rb\" ) )[3]\n",
    "    # make missing bits crazy. They are all high pressure, low-temp points.\n",
    "    #inlinelist[np.isnan(inlinelist)] = 1.0\n",
    "    for i in range (0,ntemps):\n",
    "        for j in range (r1,r2+1):\n",
    "            pfit = InterpolatedUnivariateSpline(np.log10(inpress),np.log10(inlinelist[:,i,j]),k=1)\n",
    "            linelist[gas,:,i,(j-r1)] = np.asfortranarray(pfit(np.log10(finePress)))\n",
    "\n",
    "linelist[np.isnan(linelist)] = -50.0\n"
   ]
  },
  {
   "cell_type": "code",
   "execution_count": 19,
   "metadata": {
    "collapsed": false
   },
   "outputs": [
    {
     "name": "stdout",
     "output_type": "stream",
     "text": [
      "(8, 65)\n"
     ]
    }
   ],
   "source": [
    "alkratio = 16.2\n",
    "VMR1 = np.full((npress,),-3.5) # water\n",
    "vmr2 = np.full((npress,),-3.0) # CO\n",
    "vmr3 = np.full((npress,),-7.5) # TiO\n",
    "vmr4 = np.full((npress,),-8.5) # VO \n",
    "vmr5 = np.full((npress,),-8.0) #CrH \n",
    "vmr6 = np.full((npress,),-8.0) # FeH\n",
    "vmr7 = np.full((npress,),(np.log10((10.**-5.0) / (alkratio+1.))))# K\n",
    "vmr8 = np.full((npress,),(np.log10((10.**-5.0) * (alkratio / (alkratio+1.)))))\n",
    "#print VMR1.shape\n",
    "logVMR = np.asfortranarray(np.reshape((VMR1,vmr2,vmr3,vmr4,vmr5,vmr6,vmr7,vmr8),(ngas,npress)),dtype='float64')\n",
    "print logVMR.shape\n",
    "press = np.asfortranarray(finePress,dtype='float32')\n",
    "temp = np.asfortranarray(temp,dtype='float64')"
   ]
  },
  {
   "cell_type": "code",
   "execution_count": 20,
   "metadata": {
    "collapsed": false
   },
   "outputs": [
    {
     "name": "stdout",
     "output_type": "stream",
     "text": [
      "[0]\n",
      "[ 0.  0.  0.  0.  0.  0.  0.  0.  0.  0.  0.  0.  0.  0.  0.  0.  0.  0.\n",
      "  0.  0.  0.  0.  0.  0.  0.  0.  0.  0.  0.  0.  0.  0.  0.  0.  0.  0.\n",
      "  0.  0.  0.  0.  0.  0.  0.  0.  0.  0.  0.  0.  0.  0.  0.  0.  0.  0.\n",
      "  0.  0.  0.  0.  0.  0.  0.  0.  0.  0.  0.]\n"
     ]
    }
   ],
   "source": [
    "cloudprof,cloudrad,cloudsig = cloud.atlas(do_clouds,cloudnum,cloudtype,cloudparams,press)\n",
    "\n",
    "cloudnum = np.asfortranarray(cloudnum,dtype='i')\n",
    "cloudrad = np.asfortranarray(cloudrad,dtype='float64')\n",
    "cloudsig = np.asfortranarray(cloudsig,dtype='float64')\n",
    "cloudprof = np.asfortranarray(cloudprof,dtype='float64')\n",
    "pcover = np.asfortranarray(pcover,dtype='float32')\n",
    "do_clouds = np.asfortranarray(do_clouds,dtype='i')\n",
    "print do_clouds\n",
    "print cloudprof[0,:,0]"
   ]
  },
  {
   "cell_type": "code",
   "execution_count": 21,
   "metadata": {
    "collapsed": false
   },
   "outputs": [
    {
     "name": "stdout",
     "output_type": "stream",
     "text": [
      "(4, 198, 8334)\n",
      "(198,)\n",
      "float32\n",
      "outspec,phot_press,tau_spec = marv(temp,logg,r2d2,ingasnum,logvmr,pcover,do_clouds,incloudnum,cloudrad,cloudsig,cloudprof,inlinetemps,inpress,inwavenum,inlinelist,cia,ciatemps,use_disort,make_pspec,make_tspec,do_bff,bff)\n",
      "\n",
      "Wrapper for ``marv``.\n",
      "\n",
      "Parameters\n",
      "----------\n",
      "temp : in/output rank-1 array('d') with bounds (f2py_temp_d0)\n",
      "logg : input float\n",
      "r2d2 : input float\n",
      "ingasnum : in/output rank-1 array('i') with bounds (f2py_ingasnum_d0)\n",
      "logvmr : in/output rank-2 array('d') with bounds (f2py_logvmr_d0,f2py_logvmr_d1)\n",
      "pcover : in/output rank-1 array('f') with bounds (f2py_pcover_d0)\n",
      "do_clouds : in/output rank-1 array('i') with bounds (f2py_do_clouds_d0)\n",
      "incloudnum : in/output rank-2 array('i') with bounds (f2py_incloudnum_d0,f2py_incloudnum_d1)\n",
      "cloudrad : in/output rank-3 array('d') with bounds (f2py_cloudrad_d0,f2py_cloudrad_d1,f2py_cloudrad_d2)\n",
      "cloudsig : in/output rank-3 array('d') with bounds (f2py_cloudsig_d0,f2py_cloudsig_d1,f2py_cloudsig_d2)\n",
      "cloudprof : in/output rank-3 array('d') with bounds (f2py_cloudprof_d0,f2py_cloudprof_d1,f2py_cloudprof_d2)\n",
      "inlinetemps : input rank-1 array('f') with bounds (27)\n",
      "inpress : in/output rank-1 array('f') with bounds (f2py_inpress_d0)\n",
      "inwavenum : in/output rank-1 array('d') with bounds (f2py_inwavenum_d0)\n",
      "inlinelist : in/output rank-4 array('d') with bounds (f2py_inlinelist_d0,f2py_inlinelist_d1,f2py_inlinelist_d2,f2py_inlinelist_d3)\n",
      "cia : in/output rank-3 array('f') with bounds (f2py_cia_d0,f2py_cia_d1,f2py_cia_d2)\n",
      "ciatemps : in/output rank-1 array('f') with bounds (198)\n",
      "use_disort : input int\n",
      "make_pspec : input int\n",
      "make_tspec : input int\n",
      "do_bff : input int\n",
      "bff : in/output rank-2 array('d') with bounds (f2py_bff_d0,f2py_bff_d1)\n",
      "\n",
      "Returns\n",
      "-------\n",
      "outspec : rank-2 array('d') with bounds (2,19501)\n",
      "phot_press : rank-2 array('d') with bounds (4,19501)\n",
      "tau_spec : rank-2 array('d') with bounds (4,19501)\n",
      "\n"
     ]
    }
   ],
   "source": [
    "tmpcia, ciatemps = ciamod.read_cia(\"CIA_DS_aug_2015.dat\",inwavenum)\n",
    "cia = np.asfortranarray(np.empty((4,ciatemps.size,nwave)),dtype='float32')\n",
    "cia[:,:,:] = tmpcia[:,:,:nwave] \n",
    "ciatemps = np.asfortranarray(ciatemps, dtype='float32')\n",
    "print cia.shape\n",
    "print ciatemps.shape\n",
    "print cia.dtype\n",
    "print forwardmodel.marv.__doc__"
   ]
  },
  {
   "cell_type": "code",
   "execution_count": 22,
   "metadata": {
    "collapsed": false
   },
   "outputs": [],
   "source": [
    "intab = np.loadtxt(\"2015_06_1060grid_feh_00_co_10.txt\",skiprows=1)\n",
    "test = np.array(intab)\n",
    "test2 = test.reshape(60,18,36)\n",
    "Pgrid = test2[20:21,:,1].reshape(18)\n",
    "Tgrid =  test2[:,10:11,0].reshape(60)\n",
    "abunds= test2[:,:,2:]\n",
    "nlayers = finePress.shape[0]\n",
    "nabpress = 18\n",
    "nabtemp = 60\n",
    "nabgas = 34\n",
    "ab_myP = np.empty([nabtemp,nlayers,nabgas])\n",
    "for gas in range (0,nabgas):\n",
    "    for i in range (0,nabtemp):\n",
    "            pfit = InterpolatedUnivariateSpline(Pgrid,np.log10(abunds[i,:,gas]),k=1)\n",
    "            ab_myP[i,:,gas] = pfit(np.log10(finePress))\n",
    "            \n",
    "bff_raw = np.empty([nabtemp,nlayers,3])\n",
    "bff_raw[:,:,0] = ab_myP[:,:,0]\n",
    "bff_raw[:,:,1] = ab_myP[:,:,2]\n",
    "bff_raw[:,:,2] = ab_myP[:,:,4]\n",
    "\n",
    "\n",
    "bff = np.zeros([3,nlayers],dtype=\"float64\") \n",
    "bfTgrid = Tgrid\n",
    "\n",
    "\n",
    "for gas in range(0,3):\n",
    "    for i in range(0,nlayers):\n",
    "        tfit = InterpolatedUnivariateSpline(Tgrid,bff_raw[:,i,gas],k=1) \n",
    "        bff[gas,i] = 10.**(tfit(temp[i]))\n",
    "\n",
    "bff = np.asfortranarray(bff, dtype='float64')"
   ]
  },
  {
   "cell_type": "code",
   "execution_count": 23,
   "metadata": {
    "collapsed": false
   },
   "outputs": [
    {
     "name": "stdout",
     "output_type": "stream",
     "text": [
      "[   75.   100.   110.   120.   130.   140.   150.   160.   170.   180.\n",
      "   190.   200.   210.   220.   230.   240.   250.   260.   270.   275.\n",
      "   280.   290.   300.   310.   320.   330.   340.   350.   375.   400.\n",
      "   425.   450.   475.   500.   575.   650.   725.   800.   900.  1000.\n",
      "  1100.  1200.  1300.  1400.  1500.  1600.  1700.  1800.  1900.  2000.\n",
      "  2150.  2300.  2450.  2600.  2800.  3000.  3250.  3500.  3750.  4000.]\n",
      "[   75.    85.   100.   120.   140.   160.   180.   200.   230.   260.\n",
      "   300.   350.   400.   500.   650.   800.  1000.  1200.  1400.  1600.\n",
      "  1800.  2000.  2300.  2600.  3000.  3500.  4000.]\n",
      "[[  1.74940232e-20   2.56138840e-20   3.81107629e-20   5.76243864e-20\n",
      "    8.85424330e-20   1.36828359e-19   2.08581018e-19   3.89114653e-19\n",
      "    7.73916265e-19   1.77242763e-18   3.58304931e-18   5.57668167e-18\n",
      "    8.85783047e-18   1.43428755e-17   2.37035052e-17   4.10587548e-17\n",
      "    7.14511771e-17   1.18513945e-16   1.53357393e-16   2.03497164e-16\n",
      "    2.76540067e-16   3.76002238e-16   5.34849588e-16   8.33859499e-16\n",
      "    1.43437173e-15   2.73840994e-15   4.23169659e-15   5.90577184e-15\n",
      "    8.83394201e-15   1.41610625e-14   2.59441667e-14   4.65701255e-14\n",
      "    7.90192473e-14   1.38890385e-13   2.77190656e-13   5.30441455e-13\n",
      "    1.07917522e-12   2.39283602e-12   5.77267431e-12   1.56669761e-11\n",
      "    5.23198284e-11   1.54639242e-10   4.15339892e-10   1.02411418e-09\n",
      "    2.34691854e-09   5.05116962e-09   1.13521392e-08   2.09901927e-08\n",
      "    2.73505829e-08   3.48675602e-08   4.46242902e-08   7.07737297e-08\n",
      "    1.05794658e-07   1.51637894e-07   2.07797430e-07   2.79013173e-07\n",
      "    3.56240294e-07   4.54023610e-07   5.53525998e-07   6.75815553e-07\n",
      "    7.94126358e-07   9.26701923e-07   1.04355230e-06   1.18234260e-06\n",
      "    1.34780610e-06]\n",
      " [  1.28425245e-13   1.70213192e-13   2.25599471e-13   2.99009500e-13\n",
      "    3.96309010e-13   5.25279663e-13   6.96251107e-13   1.01385415e-12\n",
      "    1.50275090e-12   2.35657007e-12   3.64722263e-12   5.11250043e-12\n",
      "    7.16591578e-12   1.00365689e-11   1.40572736e-11   2.00774445e-11\n",
      "    2.87273282e-11   4.02850784e-11   5.24689063e-11   6.86325242e-11\n",
      "    9.00487326e-11   1.17931893e-10   1.56831132e-10   2.18721850e-10\n",
      "    3.20380439e-10   4.97045905e-10   7.37110855e-10   1.05418640e-09\n",
      "    1.58220583e-09   2.48601551e-09   4.32104164e-09   7.43674051e-09\n",
      "    1.25628201e-08   2.18795594e-08   4.29132915e-08   8.08720384e-08\n",
      "    1.61909984e-07   3.49991170e-07   8.14228161e-07   2.11111160e-06\n",
      "    6.65686731e-06   1.88762001e-05   4.92187192e-05   1.18518844e-04\n",
      "    2.65674684e-04   5.59201434e-04   1.22677911e-03   2.22480361e-03\n",
      "    2.86541781e-03   3.60961767e-03   4.55949436e-03   7.13285823e-03\n",
      "    1.05308386e-02   1.48959882e-02   2.00895930e-02   2.65155128e-02\n",
      "    3.32932053e-02   4.16529841e-02   4.97524656e-02   5.94141056e-02\n",
      "    6.82768543e-02   7.83939460e-02   8.70539142e-02   9.69198706e-02\n",
      "    1.08182271e-01]\n",
      " [  1.09325993e-32   2.28361430e-32   4.84739092e-32   1.04563306e-31\n",
      "    2.29211571e-31   5.05321313e-31   1.09889140e-30   3.09567834e-30\n",
      "    9.39791415e-30   3.39922641e-29   1.07465078e-28   2.46141000e-28\n",
      "    5.75321659e-28   1.37025589e-27   3.33090916e-27   8.58651673e-27\n",
      "    2.22594788e-26   5.43135630e-26   9.86957440e-26   1.84380339e-25\n",
      "    3.53393727e-25   6.77029998e-25   1.36930045e-24   3.12199760e-24\n",
      "    8.08508417e-24   2.40413928e-23   5.61869684e-23   1.15926278e-22\n",
      "    2.63677877e-22   6.60141887e-22   2.00347068e-21   5.91179115e-21\n",
      "    1.62573864e-20   4.71321756e-20   1.66123016e-19   5.45703996e-19\n",
      "    1.97060511e-18   8.07893478e-18   3.73691933e-17   2.05534030e-16\n",
      "    1.53826094e-15   9.53001028e-15   5.08370327e-14   2.36644010e-13\n",
      "    9.78160428e-13   3.64735988e-12   1.43558954e-11   4.20319486e-11\n",
      "    7.32428893e-11   1.23335773e-10   2.08209900e-10   4.78905324e-10\n",
      "    1.00531620e-09   1.97623615e-09   3.61702460e-09   6.41087661e-09\n",
      "    1.05063213e-08   1.71613014e-08   2.61411861e-08   3.99092574e-08\n",
      "    5.74440729e-08   8.20692652e-08   1.11136023e-07   1.51808538e-07\n",
      "    2.09172502e-07]]\n"
     ]
    }
   ],
   "source": [
    "print Tgrid\n",
    "print inlinetemps\n",
    "print bff"
   ]
  },
  {
   "cell_type": "code",
   "execution_count": 34,
   "metadata": {
    "collapsed": false
   },
   "outputs": [],
   "source": [
    "tspec = 0\n",
    "pspec = 0\n",
    "do_bff = 1  \n",
    "# now we can call the forward model\n",
    "tmpoutspec,photspec,tauspec = forwardmodel.marv(temp,logg,r2d2,gasnum,logVMR,pcover,do_clouds,cloudnum,cloudrad,cloudsig,cloudprof,inlinetemps,press,inwavenum,linelist,cia,ciatemps,use_disort,pspec,tspec,do_bff,bff)\n",
    "\n",
    "outspec = np.zeros((2,nwave),dtype='d')\n",
    "outspec[:,:] = tmpoutspec[:,:nwave]"
   ]
  },
  {
   "cell_type": "code",
   "execution_count": 35,
   "metadata": {
    "collapsed": false
   },
   "outputs": [
    {
     "name": "stdout",
     "output_type": "stream",
     "text": [
      "[[  2.39980802e+00   2.39923225e+00   2.39865675e+00 ...,   0.00000000e+00\n",
      "    0.00000000e+00   0.00000000e+00]\n",
      " [  6.82823701e-15   6.06169710e-15   6.01322767e-15 ...,   0.00000000e+00\n",
      "    0.00000000e+00   0.00000000e+00]]\n"
     ]
    }
   ],
   "source": [
    "#np.savetxt('Ray_TESTspectrum.dat', np.c_[outspec[0],outspec[1]])\n",
    "print tmpoutspec"
   ]
  },
  {
   "cell_type": "code",
   "execution_count": 36,
   "metadata": {
    "collapsed": false
   },
   "outputs": [
    {
     "data": {
      "text/plain": [
       "<matplotlib.text.Text at 0x11a2cfd50>"
      ]
     },
     "execution_count": 36,
     "metadata": {},
     "output_type": "execute_result"
    },
    {
     "data": {
      "image/png": "[encoded data removed]",
      "text/plain": [
       "<matplotlib.figure.Figure at 0x1180237d0>"
      ]
     },
     "metadata": {},
     "output_type": "display_data"
    }
   ],
   "source": [
    "#B = np.empty(nwave,dtype='d') \n",
    "#B = 3.14159274*((2.*6.62606957e-34*(2.99792458e8**2.)) / ((outspec[0,:]*1.e-6)**5.)) / ((np.exp((6.62606957e-34*2.99792458e8)/(outspec[0,:]*1e-6*1.3806488e-23*1000.)))-1.) * 1.e-6\n",
    "plt.rc('font',family='Times New Roman')\n",
    "fig=plt.figure(dpi=320)\n",
    "plt.axis([0.7, 2.5,0.0,10e-14])\n",
    "#oldspec = np.loadtxt(\"8gas_TESTspectrum.dat\", unpack=True)\n",
    "#plt.plot(outspec[0,:],(outspec[1,:] / B),'r-')\n",
    "#plt.plot(outspec[0,:],B,'b-')\n",
    "#plt.plot(oldspec[0,:],oldspec[1,:],'r-')\n",
    "plt.plot(outspec[0,:],outspec[1,:],'g-')\n",
    "#plt.plot(outspec_c[0,:],outspec_c[1,:],'r-')\n",
    "\n",
    "#plt.plot(outspec[0,:],(1.+ ((outspec[1,:]- oldspec[1,:])/outspec[1,:]))*1e5,'g-')\n",
    "\n",
    "#plt.plot(mikespec[0,:],outspec[1,:] / (mikespec[1,:]/1e6),'r-')\n",
    "#plt.plot(mikespec[0,:],((mikespec[1,:] / 1e6) / outspec[1,:]), 'r-')\n",
    "#plt.plot(outspec[0,:],np.full(nwave,1.0),'b--')\n",
    "\n",
    "#plt.plot(outspec[0,:],6.666*outspec[1,:],'b-')\n",
    "plt.ylabel(r'Flux')\n",
    "plt.xlabel('Wavelength / Microns')\n",
    "\n",
    "#asp = 10 / 3.5\n",
    "\n",
    "#plt.axes().set_aspect(asp)\n",
    "#plt.savefig('testspec.pdf',format='pdf', dpi=720)"
   ]
  },
  {
   "cell_type": "code",
   "execution_count": 37,
   "metadata": {
    "collapsed": false
   },
   "outputs": [
    {
     "name": "stdout",
     "output_type": "stream",
     "text": [
      "(2, 8334)\n"
     ]
    }
   ],
   "source": [
    "wlen = outspec.shape[1]\n",
    "wint = outspec[0,0] - outspec[0,wlen-1]\n",
    "disp = wint / wlen\n",
    "fwhm = 0.005\n",
    "gwidth = int(round(fwhm / disp))\n",
    "print outspec.shape"
   ]
  },
  {
   "cell_type": "code",
   "execution_count": 38,
   "metadata": {
    "collapsed": false
   },
   "outputs": [],
   "source": [
    "gauss = Gaussian1DKernel(gwidth)\n",
    "cspec = convolve(outspec[1,:],gauss,boundary='extend')\n",
    "spec = np.array([outspec[0,::-1],cspec[::-1]])\n"
   ]
  },
  {
   "cell_type": "code",
   "execution_count": 39,
   "metadata": {
    "collapsed": false
   },
   "outputs": [],
   "source": [
    "obspec = np.loadtxt(\"2M1626_2MassJcalib_trim.dat\",unpack=True)\n",
    "pltspec = np.ones([obspec.shape[1]])\n",
    "wavenew = obspec[0,:]\n",
    "wfit = sp.interpolate.splrep(spec[0,:],spec[1,:],s=0)\n",
    "pltspec = sp.interpolate.splev(wavenew,wfit,der=0)\n",
    "#np.savetxt('2m2224_Ray_off_test.dat', np.c_[spec[0],spec[1]])"
   ]
  },
  {
   "cell_type": "code",
   "execution_count": 40,
   "metadata": {
    "collapsed": true
   },
   "outputs": [],
   "source": [
    "speclen = pltspec.size\n",
    "unc = np.max(pltspec)\n",
    "err = np.full(speclen,unc/50)\n",
    "outflux = np.ones(speclen)\n",
    "outflux = pltspec + err*np.random.randn(speclen)\n",
    "    "
   ]
  },
  {
   "cell_type": "code",
   "execution_count": 41,
   "metadata": {
    "collapsed": false
   },
   "outputs": [
    {
     "data": {
      "text/plain": [
       "[<matplotlib.lines.Line2D at 0x123fbee50>]"
      ]
     },
     "execution_count": 41,
     "metadata": {},
     "output_type": "execute_result"
    },
    {
     "data": {
      "image/png": "[encoded data removed]",
      "text/plain": [
       "<matplotlib.figure.Figure at 0x110239110>"
      ]
     },
     "metadata": {},
     "output_type": "display_data"
    }
   ],
   "source": [
    "plt.rc('font',family='Times New Roman')\n",
    "fig=plt.figure(dpi=320)\n",
    "plt.axis([0.7, 2.5, -2.e-15,2e-15])\n",
    "plt.plot(wavenew,outflux - pltspec,'k+')\n",
    "plt.plot(wavenew,err,'r--')\n",
    "plt.plot(wavenew,-1*err,'r--')"
   ]
  },
  {
   "cell_type": "code",
   "execution_count": 42,
   "metadata": {
    "collapsed": false
   },
   "outputs": [
    {
     "name": "stdout",
     "output_type": "stream",
     "text": [
      "5.72687503372e-17\n"
     ]
    }
   ],
   "source": [
    "print np.mean(outflux - pltspec)"
   ]
  },
  {
   "cell_type": "code",
   "execution_count": 43,
   "metadata": {
    "collapsed": true
   },
   "outputs": [],
   "source": [
    "np.savetxt('bfftest_ON_1400.dat', np.c_[wavenew,pltspec,err])"
   ]
  },
  {
   "cell_type": "code",
   "execution_count": 47,
   "metadata": {
    "collapsed": false
   },
   "outputs": [
    {
     "data": {
      "text/plain": [
       "<matplotlib.text.Text at 0x110239090>"
      ]
     },
     "execution_count": 47,
     "metadata": {},
     "output_type": "execute_result"
    },
    {
     "data": {
      "image/png": "[encoded data removed]",
      "text/plain": [
       "<matplotlib.figure.Figure at 0x12422ad50>"
      ]
     },
     "metadata": {},
     "output_type": "display_data"
    }
   ],
   "source": [
    "plt.rc('font',family='Times New Roman')\n",
    "fig=plt.figure(dpi=320)\n",
    "plt.axis([0.7, 2.5, 0.,10e-14])\n",
    "bspec = np.loadtxt(\"bfftest_ON_1400.dat\", unpack=\"true\")\n",
    "t1, = plt.plot(bspec[0],bspec[1],'r-',label=\"All ON\")\n",
    "bspec = np.loadtxt(\"bfftest_OFF_1400.dat\", unpack=\"true\")\n",
    "t2, = plt.plot(bspec[0],bspec[1],'g-',label=\"OFF\")\n",
    "bspec = np.loadtxt(\"bfftest_OFF_withCloud_4.dat\", unpack=\"true\")\n",
    "#t3, = plt.plot(bspec[0],bspec[1],'b-',linewidth=2.5,label=\"OFF with cloud\")\n",
    "bspec = np.loadtxt(\"bfftest_ON_withCloud_4.dat\", unpack=\"true\")\n",
    "#t4, = plt.plot(bspec[0],bspec[1],'y-',label=\"ON w/ cloud\")\n",
    "\n",
    "#bspec = np.loadtxt(\"bfftest.dat\", unpack=\"true\")\n",
    "#t5, = plt.plot(bspec[0],bspec[1],'k-',label=\"OFF\")\n",
    "#plt.plot(spec[0,:],mspec[1,:] / spec[1,:],'g-')\n",
    "plt.legend(handles=[t1,t2])\n",
    "plt.ylabel( 'Flux')\n",
    "plt.xlabel('Wavelength / Microns')\n"
   ]
  },
  {
   "cell_type": "code",
   "execution_count": 23,
   "metadata": {
    "collapsed": false
   },
   "outputs": [
    {
     "name": "stdout",
     "output_type": "stream",
     "text": [
      "1.1\n",
      "0.0\n"
     ]
    }
   ],
   "source": [
    "print np.log10(finePress[51])\n",
    "print cloudprof[0,51,0]"
   ]
  },
  {
   "cell_type": "code",
   "execution_count": 24,
   "metadata": {
    "collapsed": false
   },
   "outputs": [
    {
     "name": "stdout",
     "output_type": "stream",
     "text": [
      "1.0\n"
     ]
    }
   ],
   "source": [
    "print sum(cloudprof[0,0:46,0])"
   ]
  },
  {
   "cell_type": "code",
   "execution_count": 23,
   "metadata": {
    "collapsed": false
   },
   "outputs": [
    {
     "name": "stdout",
     "output_type": "stream",
     "text": [
      "[  1.00000000e-04   1.25892541e-04   1.58489319e-04   1.99526231e-04\n",
      "   2.51188643e-04   3.16227766e-04   3.98107171e-04   5.01187234e-04\n",
      "   6.30957344e-04   7.94328235e-04   1.00000000e-03   1.25892541e-03\n",
      "   1.58489319e-03   1.99526231e-03   2.51188643e-03   3.16227766e-03\n",
      "   3.98107171e-03   5.01187234e-03   6.30957344e-03   7.94328235e-03\n",
      "   1.00000000e-02   1.25892541e-02   1.58489319e-02   1.99526231e-02\n",
      "   2.51188643e-02   3.16227766e-02   3.98107171e-02   5.01187234e-02\n",
      "   6.30957344e-02   7.94328235e-02   1.00000000e-01   1.25892541e-01\n",
      "   1.58489319e-01   1.99526231e-01   2.51188643e-01   3.16227766e-01\n",
      "   3.98107171e-01   5.01187234e-01   6.30957344e-01   7.94328235e-01\n",
      "   1.00000000e+00   1.25892541e+00   1.58489319e+00   1.99526231e+00\n",
      "   2.51188643e+00   3.16227766e+00   3.98107171e+00   5.01187234e+00\n",
      "   6.30957344e+00   7.94328235e+00   1.00000000e+01   1.25892541e+01\n",
      "   1.58489319e+01   1.99526231e+01   2.51188643e+01   3.16227766e+01\n",
      "   3.98107171e+01   5.01187234e+01   6.30957344e+01   7.94328235e+01\n",
      "   1.00000000e+02   1.25892541e+02   1.58489319e+02   1.99526231e+02]\n"
     ]
    }
   ],
   "source": [
    "print finePress"
   ]
  },
  {
   "cell_type": "code",
   "execution_count": null,
   "metadata": {
    "collapsed": true
   },
   "outputs": [],
   "source": []
  },
  {
   "cell_type": "code",
   "execution_count": null,
   "metadata": {
    "collapsed": true
   },
   "outputs": [],
   "source": []
  },
  {
   "cell_type": "code",
   "execution_count": null,
   "metadata": {
    "collapsed": true
   },
   "outputs": [],
   "source": []
  }
 ],
 "metadata": {
  "kernelspec": {
   "display_name": "Python 2",
   "language": "python",
   "name": "python2"
  },
  "language_info": {
   "codemirror_mode": {
    "name": "ipython",
    "version": 2
   },
   "file_extension": ".py",
   "mimetype": "text/x-python",
   "name": "python",
   "nbconvert_exporter": "python",
   "pygments_lexer": "ipython2",
   "version": "2.7.12"
  }
 },
 "nbformat": 4,
 "nbformat_minor": 0
}
