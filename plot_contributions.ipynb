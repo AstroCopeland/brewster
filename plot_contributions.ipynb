{
 "cells": [
  {
   "cell_type": "code",
   "execution_count": 1,
   "metadata": {
    "collapsed": false
   },
   "outputs": [],
   "source": [
    "import matplotlib as mpl\n",
    "import matplotlib.pyplot as plt\n",
    "import matplotlib.image as mgimg\n",
    "import matplotlib.colors as colors\n",
    "import scipy as sp\n",
    "import numpy as np\n",
    "import emcee\n",
    "import testkit\n",
    "import corner\n",
    "import pickle as pickle\n",
    "from IPython.display import display\n",
    "%matplotlib inline\n",
    "import forwardmodel\n",
    "import ciamod\n",
    "import TPmod\n",
    "import cloud\n",
    "import band\n",
    "from astropy.convolution import convolve, convolve_fft\n",
    "from astropy.convolution import Gaussian1DKernel\n",
    "from scipy.interpolate import griddata\n",
    "from scipy.io.idl import readsav\n",
    "from scipy import interpolate\n",
    "from scipy.interpolate import interp1d\n",
    "from scipy.interpolate import InterpolatedUnivariateSpline\n",
    "from mikesconv import instrument_non_uniform"
   ]
  },
  {
   "cell_type": "code",
   "execution_count": 2,
   "metadata": {
    "collapsed": false
   },
   "outputs": [
    {
     "name": "stdout",
     "output_type": "stream",
     "text": [
      "outspec,phot_press,tau_spec,cfunc = marv(temp,logg,r2d2,ingasnum,logvmr,pcover,do_clouds,incloudnum,cloudrad,cloudsig,cloudprof,inlinetemps,inpress,inwavenum,inlinelist,cia,ciatemps,use_disort,make_pspec,make_tspec,make_cf,do_bff,bff)\n",
      "\n",
      "Wrapper for ``marv``.\n",
      "\n",
      "Parameters\n",
      "----------\n",
      "temp : in/output rank-1 array('d') with bounds (f2py_temp_d0)\n",
      "logg : input float\n",
      "r2d2 : input float\n",
      "ingasnum : in/output rank-1 array('i') with bounds (f2py_ingasnum_d0)\n",
      "logvmr : in/output rank-2 array('d') with bounds (f2py_logvmr_d0,f2py_logvmr_d1)\n",
      "pcover : in/output rank-1 array('f') with bounds (f2py_pcover_d0)\n",
      "do_clouds : in/output rank-1 array('i') with bounds (f2py_do_clouds_d0)\n",
      "incloudnum : in/output rank-2 array('i') with bounds (f2py_incloudnum_d0,f2py_incloudnum_d1)\n",
      "cloudrad : in/output rank-3 array('d') with bounds (f2py_cloudrad_d0,f2py_cloudrad_d1,f2py_cloudrad_d2)\n",
      "cloudsig : in/output rank-3 array('d') with bounds (f2py_cloudsig_d0,f2py_cloudsig_d1,f2py_cloudsig_d2)\n",
      "cloudprof : in/output rank-3 array('d') with bounds (f2py_cloudprof_d0,f2py_cloudprof_d1,f2py_cloudprof_d2)\n",
      "inlinetemps : input rank-1 array('f') with bounds (27)\n",
      "inpress : in/output rank-1 array('f') with bounds (f2py_inpress_d0)\n",
      "inwavenum : in/output rank-1 array('d') with bounds (f2py_inwavenum_d0)\n",
      "inlinelist : in/output rank-4 array('d') with bounds (f2py_inlinelist_d0,f2py_inlinelist_d1,f2py_inlinelist_d2,f2py_inlinelist_d3)\n",
      "cia : in/output rank-3 array('f') with bounds (f2py_cia_d0,f2py_cia_d1,f2py_cia_d2)\n",
      "ciatemps : in/output rank-1 array('f') with bounds (198)\n",
      "use_disort : input int\n",
      "make_pspec : input int\n",
      "make_tspec : input int\n",
      "make_cf : input int\n",
      "do_bff : input int\n",
      "bff : in/output rank-2 array('d') with bounds (f2py_bff_d0,f2py_bff_d1)\n",
      "\n",
      "Returns\n",
      "-------\n",
      "outspec : rank-2 array('d') with bounds (2,19501)\n",
      "phot_press : rank-2 array('d') with bounds (4,19501)\n",
      "tau_spec : rank-2 array('d') with bounds (4,19501)\n",
      "cfunc : rank-3 array('d') with bounds (4,19501,100)\n",
      "\n"
     ]
    }
   ],
   "source": [
    "print forwardmodel.marv.__doc__"
   ]
  },
  {
   "cell_type": "code",
   "execution_count": 3,
   "metadata": {
    "collapsed": true
   },
   "outputs": [],
   "source": [
    "def get_endchain(pic):\n",
    "    with open(pic, 'rb') as input:\n",
    "        chain,probs = pickle.load(input) \n",
    "    nwalkers = chain.shape[0]\n",
    "    niter = chain.shape[1]\n",
    "    ndim = chain.shape[2]\n",
    "    flatprobs = probs[:,:].reshape((-1))\n",
    "    max_like = flatprobs[np.argmax(probs)]\n",
    "    print max_like\n",
    "    flatendchain = chain[:,niter-2000:,:].reshape((-1,ndim))\n",
    "    flatendprobs = probs[:,niter-2000:].reshape((-1))\n",
    "    theta_max_end = flatendchain[np.argmax(flatendprobs)]\n",
    "    max_end_like = np.amax(flatendprobs)\n",
    "    return flatendchain, flatendprobs,ndim"
   ]
  },
  {
   "cell_type": "code",
   "execution_count": 4,
   "metadata": {
    "collapsed": false
   },
   "outputs": [
    {
     "name": "stdout",
     "output_type": "stream",
     "text": [
      "5004.29937981\n",
      "5003.26489273\n"
     ]
    }
   ],
   "source": [
    "flatendchain, flatendprobs,ndim = get_endchain(\"2m0500_pow_thick.pic\")\n",
    "theta_max_end = flatendchain[np.argmax(flatendprobs)]\n",
    "max_end_like = np.amax(flatendprobs)\n",
    "print max_end_like"
   ]
  },
  {
   "cell_type": "code",
   "execution_count": 5,
   "metadata": {
    "collapsed": false
   },
   "outputs": [
    {
     "name": "stdout",
     "output_type": "stream",
     "text": [
      "[ -3.31143612e+00  -2.78671869e+00  -7.42235235e+00  -8.50563221e+00\n",
      "  -5.44057042e+00  -7.50521354e+00  -7.79572662e+00  -6.60540225e+00\n",
      "   5.15390528e+00   3.01609593e-20  -1.74043626e-03  -3.07490673e+01\n",
      "   6.38379366e-01   2.77163730e+00   8.05903881e-01  -1.61008663e+00\n",
      "   9.18749875e-01   6.70902893e-02   2.06984865e-01   1.56403691e+00\n",
      "   3.82502792e+03]\n"
     ]
    }
   ],
   "source": [
    "print theta_max_end"
   ]
  },
  {
   "cell_type": "code",
   "execution_count": 6,
   "metadata": {
    "collapsed": false
   },
   "outputs": [
    {
     "name": "stdout",
     "output_type": "stream",
     "text": [
      "[  1.00000000e-04   3.38844156e-04   1.14815362e-03   3.89045145e-03\n",
      "   1.31825674e-02   4.46683592e-02   1.51356125e-01   5.12861384e-01\n",
      "   1.73780083e+00   5.88843655e+00   1.99526231e+01   6.76082975e+01\n",
      "   2.29086765e+02]\n",
      "13\n",
      "[  1.00000000e-04   1.25892541e-04   1.58489319e-04   1.99526231e-04\n",
      "   2.51188643e-04   3.16227766e-04   3.98107171e-04   5.01187234e-04\n",
      "   6.30957344e-04   7.94328235e-04   1.00000000e-03   1.25892541e-03\n",
      "   1.58489319e-03   1.99526231e-03   2.51188643e-03   3.16227766e-03\n",
      "   3.98107171e-03   5.01187234e-03   6.30957344e-03   7.94328235e-03\n",
      "   1.00000000e-02   1.25892541e-02   1.58489319e-02   1.99526231e-02\n",
      "   2.51188643e-02   3.16227766e-02   3.98107171e-02   5.01187234e-02\n",
      "   6.30957344e-02   7.94328235e-02   1.00000000e-01   1.25892541e-01\n",
      "   1.58489319e-01   1.99526231e-01   2.51188643e-01   3.16227766e-01\n",
      "   3.98107171e-01   5.01187234e-01   6.30957344e-01   7.94328235e-01\n",
      "   1.00000000e+00   1.25892541e+00   1.58489319e+00   1.99526231e+00\n",
      "   2.51188643e+00   3.16227766e+00   3.98107171e+00   5.01187234e+00\n",
      "   6.30957344e+00   7.94328235e+00   1.00000000e+01   1.25892541e+01\n",
      "   1.58489319e+01   1.99526231e+01   2.51188643e+01   3.16227766e+01\n",
      "   3.98107171e+01   5.01187234e+01   6.30957344e+01   7.94328235e+01\n",
      "   1.00000000e+02   1.25892541e+02   1.58489319e+02   1.99526231e+02]\n",
      "64\n"
     ]
    }
   ],
   "source": [
    "logP = np.arange(-4.0, 2.4, 0.1)  #high res grid\n",
    "P = 10.**logP\n",
    "logcoarsePress = np.arange(-4.0, 2.5, 0.53)\n",
    "print 10.**logcoarsePress\n",
    "print logcoarsePress.size\n",
    "print 10.**logP\n",
    "print logP.size\n",
    "finePress = P"
   ]
  },
  {
   "cell_type": "code",
   "execution_count": 7,
   "metadata": {
    "collapsed": false
   },
   "outputs": [],
   "source": [
    "w1 = 0.7\n",
    "w2 = 15\n",
    "\n",
    "dist = 13.54\n",
    "# hardwired FWHM of data in microns\n",
    "fwhm = 0.01\n",
    "\n",
    "npatches = 1\n",
    "nclouds = 1\n",
    "pcover = np.ones([npatches],dtype='f')\n",
    "pcover[:] = 1.0\n",
    "do_clouds = np.zeros([npatches],dtype='i')\n",
    "do_clouds[:] = 1\n",
    "cloudnum = np.zeros([npatches,nclouds],dtype='i')\n",
    "cloudnum[:,:] = 89\n",
    "cloudtype = np.asfortranarray(np.ones([npatches,nclouds]),dtype='i')\n",
    "cloudtype[:,:] = 2\n",
    "\n",
    "use_disort = 0 \n",
    "\n",
    "# Set the profile type\n",
    "proftype = 2\n",
    "\n",
    "# now the linelist\n",
    "# Set up number of gases, and point at the lists. see gaslist.dat\n",
    "ngas = 9\n",
    "gasnum = np.asfortranarray(np.array([1,4,7,8,9,10,11,20,21],dtype='i'))\n",
    "lists = [\"../Linelists/H2O_xsecs.pic\",\"../Linelists/co_xsecs.pic\",\"../Linelists/tio_xsecs.pic\",\"../Linelists/vo_xsecs.pic\",\"../Linelists/cah_xsecs.pic\",\"../Linelists/crh_xsecs.pic\" ,\"../Linelists/feh_xsecs.pic\",\"../Linelists/K_xsecs.pic\",\"../Linelists/Na_xsecs.pic\"]"
   ]
  },
  {
   "cell_type": "code",
   "execution_count": 8,
   "metadata": {
    "collapsed": false,
    "scrolled": true
   },
   "outputs": [
    {
     "name": "stdout",
     "output_type": "stream",
     "text": [
      "[  9.99999975e-06   2.99999992e-05   9.99999975e-05   3.00000014e-04\n",
      "   1.00000005e-03   3.00000003e-03   9.99999978e-03   2.99999993e-02\n",
      "   1.00000001e-01   3.00000012e-01   1.00000000e+00   3.00000000e+00\n",
      "   1.00000000e+01   3.00000000e+01   1.00000000e+02   3.00000000e+02]\n",
      "[   75.    85.   100.   120.   140.   160.   180.   200.   230.   260.\n",
      "   300.   350.   400.   500.   650.   800.  1000.  1200.  1400.  1600.\n",
      "  1800.  2000.  2300.  2600.  3000.  3500.  4000.]\n"
     ]
    }
   ],
   "source": [
    "# get the basic framework from water list\n",
    "rawwavenum, inpress, inlinetemps, inlinelist = pickle.load( open('../Linelists/H2O_xsecs.pic', \"rb\" ) )\n",
    "print inpress\n",
    "print inlinetemps\n",
    "\n",
    "wn1 = 10000./w2\n",
    "wn2 = 10000. / w1\n",
    "inwavenum = np.asfortranarray(rawwavenum[np.where(np.logical_not(np.logical_or(rawwavenum[:] > wn2, rawwavenum[:] < wn1)))],dtype='float64')\n",
    "ntemps = inlinetemps.size\n",
    "npress= finePress.size\n",
    "nwave = inwavenum.size\n",
    "r1 = np.amin(np.where(np.logical_not(np.logical_or(rawwavenum[:] > wn2, rawwavenum[:] < wn1))))\n",
    "r2 = np.amax(np.where(np.logical_not(np.logical_or(rawwavenum[:] > wn2, rawwavenum[:] < wn1))))\n",
    "\n",
    "# Here we are interpolating the linelist onto our fine pressure scale.\n",
    "# pickles have linelist as 4th entry....\n",
    "linelist = (np.ones([ngas,npress,ntemps,nwave],order='F')).astype('float64', order='F')\n",
    "for gas in range (0,ngas):\n",
    "    inlinelist= pickle.load( open(lists[gas], \"rb\" ) )[3]\n",
    "    # make missing bits crazy. They are all high pressure, low-temp points.\n",
    "    #inlinelist[np.isnan(inlinelist)] = 1.0\n",
    "    for i in range (0,ntemps):\n",
    "        for j in range (r1,r2+1):\n",
    "            pfit = interp1d(np.log10(inpress),np.log10(inlinelist[:,i,j]))\n",
    "            linelist[gas,:,i,(j-r1)] = np.asfortranarray(pfit(np.log10(finePress)))\n",
    "\n",
    "linelist[np.isnan(linelist)] = -50.0\n"
   ]
  },
  {
   "cell_type": "code",
   "execution_count": 9,
   "metadata": {
    "collapsed": false
   },
   "outputs": [],
   "source": [
    "tmpcia, ciatemps = ciamod.read_cia(\"CIA_DS_aug_2015.dat\",inwavenum)\n",
    "cia = np.asfortranarray(np.empty((4,ciatemps.size,nwave)),dtype='float32')\n",
    "cia[:,:,:] = tmpcia[:,:,:nwave] \n",
    "ciatemps = np.asfortranarray(ciatemps, dtype='float32')"
   ]
  },
  {
   "cell_type": "code",
   "execution_count": 10,
   "metadata": {
    "collapsed": false
   },
   "outputs": [
    {
     "name": "stdout",
     "output_type": "stream",
     "text": [
      "(9, 64)\n"
     ]
    }
   ],
   "source": [
    "alkratio = 16.2 # Asplund+ 2009\n",
    "logVMR = np.asfortranarray(np.ones([ngas,64]),dtype='float64')\n",
    "print logVMR.shape\n",
    "f1 = 1.348\n",
    "f2 = 8912.5\n"
   ]
  },
  {
   "cell_type": "code",
   "execution_count": 11,
   "metadata": {
    "collapsed": false
   },
   "outputs": [],
   "source": [
    "outspec = np.zeros((2,nwave),dtype='d')\n",
    "press = P\n",
    "ng = 8\n",
    "nc = 4\n",
    "nb = 4\n",
    "\n",
    "obspec = np.loadtxt(\"2M0500_2MassJcalib_trim.dat\",unpack=True)\n",
    "nobs = obspec.shape[1]\n",
    "\n",
    "logVMR[0,:] = np.full((npress,),(theta_max_end[0])) # water\n",
    "logVMR[1,:] = np.full((npress,),(theta_max_end[1])) # CO\n",
    "logVMR[2,:] = np.full((npress,),(theta_max_end[2])) # TiO\n",
    "logVMR[3,:] = np.full((npress,),(theta_max_end[3])) # VO\n",
    "logVMR[4,:] = np.full((npress,),(theta_max_end[4])) # CaH\n",
    "logVMR[5,:] = np.full((npress,),(theta_max_end[5])) # CrH\n",
    "logVMR[6,:] = np.full((npress,),(theta_max_end[6])) # FeH\n",
    "# Now the alkalis\n",
    "logVMR[7,:]  = np.full((npress,),(np.log10(10.**theta_max_end[7] / (alkratio+1.))))\n",
    "logVMR[8,:]  = np.full((npress,),(np.log10(10.**theta_max_end[7] * (alkratio / (alkratio+1.)))))\n",
    "logg = theta_max_end[ng]\n",
    "R2D2 = theta_max_end[ng+1]\n",
    "dlam = theta_max_end[ng+2]\n",
    "cloudparams = np.ones([5,npatches,nclouds],dtype='d')\n",
    "cloudparams[0,:,:] = 1.0\n",
    "cloudparams[1,:,:] = theta_max_end[ng+4]\n",
    "cloudparams[2,:,:] = theta_max_end[ng+5]\n",
    "cloudparams[3,:,:] = theta_max_end[ng+6]\n",
    "cloudparams[4,:,:] = theta_max_end[ng+7]\n",
    "#cloudparams[1:5] = samp[ng+nb:ng+nb+nc]\n",
    "cloudprof,cloudrad,cloudsig = cloud.atlas(do_clouds,cloudnum,cloudtype,cloudparams,press)\n",
    "cloudnum = np.asfortranarray(cloudnum,dtype='i')\n",
    "cloudrad = np.asfortranarray(cloudrad,dtype='float64')\n",
    "cloudsig = np.asfortranarray(cloudsig,dtype='float64')\n",
    "cloudprof = np.asfortranarray(cloudprof,dtype='float64')\n",
    "pcover = np.asfortranarray(pcover,dtype='float32')\n",
    "press = np.asfortranarray(press,dtype='float32')\n",
    "temp = TPmod.set_prof(2,10.**logcoarsePress,P,theta_max_end[ndim-5:])\n",
    "temp = np.asfortranarray(temp,dtype='float64')\n",
    "logVMR = np.asfortranarray(logVMR,dtype='float64')\n",
    "do_clouds = np.asfortranarray(do_clouds,dtype='i')\n",
    "pspec = 0\n",
    "tspec = 0\n",
    "make_cf = 1\n",
    "do_bff = 0\n",
    "bff = np.asfortranarray(np.ones([3,press.size]), dtype='float64')\n",
    "tmpoutspec, tmpphotspec, tmptauspec,tmpcfunc = forwardmodel.marv(temp,logg,R2D2,gasnum,logVMR,pcover,do_clouds,cloudnum,cloudrad,cloudsig,cloudprof,inlinetemps,press,inwavenum,linelist,cia,ciatemps,use_disort,pspec,tspec,make_cf,do_bff,bff)\n",
    "outspec = tmpoutspec[:,:nwave]\n",
    "#photspec = tmpphotspec[0:npatches,:nwave].reshape(nwave)\n",
    "#tauspec = tmptauspec[0:npatches,:nwave].reshape(nwave)\n",
    "#tempspec = TPmod.set_prof(2,10.**logcoarsePress,photspec,theta_max_end[ndim-5:])\n",
    "cfunc = tmpcfunc[0,:nwave,:press.size]\n",
    "wlen = outspec.shape[1]\n",
    "shiftspec = np.empty_like(outspec)\n",
    "shiftspec[0,:] =  outspec[0,:] + dlam\n",
    "shiftspec[1,:] =  outspec[1,:]   \n",
    "wlen = shiftspec.shape[1]\n",
    "wint =  shiftspec[0,0] - shiftspec[0,wlen-1]\n",
    "# convolve with instrumental profile\n",
    "# start by setting up kernel\n",
    "# First step is finding the array index length of the FWHM\n",
    "disp = wint / wlen\n",
    "gwidth = int((((fwhm / disp) // 2) * 2) +1)\n",
    "# needs to be odd\n",
    "# now get the kernel and convolve\n",
    "gauss = Gaussian1DKernel(gwidth)\n",
    "cspec = convolve(shiftspec[1,:],gauss,boundary='extend')\n",
    "topspec = np.array(cspec[::-1])\n",
    "wavenew = shiftspec[0,::-1]"
   ]
  },
  {
   "cell_type": "code",
   "execution_count": 12,
   "metadata": {
    "collapsed": true
   },
   "outputs": [],
   "source": [
    "for ilayer in range (0,press.size):\n",
    "    cfunc[:,ilayer] = convolve(cfunc[:,ilayer],gauss,boundary='extend')"
   ]
  },
  {
   "cell_type": "code",
   "execution_count": 13,
   "metadata": {
    "collapsed": false
   },
   "outputs": [
    {
     "name": "stdout",
     "output_type": "stream",
     "text": [
      "(13619, 64)\n",
      "13619\n",
      "(13619,)\n",
      "(64,)\n",
      "(64,)\n",
      "(64, 13619)\n"
     ]
    }
   ],
   "source": [
    "print cfunc.shape\n",
    "print nwave\n",
    "print wavenew.shape\n",
    "print logP.shape\n",
    "logP = logP.reshape(64,)\n",
    "print logP.shape\n",
    "print cfunc.transpose().shape"
   ]
  },
  {
   "cell_type": "code",
   "execution_count": 14,
   "metadata": {
    "collapsed": true
   },
   "outputs": [],
   "source": [
    "normfunc = np.zeros_like(cfunc)\n",
    "for iwave in range(0,nwave):\n",
    "    totcont = np.sum(cfunc[iwave,:])\n",
    "    normfunc[iwave,:] = cfunc[iwave,:] / totcont\n"
   ]
  },
  {
   "cell_type": "code",
   "execution_count": 15,
   "metadata": {
    "collapsed": false
   },
   "outputs": [
    {
     "data": {
      "image/png": "[encoded data removed]",
      "text/plain": [
       "<matplotlib.figure.Figure at 0x11b8fda10>"
      ]
     },
     "metadata": {},
     "output_type": "display_data"
    }
   ],
   "source": [
    "plt.rc('font',family='Times New Roman')\n",
    "fig=plt.figure(dpi=120)\n",
    "plt.axis([0.7,2.5,3.,-5.0])\n",
    "ax = fig.add_subplot(1,1,1) \n",
    "major_ticks = np.arange(1.0,2.6,0.5)\n",
    "minor_ticks = np.arange(0.8,2.5,0.1)\n",
    "ax.set_xticks(major_ticks)                                                       \n",
    "ax.set_xticks(minor_ticks, minor=True)                                           \n",
    "\n",
    "plt.pcolormesh(wavenew,logP,(normfunc[::-1,:].transpose()),cmap='Greys',norm=colors.SymLogNorm(linthresh=0.001,linscale=0.00001,\n",
    "                                              vmin=0., vmax=np.amax(normfunc)))\n",
    "\n",
    "cbar = plt.colorbar(orientation='vertical',norm=colors.Normalize(clip=False),ticks=[1e-3,1e-2,0.1])\n",
    "cbar.ax.set_yticklabels(['<0.1%', '1%', '10%'])\n",
    "cbar.set_label('% of total', rotation=270)\n",
    "plt.ylabel(\"log (P / bar)\")\n",
    "plt.xlabel('Wavelength / Microns')\n",
    "plt.savefig('2M0500_thickPow_contribution.png',format='png', dpi=120)"
   ]
  },
  {
   "cell_type": "code",
   "execution_count": null,
   "metadata": {
    "collapsed": true
   },
   "outputs": [],
   "source": []
  },
  {
   "cell_type": "code",
   "execution_count": null,
   "metadata": {
    "collapsed": true
   },
   "outputs": [],
   "source": []
  }
 ],
 "metadata": {
  "kernelspec": {
   "display_name": "Python 3",
   "language": "python",
   "name": "python3"
  },
  "language_info": {
   "codemirror_mode": {
    "name": "ipython",
    "version": 3
   },
   "file_extension": ".py",
   "mimetype": "text/x-python",
   "name": "python",
   "nbconvert_exporter": "python",
   "pygments_lexer": "ipython3",
   "version": "3.6.0"
  }
 },
 "nbformat": 4,
 "nbformat_minor": 0
}
