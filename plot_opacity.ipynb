{
 "cells": [
  {
   "cell_type": "code",
   "execution_count": 1,
   "metadata": {
    "collapsed": false
   },
   "outputs": [
    {
     "ename": "ImportError",
     "evalue": "No module named plotly.plotly",
     "output_type": "error",
     "traceback": [
      "\u001b[0;31m---------------------------------------------------------------------------\u001b[0m",
      "\u001b[0;31mImportError\u001b[0m                               Traceback (most recent call last)",
      "\u001b[0;32m<ipython-input-1-2499e8b378cf>\u001b[0m in \u001b[0;36m<module>\u001b[0;34m()\u001b[0m\n\u001b[1;32m      5\u001b[0m \u001b[0;32mimport\u001b[0m \u001b[0mscipy\u001b[0m\u001b[0;34m\u001b[0m\u001b[0m\n\u001b[1;32m      6\u001b[0m \u001b[0;32mimport\u001b[0m \u001b[0mnumpy\u001b[0m \u001b[0;32mas\u001b[0m \u001b[0mnp\u001b[0m\u001b[0;34m\u001b[0m\u001b[0m\n\u001b[0;32m----> 7\u001b[0;31m \u001b[0;32mimport\u001b[0m \u001b[0mplotly\u001b[0m\u001b[0;34m.\u001b[0m\u001b[0mplotly\u001b[0m \u001b[0;32mas\u001b[0m \u001b[0mpy\u001b[0m\u001b[0;34m\u001b[0m\u001b[0m\n\u001b[0m\u001b[1;32m      8\u001b[0m \u001b[0;32mimport\u001b[0m \u001b[0mplotly\u001b[0m\u001b[0;34m.\u001b[0m\u001b[0mtools\u001b[0m \u001b[0;32mas\u001b[0m \u001b[0mtls\u001b[0m\u001b[0;34m\u001b[0m\u001b[0m\n\u001b[1;32m      9\u001b[0m \u001b[0;32mfrom\u001b[0m \u001b[0mplotly\u001b[0m\u001b[0;34m.\u001b[0m\u001b[0mgraph_objs\u001b[0m \u001b[0;32mimport\u001b[0m \u001b[0;34m*\u001b[0m\u001b[0;34m\u001b[0m\u001b[0m\n",
      "\u001b[0;31mImportError\u001b[0m: No module named plotly.plotly"
     ]
    }
   ],
   "source": [
    "import matplotlib\n",
    "import matplotlib.pyplot as plt\n",
    "import matplotlib.image as mgimg\n",
    "from matplotlib import animation\n",
    "import scipy\n",
    "import numpy as np\n",
    "import plotly.plotly as py\n",
    "import plotly.tools as tls\n",
    "from plotly.graph_objs import *\n",
    "from IPython.display import display\n",
    "%matplotlib inline\n",
    "#%config InlineBackend.close_figures = False\n",
    "from mpl_toolkits.mplot3d import Axes3D\n",
    "from scipy.io.idl import readsav"
   ]
  },
  {
   "cell_type": "code",
   "execution_count": null,
   "metadata": {
    "collapsed": true
   },
   "outputs": [],
   "source": [
    "wavelen, flux = np.loadtxt('test_spectrum.dat', skiprows=1, unpack=True)\n",
    "#wavenum, kappa2 = np.loadtxt('testopacity_CH4.dat', skiprows=1, unpack=True)\n",
    "#wavenum, kappa3 = np.loadtxt('testopacity_50_50.dat', skiprows=1, unpack=True)"
   ]
  },
  {
   "cell_type": "code",
   "execution_count": null,
   "metadata": {
    "collapsed": true
   },
   "outputs": [],
   "source": [
    "trace1 = Scatter(\n",
    "    x=wavelen,\n",
    "    y=flux,\n",
    "    mode='lines',\n",
    "    name=\"'CH4 + H2O only in 950K isothermal atmosphere'\",\n",
    "    line=Line(\n",
    "        shape='spline'\n",
    "    ),\n",
    "    \n",
    ")\n",
    "\n",
    "\n",
    "\n",
    "\n",
    "data = Data([trace1])\n",
    "\n",
    "layout = Layout(\n",
    "    title='Test case atmosphere',  # set plot's title\n",
    "    font=Font(\n",
    "        family=\"Droid Sans, sans-serif\",\n",
    "    ),\n",
    "    xaxis=XAxis(\n",
    "        title='Wavelength/microns',  # x-axis title\n",
    "#        type='log',\n",
    "#        showgrid=False             # remove grid\n",
    "    ),\n",
    "    yaxis=YAxis(\n",
    "        title='Flux', # y-axis title\n",
    "        type='log',\n",
    "#        autorange='reversed',  # (!) reverse tick ordering\n",
    "#        showgrid=False,   # remove grid\n",
    "        autotick=True,   # custom ticks\n",
    "#        dtick=10           # show 1 tick per day\n",
    "    ),\n",
    "    autosize=True,  # custom size\n",
    "#    height=height,   # plot's height in pixels \n",
    "#    width=width,      # plot's width in pixels\n",
    "    legend=Legend(\n",
    "        y=30.0,\n",
    "        font=Font(\n",
    "            size=16\n",
    "        ),\n",
    "        yref='paper'\n",
    "    )\n",
    ")\n",
    "fig = Figure(data=data, layout=layout)\n",
    "# (@) Send to Plotly and show in notebook\n",
    "py.iplot(fig, filename='spectest')"
   ]
  },
  {
   "cell_type": "code",
   "execution_count": null,
   "metadata": {
    "collapsed": false
   },
   "outputs": [],
   "source": []
  },
  {
   "cell_type": "code",
   "execution_count": null,
   "metadata": {
    "collapsed": false
   },
   "outputs": [],
   "source": []
  }
 ],
 "metadata": {
  "kernelspec": {
   "display_name": "Python 2",
   "language": "python",
   "name": "python2"
  },
  "language_info": {
   "codemirror_mode": {
    "name": "ipython",
    "version": 2
   },
   "file_extension": ".py",
   "mimetype": "text/x-python",
   "name": "python",
   "nbconvert_exporter": "python",
   "pygments_lexer": "ipython2",
   "version": "2.7.13"
  }
 },
 "nbformat": 4,
 "nbformat_minor": 0
}
