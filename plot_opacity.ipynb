{
 "metadata": {
  "name": "",
  "signature": "sha256:605bfd7e36db9c97506999eaf8414aaaa522e5aafda8cd4068b20d5b179c5e08"
 },
 "nbformat": 3,
 "nbformat_minor": 0,
 "worksheets": [
  {
   "cells": [
    {
     "cell_type": "code",
     "collapsed": true,
     "input": [
      "import matplotlib\n",
      "import matplotlib.pyplot as plt\n",
      "import matplotlib.image as mgimg\n",
      "from matplotlib import animation\n",
      "import scipy\n",
      "import numpy as np\n",
      "import plotly.plotly as py\n",
      "import plotly.tools as tls\n",
      "from plotly.graph_objs import *\n",
      "from IPython.display import display\n",
      "%matplotlib inline\n",
      "#%config InlineBackend.close_figures = False\n",
      "from mpl_toolkits.mplot3d import Axes3D\n",
      "from scipy.io.idl import readsav"
     ],
     "language": "python",
     "metadata": {},
     "outputs": [],
     "prompt_number": 1
    },
    {
     "cell_type": "code",
     "collapsed": true,
     "input": [
      "wavelen, flux = np.loadtxt('test_spectrum.dat', skiprows=1, unpack=True)\n",
      "#wavenum, kappa2 = np.loadtxt('testopacity_CH4.dat', skiprows=1, unpack=True)\n",
      "#wavenum, kappa3 = np.loadtxt('testopacity_50_50.dat', skiprows=1, unpack=True)"
     ],
     "language": "python",
     "metadata": {},
     "outputs": [],
     "prompt_number": 2
    },
    {
     "cell_type": "code",
     "collapsed": true,
     "input": [
      "trace1 = Scatter(\n",
      "    x=wavelen,\n",
      "    y=flux,\n",
      "    mode='lines',\n",
      "    name=\"'CH4 + H2O only in 950K isothermal atmosphere'\",\n",
      "    line=Line(\n",
      "        shape='spline'\n",
      "    ),\n",
      "    \n",
      ")\n",
      "\n",
      "\n",
      "\n",
      "\n",
      "data = Data([trace1])\n",
      "\n",
      "layout = Layout(\n",
      "    title='Test case atmosphere',  # set plot's title\n",
      "    font=Font(\n",
      "        family=\"Droid Sans, sans-serif\",\n",
      "    ),\n",
      "    xaxis=XAxis(\n",
      "        title='Wavelength/microns',  # x-axis title\n",
      "#        type='log',\n",
      "#        showgrid=False             # remove grid\n",
      "    ),\n",
      "    yaxis=YAxis(\n",
      "        title='Flux', # y-axis title\n",
      "        type='log',\n",
      "#        autorange='reversed',  # (!) reverse tick ordering\n",
      "#        showgrid=False,   # remove grid\n",
      "        autotick=True,   # custom ticks\n",
      "#        dtick=10           # show 1 tick per day\n",
      "    ),\n",
      "    autosize=True,  # custom size\n",
      "#    height=height,   # plot's height in pixels \n",
      "#    width=width,      # plot's width in pixels\n",
      "    legend=Legend(\n",
      "        y=30.0,\n",
      "        font=Font(\n",
      "            size=16\n",
      "        ),\n",
      "        yref='paper'\n",
      "    )\n",
      ")\n",
      "fig = Figure(data=data, layout=layout)\n",
      "# (@) Send to Plotly and show in notebook\n",
      "py.iplot(fig, filename='spectest')"
     ],
     "language": "python",
     "metadata": {},
     "outputs": []
    },
    {
     "cell_type": "code",
     "collapsed": false,
     "input": [],
     "language": "python",
     "metadata": {},
     "outputs": []
    },
    {
     "cell_type": "code",
     "collapsed": false,
     "input": [],
     "language": "python",
     "metadata": {},
     "outputs": []
    }
   ],
   "metadata": {}
  }
 ]
}