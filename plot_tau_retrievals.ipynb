{
 "cells": [
  {
   "cell_type": "code",
   "execution_count": 1,
   "metadata": {
    "collapsed": true
   },
   "outputs": [],
   "source": [
    "import matplotlib\n",
    "import matplotlib.pyplot as plt\n",
    "import matplotlib.image as mgimg\n",
    "import multiprocessing\n",
    "import time\n",
    "import numpy as np\n",
    "import scipy as sp\n",
    "import emcee\n",
    "import sys\n",
    "import pickle\n",
    "import taumod\n",
    "from scipy import interpolate \n",
    "from IPython.display import display\n",
    "%matplotlib inline"
   ]
  },
  {
   "cell_type": "code",
   "execution_count": 2,
   "metadata": {
    "collapsed": true
   },
   "outputs": [],
   "source": [
    "ndim= 3\n",
    "nwalkers = 300"
   ]
  },
  {
   "cell_type": "code",
   "execution_count": 3,
   "metadata": {
    "collapsed": false
   },
   "outputs": [
    {
     "name": "stdout",
     "output_type": "stream",
     "text": [
      "(150000, 3)\n"
     ]
    }
   ],
   "source": [
    "with open('Mg2SiO4_tau_retrieval.pic', 'rb') as input:\n",
    "    fostchain,fostlnprob = pickle.load(input) \n",
    "fostsamples = fostchain[:, 1500:, :].reshape((-1, ndim))   \n",
    "fostprob  = fostlnprob[:,1500:].reshape((-1))\n",
    "print fostsamples.shape"
   ]
  },
  {
   "cell_type": "code",
   "execution_count": 4,
   "metadata": {
    "collapsed": false
   },
   "outputs": [
    {
     "name": "stdout",
     "output_type": "stream",
     "text": [
      "(150000, 3)\n"
     ]
    }
   ],
   "source": [
    "with open('MgSiO3_tau_retrieval.pic', 'rb') as input:\n",
    "    enstchain,enstlnprob = pickle.load(input) \n",
    "enstsamples = enstchain[:, 1500:, :].reshape((-1, ndim))  \n",
    "enstprob  = enstlnprob[:,1500:].reshape((-1))\n",
    "print enstsamples.shape"
   ]
  },
  {
   "cell_type": "code",
   "execution_count": 5,
   "metadata": {
    "collapsed": false
   },
   "outputs": [],
   "source": [
    "#with open('Min_MgSiO3_tau_retrieval.pic', 'rb') as input:\n",
    "#    minenstchain,minenstlnprob = pickle.load(input) \n",
    "#minenstsamples = minenstchain[:, 500:, :].reshape((-1, ndim))  \n",
    "#minenstprob  = minenstlnprob[:,500:].reshape((-1))\n",
    "#print minenstsamples.shape"
   ]
  },
  {
   "cell_type": "code",
   "execution_count": 6,
   "metadata": {
    "collapsed": false
   },
   "outputs": [
    {
     "name": "stdout",
     "output_type": "stream",
     "text": [
      "(150000, 3)\n"
     ]
    }
   ],
   "source": [
    "with open('Fe_tau_retrieval.pic', 'rb') as input:\n",
    "    fechain,felnprob = pickle.load(input) \n",
    "fesamples = fechain[:, 8500:, :].reshape((-1, ndim)) \n",
    "feprob  = felnprob[:,8500:].reshape((-1))\n",
    "print fesamples.shape"
   ]
  },
  {
   "cell_type": "code",
   "execution_count": 7,
   "metadata": {
    "collapsed": false
   },
   "outputs": [],
   "source": [
    "#with open('Min_Fe_tau_retrieval.pic', 'rb') as input:\n",
    "#    minfechain,minfelnprob = pickle.load(input) \n",
    "#minfesamples = minfechain[:, 1500:, :].reshape((-1, ndim)) \n",
    "#minfeprob  = minfelnprob[:,1500:].reshape((-1))\n",
    "#print minfesamples.shape"
   ]
  },
  {
   "cell_type": "code",
   "execution_count": 8,
   "metadata": {
    "collapsed": false
   },
   "outputs": [
    {
     "name": "stdout",
     "output_type": "stream",
     "text": [
      "[  3.01046745e-02   2.76320857e+00   1.54183157e+11] -117.038065404\n",
      "[  4.43847301e-01   1.05239662e+00   1.39896940e+12] -127.689878963\n",
      "[  4.13782984e-01   2.08205128e-01   5.24182388e+10] -126.573929889\n"
     ]
    }
   ],
   "source": [
    "fetheta = np.asfortranarray(fesamples[np.argmax(feprob)],dtype='float64')\n",
    "print fesamples[np.argmax(feprob)], np.amax(feprob)\n",
    "fosttheta = np.asfortranarray(fostsamples[np.argmax(fostprob)],dtype='float64')\n",
    "ensttheta = np.asfortranarray(enstsamples[np.argmax(enstprob)],dtype='float64')\n",
    "#minfetheta = np.asfortranarray(minfesamples[np.argmax(minfeprob)],dtype='float64')\n",
    "#minensttheta= np.asfortranarray(minenstsamples[np.argmax(minenstprob)],dtype='float64')\n",
    "print fostsamples[np.argmax(fostprob)], np.amax(fostprob)\n",
    "print enstsamples[np.argmax(enstprob)], np.amax(enstprob)\n",
    "#print minfesamples[np.argmax(minfeprob)], np.amax(minfeprob)\n",
    "#print minenstsamples[np.argmax(minenstprob)], np.amax(minenstprob)"
   ]
  },
  {
   "cell_type": "code",
   "execution_count": 9,
   "metadata": {
    "collapsed": false
   },
   "outputs": [
    {
     "name": "stderr",
     "output_type": "stream",
     "text": [
      "/opt/local/Library/Frameworks/Python.framework/Versions/2.7/lib/python2.7/site-packages/IPython/kernel/__init__.py:13: ShimWarning: The `IPython.kernel` package has been deprecated. You should import from ipykernel or jupyter_client instead.\n",
      "  \"You should import from ipykernel or jupyter_client instead.\", ShimWarning)\n",
      "/opt/local/Library/Frameworks/Python.framework/Versions/2.7/lib/python2.7/site-packages/ipykernel/__main__.py:14: DeprecationWarning: using a non-integer number instead of an integer will result in an error in the future\n"
     ]
    },
    {
     "name": "stdout",
     "output_type": "stream",
     "text": [
      "(384, 20000, 24)\n"
     ]
    }
   ],
   "source": [
    "wave  = np.arange(0.7,2.5,0.01)\n",
    "with open('run_analysis/2M2224_powcloud_RFalks_ext.pk1', 'rb') as input:\n",
    "    sampler = pickle.load(input) \n",
    "print sampler.chain.shape\n",
    "nwalkers = sampler.chain.shape[0]\n",
    "niter = sampler.chain.shape[1]\n",
    "ndim = sampler.chain.shape[2]\n",
    "samples = sampler.chain[:,niter-1000:,:].reshape((-1,ndim))\n",
    "cloudsamples = samples[:,ndim-10:ndim-5]\n",
    "sid = np.zeros(5000)\n",
    "tausamp = np.zeros([5000,wave.size])\n",
    "for i in range (0,5000):\n",
    "    sid[i]= np.random.randint(0,high = len(samples))\n",
    "    cloudsamp = samples[sid[i],ndim-10:ndim-5]\n",
    "    tau_0 = cloudsamp[0]\n",
    "    tpow = cloudsamp[4]\n",
    "    tausamp[i,:] = tau_0 * np.power(wave,tpow)\n",
    "tauspec = np.median(tausamp,0)\n",
    "tauerr = np.std(tausamp,0)\n"
   ]
  },
  {
   "cell_type": "code",
   "execution_count": 10,
   "metadata": {
    "collapsed": false
   },
   "outputs": [
    {
     "name": "stderr",
     "output_type": "stream",
     "text": [
      "/opt/local/Library/Frameworks/Python.framework/Versions/2.7/lib/python2.7/site-packages/ipykernel/__main__.py:13: DeprecationWarning: using a non-integer number instead of an integer will result in an error in the future\n",
      "/opt/local/Library/Frameworks/Python.framework/Versions/2.7/lib/python2.7/site-packages/ipykernel/__main__.py:16: DeprecationWarning: using a non-integer number instead of an integer will result in an error in the future\n",
      "/opt/local/Library/Frameworks/Python.framework/Versions/2.7/lib/python2.7/site-packages/ipykernel/__main__.py:19: DeprecationWarning: using a non-integer number instead of an integer will result in an error in the future\n"
     ]
    }
   ],
   "source": [
    "sizdist = 2\n",
    "fewave, fetau = taumod.cloudtau(fetheta,\"Fe\",sizdist)\n",
    "fewave = fewave[::-1]\n",
    "fetau = fetau[::-1]\n",
    "\n",
    "fetesttau = np.zeros([5000,fewave.size])\n",
    "ensttesttau = np.zeros([5000,fewave.size])\n",
    "fosttesttau  = np.zeros([5000,fewave.size])\n",
    "\n",
    "\n",
    "for i in range (0,5000):\n",
    "    sid[i]= np.random.randint(0,high = len(fesamples))\n",
    "    testtheta = np.asfortranarray(fesamples[sid[i],:],dtype='float64')\n",
    "    testwave,fetesttau[i,:] = taumod.cloudtau(testtheta,\"Fe\",sizdist)\n",
    "    #plt.plot(testwave,testtau,'r-',alpha=0.1)\n",
    "    testtheta = np.asfortranarray(fostsamples[sid[i],:],dtype='float64')\n",
    "    testwave, fosttesttau[i,:] = taumod.cloudtau(testtheta,\"Mg2SiO4\",sizdist)\n",
    "    #plt.plot(testwave,testtau,'c-',alpha=0.1)\n",
    "    testtheta = np.asfortranarray(enstsamples[sid[i],:],dtype='float64')\n",
    "    testwave, ensttesttau[i,:] = taumod.cloudtau(testtheta,\"MgSiO3\",sizdist)\n",
    "    #plt.plot(testwave,testtau,'m-',alpha=0.1)\n",
    "\n",
    "\n"
   ]
  },
  {
   "cell_type": "code",
   "execution_count": 11,
   "metadata": {
    "collapsed": false
   },
   "outputs": [
    {
     "name": "stdout",
     "output_type": "stream",
     "text": [
      "[  2.19649439e-03   5.58137921e-03   1.59700590e-02   4.06399990e-02\n",
      "   9.59641906e-02   1.52290983e-01   1.91086647e-01   2.31582264e-01\n",
      "   2.64174949e-01   2.85005517e-01   2.96017862e-01   3.02344441e-01\n",
      "   3.08552834e-01   3.14452437e-01   3.20113475e-01   3.24390788e-01\n",
      "   3.27410622e-01   3.30232497e-01   3.32806650e-01   3.35205378e-01\n",
      "   3.37792826e-01   3.39819731e-01   3.41272730e-01   3.43107549e-01\n",
      "   3.44914948e-01   3.46850216e-01   3.48433061e-01   3.49425672e-01\n",
      "   3.50533033e-01   3.51910770e-01   3.53346085e-01   3.54743858e-01\n",
      "   3.56647912e-01   3.58632694e-01   3.60898833e-01   3.64525996e-01\n",
      "   3.67185801e-01   3.68890264e-01   3.71207154e-01   3.74792304e-01\n",
      "   3.79102694e-01   3.81932483e-01   3.85172290e-01   3.89727424e-01\n",
      "   3.93773844e-01   3.95776888e-01   3.96940286e-01   3.98713776e-01\n",
      "   4.00707173e-01   4.02269455e-01   4.04692650e-01   4.09238433e-01\n",
      "   4.14510895e-01   4.19397987e-01   4.24962119e-01   4.32837800e-01\n",
      "   4.41529078e-01   4.49376876e-01   4.57913621e-01   4.65956081e-01\n",
      "   4.73341801e-01   4.81092885e-01   4.89493321e-01   4.98504130e-01\n",
      "   5.05657578e-01   5.11073079e-01   5.16553754e-01   5.22243665e-01\n",
      "   5.27994794e-01   5.34129066e-01   5.39651679e-01   5.44684802e-01\n",
      "   5.51740551e-01   5.60573756e-01   5.71238095e-01   5.83950869e-01\n",
      "   5.97841970e-01   6.11936704e-01   6.26169251e-01   6.40713225e-01\n",
      "   6.54934645e-01   6.69390813e-01   6.84288676e-01   7.00458031e-01\n",
      "   7.16807837e-01   7.32858218e-01   7.50673493e-01   7.68540597e-01\n",
      "   7.86348485e-01   8.02165484e-01   8.15673871e-01   8.26402644e-01\n",
      "   8.34648429e-01   8.40806849e-01   8.45346177e-01   8.53997774e-01\n",
      "   8.68450552e-01   8.82588220e-01   8.96490701e-01   9.10836887e-01\n",
      "   9.25645198e-01   9.47232570e-01   9.75635016e-01   1.00214905e+00\n",
      "   1.02634718e+00   1.05068253e+00   1.07608621e+00   1.10157306e+00\n",
      "   1.12707252e+00   1.15138076e+00   1.18132017e+00   1.21388039e+00\n",
      "   1.24029940e+00   1.26242136e+00   1.28289528e+00   1.30293716e+00\n",
      "   1.33098553e+00   1.36630804e+00   1.39830296e+00   1.42647869e+00\n",
      "   1.45212046e+00   1.47674028e+00   1.50388331e+00   1.53563677e+00\n",
      "   1.57045224e+00   1.60451283e+00   1.64400501e+00   1.68287432e+00\n",
      "   1.72420713e+00   1.76263741e+00   1.79736492e+00   1.82798157e+00\n",
      "   1.87007224e+00   1.92202275e+00   1.98206531e+00   2.04810525e+00\n",
      "   2.11110398e+00   2.16700677e+00   2.22961231e+00   2.29217561e+00\n",
      "   2.36132157e+00   2.42952726e+00   2.51360121e+00   2.60663110e+00\n",
      "   2.70970250e+00   2.82976070e+00   2.94776539e+00   3.05567077e+00\n",
      "   3.18192488e+00   3.33598910e+00   3.47047696e+00   3.57551469e+00\n",
      "   3.69276865e+00   3.83123473e+00   3.93081730e+00   4.02647403e+00\n",
      "   4.15139342e+00   4.27383459e+00   4.41683317e+00   4.54556399e+00\n",
      "   4.69189459e+00   4.96282740e+00   5.16072548e+00   5.36978455e+00\n",
      "   5.62615008e+00   5.77147089e+00   5.89618759e+00   6.04055291e+00\n",
      "   6.24387169e+00   6.41523549e+00   6.68679156e+00   6.99962245e+00\n",
      "   7.30365213e+00   7.65605548e+00   7.97621837e+00   8.30023440e+00\n",
      "   8.57350983e+00   8.91966260e+00   9.57413024e+00   1.04288124e+01\n",
      "   1.09878077e+01   1.15928605e+01   1.23332618e+01   1.30872424e+01\n",
      "   1.40990506e+01   1.56703323e+01   1.79598008e+01   2.07140926e+01\n",
      "   2.36478552e+01   2.67583585e+01   3.08988217e+01   3.65986406e+01\n",
      "   4.31666198e+01   5.05780970e+01   5.87256515e+01   6.52788353e+01]\n",
      "[  3.01718100e-03   1.16409253e-02   4.30016609e-02   1.13023848e-01\n",
      "   2.32226727e-01   3.19448221e-01   3.66111741e-01   4.10283805e-01\n",
      "   4.43602364e-01   4.61194011e-01   4.69237927e-01   4.73912375e-01\n",
      "   4.78621997e-01   4.83128105e-01   4.87163553e-01   4.89758460e-01\n",
      "   4.91065468e-01   4.91503630e-01   4.91718953e-01   4.91947679e-01\n",
      "   4.92077374e-01   4.92024730e-01   4.91941965e-01   4.91865553e-01\n",
      "   4.91848934e-01   4.91731704e-01   4.91602841e-01   4.91417558e-01\n",
      "   4.91091790e-01   4.90629423e-01   4.90038540e-01   4.89427472e-01\n",
      "   4.88626148e-01   4.87725035e-01   4.86646023e-01   4.84766441e-01\n",
      "   4.83207676e-01   4.82052913e-01   4.80596475e-01   4.78367865e-01\n",
      "   4.75846982e-01   4.74205127e-01   4.72354695e-01   4.69716178e-01\n",
      "   4.67363187e-01   4.66185400e-01   4.65496996e-01   4.64441099e-01\n",
      "   4.63244104e-01   4.62298269e-01   4.60818293e-01   4.58009214e-01\n",
      "   4.54755573e-01   4.51779324e-01   4.48404778e-01   4.43607000e-01\n",
      "   4.38315248e-01   4.33544087e-01   4.28284662e-01   4.23264888e-01\n",
      "   4.18621323e-01   4.13700345e-01   4.08320749e-01   4.02534370e-01\n",
      "   3.97985520e-01   3.94573460e-01   3.91112168e-01   3.87507332e-01\n",
      "   3.83853915e-01   3.79948915e-01   3.76426207e-01   3.73207700e-01\n",
      "   3.68686505e-01   3.63015133e-01   3.56153819e-01   3.47988647e-01\n",
      "   3.39174844e-01   3.30189554e-01   3.21090588e-01   3.11774614e-01\n",
      "   3.02665364e-01   2.93416388e-01   2.83910997e-01   2.73634273e-01\n",
      "   2.63235699e-01   2.53016562e-01   2.41701460e-01   2.30349642e-01\n",
      "   2.19033159e-01   2.08972578e-01   2.00370832e-01   1.93544475e-01\n",
      "   1.88301138e-01   1.84387390e-01   1.81504168e-01   1.76013788e-01\n",
      "   1.66958970e-01   1.58187690e-01   1.49599363e-01   1.40784164e-01\n",
      "   1.31750612e-01   1.18700949e-01   1.01903557e-01   8.68417391e-02\n",
      "   7.39592769e-02   6.23996255e-02   5.28381520e-02   4.73920529e-02\n",
      "   4.75687693e-02   5.29565925e-02   6.46418499e-02   8.10000716e-02\n",
      "   9.57866304e-02   1.08786171e-01   1.21157615e-01   1.33493715e-01\n",
      "   1.51025170e-01   1.73411223e-01   1.93895834e-01   2.12057182e-01\n",
      "   2.28660618e-01   2.44653151e-01   2.62330213e-01   2.83063910e-01\n",
      "   3.05859273e-01   3.28212606e-01   3.54176517e-01   3.79768060e-01\n",
      "   4.07007716e-01   4.32361292e-01   4.55291336e-01   4.75519891e-01\n",
      "   5.03348649e-01   5.37723756e-01   5.77482177e-01   6.21240931e-01\n",
      "   6.63014280e-01   7.00102886e-01   7.41635949e-01   7.83136631e-01\n",
      "   8.29023220e-01   8.74299627e-01   9.30124062e-01   9.91925546e-01\n",
      "   1.06043560e+00   1.14026308e+00   1.21875568e+00   1.29058500e+00\n",
      "   1.37470813e+00   1.47749652e+00   1.56727247e+00   1.63717886e+00\n",
      "   1.71532659e+00   1.80777986e+00   1.87440003e+00   1.93850247e+00\n",
      "   2.02238342e+00   2.10469089e+00   2.20097662e+00   2.28784015e+00\n",
      "   2.38679548e+00   2.56883224e+00   2.70195523e+00   2.84280994e+00\n",
      "   3.01926611e+00   3.12511998e+00   3.21680256e+00   3.32378230e+00\n",
      "   3.46872305e+00   3.59060940e+00   3.78455962e+00   4.01154405e+00\n",
      "   4.24897879e+00   4.52428182e+00   4.76693316e+00   5.01342446e+00\n",
      "   5.22190674e+00   5.48661842e+00   5.92943664e+00   6.49643928e+00\n",
      "   6.90148967e+00   7.34185192e+00   7.88636862e+00   8.44313726e+00\n",
      "   9.19252803e+00   1.03353361e+01   1.19211652e+01   1.38185925e+01\n",
      "   1.58331223e+01   1.79666431e+01   2.08181171e+01   2.48080811e+01\n",
      "   2.95752359e+01   3.52841552e+01   4.21312831e+01   4.82198083e+01]\n"
     ]
    }
   ],
   "source": [
    "fetauspec = np.mean(fetesttau,0)\n",
    "fetauerr = np.std(fetesttau,0)\n",
    "fosttauspec = np.median(fosttesttau,0)\n",
    "fosttauerr = np.std(fosttesttau,0)\n",
    "ensttauspec = np.median(ensttesttau,0)\n",
    "ensttauerr = np.std(ensttesttau,0)\n",
    "print fetauspec\n",
    "print fetauerr"
   ]
  },
  {
   "cell_type": "code",
   "execution_count": 12,
   "metadata": {
    "collapsed": false
   },
   "outputs": [
    {
     "ename": "KeyboardInterrupt",
     "evalue": "",
     "output_type": "error",
     "traceback": [
      "\u001b[0;31m---------------------------------------------------------------------------\u001b[0m",
      "\u001b[0;31mKeyboardInterrupt\u001b[0m                         Traceback (most recent call last)",
      "\u001b[0;32m<ipython-input-12-5573c2764ce9>\u001b[0m in \u001b[0;36m<module>\u001b[0;34m()\u001b[0m\n\u001b[1;32m      2\u001b[0m \u001b[0mfetausamp\u001b[0m \u001b[0;34m=\u001b[0m \u001b[0mnp\u001b[0m\u001b[0;34m.\u001b[0m\u001b[0mempty\u001b[0m\u001b[0;34m(\u001b[0m\u001b[0;34m[\u001b[0m\u001b[0mnsamps\u001b[0m\u001b[0;34m,\u001b[0m\u001b[0mfewave\u001b[0m\u001b[0;34m.\u001b[0m\u001b[0msize\u001b[0m\u001b[0;34m]\u001b[0m\u001b[0;34m)\u001b[0m\u001b[0;34m\u001b[0m\u001b[0m\n\u001b[1;32m      3\u001b[0m \u001b[0;32mfor\u001b[0m \u001b[0mi\u001b[0m \u001b[0;32min\u001b[0m \u001b[0mrange\u001b[0m\u001b[0;34m(\u001b[0m\u001b[0;36m0\u001b[0m\u001b[0;34m,\u001b[0m\u001b[0mnsamps\u001b[0m\u001b[0;34m)\u001b[0m\u001b[0;34m:\u001b[0m\u001b[0;34m\u001b[0m\u001b[0m\n\u001b[0;32m----> 4\u001b[0;31m     \u001b[0mtestwave\u001b[0m\u001b[0;34m,\u001b[0m\u001b[0mfetausamp\u001b[0m\u001b[0;34m[\u001b[0m\u001b[0mi\u001b[0m\u001b[0;34m,\u001b[0m\u001b[0;34m:\u001b[0m\u001b[0;34m]\u001b[0m \u001b[0;34m=\u001b[0m \u001b[0mtaumod\u001b[0m\u001b[0;34m.\u001b[0m\u001b[0mcloudtau\u001b[0m\u001b[0;34m(\u001b[0m\u001b[0mfesamples\u001b[0m\u001b[0;34m[\u001b[0m\u001b[0mi\u001b[0m\u001b[0;34m,\u001b[0m\u001b[0;34m:\u001b[0m\u001b[0;34m]\u001b[0m\u001b[0;34m,\u001b[0m\u001b[0;34m\"Fe\"\u001b[0m\u001b[0;34m,\u001b[0m\u001b[0msizdist\u001b[0m\u001b[0;34m)\u001b[0m\u001b[0;34m\u001b[0m\u001b[0m\n\u001b[0m",
      "\u001b[0;31mKeyboardInterrupt\u001b[0m: "
     ]
    }
   ],
   "source": [
    "nsamps = fesamples.shape[0]\n",
    "fetausamp = np.empty([nsamps,fewave.size])\n",
    "for i in range(0,nsamps):\n",
    "    testwave,fetausamp[i,:] = taumod.cloudtau(fesamples[i,:],\"Fe\",sizdist)\n"
   ]
  },
  {
   "cell_type": "code",
   "execution_count": null,
   "metadata": {
    "collapsed": false
   },
   "outputs": [],
   "source": [
    "fetest = np.empty([3,testwave.size])\n",
    "for i in range(0,testwave.size):\n",
    "    junk = fetausamp[:,i]\n",
    "    junk2 = np.percentile(junk, [16, 50, 84],axis=0)\n",
    "    junk3 = np.array(junk2)\n",
    "    fetest[:,i] = junk3[:]"
   ]
  },
  {
   "cell_type": "code",
   "execution_count": 16,
   "metadata": {
    "collapsed": false
   },
   "outputs": [
    {
     "data": {
      "text/plain": [
       "<matplotlib.text.Text at 0x1193eb850>"
      ]
     },
     "execution_count": 16,
     "metadata": {},
     "output_type": "execute_result"
    },
    {
     "data": {
      "image/png": "[encoded data removed]",
      "text/plain": [
       "<matplotlib.figure.Figure at 0x116addc50>"
      ]
     },
     "metadata": {},
     "output_type": "display_data"
    }
   ],
   "source": [
    "plt.rc('font',family='Times New Roman')\n",
    "fig=plt.figure(dpi=320)\n",
    "plt.axis([0.7, 2.5,0.,8.])\n",
    "#for i in range (0,2000):\n",
    "#    sid[i]= np.random.randint(0,high = len(samples))\n",
    "#    cloudsamp = samples[sid[i],ndim-10:ndim-5]\n",
    "#    tau_0 = cloudsamp[0]\n",
    "#    tpow = cloudsamp[4]\n",
    "#    tauplot = tau_0 * np.power(wave,tpow)\n",
    "#    plt.plot(wave,tauplot,'k-',alpha =0.1)\n",
    "\n",
    "\n",
    "\n",
    "\n",
    "\n",
    "c1, = plt.plot(wave,tauspec,'k-',linewidth=3,label=(r'$\\tau^{\\alpha}$'))\n",
    "plt.fill_between(wave,(tauspec-tauerr),(tauspec+tauerr),facecolor='pink',alpha=(0.5))\n",
    "\n",
    "\n",
    "fewave, fetau = taumod.cloudtau(fetheta,\"Fe\",sizdist)\n",
    "#fewave = fewave[::-1]\n",
    "#fetau = fetau[::-1]\n",
    "c2, = plt.plot(testwave,fetau,'r-',linewidth=2,label=('Fe'))\n",
    "#plt.fill_between(testwave,(fetest[0,:]),(fetest[2,:]),facecolor='blue',alpha=(0.5))\n",
    "#plt.plot(testwave,fetest[1,:],'c-')\n",
    "fostwave, fosttau = taumod.cloudtau(fosttheta,\"Mg2SiO4\",sizdist)\n",
    "#fostwave = fostwave[::-1]\n",
    "#fosttau = fosttau[::-1]\n",
    "c3, = plt.plot(fostwave,fosttau,'c-',linewidth=2,label=('Mg2SiO4'))\n",
    "#plt.fill_between(testwave,(fosttauspec-fosttauerr),(fosttauspec+fosttauerr),facecolor='cyan',alpha=(0.5))\n",
    "\n",
    "\n",
    "enstwave, ensttau = taumod.cloudtau(ensttheta,\"MgSiO3\",sizdist)\n",
    "#enstwave = enstwave[::-1]\n",
    "#ensttau = ensttau[::-1]\n",
    "c4, = plt.plot(enstwave,ensttau,'m-',linewidth=2,label=('MgSiO3'))\n",
    "#plt.fill_between(testwave,(ensttauspec-ensttauerr),(ensttauspec+ensttauerr),facecolor='magenta',alpha=(0.5))\n",
    "\n",
    "\n",
    "#minfewave, minfetau = taumod.cloudtau(minfetheta,\"Fe\",1)\n",
    "#minfewave = minfewave[::-1]\n",
    "#minfetau = minfetau[::-1]\n",
    "#plt.plot(minfewave,minfetau,'k-')\n",
    "\n",
    "\n",
    "#minenstwave, minensttau = taumod.cloudtau(minensttheta,\"MgSiO3\",1)\n",
    "#minenstwave = minenstwave[::-1]\n",
    "#minensttau = minensttau[::-1]\n",
    "#plt.plot(minenstwave,minensttau,'r-')\n",
    "\n",
    "plt.legend(handles=[c1,c2,c3,c4])\n",
    "\n",
    "\n",
    "\n",
    "\n",
    "plt.ylabel(r'tau_cloud')\n",
    "plt.xlabel('wavelength / $\\mu m$')\n",
    "#plt.savefig('2M2224_tau_fit.png',format='png', dpi=720)"
   ]
  },
  {
   "cell_type": "code",
   "execution_count": null,
   "metadata": {
    "collapsed": false
   },
   "outputs": [],
   "source": [
    "print minfetau"
   ]
  },
  {
   "cell_type": "code",
   "execution_count": null,
   "metadata": {
    "collapsed": true
   },
   "outputs": [],
   "source": []
  },
  {
   "cell_type": "code",
   "execution_count": null,
   "metadata": {
    "collapsed": true
   },
   "outputs": [],
   "source": []
  }
 ],
 "metadata": {
  "kernelspec": {
   "display_name": "Python 2",
   "language": "python",
   "name": "python2"
  },
  "language_info": {
   "codemirror_mode": {
    "name": "ipython",
    "version": 2
   },
   "file_extension": ".py",
   "mimetype": "text/x-python",
   "name": "python",
   "nbconvert_exporter": "python",
   "pygments_lexer": "ipython2",
   "version": "2.7.10"
  }
 },
 "nbformat": 4,
 "nbformat_minor": 0
}
