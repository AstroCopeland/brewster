{
 "cells": [
  {
   "cell_type": "code",
   "execution_count": 1,
   "metadata": {
    "collapsed": true
   },
   "outputs": [],
   "source": [
    "import matplotlib\n",
    "import matplotlib.pyplot as plt\n",
    "import matplotlib.image as mgimg\n",
    "import multiprocessing\n",
    "import time\n",
    "import numpy as np\n",
    "import scipy as sp\n",
    "import emcee\n",
    "import sys\n",
    "import pickle\n",
    "import taumod\n",
    "import corner\n",
    "from scipy import interpolate \n",
    "from IPython.display import display\n",
    "%matplotlib inline"
   ]
  },
  {
   "cell_type": "code",
   "execution_count": 41,
   "metadata": {
    "collapsed": true
   },
   "outputs": [],
   "source": [
    "ndim= 3\n",
    "nwalkers = 500"
   ]
  },
  {
   "cell_type": "code",
   "execution_count": 43,
   "metadata": {
    "collapsed": false
   },
   "outputs": [
    {
     "name": "stdout",
     "output_type": "stream",
     "text": [
      "(100000, 3)\n"
     ]
    }
   ],
   "source": [
    "with open('Mg2SiO4_tau_retrieval.pic', 'rb') as input:\n",
    "    fostchain,fostlnprob = pickle.load(input) \n",
    "fostsamples = fostchain[:, 1800:, :].reshape((-1, ndim))   \n",
    "fostprob  = fostlnprob[:,1800:].reshape((-1))\n",
    "print fostsamples.shape"
   ]
  },
  {
   "cell_type": "code",
   "execution_count": 31,
   "metadata": {
    "collapsed": false
   },
   "outputs": [
    {
     "name": "stdout",
     "output_type": "stream",
     "text": [
      "(100000, 3)\n"
     ]
    }
   ],
   "source": [
    "with open('MgSiO3_tau_retrieval.pic', 'rb') as input:\n",
    "    enstchain,enstlnprob = pickle.load(input) \n",
    "enstsamples = enstchain[:, 1800:, :].reshape((-1, ndim))  \n",
    "enstprob  = enstlnprob[:,1800:].reshape((-1))\n",
    "print enstsamples.shape"
   ]
  },
  {
   "cell_type": "code",
   "execution_count": 20,
   "metadata": {
    "collapsed": false
   },
   "outputs": [
    {
     "name": "stdout",
     "output_type": "stream",
     "text": [
      "(100000, 3)\n"
     ]
    }
   ],
   "source": [
    "with open('Al2O3_tau_retrieval.pic', 'rb') as input:\n",
    "    corchain,corlnprob = pickle.load(input) \n",
    "corsamples = corchain[:, 1800:, :].reshape((-1, ndim))  \n",
    "corprob  = corlnprob[:,1800:].reshape((-1))\n",
    "print corsamples.shape"
   ]
  },
  {
   "cell_type": "code",
   "execution_count": 14,
   "metadata": {
    "collapsed": false
   },
   "outputs": [
    {
     "name": "stdout",
     "output_type": "stream",
     "text": [
      "(100000, 3)\n"
     ]
    }
   ],
   "source": [
    "with open('Fe_tau_retrieval.pic', 'rb') as input:\n",
    "    fechain,felnprob = pickle.load(input) \n",
    "fesamples = fechain[:, 1800:, :].reshape((-1, ndim)) \n",
    "feprob  = felnprob[:,1800:].reshape((-1))\n",
    "print fesamples.shape"
   ]
  },
  {
   "cell_type": "code",
   "execution_count": 7,
   "metadata": {
    "collapsed": false
   },
   "outputs": [
    {
     "name": "stdout",
     "output_type": "stream",
     "text": [
      "(150000,)\n",
      "28500\n",
      "(150000, 3)\n"
     ]
    }
   ],
   "source": [
    "print enstprob.shape\n",
    "print np.argmax(enstprob)\n",
    "print enstsamples.shape"
   ]
  },
  {
   "cell_type": "code",
   "execution_count": 44,
   "metadata": {
    "collapsed": false
   },
   "outputs": [
    {
     "name": "stdout",
     "output_type": "stream",
     "text": [
      "[  3.15739195e-01   5.99039263e-01   2.39107279e+09] 223.291237451\n",
      "[  3.45141710e-01   2.23796686e+00   4.10687525e+10] 234.098306974\n",
      "[  5.18409757e-02   1.74398609e+00   9.51650004e+10] 252.770039441\n",
      "[  6.79068348e-02   3.91492052e-01   3.73605467e+09] 264.653186087\n"
     ]
    }
   ],
   "source": [
    "fetheta = np.asfortranarray(fesamples[np.argmax(feprob)],dtype='float64')\n",
    "fosttheta = np.asfortranarray(fostsamples[np.argmax(fostprob)],dtype='float64')\n",
    "ensttheta = np.asfortranarray(enstsamples[np.argmax(enstprob)],dtype='float64')\n",
    "cortheta = np.asfortranarray(corsamples[np.argmax(corprob),:],dtype='float64')\n",
    "\n",
    "print fostsamples[np.argmax(fostprob)], np.amax(fostprob)\n",
    "print enstsamples[np.argmax(enstprob)], np.amax(enstprob)\n",
    "print corsamples[np.argmax(corprob)], np.amax(corprob)\n",
    "print fesamples[np.argmax(feprob)], np.amax(feprob)\n",
    "\n",
    "#print minfesamples[np.argmax(minfeprob)], np.amax(minfeprob)\n",
    "#print minenstsamples[np.argmax(minenstprob)], np.amax(minenstprob)"
   ]
  },
  {
   "cell_type": "code",
   "execution_count": 35,
   "metadata": {
    "collapsed": false
   },
   "outputs": [
    {
     "name": "stdout",
     "output_type": "stream",
     "text": [
      "[  6.79068348e-02   3.91492052e-01   3.73605467e+09]\n",
      "[  3.45141710e-01   2.23796686e+00   4.10687525e+10]\n",
      "[  5.18409757e-02   1.74398609e+00   9.51650004e+10]\n"
     ]
    }
   ],
   "source": [
    "print fetheta\n",
    "#print fosttheta\n",
    "print ensttheta\n",
    "print cortheta"
   ]
  },
  {
   "cell_type": "code",
   "execution_count": 6,
   "metadata": {
    "collapsed": false
   },
   "outputs": [
    {
     "name": "stdout",
     "output_type": "stream",
     "text": [
      "(336, 30000, 21)\n"
     ]
    },
    {
     "name": "stderr",
     "output_type": "stream",
     "text": [
      "/opt/local/Library/Frameworks/Python.framework/Versions/2.7/lib/python2.7/site-packages/ipykernel/__main__.py:14: VisibleDeprecationWarning: using a non-integer number instead of an integer will result in an error in the future\n"
     ]
    }
   ],
   "source": [
    "wave  = np.arange(0.7,2.5,0.01)\n",
    "with open('run_analysis/2M2224_pow_thick.pk1', 'rb') as input:\n",
    "    sampler = pickle.load(input) \n",
    "print sampler.chain.shape\n",
    "nwalkers = sampler.chain.shape[0]\n",
    "niter = sampler.chain.shape[1]\n",
    "ndim = sampler.chain.shape[2]\n",
    "samples = sampler.chain[:,niter-2000:,:].reshape((-1,ndim))\n",
    "cloudsamples = samples[:,ndim-9:ndim-5]\n",
    "sid = np.zeros(5000)\n",
    "tausamp = np.zeros([5000,wave.size])\n",
    "for i in range (0,5000):\n",
    "    sid[i]= np.random.randint(0,high = len(samples))\n",
    "    cloudsamp = samples[sid[i],ndim-9:ndim-5]\n",
    "    tau_0 = 1.0\n",
    "    tpow = cloudsamp[3]\n",
    "    tausamp[i,:] = tau_0 * np.power(wave,tpow)\n",
    "tauspec = np.median(tausamp,0)\n",
    "tauerr = np.std(tausamp,0)\n"
   ]
  },
  {
   "cell_type": "code",
   "execution_count": 45,
   "metadata": {
    "collapsed": false
   },
   "outputs": [
    {
     "name": "stderr",
     "output_type": "stream",
     "text": [
      "/opt/local/Library/Frameworks/Python.framework/Versions/2.7/lib/python2.7/site-packages/ipykernel/__main__.py:14: VisibleDeprecationWarning: using a non-integer number instead of an integer will result in an error in the future\n",
      "/opt/local/Library/Frameworks/Python.framework/Versions/2.7/lib/python2.7/site-packages/ipykernel/__main__.py:17: VisibleDeprecationWarning: using a non-integer number instead of an integer will result in an error in the future\n",
      "/opt/local/Library/Frameworks/Python.framework/Versions/2.7/lib/python2.7/site-packages/ipykernel/__main__.py:20: VisibleDeprecationWarning: using a non-integer number instead of an integer will result in an error in the future\n",
      "/opt/local/Library/Frameworks/Python.framework/Versions/2.7/lib/python2.7/site-packages/ipykernel/__main__.py:23: VisibleDeprecationWarning: using a non-integer number instead of an integer will result in an error in the future\n"
     ]
    }
   ],
   "source": [
    "sizdist = 2\n",
    "fewave, fetau = taumod.cloudtau(fetheta,\"Fe\",sizdist)\n",
    "fewave = fewave[::-1]\n",
    "fetau = fetau[::-1]\n",
    "\n",
    "fetesttau = np.zeros([5000,fewave.size])\n",
    "ensttesttau = np.zeros([5000,fewave.size])\n",
    "fosttesttau  = np.zeros([5000,fewave.size])\n",
    "cortesttau  = np.zeros([5000,fewave.size])\n",
    "\n",
    "\n",
    "for i in range (0,5000):\n",
    "    sid[i]= np.random.randint(0,high = len(fesamples))\n",
    "    testtheta = np.asfortranarray(fesamples[sid[i],:],dtype='float64')\n",
    "    testwave,fetesttau[i,:] = taumod.cloudtau(testtheta,\"Fe\",sizdist)\n",
    "    #plt.plot(testwave,testtau,'r-',alpha=0.1)\n",
    "    testtheta = np.asfortranarray(fostsamples[sid[i],:],dtype='float64')\n",
    "    testwave, fosttesttau[i,:] = taumod.cloudtau(testtheta,\"Mg2SiO4\",sizdist)\n",
    "    #plt.plot(testwave,testtau,'c-',alpha=0.1)\n",
    "    testtheta = np.asfortranarray(enstsamples[sid[i],:],dtype='float64')\n",
    "    testwave, ensttesttau[i,:] = taumod.cloudtau(testtheta,\"MgSiO3\",sizdist)\n",
    "    #plt.plot(testwave,testtau,'m-',alpha=0.1)\n",
    "    testtheta = np.asfortranarray(corsamples[sid[i],:],dtype='float64')\n",
    "    testwave, cortesttau[i,:] = taumod.cloudtau(testtheta,\"Al2O3\",sizdist)\n",
    "\n",
    "\n"
   ]
  },
  {
   "cell_type": "code",
   "execution_count": 46,
   "metadata": {
    "collapsed": false
   },
   "outputs": [],
   "source": [
    "fetauspec = np.empty([3,testwave.size])\n",
    "fosttauspec= np.empty([3,testwave.size])\n",
    "ensttauspec = np.empty([3,testwave.size])\n",
    "cortauspec = np.empty([3,testwave.size])\n",
    "\n",
    "for i in range(0,testwave.size):\n",
    "    junk = fetesttau[:,i]\n",
    "    junk2 = np.percentile(junk, [16, 50, 84],axis=0)\n",
    "    junk3 = np.array(junk2)\n",
    "    fetauspec[:,i] = junk3[:]\n",
    "    junk = fosttesttau[:,i]\n",
    "    junk2 = np.percentile(junk, [16, 50, 84],axis=0)\n",
    "    junk3 = np.array(junk2)\n",
    "    fosttauspec[:,i] = junk3[:]\n",
    "    junk = ensttesttau[:,i]\n",
    "    junk2 = np.percentile(junk, [16, 50, 84],axis=0)\n",
    "    junk3 = np.array(junk2)\n",
    "    ensttauspec[:,i] = junk3[:]\n",
    "    junk = cortesttau[:,i]\n",
    "    junk2 = np.percentile(junk, [16, 50, 84],axis=0)\n",
    "    junk3 = np.array(junk2)\n",
    "    cortauspec[:,i] = junk3[:]\n"
   ]
  },
  {
   "cell_type": "code",
   "execution_count": 47,
   "metadata": {
    "collapsed": false
   },
   "outputs": [
    {
     "data": {
      "text/plain": [
       "<matplotlib.text.Text at 0x114abf5d0>"
      ]
     },
     "execution_count": 47,
     "metadata": {},
     "output_type": "execute_result"
    },
    {
     "data": {
      "image/png": "[encoded data removed]",
      "text/plain": [
       "<matplotlib.figure.Figure at 0x114abb750>"
      ]
     },
     "metadata": {},
     "output_type": "display_data"
    }
   ],
   "source": [
    "plt.rc('font',family='Times New Roman')\n",
    "fig=plt.figure(dpi=320)\n",
    "plt.axis([0.7, 2.5,0.,3.])\n",
    "#for i in range (0,2000):\n",
    "#    sid[i]= np.random.randint(0,high = len(samples))\n",
    "#    cloudsamp = samples[sid[i],ndim-10:ndim-5]\n",
    "#    tau_0 = cloudsamp[0]\n",
    "#    tpow = cloudsamp[4]\n",
    "#    tauplot = tau_0 * np.power(wave,tpow)\n",
    "#    plt.plot(wave,tauplot,'k-',alpha =0.1)\n",
    "\n",
    "\n",
    "\n",
    "\n",
    "\n",
    "c1, = plt.plot(wave,tauspec,'k-',linewidth=3,label=(r'$\\tau^{\\alpha}$'))\n",
    "plt.fill_between(wave,(tauspec-tauerr),(tauspec+tauerr),facecolor='pink',alpha=(0.5))\n",
    "\n",
    "\n",
    "#for i in range (0,5000):\n",
    "#        plt.plot(testwave,fetesttau[i,:],'r',alpha=0.005)\n",
    "#       plt.plot(testwave,fosttesttau[i,:],'c',alpha=0.005)\n",
    "#        plt.plot(testwave,ensttesttau[i,:],'m',alpha=0.005)\n",
    "#        plt.plot(testwave,cortesttau[i,:],'y',alpha=0.005)\n",
    "\n",
    "fewave, fetau = taumod.cloudtau(fetheta,\"Fe\",sizdist)\n",
    "fewave = fewave[::-1]\n",
    "fetau = fetau[::-1]\n",
    "plt.plot(fewave,fetau,'r--',linewidth=2)\n",
    "c2, = plt.plot(testwave,fetauspec[1,:],'r-',linewidth=2,label=('Fe'))\n",
    "#plt.fill_between(testwave,(fetauspec[0,:]),(fetauspec[2,:]),facecolor='orange',alpha=(0.5))\n",
    "\n",
    "#plt.plot(testwave,fetest[1,:],'c-')\n",
    "#\n",
    "fostwave, fosttau = taumod.cloudtau(fosttheta,\"Mg2SiO4\",sizdist)\n",
    "plt.plot(fostwave,fosttau,'c--',linewidth=2)\n",
    "#fostwave = fostwave[::-1]\n",
    "#fosttau = fosttau[::-1]\n",
    "c3, = plt.plot(testwave,fosttauspec[1,:],'c-',linewidth=2,label=('Mg2SiO4'))\n",
    "plt.fill_between(testwave,(fosttauspec[0,:]),(fosttauspec[2,:]),facecolor='cyan',alpha=(0.5))\n",
    "\n",
    "\n",
    "enstwave, ensttau = taumod.cloudtau(ensttheta,\"MgSiO3\",sizdist)\n",
    "plt.plot(enstwave,ensttau,'m--',linewidth=2)\n",
    "enstwave = enstwave[::-1]\n",
    "ensttau = ensttau[::-1]\n",
    "c4, = plt.plot(testwave,ensttauspec[1,:],'m-',linewidth=2,label=('MgSiO3'))\n",
    "#plt.fill_between(testwave,ensttauspec[0,:],ensttauspec[2,:],facecolor='magenta',alpha=(0.5))\n",
    "\n",
    "corwave, cortau = taumod.cloudtau(cortheta,\"Al2O3\",sizdist)\n",
    "corwave = corwave[::-1]\n",
    "cortau = cortau[::-1]\n",
    "plt.plot(corwave,cortau,'y--',linewidth=2)\n",
    "c5, = plt.plot(testwave,cortauspec[1,:],'y-',linewidth=2,label=('Al2O3'))\n",
    "#plt.fill_between(testwave,(cortauspec[0,:]),(cortauspec[2,:]),facecolor='yellow',alpha=(0.5))\n",
    "\n",
    "\n",
    "#minfewave, minfetau = taumod.cloudtau(minfetheta,\"Fe\",1)\n",
    "#minfewave = minfewave[::-1]\n",
    "#minfetau = minfetau[::-1]\n",
    "#plt.plot(minfewave,minfetau,'k-')\n",
    "\n",
    "\n",
    "#minenstwave, minensttau = taumod.cloudtau(minensttheta,\"MgSiO3\",1)\n",
    "#minenstwave = minenstwave[::-1]\n",
    "#minensttau = minensttau[::-1]\n",
    "#plt.plot(minenstwave,minensttau,'r-')\n",
    "\n",
    "#plt.legend(handles=[c1,c2,c3,c4,c5])\n",
    "\n",
    "\n",
    "\n",
    "\n",
    "plt.ylabel(r'tau_cloud')\n",
    "plt.xlabel('wavelength / $\\mu m$')\n",
    "#plt.savefig('2M2224_TAU_SPAG.png',format='png', dpi=720)"
   ]
  },
  {
   "cell_type": "code",
   "execution_count": 24,
   "metadata": {
    "collapsed": false
   },
   "outputs": [
    {
     "name": "stdout",
     "output_type": "stream",
     "text": [
      "[  1.12986945e-01   5.37483732e-01   1.36721272e+09]\n",
      "[  1.97263681e+00   6.51313792e-01   1.54896194e+09]\n",
      "[  9.49380638e-01   3.03931116e-01   1.48539458e+09]\n",
      "2\n",
      "miewavelen,tau = cloudtau(theta,cloudname,sizdist)\n",
      "\n",
      "Wrapper for ``cloudtau``.\n",
      "\n",
      "Parameters\n",
      "----------\n",
      "theta : input rank-1 array('d') with bounds (3)\n",
      "cloudname : input string(len=50)\n",
      "sizdist : input int\n",
      "\n",
      "Returns\n",
      "-------\n",
      "miewavelen : rank-1 array('d') with bounds (196)\n",
      "tau : rank-1 array('d') with bounds (196)\n",
      "\n",
      "[[  1.18086615e+00   2.84807984e-01   1.38473679e+09]\n",
      " [  1.18086615e+00   2.84807984e-01   1.38473679e+09]\n",
      " [  1.18086615e+00   2.84807984e-01   1.38473679e+09]\n",
      " ..., \n",
      " [  9.02413739e-01   5.14162793e-01   1.35649466e+09]\n",
      " [  9.02413739e-01   5.14162793e-01   1.35649466e+09]\n",
      " [  9.02413739e-01   5.14162793e-01   1.35649466e+09]]\n"
     ]
    }
   ],
   "source": [
    "print ensttheta\n",
    "print fosttheta\n",
    "print fetheta\n",
    "print sizdist\n",
    "print taumod.cloudtau.__doc__\n",
    "print fesamples"
   ]
  },
  {
   "cell_type": "code",
   "execution_count": 48,
   "metadata": {
    "collapsed": false
   },
   "outputs": [
    {
     "data": {
      "text/plain": [
       "<matplotlib.figure.Figure at 0x11579c650>"
      ]
     },
     "metadata": {},
     "output_type": "display_data"
    },
    {
     "data": {
      "image/png": "[encoded data removed]",
      "text/plain": [
       "<matplotlib.figure.Figure at 0x11d9b7b50>"
      ]
     },
     "metadata": {},
     "output_type": "display_data"
    }
   ],
   "source": [
    "plt.rc('font',family='Times New Roman')\n",
    "fig=plt.figure(dpi=320)\n",
    "fig = corner.corner(fostsamples, labels=[\"rg\", \"spread\", \"coldens\"],scale_hist=False,plot_datapoints =False,quantiles=[0.16, 0.5, 0.84],show_titles=True, title_kwargs={\"fontsize\": 20},label_kwargs={\"fontsize\": 20})"
   ]
  },
  {
   "cell_type": "code",
   "execution_count": null,
   "metadata": {
    "collapsed": true
   },
   "outputs": [],
   "source": []
  }
 ],
 "metadata": {
  "kernelspec": {
   "display_name": "Python 2",
   "language": "python",
   "name": "python2"
  },
  "language_info": {
   "codemirror_mode": {
    "name": "ipython",
    "version": 2
   },
   "file_extension": ".py",
   "mimetype": "text/x-python",
   "name": "python",
   "nbconvert_exporter": "python",
   "pygments_lexer": "ipython2",
   "version": "2.7.13"
  }
 },
 "nbformat": 4,
 "nbformat_minor": 0
}
