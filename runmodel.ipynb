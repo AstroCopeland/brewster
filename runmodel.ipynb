{
 "metadata": {
  "name": "",
  "signature": "sha256:b93d80f51799c69f7017a82b99bc19c31cc43efa181304173ca35bf8a42f004c"
 },
 "nbformat": 3,
 "nbformat_minor": 0,
 "worksheets": [
  {
   "cells": [
    {
     "cell_type": "code",
     "collapsed": false,
     "input": [
      "import matplotlib\n",
      "import matplotlib.pyplot as plt\n",
      "import matplotlib.image as mgimg\n",
      "import scipy\n",
      "import numpy as np\n",
      "from IPython.display import display\n",
      "%matplotlib inline\n",
      "#%config InlineBackend.close_figures = False\n",
      "from scipy.io.idl import readsav\n",
      "import forwardmodel"
     ],
     "language": "python",
     "metadata": {},
     "outputs": [],
     "prompt_number": 3
    },
    {
     "cell_type": "code",
     "collapsed": false,
     "input": [
      "intemp = np.loadtxt(\"temps.dat\",dtype='f')\n",
      "temp = np.asfortranarray(intemp)\n",
      "print temp\n",
      "w1 = 0.8\n",
      "w2 = 2.5\n",
      "logg = 4.5\n",
      "R2D2 = 1\n",
      "gasnum = np.asfortranarray(np.array([1,2,20],dtype='i'))"
     ],
     "language": "python",
     "metadata": {},
     "outputs": [
      {
       "output_type": "stream",
       "stream": "stdout",
       "text": [
        "[  100.   105.   110.   115.   120.   122.   125.   127.   130.   132.\n",
        "   134.   136.   140.   142.   145.   147.   150.   152.   155.   157.\n",
        "   160.   162.   165.   167.   170.   190.   210.   230.   250.   260.\n",
        "   275.   280.   300.   350.   400.   450.   500.   550.   600.   650.\n",
        "   700.   780.   850.   920.  1000.  1080.  1150.  1230.  1300.  1380.\n",
        "  1450.  1550.  1700.  1850.  1950.  2100.  2250.  2400.  2500.  2700.\n",
        "  3000.]\n"
       ]
      }
     ],
     "prompt_number": 2
    },
    {
     "cell_type": "code",
     "collapsed": false,
     "input": [
      "VMR1 = np.full((61,),np.power(10,-3.45)) # water\n",
      "vmr2 = np.full((61,),np.power(10,-3.4)) # ch4\n",
      "vmr3 = np.full((61,),((np.power(10,-5.45))/2000.))  # K\n",
      "#print VMR1.shape\n",
      "VMR = np.reshape((VMR1,vmr2,vmr3),(3,61))\n",
      "print VMR[2,:]"
     ],
     "language": "python",
     "metadata": {},
     "outputs": [
      {
       "output_type": "stream",
       "stream": "stdout",
       "text": [
        "[  1.77406695e-09   1.77406695e-09   1.77406695e-09   1.77406695e-09\n",
        "   1.77406695e-09   1.77406695e-09   1.77406695e-09   1.77406695e-09\n",
        "   1.77406695e-09   1.77406695e-09   1.77406695e-09   1.77406695e-09\n",
        "   1.77406695e-09   1.77406695e-09   1.77406695e-09   1.77406695e-09\n",
        "   1.77406695e-09   1.77406695e-09   1.77406695e-09   1.77406695e-09\n",
        "   1.77406695e-09   1.77406695e-09   1.77406695e-09   1.77406695e-09\n",
        "   1.77406695e-09   1.77406695e-09   1.77406695e-09   1.77406695e-09\n",
        "   1.77406695e-09   1.77406695e-09   1.77406695e-09   1.77406695e-09\n",
        "   1.77406695e-09   1.77406695e-09   1.77406695e-09   1.77406695e-09\n",
        "   1.77406695e-09   1.77406695e-09   1.77406695e-09   1.77406695e-09\n",
        "   1.77406695e-09   1.77406695e-09   1.77406695e-09   1.77406695e-09\n",
        "   1.77406695e-09   1.77406695e-09   1.77406695e-09   1.77406695e-09\n",
        "   1.77406695e-09   1.77406695e-09   1.77406695e-09   1.77406695e-09\n",
        "   1.77406695e-09   1.77406695e-09   1.77406695e-09   1.77406695e-09\n",
        "   1.77406695e-09   1.77406695e-09   1.77406695e-09   1.77406695e-09\n",
        "   1.77406695e-09]\n"
       ]
      }
     ],
     "prompt_number": 3
    },
    {
     "cell_type": "code",
     "collapsed": false,
     "input": [
      "pcover = 1.0\n",
      "do_clouds = 0\n",
      "cloudnum = np.array([1],dtype='i')\n",
      "#cloudname = np.reshape((cname),(1,1))\n",
      "cloudrad = np.full((1,61,1),1e-4)\n",
      "cloudsig = np.full((1,61,1),1e-5)\n",
      "cloudprof = np.full((1,61,1),0.0)\n",
      "nwave = 319188"
     ],
     "language": "python",
     "metadata": {},
     "outputs": [],
     "prompt_number": 28
    },
    {
     "cell_type": "code",
     "collapsed": false,
     "input": [
      "outspec = forwardmodel.marv(w1,w2,temp,logg,R2D2,gasnum,VMR,pcover,do_clouds,cloudnum,cloudrad,cloudsig,cloudprof)\n"
     ],
     "language": "python",
     "metadata": {},
     "outputs": [],
     "prompt_number": 29
    },
    {
     "cell_type": "code",
     "collapsed": false,
     "input": [
      "wave = np.loadtxt(\"wavegrid.dat\")"
     ],
     "language": "python",
     "metadata": {},
     "outputs": [],
     "prompt_number": 30
    },
    {
     "cell_type": "code",
     "collapsed": false,
     "input": [
      "print wave.shape\n",
      "wavelen = 1e4 / wave"
     ],
     "language": "python",
     "metadata": {},
     "outputs": [
      {
       "output_type": "stream",
       "stream": "stdout",
       "text": [
        "(319188,)\n"
       ]
      }
     ],
     "prompt_number": 31
    },
    {
     "cell_type": "code",
     "collapsed": false,
     "input": [
      "print outspec.shape"
     ],
     "language": "python",
     "metadata": {},
     "outputs": [
      {
       "output_type": "stream",
       "stream": "stdout",
       "text": [
        "(319188,)\n"
       ]
      }
     ],
     "prompt_number": 32
    },
    {
     "cell_type": "code",
     "collapsed": false,
     "input": [
      "plt.rc('font',family='Times New Roman')\n",
      "fig=plt.figure(dpi=320)\n",
      "plt.axis([0.8, 2.5, 0.,25])\n",
      "plt.plot(wavelen,outspec,'r-')\n",
      "plt.ylabel(r'$Flux$')\n",
      "plt.xlabel('Wavelength / Microns')\n",
      "\n",
      "#asp = 10 / 3.5\n",
      "\n",
      "#plt.axes().set_aspect(asp)\n",
      "plt.savefig('testspec.pdf',format='pdf', dpi=720)"
     ],
     "language": "python",
     "metadata": {},
     "outputs": [
      {
       "metadata": {},
       "output_type": "display_data",
       "png": "[encoded data removed]",
       "text": [
        "<matplotlib.figure.Figure at 0x13b53bbd0>"
       ]
      }
     ],
     "prompt_number": 33
    },
    {
     "cell_type": "code",
     "collapsed": false,
     "input": [
      "inlayer = np.arange(0.,15.25,1)\n",
      "print inlayer.shape\n",
      "print inlayer"
     ],
     "language": "python",
     "metadata": {},
     "outputs": [
      {
       "output_type": "stream",
       "stream": "stdout",
       "text": [
        "(16,)\n",
        "[  0.   1.   2.   3.   4.   5.   6.   7.   8.   9.  10.  11.  12.  13.  14.\n",
        "  15.]\n"
       ]
      }
     ],
     "prompt_number": 64
    },
    {
     "cell_type": "code",
     "collapsed": false,
     "input": [
      "layer = np.arange(0,15.25,0.25)\n",
      "print layer.shape\n",
      "print layer"
     ],
     "language": "python",
     "metadata": {},
     "outputs": [
      {
       "output_type": "stream",
       "stream": "stdout",
       "text": [
        "(61,)\n",
        "[  0.     0.25   0.5    0.75   1.     1.25   1.5    1.75   2.     2.25\n",
        "   2.5    2.75   3.     3.25   3.5    3.75   4.     4.25   4.5    4.75   5.\n",
        "   5.25   5.5    5.75   6.     6.25   6.5    6.75   7.     7.25   7.5\n",
        "   7.75   8.     8.25   8.5    8.75   9.     9.25   9.5    9.75  10.    10.25\n",
        "  10.5   10.75  11.    11.25  11.5   11.75  12.    12.25  12.5   12.75  13.\n",
        "  13.25  13.5   13.75  14.    14.25  14.5   14.75  15.  ]\n"
       ]
      }
     ],
     "prompt_number": 65
    },
    {
     "cell_type": "code",
     "collapsed": false,
     "input": [
      "cloudparams = np.array([[(2e6,10,15,1e-4,1e-5),(1e2,1,2,1e-5,1e-6)],[(2,10,15,1e-4,1e-5),(0.,1,2,1e-5,1e-6)]], dtype=('d,i,i,d,d'))\n",
      "#cloudparams = [[(1,2e6,10,15,1e-4,1e-5),(2,1e2,1,2,1e-5,1e-6)],[(1,2,10,15,1e-4,1e-5),(2,0.,1,2,1e-5,1e-6)]]"
     ],
     "language": "python",
     "metadata": {},
     "outputs": [],
     "prompt_number": 66
    },
    {
     "cell_type": "code",
     "collapsed": false,
     "input": [
      "npatch = cloudparams.shape[0]\n",
      "ncloud = cloudparams.shape[1]\n",
      "nlayers = 61\n",
      "print npatch, ncloud\n",
      "cloudparams"
     ],
     "language": "python",
     "metadata": {},
     "outputs": [
      {
       "output_type": "stream",
       "stream": "stdout",
       "text": [
        "2 2\n"
       ]
      },
      {
       "metadata": {},
       "output_type": "pyout",
       "prompt_number": 67,
       "text": [
        "array([[(2000000.0, 10, 15, 0.0001, 1e-05), (100.0, 1, 2, 1e-05, 1e-06)],\n",
        "       [(2.0, 10, 15, 0.0001, 1e-05), (0.0, 1, 2, 1e-05, 1e-06)]], \n",
        "      dtype=[('f0', '<f8'), ('f1', '<i4'), ('f2', '<i4'), ('f3', '<f8'), ('f4', '<f8')])"
       ]
      }
     ],
     "prompt_number": 67
    },
    {
     "cell_type": "code",
     "collapsed": false,
     "input": [
      "#cloudnum = np.empty((npatch,ncloud),dtype='i')\n",
      "cloudrad = np.empty((npatch,nlayers,ncloud),dtype='d')\n",
      "cloudsig = np.empty_like(cloudrad)\n",
      "cloudprof = np.zeros_like(cloudrad)\n",
      "ndens= np.reshape(cloudparams['f0'],(npatch,ncloud))\n",
      "c1 = np.reshape(cloudparams['f1'],(npatch,ncloud))\n",
      "c2 = np.reshape(cloudparams['f2'],(npatch,ncloud))\n",
      "rad = np.reshape(cloudparams['f3'],(npatch,ncloud))\n",
      "sig = np.reshape(cloudparams['f4'],(npatch,ncloud))"
     ],
     "language": "python",
     "metadata": {},
     "outputs": [],
     "prompt_number": 68
    },
    {
     "cell_type": "code",
     "collapsed": false,
     "input": [
      "for i in range(0, npatch):\n",
      "    for j in range(0, ncloud):\n",
      "        b1 = c1[i,j] - 1\n",
      "        b2 = c2[i,j] -1 \n",
      "        cloudprof[i,b1:b2+1,j] = ndens[i,j]\n",
      "        cloudrad[i,:,j] = rad[i,j]\n",
      "        cloudsig[i,:,j] = sig[i,j]\n"
     ],
     "language": "python",
     "metadata": {},
     "outputs": [],
     "prompt_number": 69
    },
    {
     "cell_type": "code",
     "collapsed": false,
     "input": [
      "invmr = np.array([0.4,0.5,0.6])\n",
      "ngas = invmr.shape[0]\n",
      "print invmr.shape\n",
      "VMR = np.empty((ngas,nlayers),dtype='d')\n",
      "if invmr.size > invmr.shape[0]:\n",
      "    for i in range(0,ngas):\n",
      "        vfit = np.interpolate.splrep(inlayer,invmr[i,:],s=0)\n",
      "        VMR[i,:] = np.interpolate.splev(layer,vfit,der=0)\n",
      "else:\n",
      "    for i in range(0,ngas):\n",
      "        VMR[i,:] = invmr[i]\n",
      "\n",
      "print VMR"
     ],
     "language": "python",
     "metadata": {},
     "outputs": [
      {
       "output_type": "stream",
       "stream": "stdout",
       "text": [
        "(3,)\n",
        "[[ 0.4  0.4  0.4  0.4  0.4  0.4  0.4  0.4  0.4  0.4  0.4  0.4  0.4  0.4\n",
        "   0.4  0.4  0.4  0.4  0.4  0.4  0.4  0.4  0.4  0.4  0.4  0.4  0.4  0.4\n",
        "   0.4  0.4  0.4  0.4  0.4  0.4  0.4  0.4  0.4  0.4  0.4  0.4  0.4  0.4\n",
        "   0.4  0.4  0.4  0.4  0.4  0.4  0.4  0.4  0.4  0.4  0.4  0.4  0.4  0.4\n",
        "   0.4  0.4  0.4  0.4  0.4]\n",
        " [ 0.5  0.5  0.5  0.5  0.5  0.5  0.5  0.5  0.5  0.5  0.5  0.5  0.5  0.5\n",
        "   0.5  0.5  0.5  0.5  0.5  0.5  0.5  0.5  0.5  0.5  0.5  0.5  0.5  0.5\n",
        "   0.5  0.5  0.5  0.5  0.5  0.5  0.5  0.5  0.5  0.5  0.5  0.5  0.5  0.5\n",
        "   0.5  0.5  0.5  0.5  0.5  0.5  0.5  0.5  0.5  0.5  0.5  0.5  0.5  0.5\n",
        "   0.5  0.5  0.5  0.5  0.5]\n",
        " [ 0.6  0.6  0.6  0.6  0.6  0.6  0.6  0.6  0.6  0.6  0.6  0.6  0.6  0.6\n",
        "   0.6  0.6  0.6  0.6  0.6  0.6  0.6  0.6  0.6  0.6  0.6  0.6  0.6  0.6\n",
        "   0.6  0.6  0.6  0.6  0.6  0.6  0.6  0.6  0.6  0.6  0.6  0.6  0.6  0.6\n",
        "   0.6  0.6  0.6  0.6  0.6  0.6  0.6  0.6  0.6  0.6  0.6  0.6  0.6  0.6\n",
        "   0.6  0.6  0.6  0.6  0.6]]\n"
       ]
      }
     ],
     "prompt_number": 78
    },
    {
     "cell_type": "code",
     "collapsed": false,
     "input": [],
     "language": "python",
     "metadata": {},
     "outputs": []
    }
   ],
   "metadata": {}
  }
 ]
}