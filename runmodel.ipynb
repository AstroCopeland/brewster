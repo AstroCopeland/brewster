{
 "metadata": {
  "name": "",
  "signature": "sha256:5cdafd8c203ca65f90afc20da993f6953e06b828f1ea5cd26b214a038ea330df"
 },
 "nbformat": 3,
 "nbformat_minor": 0,
 "worksheets": [
  {
   "cells": [
    {
     "cell_type": "code",
     "collapsed": false,
     "input": [
      "import matplotlib\n",
      "import matplotlib.pyplot as plt\n",
      "import matplotlib.image as mgimg\n",
      "import scipy as sp\n",
      "import numpy as np\n",
      "from scipy import interpolate\n",
      "from IPython.display import display\n",
      "%matplotlib inline\n",
      "#%config InlineBackend.close_figures = False\n",
      "from scipy.io.idl import readsav\n",
      "import forwardmodel"
     ],
     "language": "python",
     "metadata": {},
     "outputs": [],
     "prompt_number": 6
    },
    {
     "cell_type": "code",
     "collapsed": false,
     "input": [
      "intemp = np.loadtxt(\"16temps.dat\",dtype='f')\n",
      "inlayer = np.arange(0,15.25,1)  \n",
      "layer = np.arange(0,15.25,0.25)\n",
      "tfit = interpolate.splrep(inlayer,intemp,s=0)\n",
      "temp = np.asfortranarray(interpolate.splev(layer,tfit, der=0),dtype='f')\n",
      "w1 = 1.0\n",
      "w2 = 2.5\n",
      "logg = 4.5\n",
      "R2D2 = 1\n",
      "gasnum = np.asfortranarray(np.array([1,2,20],dtype='i'))\n",
      "print temp"
     ],
     "language": "python",
     "metadata": {},
     "outputs": [
      {
       "output_type": "stream",
       "stream": "stdout",
       "text": [
        "[  135.           135.98120117   137.19281006   138.55799866   140.\n",
        "   141.44200134   142.80718994   144.01879883   145.           145.75080872\n",
        "   146.57841492   147.86680603   150.           153.13290405   156.50416565\n",
        "   159.12333679   160.           158.82695007   158.02993774   160.71795654\n",
        "   170.           187.65306091   210.12608337   232.53608704   250.\n",
        "   259.62335205   266.46569824   277.57522583   300.           338.54107666\n",
        "   389.0111084    444.97555542   500.           549.49353027   596.23986816\n",
        "   644.86627197   700.           765.04724121   838.52941895   917.74688721\n",
        "  1000.          1082.50500488  1162.14245605  1235.70861816  1300.\n",
        "  1354.15136719  1406.65075684  1468.3248291   1550.          1659.48327637\n",
        "  1792.50427246  1941.77319336  2100.          2260.2590332   2417.08178711\n",
        "  2565.36376953  2700.          2815.88623047  2907.91821289  2970.9909668\n",
        "  3000.        ]\n"
       ]
      }
     ],
     "prompt_number": 2
    },
    {
     "cell_type": "code",
     "collapsed": false,
     "input": [
      "VMR1 = np.full((61,),(-3.45)) # water\n",
      "vmr2 = np.full((61,),(-3.4)) # ch4\n",
      "vmr3 = np.full((61,),(-8.))  # K\n",
      "#print VMR1.shape\n",
      "logVMR = np.reshape((VMR1,vmr2,vmr3),(3,61))"
     ],
     "language": "python",
     "metadata": {},
     "outputs": [],
     "prompt_number": 3
    },
    {
     "cell_type": "code",
     "collapsed": false,
     "input": [
      "pcover = 1.0\n",
      "do_clouds = 0\n",
      "cloudnum = np.array([1],dtype='i')\n",
      "#cloudname = np.reshape((cname),(1,1))\n",
      "cloudrad = np.full((1,61,1),1e-4)\n",
      "cloudsig = np.full((1,61,1),1e-5)\n",
      "cloudprof = np.full((1,61,1),0.0)\n",
      "nwave = 319188"
     ],
     "language": "python",
     "metadata": {},
     "outputs": [],
     "prompt_number": 4
    },
    {
     "cell_type": "code",
     "collapsed": true,
     "input": [
      "outspec = forwardmodel.marv(w1,w2,temp,logg,R2D2,gasnum,logVMR,pcover,do_clouds,cloudnum,cloudrad,cloudsig,cloudprof)"
     ],
     "language": "python",
     "metadata": {},
     "outputs": [],
     "prompt_number": 5
    },
    {
     "cell_type": "code",
     "collapsed": false,
     "input": [
      "plt.rc('font',family='Times New Roman')\n",
      "fig=plt.figure(dpi=320)\n",
      "plt.axis([0.8, 2.5, 0.,25])\n",
      "plt.plot(outspec[0,:],outspec[1,:],'r-')\n",
      "plt.ylabel(r'$Flux$')\n",
      "plt.xlabel('Wavelength / Microns')\n",
      "\n",
      "#asp = 10 / 3.5\n",
      "\n",
      "#plt.axes().set_aspect(asp)\n",
      "#plt.savefig('testspec.pdf',format='pdf', dpi=720)"
     ],
     "language": "python",
     "metadata": {},
     "outputs": [
      {
       "metadata": {},
       "output_type": "pyout",
       "prompt_number": 6,
       "text": [
        "<matplotlib.text.Text at 0x111693e10>"
       ]
      },
      {
       "metadata": {},
       "output_type": "display_data",
       "png": "[encoded data removed]",
       "text": [
        "<matplotlib.figure.Figure at 0x10e4fca50>"
       ]
      }
     ],
     "prompt_number": 6
    },
    {
     "cell_type": "code",
     "collapsed": false,
     "input": [
      "outspec =  outspec[:,np.logical_not(np.logical_or(outspec[0,:] > w2, outspec[0,:] < w1))]\n",
      "wlen = outspec.shape[1]\n",
      "wint = outspec[0,0] - outspec[0,wlen-1]\n",
      "disp = wint / wlen\n",
      "fwhm = 0.005\n",
      "gwidth = int(round(fwhm / disp))"
     ],
     "language": "python",
     "metadata": {},
     "outputs": [],
     "prompt_number": 7
    },
    {
     "cell_type": "code",
     "collapsed": false,
     "input": [
      "from astropy.convolution import convolve, convolve_fft\n",
      "from astropy.convolution import Gaussian1DKernel\n"
     ],
     "language": "python",
     "metadata": {},
     "outputs": [],
     "prompt_number": 8
    },
    {
     "cell_type": "code",
     "collapsed": false,
     "input": [
      "gauss = Gaussian1DKernel(gwidth)\n",
      "cspec = convolve(outspec[1,:],gauss,boundary='extend')\n",
      "spec = np.array([outspec[0,:],cspec])"
     ],
     "language": "python",
     "metadata": {},
     "outputs": [],
     "prompt_number": 9
    },
    {
     "cell_type": "code",
     "collapsed": false,
     "input": [
      "print spec.shape\n",
      "print outspec.shape"
     ],
     "language": "python",
     "metadata": {},
     "outputs": [
      {
       "output_type": "stream",
       "stream": "stdout",
       "text": [
        "(2, 183259)\n",
        "(2, 183259)\n"
       ]
      }
     ],
     "prompt_number": 10
    },
    {
     "cell_type": "code",
     "collapsed": false,
     "input": [
      "plt.rc('font',family='Times New Roman')\n",
      "fig=plt.figure(dpi=320)\n",
      "plt.axis([0.8, 2.5, 0.,50])\n",
      "plt.plot(outspec[0,:],outspec[1,:],'r-')\n",
      "plt.plot(spec[0,:],spec[1,:],'b-')\n",
      "plt.ylabel(r'$Flux$')\n",
      "plt.xlabel('Wavelength / Microns')\n"
     ],
     "language": "python",
     "metadata": {},
     "outputs": [
      {
       "metadata": {},
       "output_type": "pyout",
       "prompt_number": 11,
       "text": [
        "<matplotlib.text.Text at 0x1442f88d0>"
       ]
      },
      {
       "metadata": {},
       "output_type": "display_data",
       "png": "[encoded data removed]",
       "text": [
        "<matplotlib.figure.Figure at 0x1442ee490>"
       ]
      }
     ],
     "prompt_number": 11
    },
    {
     "cell_type": "code",
     "collapsed": false,
     "input": [
      "# now rebin\n",
      "from pysynphot import observation\n",
      "from pysynphot import spectrum\n",
      "wavenew = np.arange(1.0,2.5,0.0015,dtype='f')\n",
      "ispec = spectrum.ArraySourceSpectrum(wave=spec[0,:], flux=spec[1,:])\n",
      "f = np.ones(len(spec[0,:]))\n",
      "filt = spectrum.ArraySpectralElement(spec[0,:], f, waveunits='microns')\n",
      "obs = observation.Observation(ispec, filt, binset=wavenew, force='taper')"
     ],
     "language": "python",
     "metadata": {},
     "outputs": [
      {
       "output_type": "stream",
       "stream": "stderr",
       "text": [
        "/Users/bb/Library/Python/2.7/lib/python/site-packages/pysynphot/locations.py:14: UserWarning: PYSYN_CDBS is undefined; functionality will be SEVERELY crippled.\n",
        "  warnings.warn(\"PYSYN_CDBS is undefined; functionality will be SEVERELY \"\n",
        "/Users/bb/Library/Python/2.7/lib/python/site-packages/pysynphot/locations.py:74: UserWarning: Extinction files should be moved to $PYSYN_CDBS/extinction for compatibility with future versions of pysynphot.\n",
        "  warnings.warn('Extinction files should be moved to '\n",
        "/Users/bb/Library/Python/2.7/lib/python/site-packages/pysynphot/locations.py:110: UserWarning: Extinction files not found in grid/extinction\n",
        "  warnings.warn('Extinction files not found in %s' % (extdir,))\n",
        "/Users/bb/Library/Python/2.7/lib/python/site-packages/pysynphot/locations.py:88: UserWarning: PYSYN_CDBS is undefined; cannot find mtab/*_tmg.fits file\n",
        "  warnings.warn(\"PYSYN_CDBS is undefined; cannot find %s file\" % template)\n",
        "/Users/bb/Library/Python/2.7/lib/python/site-packages/pysynphot/locations.py:88: UserWarning: PYSYN_CDBS is undefined; cannot find mtab/*_tmc.fits file\n",
        "  warnings.warn(\"PYSYN_CDBS is undefined; cannot find %s file\" % template)\n",
        "/Users/bb/Library/Python/2.7/lib/python/site-packages/pysynphot/locations.py:88: UserWarning: PYSYN_CDBS is undefined; cannot find mtab/*_tmt.fits file\n",
        "  warnings.warn(\"PYSYN_CDBS is undefined; cannot find %s file\" % template)\n"
       ]
      }
     ],
     "prompt_number": 12
    },
    {
     "cell_type": "code",
     "collapsed": false,
     "input": [
      "unc = np.max(obs.binflux)\n",
      "error = np.full(1000,unc/20)\n",
      "outflux = np.ones(1000)\n",
      "outflux = obs.binflux + error*np.random.randn(1000)\n",
      "    "
     ],
     "language": "python",
     "metadata": {},
     "outputs": [],
     "prompt_number": 13
    },
    {
     "cell_type": "code",
     "collapsed": false,
     "input": [
      "plt.rc('font',family='Times New Roman')\n",
      "fig=plt.figure(dpi=320)\n",
      "plt.axis([0.8, 2.5, 0.,50])\n",
      "plt.plot(outspec[0,:],outspec[1,:],'r-')\n",
      "plt.plot(spec[0,:],spec[1,:],'b-')\n",
      "plt.plot(wavenew,outflux,'b-')\n",
      "plt.ylabel(r'$Flux$')\n",
      "plt.xlabel('Wavelength / Microns')\n"
     ],
     "language": "python",
     "metadata": {},
     "outputs": [
      {
       "metadata": {},
       "output_type": "pyout",
       "prompt_number": 14,
       "text": [
        "<matplotlib.text.Text at 0x1457bc090>"
       ]
      },
      {
       "metadata": {},
       "output_type": "display_data",
       "png": "[encoded data removed]",
       "text": [
        "<matplotlib.figure.Figure at 0x1450ccf10>"
       ]
      }
     ],
     "prompt_number": 14
    },
    {
     "cell_type": "code",
     "collapsed": false,
     "input": [
      "np.savetxt('sim_spectrum.dat', np.c_[wavenew,outflux,error])"
     ],
     "language": "python",
     "metadata": {},
     "outputs": [],
     "prompt_number": 15
    },
    {
     "cell_type": "code",
     "collapsed": false,
     "input": [
      "gwidth = 4\n",
      "if (gwidth % 2 == 0):\n",
      "    gwidth = gwidth + 1"
     ],
     "language": "python",
     "metadata": {},
     "outputs": [],
     "prompt_number": 69
    },
    {
     "cell_type": "code",
     "collapsed": false,
     "input": [
      "print gwidth"
     ],
     "language": "python",
     "metadata": {},
     "outputs": [
      {
       "output_type": "stream",
       "stream": "stdout",
       "text": [
        "5\n"
       ]
      }
     ],
     "prompt_number": 70
    },
    {
     "cell_type": "code",
     "collapsed": false,
     "input": [
      "theta = [-3.45, -3.40]\n",
      "fixvmr = -8."
     ],
     "language": "python",
     "metadata": {},
     "outputs": [],
     "prompt_number": 9
    },
    {
     "cell_type": "code",
     "collapsed": false,
     "input": [
      "test = np.array([theta[0],theta[1], fixvmr]).reshape(3,)\n",
      "print test"
     ],
     "language": "python",
     "metadata": {},
     "outputs": [
      {
       "output_type": "stream",
       "stream": "stdout",
       "text": [
        "[-3.45 -3.4  -8.  ]\n"
       ]
      }
     ],
     "prompt_number": 15
    },
    {
     "cell_type": "code",
     "collapsed": false,
     "input": [],
     "language": "python",
     "metadata": {},
     "outputs": []
    }
   ],
   "metadata": {}
  }
 ]
}