{
 "metadata": {
  "name": "",
  "signature": "sha256:9f2992f29dbd1d8adeef98bf07cdf31b5551678cbdd98be6983fda6ac84bcc73"
 },
 "nbformat": 3,
 "nbformat_minor": 0,
 "worksheets": [
  {
   "cells": [
    {
     "cell_type": "code",
     "collapsed": false,
     "input": [
      "import matplotlib\n",
      "import matplotlib.pyplot as plt\n",
      "import matplotlib.image as mgimg\n",
      "import scipy as sp\n",
      "import numpy as np\n",
      "from scipy import interpolate\n",
      "from scipy.interpolate import interp1d\n",
      "from IPython.display import display\n",
      "%matplotlib inline\n",
      "#%config InlineBackend.close_figures = False\n",
      "from scipy.io.idl import readsav\n",
      "import forwardmodel"
     ],
     "language": "python",
     "metadata": {},
     "outputs": [],
     "prompt_number": 1
    },
    {
     "cell_type": "code",
     "collapsed": false,
     "input": [
      "x=readsav('../Linelists/xsecarrH2O_1wno_500_10000.save')\n",
      "inlinelist=x.xsecarr  #3D array with Nwavenubmers x Ntemps x Npressure\n",
      "inlinetemps=x.t\n",
      "inpress=x.p\n",
      "inwavenum=x.wno\n",
      "logpress = np.arange(-5.,2.5,0.125)\n",
      "press = 10**logpress\n",
      "print press\n",
      "linelist = np.ones([1,60,43,9501],order='F')\n",
      "for i in range (0,42):\n",
      "    for j in range (0,9500):\n",
      "        pfit = interp1d(inpress,inlinelist[:,i,j])\n",
      "        linelist[0,:,i,j] = np.asfortranarray(np.log10(pfit(press)),dtype='d')\n",
      "print linelist.shape"
     ],
     "language": "python",
     "metadata": {},
     "outputs": [
      {
       "output_type": "stream",
       "stream": "stdout",
       "text": [
        "[  1.00000000e-05   1.33352143e-05   1.77827941e-05   2.37137371e-05\n",
        "   3.16227766e-05   4.21696503e-05   5.62341325e-05   7.49894209e-05\n",
        "   1.00000000e-04   1.33352143e-04   1.77827941e-04   2.37137371e-04\n",
        "   3.16227766e-04   4.21696503e-04   5.62341325e-04   7.49894209e-04\n",
        "   1.00000000e-03   1.33352143e-03   1.77827941e-03   2.37137371e-03\n",
        "   3.16227766e-03   4.21696503e-03   5.62341325e-03   7.49894209e-03\n",
        "   1.00000000e-02   1.33352143e-02   1.77827941e-02   2.37137371e-02\n",
        "   3.16227766e-02   4.21696503e-02   5.62341325e-02   7.49894209e-02\n",
        "   1.00000000e-01   1.33352143e-01   1.77827941e-01   2.37137371e-01\n",
        "   3.16227766e-01   4.21696503e-01   5.62341325e-01   7.49894209e-01\n",
        "   1.00000000e+00   1.33352143e+00   1.77827941e+00   2.37137371e+00\n",
        "   3.16227766e+00   4.21696503e+00   5.62341325e+00   7.49894209e+00\n",
        "   1.00000000e+01   1.33352143e+01   1.77827941e+01   2.37137371e+01\n",
        "   3.16227766e+01   4.21696503e+01   5.62341325e+01   7.49894209e+01\n",
        "   1.00000000e+02   1.33352143e+02   1.77827941e+02   2.37137371e+02]\n",
        "(1, 60, 43, 9501)"
       ]
      },
      {
       "output_type": "stream",
       "stream": "stdout",
       "text": [
        "\n"
       ]
      }
     ],
     "prompt_number": 2
    },
    {
     "cell_type": "code",
     "collapsed": false,
     "input": [
      "press = press*1000.\n",
      "#intemp = np.loadtxt(\"16temps.dat\",dtype='f')\n",
      "intemp = np.full(16,1000.,dtype='d')\n",
      "inlayer = np.arange(0,15.25,1)  \n",
      "layer = np.arange(0,15.00,0.25)\n",
      "print layer.size\n",
      "tfit = interpolate.splrep(inlayer,intemp,s=0)\n",
      "temp = np.asfortranarray(interpolate.splev(layer,tfit, der=0),dtype='d')\n",
      "w1 = 1.0\n",
      "w2 = 10.0\n",
      "logg = 4.5\n",
      "R2D2 = 1\n",
      "gasnum = np.asfortranarray(np.array([1],dtype='i'))\n",
      "print temp"
     ],
     "language": "python",
     "metadata": {},
     "outputs": [
      {
       "output_type": "stream",
       "stream": "stdout",
       "text": [
        "60\n",
        "[ 1000.  1000.  1000.  1000.  1000.  1000.  1000.  1000.  1000.  1000.\n",
        "  1000.  1000.  1000.  1000.  1000.  1000.  1000.  1000.  1000.  1000.\n",
        "  1000.  1000.  1000.  1000.  1000.  1000.  1000.  1000.  1000.  1000.\n",
        "  1000.  1000.  1000.  1000.  1000.  1000.  1000.  1000.  1000.  1000.\n",
        "  1000.  1000.  1000.  1000.  1000.  1000.  1000.  1000.  1000.  1000.\n",
        "  1000.  1000.  1000.  1000.  1000.  1000.  1000.  1000.  1000.  1000.]\n"
       ]
      }
     ],
     "prompt_number": 3
    },
    {
     "cell_type": "code",
     "collapsed": false,
     "input": [
      "VMR1 = np.full((60,),(-3.45)) # water\n",
      "#vmr2 = np.full((61,),(-3.4)) # ch4\n",
      "#vmr3 = np.full((61,),(-8.))  # K\n",
      "#print VMR1.shape\n",
      "logVMR = np.reshape((VMR1),(1,60))"
     ],
     "language": "python",
     "metadata": {},
     "outputs": [],
     "prompt_number": 4
    },
    {
     "cell_type": "code",
     "collapsed": false,
     "input": [
      "pcover = 1.0\n",
      "do_clouds = 0\n",
      "cloudnum = np.array([1],dtype='i')\n",
      "#cloudname = np.reshape((cname),(1,1))\n",
      "cloudrad = np.full((1,60,1),1e-4)\n",
      "cloudsig = np.full((1,60,1),1e-5)\n",
      "cloudprof = np.full((1,60,1),0.0)\n",
      "nwave = 9501"
     ],
     "language": "python",
     "metadata": {},
     "outputs": [],
     "prompt_number": 5
    },
    {
     "cell_type": "code",
     "collapsed": true,
     "input": [
      "outspec = forwardmodel.marv(w1,w2,temp,logg,R2D2,gasnum,logVMR,pcover,do_clouds,cloudnum,cloudrad,cloudsig,cloudprof,inlinetemps,press,inwavenum,linelist)"
     ],
     "language": "python",
     "metadata": {},
     "outputs": [],
     "prompt_number": 6
    },
    {
     "cell_type": "code",
     "collapsed": false,
     "input": [
      "B = np.empty(nwave,dtype='d') \n",
      "B = 3.14159274*((2.*6.62606957e-34*(2.99792458e8**2.)) / ((outspec[0,:]*1.e-6)**5.)) / ((np.exp((6.62606957e-34*2.99792458e8)/(outspec[0,:]*1e-6*1.3806488e-23*1000.)))-1.) * 1.e-6\n",
      "plt.rc('font',family='Times New Roman')\n",
      "fig=plt.figure(dpi=320)\n",
      "plt.axis([1.0, 10.,0.9,1.1])\n",
      "plt.plot(outspec[0,:],(outspec[1,:] / B),'r-')\n",
      "plt.plot(outspec[0,:],B,'b-')\n",
      "plt.plot(outspec[0,:],outspec[1,:],'g-')\n",
      "#plt.plot(outspec[0,:],np.full(nwave,0.99),'b-')\n",
      "\n",
      "#plt.plot(outspec[0,:],6.666*outspec[1,:],'b-')\n",
      "plt.ylabel(r'$Fdiff$')\n",
      "plt.xlabel('Wavelength / Microns')\n",
      "\n",
      "#asp = 10 / 3.5\n",
      "\n",
      "#plt.axes().set_aspect(asp)\n",
      "plt.savefig('testspec.pdf',format='pdf', dpi=720)"
     ],
     "language": "python",
     "metadata": {},
     "outputs": [
      {
       "metadata": {},
       "output_type": "display_data",
       "png": "[encoded data removed]",
       "text": [
        "<matplotlib.figure.Figure at 0x128250b10>"
       ]
      }
     ],
     "prompt_number": 8
    },
    {
     "cell_type": "code",
     "collapsed": false,
     "input": [
      "outspec =  outspec[:,np.logical_not(np.logical_or(outspec[0,:] > w2, outspec[0,:] < w1))]\n",
      "wlen = outspec.shape[1]\n",
      "wint = outspec[0,0] - outspec[0,wlen-1]\n",
      "disp = wint / wlen\n",
      "fwhm = 0.005\n",
      "gwidth = int(round(fwhm / disp))"
     ],
     "language": "python",
     "metadata": {},
     "outputs": [],
     "prompt_number": 11
    },
    {
     "cell_type": "code",
     "collapsed": false,
     "input": [
      "from astropy.convolution import convolve, convolve_fft\n",
      "from astropy.convolution import Gaussian1DKernel\n"
     ],
     "language": "python",
     "metadata": {},
     "outputs": []
    },
    {
     "cell_type": "code",
     "collapsed": false,
     "input": [
      "gauss = Gaussian1DKernel(gwidth)\n",
      "cspec = convolve(outspec[1,:],gauss,boundary='extend')\n",
      "spec = np.array([outspec[0,:],cspec])"
     ],
     "language": "python",
     "metadata": {},
     "outputs": []
    },
    {
     "cell_type": "code",
     "collapsed": false,
     "input": [
      "print spec.shape\n",
      "print outspec.shape"
     ],
     "language": "python",
     "metadata": {},
     "outputs": []
    },
    {
     "cell_type": "code",
     "collapsed": false,
     "input": [
      "plt.rc('font',family='Times New Roman')\n",
      "fig=plt.figure(dpi=320)\n",
      "plt.axis([0.8, 2.5, 0.,50])\n",
      "plt.plot(outspec[0,:],outspec[1,:],'r-')\n",
      "plt.plot(spec[0,:],spec[1,:],'b-')\n",
      "plt.ylabel(r'$Flux$')\n",
      "plt.xlabel('Wavelength / Microns')\n"
     ],
     "language": "python",
     "metadata": {},
     "outputs": []
    },
    {
     "cell_type": "code",
     "collapsed": false,
     "input": [
      "# now rebin\n",
      "from pysynphot import observation\n",
      "from pysynphot import spectrum\n",
      "wavenew = np.arange(w1,w2,0.0015,dtype='f')\n",
      "ispec = spectrum.ArraySourceSpectrum(wave=spec[0,:], flux=spec[1,:])\n",
      "f = np.ones(len(spec[0,:]))\n",
      "filt = spectrum.ArraySpectralElement(spec[0,:], f, waveunits='microns')\n",
      "obs = observation.Observation(ispec, filt, binset=wavenew, force='taper')"
     ],
     "language": "python",
     "metadata": {},
     "outputs": []
    },
    {
     "cell_type": "code",
     "collapsed": false,
     "input": [
      "unc = np.max(obs.binflux)\n",
      "error = np.full(500,unc/50)\n",
      "outflux = np.ones(500)\n",
      "outflux = obs.binflux + error*np.random.randn(500)\n",
      "    "
     ],
     "language": "python",
     "metadata": {},
     "outputs": []
    },
    {
     "cell_type": "code",
     "collapsed": false,
     "input": [
      "plt.rc('font',family='Times New Roman')\n",
      "fig=plt.figure(dpi=320)\n",
      "plt.axis([0.8, 2.5, 0.,50])\n",
      "plt.plot(outspec[0,:],outspec[1,:],'r-')\n",
      "plt.plot(spec[0,:],spec[1,:],'b-')\n",
      "plt.plot(wavenew,outflux,'b-')\n",
      "plt.ylabel(r'$Flux$')\n",
      "plt.xlabel('Wavelength / Microns')\n"
     ],
     "language": "python",
     "metadata": {},
     "outputs": []
    },
    {
     "cell_type": "code",
     "collapsed": false,
     "input": [
      "np.savetxt('sim_spectrum.dat', np.c_[wavenew,outflux,error])"
     ],
     "language": "python",
     "metadata": {},
     "outputs": []
    },
    {
     "cell_type": "code",
     "collapsed": false,
     "input": [
      "gwidth = 4\n",
      "if (gwidth % 2 == 0):\n",
      "    gwidth = gwidth + 1"
     ],
     "language": "python",
     "metadata": {},
     "outputs": []
    },
    {
     "cell_type": "code",
     "collapsed": false,
     "input": [
      "print gwidth"
     ],
     "language": "python",
     "metadata": {},
     "outputs": []
    },
    {
     "cell_type": "code",
     "collapsed": false,
     "input": [
      "theta = [-3.45, -3.40]\n",
      "fixvmr = -8."
     ],
     "language": "python",
     "metadata": {},
     "outputs": []
    },
    {
     "cell_type": "code",
     "collapsed": false,
     "input": [
      "test = np.array([theta[0],theta[1], fixvmr]).reshape(3,)\n",
      "print test"
     ],
     "language": "python",
     "metadata": {},
     "outputs": []
    },
    {
     "cell_type": "code",
     "collapsed": false,
     "input": [],
     "language": "python",
     "metadata": {},
     "outputs": []
    }
   ],
   "metadata": {}
  }
 ]
}