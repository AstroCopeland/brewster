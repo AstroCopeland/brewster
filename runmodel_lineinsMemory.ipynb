{
 "cells": [
  {
   "cell_type": "code",
   "execution_count": 2,
   "metadata": {
    "collapsed": false
   },
   "outputs": [
    {
     "name": "stderr",
     "output_type": "stream",
     "text": [
      "/Users/bb/Library/Python/2.7/lib/python/site-packages/pysynphot/locations.py:14: UserWarning: PYSYN_CDBS is undefined; functionality will be SEVERELY crippled.\n",
      "  warnings.warn(\"PYSYN_CDBS is undefined; functionality will be SEVERELY \"\n",
      "/Users/bb/Library/Python/2.7/lib/python/site-packages/pysynphot/locations.py:74: UserWarning: Extinction files should be moved to $PYSYN_CDBS/extinction for compatibility with future versions of pysynphot.\n",
      "  warnings.warn('Extinction files should be moved to '\n",
      "/Users/bb/Library/Python/2.7/lib/python/site-packages/pysynphot/locations.py:110: UserWarning: Extinction files not found in grid/extinction\n",
      "  warnings.warn('Extinction files not found in %s' % (extdir,))\n",
      "/Users/bb/Library/Python/2.7/lib/python/site-packages/pysynphot/locations.py:88: UserWarning: PYSYN_CDBS is undefined; cannot find mtab/*_tmg.fits file\n",
      "  warnings.warn(\"PYSYN_CDBS is undefined; cannot find %s file\" % template)\n",
      "/Users/bb/Library/Python/2.7/lib/python/site-packages/pysynphot/locations.py:88: UserWarning: PYSYN_CDBS is undefined; cannot find mtab/*_tmc.fits file\n",
      "  warnings.warn(\"PYSYN_CDBS is undefined; cannot find %s file\" % template)\n",
      "/Users/bb/Library/Python/2.7/lib/python/site-packages/pysynphot/locations.py:88: UserWarning: PYSYN_CDBS is undefined; cannot find mtab/*_tmt.fits file\n",
      "  warnings.warn(\"PYSYN_CDBS is undefined; cannot find %s file\" % template)\n"
     ]
    }
   ],
   "source": [
    "import matplotlib\n",
    "import matplotlib.pyplot as plt\n",
    "import matplotlib.image as mgimg\n",
    "import scipy as sp\n",
    "import numpy as np\n",
    "import cPickle as pickle\n",
    "from scipy import interpolate\n",
    "from scipy.interpolate import interp1d\n",
    "from IPython.display import display\n",
    "%matplotlib inline\n",
    "#%config InlineBackend.close_figures = False\n",
    "from scipy.io.idl import readsav\n",
    "from astropy.convolution import convolve, convolve_fft\n",
    "from astropy.convolution import Gaussian1DKernel\n",
    "from pysynphot import observation\n",
    "from pysynphot import spectrum\n",
    "import forwardmodel\n",
    "import ciamod"
   ]
  },
  {
   "cell_type": "code",
   "execution_count": 3,
   "metadata": {
    "collapsed": false
   },
   "outputs": [
    {
     "name": "stdout",
     "output_type": "stream",
     "text": [
      "80\n",
      "208.929\n"
     ]
    }
   ],
   "source": [
    "array = pickle.load(open(\"test_H2H2_H2He_CIA_H2O.pic\", \"rb\")) \n",
    "leveltemp = array[0]\n",
    "levelpress = array[1]\n",
    "mikespec = np.array([array[2],array[3]],dtype='f')\n",
    "mikespec[0] = 10000.0 / mikespec[0]\n",
    "print levelpress.size\n",
    "print levelpress[79]"
   ]
  },
  {
   "cell_type": "code",
   "execution_count": 4,
   "metadata": {
    "collapsed": false
   },
   "outputs": [
    {
     "name": "stdout",
     "output_type": "stream",
     "text": [
      "190.546\n",
      "79\n"
     ]
    }
   ],
   "source": [
    "mikepress = np.empty(levelpress.size - 1,dtype='float64')\n",
    "miketemp = np.empty(leveltemp.size -1, dtype='float64')\n",
    "for i in range(0,mikepress.size):\n",
    "    mikepress[i] = np.sqrt(levelpress[i] * levelpress[i+1])\n",
    "mtfit = interp1d(np.log10(levelpress),leveltemp)\n",
    "miketemp = mtfit(np.log10(mikepress))        \n",
    "print np.sqrt(levelpress[78] * levelpress[79])\n",
    "print mikepress.size"
   ]
  },
  {
   "cell_type": "code",
   "execution_count": 5,
   "metadata": {
    "collapsed": false
   },
   "outputs": [
    {
     "name": "stdout",
     "output_type": "stream",
     "text": [
      "(1, 79, 43, 9501)\n",
      "float64\n",
      "(18,)\n"
     ]
    }
   ],
   "source": [
    "x=readsav('../Linelists/xsecarrH2O_1wno_500_10000.save')\n",
    "inlinelist=x.xsecarr  #3D array with Nwavenubmers x Ntemps x Npressure\n",
    "inlinetemps=np.asfortranarray(x.t,dtype='float64')\n",
    "inpress=x.p\n",
    "inwavenum=x.wno\n",
    "#print inlinelist.shape\n",
    "#logpress = np.arange(-5.,2.5,0.125)\n",
    "#press = 10.**logpress\n",
    "#print press\n",
    "# Here we are interpolating the linelist onto Mike's pressure scale. \n",
    "linelist = (np.ones([1,79,43,9501],order='F')).astype('float64', order='F')\n",
    "for i in range (0,42):\n",
    "    for j in range (0,9500):\n",
    "        pfit = interp1d(np.log10(inpress),np.log10(inlinelist[:,i,j]))\n",
    "        linelist[0,:,i,j] = np.asfortranarray(pfit(np.log10(mikepress)))\n",
    "print linelist.shape\n",
    "print np.result_type(linelist)\n",
    "press = mikepress*1000.\n",
    "print inpress.shape"
   ]
  },
  {
   "cell_type": "code",
   "execution_count": 6,
   "metadata": {
    "collapsed": false
   },
   "outputs": [
    {
     "name": "stdout",
     "output_type": "stream",
     "text": [
      "[  270.17970255   272.50772035   274.83572355   277.16372634   279.49174487\n",
      "   281.81976317   284.14776589   286.47576884   288.80378742   291.26481539\n",
      "   294.21287613   297.51496851   300.81706323   304.19738762   307.89654588\n",
      "   311.83631942   315.81236355   320.03643923   324.47230447   328.9081884\n",
      "   333.34406983   338.10154714   343.29290705   348.59655726   353.90020846\n",
      "   359.38891615   365.07214308   370.76484631   376.45754805   382.78900119\n",
      "   389.78808685   396.98326125   404.84996186   413.22096197   421.9106755\n",
      "   431.35320888   441.9434953    454.05119428   467.15769846   481.15524546\n",
      "   495.8488159    511.20437724   527.8961241    545.97677483   565.56795997\n",
      "   586.73520461   609.32250572   633.37588104   659.18972928   686.29690689\n",
      "   714.75604592   744.7804606    776.24271398   809.40161225   844.73641205\n",
      "   882.64498192   923.27032037   966.85175568  1013.4028733   1062.93169559\n",
      "  1114.92297015  1168.35553607  1222.31085205  1275.70904306  1327.6603356\n",
      "  1378.26707769  1428.23595694  1478.09112968  1533.32494761  1603.40453625\n",
      "  1684.57995155  1768.08703481  1852.29900253  1936.51128447  2020.72355175\n",
      "  2104.93555482  2189.1475785   2273.35976478  2357.57182555]\n"
     ]
    }
   ],
   "source": [
    "#intemp = np.loadtxt(\"16temps.dat\",dtype='float32')\n",
    "#intemp = np.full(16,1000.,dtype='f')\n",
    "#inlayer = np.arange(0,15.25,1)  \n",
    "#layer = np.arange(0,15.00,0.25)\n",
    "#print layer.size\n",
    "#tfit = interpolate.splrep(inlayer,intemp,s=0)\n",
    "#temp = np.asfortranarray(interpolate.splev(layer,tfit, der=0),dtype='float32')\n",
    "temp = miketemp\n",
    "w1 = 1.0\n",
    "w2 = 2.5\n",
    "logg = 4.5\n",
    "R2D2 = 0.5\n",
    "gasnum = np.asfortranarray(np.array([1],dtype='i'))\n",
    "print temp"
   ]
  },
  {
   "cell_type": "code",
   "execution_count": 15,
   "metadata": {
    "collapsed": false
   },
   "outputs": [],
   "source": [
    "VMR1 = np.full((79,),(-3.5)) # water\n",
    "#vmr2 = np.full((61,),(-3.4)) # ch4\n",
    "#vmr3 = np.full((61,),(-8.))  # K\n",
    "#print VMR1.shape\n",
    "logVMR = np.reshape((VMR1),(1,79))"
   ]
  },
  {
   "cell_type": "code",
   "execution_count": 16,
   "metadata": {
    "collapsed": false
   },
   "outputs": [],
   "source": [
    "pcover = 1.0\n",
    "do_clouds = 0\n",
    "cloudnum = np.array([1],dtype='i')\n",
    "#cloudname = np.reshape((cname),(1,1))\n",
    "cloudrad = np.full((1,79,1),1e-4)\n",
    "cloudsig = np.full((1,79,1),1e-5)\n",
    "cloudprof = np.full((1,79,1),0.0)\n",
    "nwave = 9501"
   ]
  },
  {
   "cell_type": "code",
   "execution_count": 17,
   "metadata": {
    "collapsed": false
   },
   "outputs": [
    {
     "name": "stdout",
     "output_type": "stream",
     "text": [
      "(4, 119, 9501)\n",
      "(119,)\n",
      "float32\n"
     ]
    }
   ],
   "source": [
    "cia, ciatemps = ciamod.read_cia(\"final1_abel_CIA.dat\",inwavenum)\n",
    "cia = np.asfortranarray(cia, dtype='float32')\n",
    "ciatemps = np.asfortranarray(ciatemps, dtype='float32')\n",
    "print cia.shape\n",
    "print ciatemps.shape\n",
    "print cia.dtype"
   ]
  },
  {
   "cell_type": "code",
   "execution_count": 18,
   "metadata": {
    "collapsed": false
   },
   "outputs": [],
   "source": [
    "outspec = forwardmodel.marv(w1,w2,temp,logg,R2D2,gasnum,logVMR,pcover,do_clouds,cloudnum,cloudrad,cloudsig,cloudprof,inlinetemps,press,inwavenum,linelist,cia,ciatemps)"
   ]
  },
  {
   "cell_type": "code",
   "execution_count": 10,
   "metadata": {
    "collapsed": true
   },
   "outputs": [],
   "source": [
    "#np.savetxt(\"disort16stream_test.dat\",np.c_[outspec[0,:],outspec[1,:]])"
   ]
  },
  {
   "cell_type": "code",
   "execution_count": 11,
   "metadata": {
    "collapsed": false
   },
   "outputs": [
    {
     "name": "stderr",
     "output_type": "stream",
     "text": [
      "/opt/local/Library/Frameworks/Python.framework/Versions/2.7/lib/python2.7/site-packages/IPython/kernel/__main__.py:10: RuntimeWarning: divide by zero encountered in divide\n"
     ]
    },
    {
     "data": {
      "image/png": "[encoded data removed]",
      "text/plain": [
       "<matplotlib.figure.Figure at 0x103fb0ad0>"
      ]
     },
     "metadata": {},
     "output_type": "display_data"
    }
   ],
   "source": [
    "B = np.empty(nwave,dtype='d') \n",
    "B = 3.14159274*((2.*6.62606957e-34*(2.99792458e8**2.)) / ((outspec[0,:]*1.e-6)**5.)) / ((np.exp((6.62606957e-34*2.99792458e8)/(outspec[0,:]*1e-6*1.3806488e-23*1000.)))-1.) * 1.e-6\n",
    "plt.rc('font',family='Times New Roman')\n",
    "fig=plt.figure(dpi=320)\n",
    "plt.axis([1.0, 3.0,0.9,1.5])\n",
    "#plt.plot(outspec[0,:],(outspec[1,:] / B),'r-')\n",
    "#plt.plot(outspec[0,:],B,'b-')\n",
    "#plt.plot(outspec[0,:],outspec[1,:],'g-')\n",
    "#plt.plot(mikespec[0,:],outspec[1,:] / (mikespec[1,:]/1e6),'r-')\n",
    "plt.plot(mikespec[0,:],((mikespec[1,:] / 1e6) / outspec[1,:]), 'r-')\n",
    "#plt.plot(outspec[0,:],np.full(nwave,1.0),'b--')\n",
    "\n",
    "#plt.plot(outspec[0,:],6.666*outspec[1,:],'b-')\n",
    "plt.ylabel(r'Flux')\n",
    "plt.xlabel('Wavelength / Microns')\n",
    "\n",
    "#asp = 10 / 3.5\n",
    "\n",
    "#plt.axes().set_aspect(asp)\n",
    "plt.savefig('testspec.pdf',format='pdf', dpi=720)"
   ]
  },
  {
   "cell_type": "code",
   "execution_count": 12,
   "metadata": {
    "collapsed": false
   },
   "outputs": [],
   "source": [
    "outspec =  outspec[:,np.logical_not(np.logical_or(outspec[0,:] > w2, outspec[0,:] < w1))]\n",
    "wlen = outspec.shape[1]\n",
    "wint = outspec[0,0] - outspec[0,wlen-1]\n",
    "disp = wint / wlen\n",
    "fwhm = 0.005\n",
    "gwidth = int(round(fwhm / disp))"
   ]
  },
  {
   "cell_type": "code",
   "execution_count": 13,
   "metadata": {
    "collapsed": true
   },
   "outputs": [],
   "source": [
    "mikespec[1,:] = mikespec[1,:] / 1e6\n",
    "mikespec =  mikespec[:,np.logical_not(np.logical_or(mikespec[0,:] > w2, mikespec[0,:] < w1))]\n",
    "wlen = mikespec.shape[1]\n",
    "wint = mikespec[0,0] - mikespec[0,wlen-1]\n",
    "disp = wint / wlen\n",
    "fwhm = 0.005\n",
    "gwidth = int(round(fwhm / disp))"
   ]
  },
  {
   "cell_type": "code",
   "execution_count": 14,
   "metadata": {
    "collapsed": false
   },
   "outputs": [],
   "source": [
    "from astropy.convolution import convolve, convolve_fft\n",
    "from astropy.convolution import Gaussian1DKernel\n"
   ]
  },
  {
   "cell_type": "code",
   "execution_count": 15,
   "metadata": {
    "collapsed": false
   },
   "outputs": [],
   "source": [
    "gauss = Gaussian1DKernel(gwidth)\n",
    "cspec = convolve(outspec[1,:],gauss,boundary='extend')\n",
    "spec = np.array([outspec[0,:],cspec])"
   ]
  },
  {
   "cell_type": "code",
   "execution_count": 16,
   "metadata": {
    "collapsed": false
   },
   "outputs": [],
   "source": [
    "mgauss = Gaussian1DKernel(gwidth)\n",
    "mcspec = convolve(mikespec[1,:],mgauss,boundary='extend')\n",
    "mspec = np.array([mikespec[0,:],mcspec])"
   ]
  },
  {
   "cell_type": "code",
   "execution_count": 17,
   "metadata": {
    "collapsed": false
   },
   "outputs": [
    {
     "name": "stdout",
     "output_type": "stream",
     "text": [
      "[   4043.71411133    4033.32958984    4023.29272461 ...,  183859.921875\n",
      "  183814.125       183764.84375   ]\n",
      "[  1705.84714222   1699.88347248   1694.04162538 ...,  33277.78710576\n",
      "  32043.16987203  30805.98344888]\n"
     ]
    }
   ],
   "source": [
    "print mspec[1]\n",
    "print spec[1]"
   ]
  },
  {
   "cell_type": "code",
   "execution_count": 3,
   "metadata": {
    "collapsed": false
   },
   "outputs": [
    {
     "ename": "NameError",
     "evalue": "name 'spec' is not defined",
     "output_type": "error",
     "traceback": [
      "\u001b[0;31m---------------------------------------------------------------------------\u001b[0m",
      "\u001b[0;31mNameError\u001b[0m                                 Traceback (most recent call last)",
      "\u001b[0;32m<ipython-input-3-6ab45808c415>\u001b[0m in \u001b[0;36m<module>\u001b[0;34m()\u001b[0m\n\u001b[1;32m      4\u001b[0m \u001b[0mbspec\u001b[0m \u001b[0;34m=\u001b[0m \u001b[0mnp\u001b[0m\u001b[0;34m.\u001b[0m\u001b[0mloadtxt\u001b[0m\u001b[0;34m(\u001b[0m\u001b[0;34m\"sim_spectrum.dat\"\u001b[0m\u001b[0;34m)\u001b[0m\u001b[0;34m\u001b[0m\u001b[0m\n\u001b[1;32m      5\u001b[0m \u001b[0mplt\u001b[0m\u001b[0;34m.\u001b[0m\u001b[0mplot\u001b[0m\u001b[0;34m(\u001b[0m\u001b[0mbspec\u001b[0m\u001b[0;34m[\u001b[0m\u001b[0;36m0\u001b[0m\u001b[0;34m,\u001b[0m\u001b[0;34m:\u001b[0m\u001b[0;34m]\u001b[0m\u001b[0;34m,\u001b[0m\u001b[0mbspec\u001b[0m\u001b[0;34m[\u001b[0m\u001b[0;36m1\u001b[0m\u001b[0;34m,\u001b[0m\u001b[0;34m:\u001b[0m\u001b[0;34m]\u001b[0m\u001b[0;34m,\u001b[0m\u001b[0;34m'r-'\u001b[0m\u001b[0;34m)\u001b[0m\u001b[0;34m\u001b[0m\u001b[0m\n\u001b[0;32m----> 6\u001b[0;31m \u001b[0mplt\u001b[0m\u001b[0;34m.\u001b[0m\u001b[0mplot\u001b[0m\u001b[0;34m(\u001b[0m\u001b[0mspec\u001b[0m\u001b[0;34m[\u001b[0m\u001b[0;36m0\u001b[0m\u001b[0;34m,\u001b[0m\u001b[0;34m:\u001b[0m\u001b[0;34m]\u001b[0m\u001b[0;34m,\u001b[0m\u001b[0mspec\u001b[0m\u001b[0;34m[\u001b[0m\u001b[0;36m1\u001b[0m\u001b[0;34m,\u001b[0m\u001b[0;34m:\u001b[0m\u001b[0;34m]\u001b[0m\u001b[0;34m,\u001b[0m\u001b[0;34m'b-'\u001b[0m\u001b[0;34m)\u001b[0m\u001b[0;34m\u001b[0m\u001b[0m\n\u001b[0m\u001b[1;32m      7\u001b[0m \u001b[0;31m#plt.plot(spec[0,:],mspec[1,:] / spec[1,:],'g-')\u001b[0m\u001b[0;34m\u001b[0m\u001b[0;34m\u001b[0m\u001b[0m\n\u001b[1;32m      8\u001b[0m \u001b[0mplt\u001b[0m\u001b[0;34m.\u001b[0m\u001b[0mylabel\u001b[0m\u001b[0;34m(\u001b[0m\u001b[0;34mr'F_mike / F_ben'\u001b[0m\u001b[0;34m)\u001b[0m\u001b[0;34m\u001b[0m\u001b[0m\n",
      "\u001b[0;31mNameError\u001b[0m: name 'spec' is not defined"
     ]
    },
    {
     "data": {
      "image/png": "[encoded data removed]",
      "text/plain": [
       "<matplotlib.figure.Figure at 0x114c54890>"
      ]
     },
     "metadata": {},
     "output_type": "display_data"
    }
   ],
   "source": [
    "plt.rc('font',family='Times New Roman')\n",
    "fig=plt.figure(dpi=320)\n",
    "plt.axis([1.0, 2.5, 0.,1.5e5])\n",
    "plt.plot(mspec[0,:],mspec[1,:],'r-')\n",
    "plt.plot(spec[0,:],spec[1,:],'b-')\n",
    "#plt.plot(spec[0,:],mspec[1,:] / spec[1,:],'g-')\n",
    "plt.ylabel(r'F_mike / F_ben')\n",
    "plt.xlabel('Wavelength / Microns')\n"
   ]
  },
  {
   "cell_type": "code",
   "execution_count": 21,
   "metadata": {
    "collapsed": false
   },
   "outputs": [
    {
     "name": "stdout",
     "output_type": "stream",
     "text": [
      "(1000,)\n"
     ]
    }
   ],
   "source": [
    "# now rebin\n",
    "wavenew = np.arange(w1,w2,0.0015,dtype='f')\n",
    "ispec = spectrum.ArraySourceSpectrum(wave=spec[0,:], flux=spec[1,:])\n",
    "f = np.ones(len(spec[0,:]))\n",
    "filt = spectrum.ArraySpectralElement(spec[0,:], f, waveunits='microns')\n",
    "obs = observation.Observation(ispec, filt, binset=wavenew, force='taper')\n",
    "print obs.binflux.shape"
   ]
  },
  {
   "cell_type": "code",
   "execution_count": 23,
   "metadata": {
    "collapsed": false
   },
   "outputs": [],
   "source": [
    "unc = np.max(obs.binflux)\n",
    "error = np.full(1000,unc/50)\n",
    "outflux = np.ones(1000)\n",
    "outflux = obs.binflux + error*np.random.randn(1000)\n",
    "    "
   ]
  },
  {
   "cell_type": "code",
   "execution_count": 25,
   "metadata": {
    "collapsed": false
   },
   "outputs": [
    {
     "data": {
      "text/plain": [
       "<matplotlib.text.Text at 0x113e63d90>"
      ]
     },
     "execution_count": 25,
     "metadata": {},
     "output_type": "execute_result"
    },
    {
     "data": {
      "image/png": "[encoded data removed]",
      "text/plain": [
       "<matplotlib.figure.Figure at 0x114803b10>"
      ]
     },
     "metadata": {},
     "output_type": "display_data"
    }
   ],
   "source": [
    "plt.rc('font',family='Times New Roman')\n",
    "fig=plt.figure(dpi=320)\n",
    "plt.axis([0.8, 2.5, 0.,2e5])\n",
    "plt.plot(outspec[0,:],outspec[1,:],'r-')\n",
    "plt.plot(spec[0,:],spec[1,:],'b-')\n",
    "plt.plot(wavenew,outflux,'b-')\n",
    "plt.ylabel(r'$Flux$')\n",
    "plt.xlabel('Wavelength / Microns')\n"
   ]
  },
  {
   "cell_type": "code",
   "execution_count": 26,
   "metadata": {
    "collapsed": false
   },
   "outputs": [],
   "source": [
    "np.savetxt('sim_spectrum.dat', np.c_[wavenew,outflux,error])"
   ]
  },
  {
   "cell_type": "code",
   "execution_count": null,
   "metadata": {
    "collapsed": false
   },
   "outputs": [],
   "source": [
    "gwidth = 4\n",
    "if (gwidth % 2 == 0):\n",
    "    gwidth = gwidth + 1"
   ]
  },
  {
   "cell_type": "code",
   "execution_count": null,
   "metadata": {
    "collapsed": false
   },
   "outputs": [],
   "source": [
    "print gwidth"
   ]
  },
  {
   "cell_type": "code",
   "execution_count": null,
   "metadata": {
    "collapsed": false
   },
   "outputs": [],
   "source": [
    "theta = [-3.45, -3.40]\n",
    "fixvmr = -8."
   ]
  },
  {
   "cell_type": "code",
   "execution_count": null,
   "metadata": {
    "collapsed": false
   },
   "outputs": [],
   "source": [
    "test = np.array([theta[0],theta[1], fixvmr]).reshape(3,)\n",
    "print test"
   ]
  },
  {
   "cell_type": "code",
   "execution_count": 28,
   "metadata": {
    "collapsed": false
   },
   "outputs": [
    {
     "name": "stdout",
     "output_type": "stream",
     "text": [
      "(4, 2)\n"
     ]
    }
   ],
   "source": [
    "ndim, nwalkers = 2, 4\n",
    "p0 = -1.* np.random.rand(ndim * nwalkers).reshape((nwalkers, ndim)) - 3.0\n",
    "print p0.shape"
   ]
  },
  {
   "cell_type": "code",
   "execution_count": 20,
   "metadata": {
    "collapsed": false
   },
   "outputs": [
    {
     "data": {
      "text/plain": [
       "<matplotlib.text.Text at 0x11e76f950>"
      ]
     },
     "execution_count": 20,
     "metadata": {},
     "output_type": "execute_result"
    },
    {
     "data": {
      "image/png": "[encoded data removed]",
      "text/plain": [
       "<matplotlib.figure.Figure at 0x11e76f3d0>"
      ]
     },
     "metadata": {},
     "output_type": "display_data"
    }
   ],
   "source": [
    "plt.rc('font',family='Times New Roman')\n",
    "fig=plt.figure(dpi=320)\n",
    "plt.axis([0.7, 3.5, 0.,2e5])\n",
    "bspec = np.loadtxt(\"sim_spectrum.dat\", unpack=\"true\")\n",
    "plt.plot(bspec[0,:],bspec[1,:],'r-')\n",
    "plt.plot(outspec[0,:],outspec[1,:],'b-')\n",
    "#plt.plot(spec[0,:],mspec[1,:] / spec[1,:],'g-')\n",
    "plt.ylabel(r'F_mike / F_ben')\n",
    "plt.xlabel('Wavelength / Microns')\n"
   ]
  },
  {
   "cell_type": "code",
   "execution_count": null,
   "metadata": {
    "collapsed": true
   },
   "outputs": [],
   "source": []
  }
 ],
 "metadata": {
  "kernelspec": {
   "display_name": "Python 2",
   "language": "python",
   "name": "python2"
  },
  "language_info": {
   "codemirror_mode": {
    "name": "ipython",
    "version": 2
   },
   "file_extension": ".py",
   "mimetype": "text/x-python",
   "name": "python",
   "nbconvert_exporter": "python",
   "pygments_lexer": "ipython2",
   "version": "2.7.10"
  }
 },
 "nbformat": 4,
 "nbformat_minor": 0
}
