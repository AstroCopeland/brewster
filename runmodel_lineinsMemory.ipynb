{
 "cells": [
  {
   "cell_type": "code",
   "execution_count": 1,
   "metadata": {
    "collapsed": false
   },
   "outputs": [
    {
     "name": "stderr",
     "output_type": "stream",
     "text": [
      "/opt/local/Library/Frameworks/Python.framework/Versions/2.7/lib/python2.7/site-packages/IPython/kernel/__init__.py:13: ShimWarning: The `IPython.kernel` package has been deprecated. You should import from ipykernel or jupyter_client instead.\n",
      "  \"You should import from ipykernel or jupyter_client instead.\", ShimWarning)\n"
     ]
    }
   ],
   "source": [
    "import matplotlib\n",
    "import matplotlib.pyplot as plt\n",
    "import matplotlib.image as mgimg\n",
    "import scipy as sp\n",
    "import numpy as np\n",
    "import pickle as pickle\n",
    "from scipy import interpolate\n",
    "from scipy.interpolate import interp1d\n",
    "from IPython.display import display\n",
    "%matplotlib inline\n",
    "#%config InlineBackend.close_figures = False\n",
    "from scipy.io.idl import readsav\n",
    "from astropy.convolution import convolve, convolve_fft\n",
    "from astropy.convolution import Gaussian1DKernel\n",
    "#from pysynphot import observation\n",
    "#from pysynphot import spectrum\n",
    "import forwardmodel\n",
    "import ciamod\n",
    "import band\n",
    "import TPmod\n",
    "import cloud\n",
    "from mikesconv import instrument_non_uniform\n"
   ]
  },
  {
   "cell_type": "code",
   "execution_count": 2,
   "metadata": {
    "collapsed": false
   },
   "outputs": [
    {
     "name": "stdout",
     "output_type": "stream",
     "text": [
      "64\n",
      "13\n",
      "[  1.00000000e-04   1.25892541e-04   1.58489319e-04   1.99526231e-04\n",
      "   2.51188643e-04   3.16227766e-04   3.98107171e-04   5.01187234e-04\n",
      "   6.30957344e-04   7.94328235e-04   1.00000000e-03   1.25892541e-03\n",
      "   1.58489319e-03   1.99526231e-03   2.51188643e-03   3.16227766e-03\n",
      "   3.98107171e-03   5.01187234e-03   6.30957344e-03   7.94328235e-03\n",
      "   1.00000000e-02   1.25892541e-02   1.58489319e-02   1.99526231e-02\n",
      "   2.51188643e-02   3.16227766e-02   3.98107171e-02   5.01187234e-02\n",
      "   6.30957344e-02   7.94328235e-02   1.00000000e-01   1.25892541e-01\n",
      "   1.58489319e-01   1.99526231e-01   2.51188643e-01   3.16227766e-01\n",
      "   3.98107171e-01   5.01187234e-01   6.30957344e-01   7.94328235e-01\n",
      "   1.00000000e+00   1.25892541e+00   1.58489319e+00   1.99526231e+00\n",
      "   2.51188643e+00   3.16227766e+00   3.98107171e+00   5.01187234e+00\n",
      "   6.30957344e+00   7.94328235e+00   1.00000000e+01   1.25892541e+01\n",
      "   1.58489319e+01   1.99526231e+01   2.51188643e+01   3.16227766e+01\n",
      "   3.98107171e+01   5.01187234e+01   6.30957344e+01   7.94328235e+01\n",
      "   1.00000000e+02   1.25892541e+02   1.58489319e+02   1.99526231e+02]\n"
     ]
    }
   ],
   "source": [
    "# set up coarse pressure grid and fine pressure grid\n",
    "logcoarsePress = np.arange(-4.0, 2.5, 0.53)\n",
    "coarsePress = pow(10,logcoarsePress)\n",
    "logfinePress = np.arange(-4.0, 2.4, 0.1)\n",
    "finePress = pow(10,logfinePress)\n",
    "print finePress.size\n",
    "print coarsePress.size\n",
    "print finePress"
   ]
  },
  {
   "cell_type": "markdown",
   "metadata": {},
   "source": [
    "[(0.2736809413618656, 0.30293120551537384, 0.34120151462119891), (0.48445224059474712, 0.71156067717230687, 0.91769069497791866), (1.1961662281671723, 1.782589514584159, 3.0539810335834474), (35.951655767668505, 92.987676756895482, 161.68954644660636), (1866.2276590395848, 1887.7409333445908, 1925.8177054208306)]"
   ]
  },
  {
   "cell_type": "code",
   "execution_count": 3,
   "metadata": {
    "collapsed": false
   },
   "outputs": [
    {
     "data": {
      "text/plain": [
       "<matplotlib.text.Text at 0x109714110>"
      ]
     },
     "execution_count": 3,
     "metadata": {},
     "output_type": "execute_result"
    },
    {
     "data": {
      "image/png": "[encoded data removed]",
      "text/plain": [
       "<matplotlib.figure.Figure at 0x11062f450>"
      ]
     },
     "metadata": {},
     "output_type": "display_data"
    }
   ],
   "source": [
    "Tparams = np.array([(0.2736809413618656, 0.30293120551537384, 0.34120151462119891), (0.48445224059474712, 0.71156067717230687, 0.91769069497791866), (1.1961662281671723, 1.782589514584159, 3.0539810335834474), (35.951655767668505, 92.987676756895482, 161.68954644660636), (1866.2276590395848, 1887.7409333445908, 1925.8177054208306)])\n",
    "Tparams[2,:] = np.log10(Tparams[2,:])\n",
    "Tparams[3,:] = np.log10(Tparams[3,:])\n",
    "temp = TPmod.set_prof(2,coarsePress,finePress,Tparams[:,1])\n",
    "plt.rc('font',family='Times New Roman')\n",
    "fig=plt.figure(dpi=320)\n",
    "plt.axis([0.,4000.,3.0,-5.0])\n",
    "#plt.plot(miketemp,np.log10(mikepress),'r-')\n",
    "plt.plot(temp,np.log10(finePress),'b--')\n",
    "plt.ylabel(r'logP')\n",
    "plt.xlabel('T / K')\n",
    "\n",
    "#"
   ]
  },
  {
   "cell_type": "code",
   "execution_count": 4,
   "metadata": {
    "collapsed": false
   },
   "outputs": [],
   "source": [
    "w1 = 0.7\n",
    "w2 = 2.5\n",
    "\n",
    "dist = 11.35\n",
    "# hardwired FWHM of data in microns\n",
    "fwhm = 0.005\n",
    "\n",
    "npatches = 1\n",
    "nclouds = 1\n",
    "pcover = np.ones([npatches],dtype='f')\n",
    "pcover = [1.0]\n",
    "do_clouds = np.ones([npatches],dtype='i')\n",
    "do_clouds = [[1]]\n",
    "cloudnum = np.zeros([npatches,nclouds],dtype='i')\n",
    "cloudnum = [[5]]\n",
    "cloudtype = np.array([npatches],dtype='i')\n",
    "cloudtype = [[1]]\n",
    "\n",
    "use_disort = 0 \n",
    "\n",
    "# Set the profile type\n",
    "proftype = 2\n",
    "\n",
    "bits= np.array([(5.0225060735284526, 5.2071905701033137, 5.2882414217989506), (3.8810409944043399e-20, 4.0255440848136866e-20, 4.1710216532602051e-20), (0.0037438044311316355, 0.0045095531743837639, 0.0052347985565985942), (-31.218892232244485, -31.163579686043196, -31.094588555625002)])\n",
    "logg = 4.0 #np.array(bits[0,1])\n",
    "R2D2 = np.array(bits[1,1])\n",
    "dlam = np.array(bits[2,1])"
   ]
  },
  {
   "cell_type": "code",
   "execution_count": 5,
   "metadata": {
    "collapsed": false
   },
   "outputs": [],
   "source": [
    "# Get the linelists\n",
    "ngas = 10\n",
    "gasnum = np.asfortranarray(np.array([1,4,7,8,9,10,11,12,20,21],dtype='i'))\n",
    "lists = [\"../Linelists/H2O_xsecs.pic\",\"../Linelists/co_xsecs.pic\",\"../Linelists/tio_xsecs.pic\",\"../Linelists/vo_xsecs.pic\",\"../Linelists/cah_xsecs.pic\",\"../Linelists/crh_xsecs.pic\" ,\"../Linelists/feh_xsecs.pic\",\"../Linelists/mgh_xsecs.pic\",\"../Linelists/K_Mike_xsecs.pic\",\"../Linelists/Na_Mike_xsecs.pic\"]"
   ]
  },
  {
   "cell_type": "code",
   "execution_count": 6,
   "metadata": {
    "collapsed": false
   },
   "outputs": [],
   "source": [
    "# get the basic framework from water list\n",
    "rawwavenum, inpress, inlinetemps, inlinelist = pickle.load( open('../Linelists/H2O_xsecs.pic', \"rb\" ) )\n",
    "wn1 = 10000./w2\n",
    "wn2 = 10000. / w1\n",
    "inwavenum = np.asfortranarray(rawwavenum[np.where(np.logical_not(np.logical_or(rawwavenum[:] > wn2, rawwavenum[:] < wn1)))],dtype='float64')\n",
    "ntemps = inlinetemps.size\n",
    "npress= finePress.size\n",
    "nwave = inwavenum.size\n",
    "r1 = np.amin(np.where(np.logical_not(np.logical_or(rawwavenum[:] > wn2, rawwavenum[:] < wn1))))\n",
    "r2 = np.amax(np.where(np.logical_not(np.logical_or(rawwavenum[:] > wn2, rawwavenum[:] < wn1))))\n",
    "\n",
    "# Here we are interpolating the linelist onto our fine pressure scale.\n",
    "# pickles have linelist as 4th entry....\n",
    "linelist = (np.ones([ngas,npress,ntemps,nwave],order='F')).astype('float64', order='F')\n",
    "for gas in range (0,ngas):\n",
    "    inlinelist= pickle.load( open(lists[gas], \"rb\" ) )[3]\n",
    "    # make missing bits crazy. They are all high pressure, low-temp points.\n",
    "    #inlinelist[np.isnan(inlinelist)] = 1.0\n",
    "    for i in range (0,ntemps):\n",
    "        for j in range (r1,r2+1):\n",
    "            pfit = interp1d(np.log10(inpress),np.log10(inlinelist[:,i,j]))\n",
    "            linelist[gas,:,i,(j-r1)] = np.asfortranarray(pfit(np.log10(finePress)))\n",
    "\n",
    "linelist[np.isnan(linelist)] = -50.0\n"
   ]
  },
  {
   "cell_type": "code",
   "execution_count": 7,
   "metadata": {
    "collapsed": false
   },
   "outputs": [
    {
     "name": "stdout",
     "output_type": "stream",
     "text": [
      "(10, 64)\n"
     ]
    }
   ],
   "source": [
    "vmrlist = np.array([(-3.238885666839177, -3.0941061501768612, -2.9523289456700921), (-2.1749002429903657, -1.9968863427175205, -1.8249564880677571), (-8.4663926638126163, -7.314593346077209, -6.9170251600736483), (-8.5594327583521324, -8.2730769413576493, -8.0243398805307216), (-10.550982350042091, -7.6530080804397702, -4.891964723473146), (-7.2675383256046828, -7.0800925301827871, -6.8767851797518995), (-8.3087940236812177, -8.1000909312669975, -7.896163298122306), (-9.4083401517955565, -4.5953497993907195, -1.9812939733975066), (-8.0866181279624492, -4.7408973965252414, -4.445513336996834), (5.0314127035262368, 5.2086123554238126, 5.2881044552699983)])\n",
    "alkratio = 16.2\n",
    "VMR1 = np.full((npress,),vmrlist[0,1]) # water\n",
    "vmr2 = np.full((npress,),vmrlist[1,1]) # CO\n",
    "vmr3 = np.full((npress,),vmrlist[2,1])  \n",
    "vmr4 = np.full((npress,),vmrlist[3,1]) \n",
    "vmr5 = np.full((npress,),vmrlist[4,1]) \n",
    "vmr6 = np.full((npress,),vmrlist[5,1])  \n",
    "vmr7 = np.full((npress,),vmrlist[6,1])\n",
    "vmr8 = np.full((npress,),vmrlist[7,1])\n",
    "vmr9 = np.full((npress,),(np.log10((10.**vmrlist[8,1]) / (alkratio+1.))))# K\n",
    "vmr10 = np.full((npress,),(np.log10((10.**vmrlist[8,1]) * (alkratio / (alkratio+1.)))))\n",
    "#print VMR1.shape\n",
    "logVMR = np.asfortranarray(np.reshape((VMR1,vmr2,vmr3,vmr4,vmr5,vmr6,vmr7,vmr8,vmr9,vmr10),(ngas,npress)),dtype='float64')\n",
    "print logVMR.shape\n",
    "press = finePress"
   ]
  },
  {
   "cell_type": "code",
   "execution_count": 18,
   "metadata": {
    "collapsed": false
   },
   "outputs": [
    {
     "name": "stdout",
     "output_type": "stream",
     "text": [
      "[[[-150.        ]\n",
      "  [-150.        ]\n",
      "  [-150.        ]\n",
      "  [-150.        ]\n",
      "  [-150.        ]\n",
      "  [-150.        ]\n",
      "  [-150.        ]\n",
      "  [-150.        ]\n",
      "  [-150.        ]\n",
      "  [-150.        ]\n",
      "  [-150.        ]\n",
      "  [-150.        ]\n",
      "  [-150.        ]\n",
      "  [-150.        ]\n",
      "  [-150.        ]\n",
      "  [-150.        ]\n",
      "  [-150.        ]\n",
      "  [-150.        ]\n",
      "  [ -23.83661608]\n",
      "  [ -22.84015646]\n",
      "  [ -22.84015646]\n",
      "  [ -22.84015646]\n",
      "  [ -23.23898609]\n",
      "  [-150.        ]\n",
      "  [-150.        ]\n",
      "  [-150.        ]\n",
      "  [-150.        ]\n",
      "  [-150.        ]\n",
      "  [-150.        ]\n",
      "  [-150.        ]\n",
      "  [-150.        ]\n",
      "  [-150.        ]\n",
      "  [-150.        ]\n",
      "  [-150.        ]\n",
      "  [-150.        ]\n",
      "  [-150.        ]\n",
      "  [-150.        ]\n",
      "  [-150.        ]\n",
      "  [-150.        ]\n",
      "  [-150.        ]\n",
      "  [-150.        ]\n",
      "  [-150.        ]\n",
      "  [-150.        ]\n",
      "  [-150.        ]\n",
      "  [-150.        ]\n",
      "  [-150.        ]\n",
      "  [-150.        ]\n",
      "  [-150.        ]\n",
      "  [-150.        ]\n",
      "  [-150.        ]\n",
      "  [-150.        ]\n",
      "  [-150.        ]\n",
      "  [-150.        ]\n",
      "  [-150.        ]\n",
      "  [-150.        ]\n",
      "  [-150.        ]\n",
      "  [-150.        ]\n",
      "  [-150.        ]\n",
      "  [-150.        ]\n",
      "  [-150.        ]\n",
      "  [-150.        ]\n",
      "  [-150.        ]\n",
      "  [-150.        ]\n",
      "  [-150.        ]]]\n",
      "[[1]]\n"
     ]
    }
   ],
   "source": [
    "cloudtype = np.asfortranarray(cloudtype,dtype='i')\n",
    "cloudparams = np.ones([5],dtype='d')\n",
    "cloudparams[0] = -22.8401564594\n",
    "cloudparams[1] = -2.16008185344\n",
    "cloudparams[2] = 0.35\n",
    "cloudparams[3] = -1.59216135207\n",
    "cloudparams[4] = -1.46364862176\n",
    "do_clouds = np.asfortranarray(do_clouds,dtype='i')\n",
    "#cloudparams[1:5] = samp[ng+nb:ng+nb+nc]\n",
    "cloudprof,cloudrad,cloudsig = cloud.atlas(do_clouds,cloudnum,cloudtype,cloudparams,press)\n",
    "cloudnum = np.asfortranarray(cloudnum,dtype='i')\n",
    "cloudrad = np.asfortranarray(cloudrad,dtype='float64')\n",
    "cloudsig = np.asfortranarray(cloudsig,dtype='float64')\n",
    "cloudprof = np.asfortranarray(cloudprof,dtype='float64')\n",
    "pcover = np.asfortranarray(pcover,dtype='float32')\n",
    "print cloudprof\n",
    "print do_clouds"
   ]
  },
  {
   "cell_type": "code",
   "execution_count": 19,
   "metadata": {
    "collapsed": false
   },
   "outputs": [
    {
     "name": "stdout",
     "output_type": "stream",
     "text": [
      "(4, 198, 10286)\n",
      "(198,)\n",
      "float32\n",
      "outspec = marv(temp,logg,r2d2,ingasnum,logvmr,pcover,do_clouds,incloudnum,cloudrad,cloudsig,cloudprof,inlinetemps,inpress,inwavenum,inlinelist,cia,ciatemps,use_disort)\n",
      "\n",
      "Wrapper for ``marv``.\n",
      "\n",
      "Parameters\n",
      "----------\n",
      "temp : input rank-1 array('d') with bounds (64)\n",
      "logg : input float\n",
      "r2d2 : input float\n",
      "ingasnum : in/output rank-1 array('i') with bounds (f2py_ingasnum_d0)\n",
      "logvmr : input rank-2 array('d') with bounds (f2py_logvmr_d0,f2py_logvmr_d1)\n",
      "pcover : in/output rank-1 array('f') with bounds (f2py_pcover_d0)\n",
      "do_clouds : in/output rank-1 array('i') with bounds (f2py_do_clouds_d0)\n",
      "incloudnum : in/output rank-2 array('i') with bounds (f2py_incloudnum_d0,f2py_incloudnum_d1)\n",
      "cloudrad : in/output rank-3 array('d') with bounds (f2py_cloudrad_d0,f2py_cloudrad_d1,f2py_cloudrad_d2)\n",
      "cloudsig : in/output rank-3 array('d') with bounds (f2py_cloudsig_d0,f2py_cloudsig_d1,f2py_cloudsig_d2)\n",
      "cloudprof : in/output rank-3 array('d') with bounds (f2py_cloudprof_d0,f2py_cloudprof_d1,f2py_cloudprof_d2)\n",
      "inlinetemps : input rank-1 array('f') with bounds (27)\n",
      "inpress : input rank-1 array('f') with bounds (64)\n",
      "inwavenum : in/output rank-1 array('d') with bounds (f2py_inwavenum_d0)\n",
      "inlinelist : in/output rank-4 array('d') with bounds (f2py_inlinelist_d0,f2py_inlinelist_d1,f2py_inlinelist_d2,f2py_inlinelist_d3)\n",
      "cia : in/output rank-3 array('f') with bounds (f2py_cia_d0,f2py_cia_d1,f2py_cia_d2)\n",
      "ciatemps : in/output rank-1 array('f') with bounds (198)\n",
      "use_disort : input int\n",
      "\n",
      "Returns\n",
      "-------\n",
      "outspec : rank-2 array('d') with bounds (2,19501)\n",
      "\n"
     ]
    }
   ],
   "source": [
    "tmpcia, ciatemps = ciamod.read_cia(\"CIA_DS_aug_2015.dat\",inwavenum)\n",
    "cia = np.asfortranarray(np.empty((4,ciatemps.size,nwave)),dtype='float32')\n",
    "cia[:,:,:] = tmpcia[:,:,:nwave] \n",
    "ciatemps = np.asfortranarray(ciatemps, dtype='float32')\n",
    "print cia.shape\n",
    "print ciatemps.shape\n",
    "print cia.dtype\n",
    "print forwardmodel.marv.__doc__"
   ]
  },
  {
   "cell_type": "code",
   "execution_count": 20,
   "metadata": {
    "collapsed": false
   },
   "outputs": [
    {
     "name": "stdout",
     "output_type": "stream",
     "text": [
      "[[  2.50000000e+00   2.49937516e+00   2.49875062e+00 ...,   7.00133025e-01\n",
      "    7.00084010e-01   7.00035002e-01]\n",
      " [  2.56231645e-15   2.49488872e-15   1.42948156e-15 ...,   9.19062865e-17\n",
      "    6.48754905e-17   5.22678756e-17]]\n"
     ]
    }
   ],
   "source": [
    "tmpoutspec = forwardmodel.marv(temp,logg,R2D2,gasnum,logVMR,pcover,do_clouds,cloudnum,cloudrad,cloudsig,cloudprof,inlinetemps,press,inwavenum,linelist,cia,ciatemps,use_disort)\n",
    "outspec = np.zeros((2,nwave),dtype='d')\n",
    "outspec[:,:] = tmpoutspec[:,:nwave]\n",
    "print outspec"
   ]
  },
  {
   "cell_type": "code",
   "execution_count": 13,
   "metadata": {
    "collapsed": true
   },
   "outputs": [],
   "source": [
    "#np.savetxt('Ray_TESTspectrum.dat', np.c_[outspec[0],outspec[1]])\n",
    "#outspec1 = outspec"
   ]
  },
  {
   "cell_type": "code",
   "execution_count": 21,
   "metadata": {
    "collapsed": false
   },
   "outputs": [
    {
     "data": {
      "text/plain": [
       "<matplotlib.text.Text at 0x11817a1d0>"
      ]
     },
     "execution_count": 21,
     "metadata": {},
     "output_type": "execute_result"
    },
    {
     "data": {
      "image/png": "[encoded data removed]",
      "text/plain": [
       "<matplotlib.figure.Figure at 0x11816c610>"
      ]
     },
     "metadata": {},
     "output_type": "display_data"
    }
   ],
   "source": [
    "#B = np.empty(nwave,dtype='d') \n",
    "#B = 3.14159274*((2.*6.62606957e-34*(2.99792458e8**2.)) / ((outspec[0,:]*1.e-6)**5.)) / ((np.exp((6.62606957e-34*2.99792458e8)/(outspec[0,:]*1e-6*1.3806488e-23*1000.)))-1.) * 1.e-6\n",
    "plt.rc('font',family='Times New Roman')\n",
    "fig=plt.figure(dpi=320)\n",
    "plt.axis([0.7, 2.5,0.0,0.5e-14])\n",
    "#oldspec = np.loadtxt(\"8gas_TESTspectrum.dat\", unpack=True)\n",
    "#plt.plot(outspec[0,:],(outspec[1,:] / B),'r-')\n",
    "#plt.plot(outspec[0,:],B,'b-')\n",
    "#plt.plot(oldspec[0,:],oldspec[1,:],'r-')\n",
    "plt.plot(outspec1[0,:],outspec1[1,:],'g-')\n",
    "plt.plot(outspec[0,:],outspec[1,:],'r-')\n",
    "\n",
    "#plt.plot(outspec[0,:],(1.+ ((outspec[1,:]- oldspec[1,:])/outspec[1,:]))*1e5,'g-')\n",
    "\n",
    "#plt.plot(mikespec[0,:],outspec[1,:] / (mikespec[1,:]/1e6),'r-')\n",
    "#plt.plot(mikespec[0,:],((mikespec[1,:] / 1e6) / outspec[1,:]), 'r-')\n",
    "#plt.plot(outspec[0,:],np.full(nwave,1.0),'b--')\n",
    "\n",
    "#plt.plot(outspec[0,:],6.666*outspec[1,:],'b-')\n",
    "plt.ylabel(r'Flux')\n",
    "plt.xlabel('Wavelength / Microns')\n",
    "\n",
    "#asp = 10 / 3.5\n",
    "\n",
    "#plt.axes().set_aspect(asp)\n",
    "#plt.savefig('testspec.pdf',format='pdf', dpi=720)"
   ]
  },
  {
   "cell_type": "code",
   "execution_count": null,
   "metadata": {
    "collapsed": false
   },
   "outputs": [],
   "source": [
    "wlen = outspec.shape[1]\n",
    "wint = outspec[0,0] - outspec[0,wlen-1]\n",
    "disp = wint / wlen\n",
    "fwhm = 0.005\n",
    "gwidth = int(round(fwhm / disp))\n",
    "print outspec.shape"
   ]
  },
  {
   "cell_type": "code",
   "execution_count": null,
   "metadata": {
    "collapsed": false
   },
   "outputs": [],
   "source": [
    "gauss = Gaussian1DKernel(gwidth)\n",
    "cspec = convolve(outspec[1,:],gauss,boundary='extend')\n",
    "spec = np.array([outspec[0,::-1],cspec[::-1]])"
   ]
  },
  {
   "cell_type": "code",
   "execution_count": null,
   "metadata": {
    "collapsed": false
   },
   "outputs": [],
   "source": [
    "obspec = np.loadtxt(\"2M2224_mkoJcalib.dat\",unpack=True)\n",
    "\n",
    "#np.savetxt('2m2224_Ray_off_test.dat', np.c_[spec[0],spec[1]])"
   ]
  },
  {
   "cell_type": "code",
   "execution_count": null,
   "metadata": {
    "collapsed": false
   },
   "outputs": [],
   "source": [
    "wno = 1e4/ outspec[0,:]\n",
    "pltspec = instrument_non_uniform(obspec[0,:],wno,outspec[1,:])\n"
   ]
  },
  {
   "cell_type": "code",
   "execution_count": null,
   "metadata": {
    "collapsed": false
   },
   "outputs": [],
   "source": [
    "#pltspec = np.ones([obspec.shape[1]])\n",
    "#wavenew = obspec[0,:]\n",
    "##wfit = sp.interpolate.splrep(spec[0,:],spec[1,:],s=0)\n",
    "#pltspec = sp.interpolate.splev(wavenew,wfit,der=0)\n"
   ]
  },
  {
   "cell_type": "code",
   "execution_count": null,
   "metadata": {
    "collapsed": false
   },
   "outputs": [],
   "source": [
    "plt.rc('font',family='Times New Roman')\n",
    "fig=plt.figure(dpi=320)\n",
    "plt.axis([0.7, 2.5, 0.,1.5e-14])\n",
    "#bspec = np.loadtxt(\"2m2224_FIT_spectrum.dat\", unpack=\"true\")\n",
    "plt.plot(wavenew,pltspec,'r-')\n",
    "#plt.plot(bspec[0,:],pltspec[:] / bspec[1,:],'b-')\n",
    "plt.plot(obspec[0,:],obspec[1,:],'g-')\n",
    "plt.ylabel( 'Flux')\n",
    "plt.xlabel('Wavelength / Microns')\n"
   ]
  },
  {
   "cell_type": "code",
   "execution_count": null,
   "metadata": {
    "collapsed": false
   },
   "outputs": [],
   "source": [
    "print spec"
   ]
  },
  {
   "cell_type": "code",
   "execution_count": null,
   "metadata": {
    "collapsed": false
   },
   "outputs": [],
   "source": [
    "print 10000.  /rawwavenum[rawwavenum.size-1]"
   ]
  },
  {
   "cell_type": "code",
   "execution_count": null,
   "metadata": {
    "collapsed": true
   },
   "outputs": [],
   "source": []
  },
  {
   "cell_type": "code",
   "execution_count": null,
   "metadata": {
    "collapsed": true
   },
   "outputs": [],
   "source": []
  },
  {
   "cell_type": "code",
   "execution_count": null,
   "metadata": {
    "collapsed": true
   },
   "outputs": [],
   "source": []
  },
  {
   "cell_type": "code",
   "execution_count": null,
   "metadata": {
    "collapsed": true
   },
   "outputs": [],
   "source": []
  }
 ],
 "metadata": {
  "kernelspec": {
   "display_name": "Python 2",
   "language": "python",
   "name": "python2"
  },
  "language_info": {
   "codemirror_mode": {
    "name": "ipython",
    "version": 2
   },
   "file_extension": ".py",
   "mimetype": "text/x-python",
   "name": "python",
   "nbconvert_exporter": "python",
   "pygments_lexer": "ipython2",
   "version": "2.7.10"
  }
 },
 "nbformat": 4,
 "nbformat_minor": 0
}
