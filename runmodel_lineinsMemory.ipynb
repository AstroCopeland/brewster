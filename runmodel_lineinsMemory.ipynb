{
 "metadata": {
  "name": "",
  "signature": "sha256:1778019590af2c9b9cc28590ab251b61840175bfbc0c75222ae66bcb1b516656"
 },
 "nbformat": 3,
 "nbformat_minor": 0,
 "worksheets": [
  {
   "cells": [
    {
     "cell_type": "code",
     "collapsed": false,
     "input": [
      "import matplotlib\n",
      "import matplotlib.pyplot as plt\n",
      "import matplotlib.image as mgimg\n",
      "import scipy as sp\n",
      "import numpy as np\n",
      "from scipy import interpolate\n",
      "from IPython.display import display\n",
      "%matplotlib inline\n",
      "#%config InlineBackend.close_figures = False\n",
      "from scipy.io.idl import readsav\n",
      "import forwardmodel"
     ],
     "language": "python",
     "metadata": {},
     "outputs": [],
     "prompt_number": 1
    },
    {
     "cell_type": "code",
     "collapsed": false,
     "input": [
      "x=readsav()\n",
      "xsec=x.xsecarr  #3D array with Nwavenubmers x Ntemps x Npressure\n",
      "T=x.t\n",
      "P=x.p\n",
      "wavenumbergrid=x.wno\n"
     ],
     "language": "python",
     "metadata": {},
     "outputs": []
    },
    {
     "cell_type": "code",
     "collapsed": false,
     "input": [
      "intemp = np.loadtxt(\"16temps.dat\",dtype='f')\n",
      "#intemp = np.full(16,1000.,dtype='d')\n",
      "inlayer = np.arange(0,15.25,1)  \n",
      "layer = np.arange(0,15.25,0.25)\n",
      "tfit = interpolate.splrep(inlayer,intemp,s=0)\n",
      "temp = np.asfortranarray(interpolate.splev(layer,tfit, der=0),dtype='d')\n",
      "w1 = 1.0\n",
      "w2 = 10.0\n",
      "logg = 4.5\n",
      "R2D2 = 1\n",
      "gasnum = np.asfortranarray(np.array([1,2],dtype='i'))\n",
      "print temp"
     ],
     "language": "python",
     "metadata": {},
     "outputs": [
      {
       "output_type": "stream",
       "stream": "stdout",
       "text": [
        "[ 1000.  1000.  1000.  1000.  1000.  1000.  1000.  1000.  1000.  1000.\n",
        "  1000.  1000.  1000.  1000.  1000.  1000.  1000.  1000.  1000.  1000.\n",
        "  1000.  1000.  1000.  1000.  1000.  1000.  1000.  1000.  1000.  1000.\n",
        "  1000.  1000.  1000.  1000.  1000.  1000.  1000.  1000.  1000.  1000.\n",
        "  1000.  1000.  1000.  1000.  1000.  1000.  1000.  1000.  1000.  1000.\n",
        "  1000.  1000.  1000.  1000.  1000.  1000.  1000.  1000.  1000.  1000.\n",
        "  1000.]\n"
       ]
      }
     ],
     "prompt_number": 2
    },
    {
     "cell_type": "code",
     "collapsed": false,
     "input": [
      "VMR1 = np.full((61,),(-3.45)) # water\n",
      "vmr2 = np.full((61,),(-3.4)) # ch4\n",
      "#vmr3 = np.full((61,),(-8.))  # K\n",
      "#print VMR1.shape\n",
      "logVMR = np.reshape((VMR1,vmr2),(2,61))"
     ],
     "language": "python",
     "metadata": {},
     "outputs": [],
     "prompt_number": 3
    },
    {
     "cell_type": "code",
     "collapsed": false,
     "input": [
      "pcover = 1.0\n",
      "do_clouds = 0\n",
      "cloudnum = np.array([1],dtype='i')\n",
      "#cloudname = np.reshape((cname),(1,1))\n",
      "cloudrad = np.full((1,61,1),1e-4)\n",
      "cloudsig = np.full((1,61,1),1e-5)\n",
      "cloudprof = np.full((1,61,1),0.0)\n",
      "nwave = 319188"
     ],
     "language": "python",
     "metadata": {},
     "outputs": [],
     "prompt_number": 4
    },
    {
     "cell_type": "code",
     "collapsed": true,
     "input": [
      "outspec = forwardmodel.marv(w1,w2,temp,logg,R2D2,gasnum,logVMR,pcover,do_clouds,cloudnum,cloudrad,cloudsig,cloudprof)"
     ],
     "language": "python",
     "metadata": {},
     "outputs": []
    },
    {
     "cell_type": "code",
     "collapsed": false,
     "input": [
      "B = np.empty(nwave,dtype='d') \n",
      "B = 3.14159274*((2.*6.62606957e-34*(2.99792458e8**2.)) / ((outspec[0,:]*1.e-6)**5.)) / ((np.exp((6.62606957e-34*2.99792458e8)/(outspec[0,:]*1e-6*1.3806488e-23*1000.)))-1.) * 1.e-6\n",
      "plt.rc('font',family='Times New Roman')\n",
      "fig=plt.figure(dpi=320)\n",
      "plt.axis([1.0, 10., 0.9,1.1])\n",
      "plt.plot(outspec[0,:],(outspec[1,:] / B),'r-')\n",
      "plt.plot(outspec[0,:],B,'b-')\n",
      "plt.plot(outspec[0,:],outspec[1,:],'g-')\n",
      "plt.plot(outspec[0,:],np.full(nwave,0.99),'b-')\n",
      "\n",
      "#plt.plot(outspec[0,:],6.666*outspec[1,:],'b-')\n",
      "plt.ylabel(r'$Fdiff$')\n",
      "plt.xlabel('Wavelength / Microns')\n",
      "\n",
      "#asp = 10 / 3.5\n",
      "\n",
      "#plt.axes().set_aspect(asp)\n",
      "plt.savefig('testspec.pdf',format='pdf', dpi=720)"
     ],
     "language": "python",
     "metadata": {},
     "outputs": [
      {
       "metadata": {},
       "output_type": "display_data",
       "png": "[encoded data removed]",
       "text": [
        "<matplotlib.figure.Figure at 0x10ef27450>"
       ]
      }
     ],
     "prompt_number": 6
    },
    {
     "cell_type": "code",
     "collapsed": false,
     "input": [
      "outspec =  outspec[:,np.logical_not(np.logical_or(outspec[0,:] > w2, outspec[0,:] < w1))]\n",
      "wlen = outspec.shape[1]\n",
      "wint = outspec[0,0] - outspec[0,wlen-1]\n",
      "disp = wint / wlen\n",
      "fwhm = 0.005\n",
      "gwidth = int(round(fwhm / disp))"
     ],
     "language": "python",
     "metadata": {},
     "outputs": [],
     "prompt_number": 13
    },
    {
     "cell_type": "code",
     "collapsed": false,
     "input": [
      "from astropy.convolution import convolve, convolve_fft\n",
      "from astropy.convolution import Gaussian1DKernel\n"
     ],
     "language": "python",
     "metadata": {},
     "outputs": [],
     "prompt_number": 8
    },
    {
     "cell_type": "code",
     "collapsed": false,
     "input": [
      "gauss = Gaussian1DKernel(gwidth)\n",
      "cspec = convolve(outspec[1,:],gauss,boundary='extend')\n",
      "spec = np.array([outspec[0,:],cspec])"
     ],
     "language": "python",
     "metadata": {},
     "outputs": [],
     "prompt_number": 9
    },
    {
     "cell_type": "code",
     "collapsed": false,
     "input": [
      "print spec.shape\n",
      "print outspec.shape"
     ],
     "language": "python",
     "metadata": {},
     "outputs": [
      {
       "output_type": "stream",
       "stream": "stdout",
       "text": [
        "(2, 94001)\n",
        "(2, 94001)\n"
       ]
      }
     ],
     "prompt_number": 10
    },
    {
     "cell_type": "code",
     "collapsed": false,
     "input": [
      "plt.rc('font',family='Times New Roman')\n",
      "fig=plt.figure(dpi=320)\n",
      "plt.axis([0.8, 2.5, 0.,50])\n",
      "plt.plot(outspec[0,:],outspec[1,:],'r-')\n",
      "plt.plot(spec[0,:],spec[1,:],'b-')\n",
      "plt.ylabel(r'$Flux$')\n",
      "plt.xlabel('Wavelength / Microns')\n"
     ],
     "language": "python",
     "metadata": {},
     "outputs": [
      {
       "metadata": {},
       "output_type": "pyout",
       "prompt_number": 11,
       "text": [
        "<matplotlib.text.Text at 0x1400fc890>"
       ]
      },
      {
       "metadata": {},
       "output_type": "display_data",
       "png": "[encoded data removed]",
       "text": [
        "<matplotlib.figure.Figure at 0x1400f2450>"
       ]
      }
     ],
     "prompt_number": 11
    },
    {
     "cell_type": "code",
     "collapsed": false,
     "input": [
      "# now rebin\n",
      "from pysynphot import observation\n",
      "from pysynphot import spectrum\n",
      "wavenew = np.arange(w1,w2,0.0015,dtype='f')\n",
      "ispec = spectrum.ArraySourceSpectrum(wave=spec[0,:], flux=spec[1,:])\n",
      "f = np.ones(len(spec[0,:]))\n",
      "filt = spectrum.ArraySpectralElement(spec[0,:], f, waveunits='microns')\n",
      "obs = observation.Observation(ispec, filt, binset=wavenew, force='taper')"
     ],
     "language": "python",
     "metadata": {},
     "outputs": [
      {
       "output_type": "stream",
       "stream": "stderr",
       "text": [
        "/Users/bb/Library/Python/2.7/lib/python/site-packages/pysynphot/locations.py:14: UserWarning: PYSYN_CDBS is undefined; functionality will be SEVERELY crippled.\n",
        "  warnings.warn(\"PYSYN_CDBS is undefined; functionality will be SEVERELY \"\n",
        "/Users/bb/Library/Python/2.7/lib/python/site-packages/pysynphot/locations.py:74: UserWarning: Extinction files should be moved to $PYSYN_CDBS/extinction for compatibility with future versions of pysynphot.\n",
        "  warnings.warn('Extinction files should be moved to '\n",
        "/Users/bb/Library/Python/2.7/lib/python/site-packages/pysynphot/locations.py:110: UserWarning: Extinction files not found in grid/extinction\n",
        "  warnings.warn('Extinction files not found in %s' % (extdir,))\n",
        "/Users/bb/Library/Python/2.7/lib/python/site-packages/pysynphot/locations.py:88: UserWarning: PYSYN_CDBS is undefined; cannot find mtab/*_tmg.fits file\n",
        "  warnings.warn(\"PYSYN_CDBS is undefined; cannot find %s file\" % template)\n",
        "/Users/bb/Library/Python/2.7/lib/python/site-packages/pysynphot/locations.py:88: UserWarning: PYSYN_CDBS is undefined; cannot find mtab/*_tmc.fits file\n",
        "  warnings.warn(\"PYSYN_CDBS is undefined; cannot find %s file\" % template)\n",
        "/Users/bb/Library/Python/2.7/lib/python/site-packages/pysynphot/locations.py:88: UserWarning: PYSYN_CDBS is undefined; cannot find mtab/*_tmt.fits file\n",
        "  warnings.warn(\"PYSYN_CDBS is undefined; cannot find %s file\" % template)\n"
       ]
      }
     ],
     "prompt_number": 12
    },
    {
     "cell_type": "code",
     "collapsed": false,
     "input": [
      "unc = np.max(obs.binflux)\n",
      "error = np.full(500,unc/50)\n",
      "outflux = np.ones(500)\n",
      "outflux = obs.binflux + error*np.random.randn(500)\n",
      "    "
     ],
     "language": "python",
     "metadata": {},
     "outputs": [],
     "prompt_number": 14
    },
    {
     "cell_type": "code",
     "collapsed": false,
     "input": [
      "plt.rc('font',family='Times New Roman')\n",
      "fig=plt.figure(dpi=320)\n",
      "plt.axis([0.8, 2.5, 0.,50])\n",
      "plt.plot(outspec[0,:],outspec[1,:],'r-')\n",
      "plt.plot(spec[0,:],spec[1,:],'b-')\n",
      "plt.plot(wavenew,outflux,'b-')\n",
      "plt.ylabel(r'$Flux$')\n",
      "plt.xlabel('Wavelength / Microns')\n"
     ],
     "language": "python",
     "metadata": {},
     "outputs": [
      {
       "metadata": {},
       "output_type": "pyout",
       "prompt_number": 15,
       "text": [
        "<matplotlib.text.Text at 0x13ed9e150>"
       ]
      },
      {
       "metadata": {},
       "output_type": "display_data",
       "png": "[encoded data removed]",
       "text": [
        "<matplotlib.figure.Figure at 0x13ed98e50>"
       ]
      }
     ],
     "prompt_number": 15
    },
    {
     "cell_type": "code",
     "collapsed": false,
     "input": [
      "np.savetxt('sim_spectrum.dat', np.c_[wavenew,outflux,error])"
     ],
     "language": "python",
     "metadata": {},
     "outputs": [],
     "prompt_number": 16
    },
    {
     "cell_type": "code",
     "collapsed": false,
     "input": [
      "gwidth = 4\n",
      "if (gwidth % 2 == 0):\n",
      "    gwidth = gwidth + 1"
     ],
     "language": "python",
     "metadata": {},
     "outputs": [],
     "prompt_number": 69
    },
    {
     "cell_type": "code",
     "collapsed": false,
     "input": [
      "print gwidth"
     ],
     "language": "python",
     "metadata": {},
     "outputs": [
      {
       "output_type": "stream",
       "stream": "stdout",
       "text": [
        "5\n"
       ]
      }
     ],
     "prompt_number": 70
    },
    {
     "cell_type": "code",
     "collapsed": false,
     "input": [
      "theta = [-3.45, -3.40]\n",
      "fixvmr = -8."
     ],
     "language": "python",
     "metadata": {},
     "outputs": [],
     "prompt_number": 9
    },
    {
     "cell_type": "code",
     "collapsed": false,
     "input": [
      "test = np.array([theta[0],theta[1], fixvmr]).reshape(3,)\n",
      "print test"
     ],
     "language": "python",
     "metadata": {},
     "outputs": [
      {
       "output_type": "stream",
       "stream": "stdout",
       "text": [
        "[-3.45 -3.4  -8.  ]\n"
       ]
      }
     ],
     "prompt_number": 15
    },
    {
     "cell_type": "code",
     "collapsed": false,
     "input": [],
     "language": "python",
     "metadata": {},
     "outputs": []
    }
   ],
   "metadata": {}
  }
 ]
}