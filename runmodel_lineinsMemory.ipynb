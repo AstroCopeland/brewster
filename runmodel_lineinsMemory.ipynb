{
 "cells": [
  {
   "cell_type": "code",
   "execution_count": 1,
   "metadata": {
    "collapsed": false
   },
   "outputs": [
    {
     "name": "stderr",
     "output_type": "stream",
     "text": [
      "/opt/local/Library/Frameworks/Python.framework/Versions/2.7/lib/python2.7/site-packages/IPython/kernel/__init__.py:13: ShimWarning: The `IPython.kernel` package has been deprecated. You should import from ipykernel or jupyter_client instead.\n",
      "  \"You should import from ipykernel or jupyter_client instead.\", ShimWarning)\n"
     ]
    }
   ],
   "source": [
    "import matplotlib\n",
    "import matplotlib.pyplot as plt\n",
    "import matplotlib.image as mgimg\n",
    "import scipy as sp\n",
    "import numpy as np\n",
    "import cPickle as pickle\n",
    "from scipy import interpolate\n",
    "from scipy.interpolate import interp1d\n",
    "from IPython.display import display\n",
    "%matplotlib inline\n",
    "#%config InlineBackend.close_figures = False\n",
    "from scipy.io.idl import readsav\n",
    "from astropy.convolution import convolve, convolve_fft\n",
    "from astropy.convolution import Gaussian1DKernel\n",
    "#from pysynphot import observation\n",
    "#from pysynphot import spectrum\n",
    "import forwardmodel\n",
    "import ciamod"
   ]
  },
  {
   "cell_type": "code",
   "execution_count": 2,
   "metadata": {
    "collapsed": false
   },
   "outputs": [
    {
     "name": "stdout",
     "output_type": "stream",
     "text": [
      "80\n",
      "[  9.99999975e-05   1.20226425e-04   1.44543999e-04   1.73780092e-04\n",
      "   2.08929574e-04   2.51188700e-04   3.01995198e-04   3.63077997e-04\n",
      "   4.36515693e-04   5.24807489e-04   6.30957249e-04   7.58577778e-04\n",
      "   9.12010903e-04   1.09647808e-03   1.31825637e-03   1.58489251e-03\n",
      "   1.90546061e-03   2.29086843e-03   2.75422912e-03   3.31131113e-03\n",
      "   3.98107106e-03   4.78629908e-03   5.75439911e-03   6.91830833e-03\n",
      "   8.31763912e-03   9.99999978e-03   1.20226424e-02   1.44543927e-02\n",
      "   1.73780080e-02   2.08929572e-02   2.51188558e-02   3.01995184e-02\n",
      "   3.63078006e-02   4.36515696e-02   5.24807498e-02   6.30957261e-02\n",
      "   7.58577362e-02   9.12010893e-02   1.09647810e-01   1.31825641e-01\n",
      "   1.58489242e-01   1.90546066e-01   2.29086712e-01   2.75422752e-01\n",
      "   3.31131101e-01   3.98107082e-01   4.78629917e-01   5.75439930e-01\n",
      "   6.91830814e-01   8.31763446e-01   1.00000000e+00   1.20226419e+00\n",
      "   1.44543922e+00   1.73779988e+00   2.08929467e+00   2.51188707e+00\n",
      "   3.01995182e+00   3.63077998e+00   4.36515713e+00   5.24807215e+00\n",
      "   6.30956936e+00   7.58577776e+00   9.12010956e+00   1.09647808e+01\n",
      "   1.31825638e+01   1.58489246e+01   1.90545959e+01   2.29086590e+01\n",
      "   2.75422897e+01   3.31131096e+01   3.98107071e+01   4.78629913e+01\n",
      "   5.75439606e+01   6.91830444e+01   8.31763916e+01   1.00000000e+02\n",
      "   1.20226425e+02   1.44543930e+02   1.73779999e+02   2.08929474e+02]\n"
     ]
    }
   ],
   "source": [
    "array = pickle.load(open(\"test_H2H2_H2He_CIA_H2O.pic\", \"rb\")) \n",
    "leveltemp = array[0]\n",
    "levelpress = array[1]\n",
    "mikespec = np.array([array[2],array[3]],dtype='f')\n",
    "mikespec[0] = 10000.0 / mikespec[0]\n",
    "print levelpress.size\n",
    "print levelpress"
   ]
  },
  {
   "cell_type": "code",
   "execution_count": 5,
   "metadata": {
    "collapsed": false
   },
   "outputs": [
    {
     "name": "stdout",
     "output_type": "stream",
     "text": [
      "80\n",
      "14\n",
      "[  1.00000000e-04   3.16227766e-04   1.00000000e-03   3.16227766e-03\n",
      "   1.00000000e-02   3.16227766e-02   1.00000000e-01   3.16227766e-01\n",
      "   1.00000000e+00   3.16227766e+00   1.00000000e+01   3.16227766e+01\n",
      "   1.00000000e+02   3.16227766e+02]\n",
      "[  1.00000000e-04   1.20226443e-04   1.44543977e-04   1.73780083e-04\n",
      "   2.08929613e-04   2.51188643e-04   3.01995172e-04   3.63078055e-04\n",
      "   4.36515832e-04   5.24807460e-04   6.30957344e-04   7.58577575e-04\n",
      "   9.12010839e-04   1.09647820e-03   1.31825674e-03   1.58489319e-03\n",
      "   1.90546072e-03   2.29086765e-03   2.75422870e-03   3.31131121e-03\n",
      "   3.98107171e-03   4.78630092e-03   5.75439937e-03   6.91830971e-03\n",
      "   8.31763771e-03   1.00000000e-02   1.20226443e-02   1.44543977e-02\n",
      "   1.73780083e-02   2.08929613e-02   2.51188643e-02   3.01995172e-02\n",
      "   3.63078055e-02   4.36515832e-02   5.24807460e-02   6.30957344e-02\n",
      "   7.58577575e-02   9.12010839e-02   1.09647820e-01   1.31825674e-01\n",
      "   1.58489319e-01   1.90546072e-01   2.29086765e-01   2.75422870e-01\n",
      "   3.31131121e-01   3.98107171e-01   4.78630092e-01   5.75439937e-01\n",
      "   6.91830971e-01   8.31763771e-01   1.00000000e+00   1.20226443e+00\n",
      "   1.44543977e+00   1.73780083e+00   2.08929613e+00   2.51188643e+00\n",
      "   3.01995172e+00   3.63078055e+00   4.36515832e+00   5.24807460e+00\n",
      "   6.30957344e+00   7.58577575e+00   9.12010839e+00   1.09647820e+01\n",
      "   1.31825674e+01   1.58489319e+01   1.90546072e+01   2.29086765e+01\n",
      "   2.75422870e+01   3.31131121e+01   3.98107171e+01   4.78630092e+01\n",
      "   5.75439937e+01   6.91830971e+01   8.31763771e+01   1.00000000e+02\n",
      "   1.20226443e+02   1.44543977e+02   1.73780083e+02   2.08929613e+02]\n"
     ]
    }
   ],
   "source": [
    "# set up coarse pressure grid and fine pressure grid\n",
    "logcoarsePress = np.arange(-4.0, 3.0, 0.5)\n",
    "coarsePress = pow(10,logcoarsePress)\n",
    "logfinePress = np.arange(-4.0, 2.4, 0.08)\n",
    "finePress = pow(10,logfinePress)\n",
    "print finePress.size\n",
    "print coarsePress.size\n",
    "print coarsePress\n",
    "print finePress"
   ]
  },
  {
   "cell_type": "code",
   "execution_count": 29,
   "metadata": {
    "collapsed": false
   },
   "outputs": [
    {
     "data": {
      "text/plain": [
       "<matplotlib.text.Text at 0x10cf15610>"
      ]
     },
     "execution_count": 29,
     "metadata": {},
     "output_type": "execute_result"
    },
    {
     "data": {
      "image/png": "[encoded data removed]",
      "text/plain": [
       "<matplotlib.figure.Figure at 0x11bf19350>"
      ]
     },
     "metadata": {},
     "output_type": "display_data"
    }
   ],
   "source": [
    "mikepress = np.empty(levelpress.size - 1,dtype='float64')\n",
    "miketemp = np.empty(leveltemp.size -1, dtype='float64')\n",
    "for i in range(0,mikepress.size):\n",
    "    mikepress[i] = np.sqrt(levelpress[i] * levelpress[i+1])\n",
    "mtfit = sp.interpolate.splrep(np.log10(levelpress),np.log10(leveltemp),s=10)\n",
    "miketemp = 10.**sp.interpolate.splev(np.log10(mikepress),mtfit,der=0)\n",
    "tfit = sp.interpolate.splrep(np.log10(mikepress),np.log10(miketemp),s=10)\n",
    "temp =  10.**(np.asfortranarray(sp.interpolate.splev(np.log10(finePress),tfit,der=0),dtype='d'))\n",
    "\n",
    "plt.rc('font',family='Times New Roman')\n",
    "fig=plt.figure(dpi=320)\n",
    "plt.axis([0.,3000.,3.0,-4.0])\n",
    "plt.plot(miketemp,np.log10(mikepress),'r-')\n",
    "plt.plot(temp,np.log10(finePress),'b--')\n",
    "plt.ylabel(r'logP')\n",
    "plt.xlabel('T / K')\n",
    "\n",
    "#"
   ]
  },
  {
   "cell_type": "code",
   "execution_count": 30,
   "metadata": {
    "collapsed": true
   },
   "outputs": [],
   "source": [
    "# Get the linelists\n",
    "ngas = 5\n",
    "gasnum = np.asfortranarray(np.array([1,2,20,4,5],dtype='i'))\n",
    "lists = [\"../Linelists/xsecarrH2O_1wno_500_10000.save\",\"../Linelists/xsecarrCH4_1wno_500_10000.save\",\"../Linelists/xsecarrK_new_1wno_500_10000_02.save\",\"../Linelists/xsecarrCO_1wno_500_10000_02.save\",\"../Linelists/xsecarrCO2_1wno_500_10000_02.save\" ]"
   ]
  },
  {
   "cell_type": "code",
   "execution_count": 8,
   "metadata": {
    "collapsed": false
   },
   "outputs": [
    {
     "name": "stdout",
     "output_type": "stream",
     "text": [
      "300.0\n"
     ]
    }
   ],
   "source": [
    "x=readsav('../Linelists/xsecarrH2O_1wno_500_10000.save')\n",
    "inlinelist=x.xsecarr  #3D array with Nwavenubmers x Ntemps x Npressure\n",
    "inlinetemps=np.asfortranarray(x.t,dtype='float64')\n",
    "inpress=x.p\n",
    "inwavenum=x.wno\n",
    "ntemps = inlinetemps.size\n",
    "npress= finePress.size\n",
    "nwave = inwavenum.size\n",
    "#logpress = np.arange(-5.,2.5,0.125)\n",
    "#press = 10.**logpress\n",
    "#print press\n",
    "print inpress[inpress.size-1]\n",
    "# Here we are interpolating the linelist onto our fine pressure scale. \n",
    "linelist = (np.ones([ngas,npress,ntemps,nwave],order='F')).astype('float64', order='F')\n",
    "for gas in range (0,ngas):\n",
    "    inlinelist=readsav(lists[gas]).xsecarr\n",
    "    for i in range (0,ntemps):\n",
    "        for j in range (0,nwave):\n",
    "            pfit = interp1d(np.log10(inpress),np.log10(inlinelist[:,i,j]))\n",
    "            linelist[gas,:,i,j] = np.asfortranarray(pfit(np.log10(finePress)))\n",
    "#print linelist.shape\n",
    "#print np.result_type(linelist)\n",
    "press = finePress*1000."
   ]
  },
  {
   "cell_type": "code",
   "execution_count": 9,
   "metadata": {
    "collapsed": false
   },
   "outputs": [],
   "source": [
    "#intemp = np.loadtxt(\"16temps.dat\",dtype='float32')\n",
    "#intemp = np.full(16,1000.,dtype='f')\n",
    "#inlayer = np.arange(0,15.25,1)  \n",
    "#layer = np.arange(0,15.00,0.25)\n",
    "#print layer.size\n",
    "#tfit = interpolate.splrep(inlayer,intemp,s=0)\n",
    "#temp = np.asfortranarray(interpolate.splev(layer,tfit, der=0),dtype='float32')\n",
    "w1 = 1.0\n",
    "w2 = 6.0\n",
    "logg = 5.0\n",
    "R2D2 = 1.0\n",
    "#print inpress\n",
    "#print mikepress"
   ]
  },
  {
   "cell_type": "code",
   "execution_count": 10,
   "metadata": {
    "collapsed": false
   },
   "outputs": [
    {
     "name": "stdout",
     "output_type": "stream",
     "text": [
      "(5, 80)\n"
     ]
    }
   ],
   "source": [
    "VMR1 = np.full((npress,),(-3.5)) # water\n",
    "vmr2 = np.full((npress,),(-3.4)) # ch4\n",
    "vmr3 = np.full((npress,),(-8.0))  # K\n",
    "vmr4 = np.full((npress,),(-7.5)) # CO\n",
    "vmr5 = np.full((npress,),(-8.2)) # CO2\n",
    "#print VMR1.shape\n",
    "logVMR = np.asfortranarray(np.reshape((VMR1,vmr2,vmr3,vmr4,vmr5),(ngas,npress)),dtype='float64')\n",
    "print logVMR.shape"
   ]
  },
  {
   "cell_type": "code",
   "execution_count": 11,
   "metadata": {
    "collapsed": false
   },
   "outputs": [],
   "source": [
    "pcover = 1.0\n",
    "do_clouds = 0\n",
    "use_disort = 0\n",
    "cloudnum = np.array([1],dtype='i')\n",
    "#cloudname = np.reshape((cname),(1,1))\n",
    "cloudrad = np.full((1,npress,1),1e-4)\n",
    "cloudsig = np.full((1,npress,1),1e-5)\n",
    "cloudprof = np.full((1,npress,1),0.0)"
   ]
  },
  {
   "cell_type": "code",
   "execution_count": 12,
   "metadata": {
    "collapsed": false
   },
   "outputs": [
    {
     "name": "stdout",
     "output_type": "stream",
     "text": [
      "(4, 198, 9501)\n",
      "(198,)\n",
      "float32\n"
     ]
    }
   ],
   "source": [
    "cia, ciatemps = ciamod.read_cia(\"CIA_DS_aug_2015.dat\",inwavenum)\n",
    "cia = np.asfortranarray(cia, dtype='float32')\n",
    "ciatemps = np.asfortranarray(ciatemps, dtype='float32')\n",
    "print cia.shape\n",
    "print ciatemps.shape\n",
    "print cia.dtype"
   ]
  },
  {
   "cell_type": "code",
   "execution_count": 13,
   "metadata": {
    "collapsed": false
   },
   "outputs": [],
   "source": [
    "outspec = forwardmodel.marv(w1,w2,temp,logg,R2D2,gasnum,logVMR,pcover,do_clouds,cloudnum,cloudrad,cloudsig,cloudprof,inlinetemps,press,inwavenum,linelist,cia,ciatemps,use_disort)"
   ]
  },
  {
   "cell_type": "code",
   "execution_count": null,
   "metadata": {
    "collapsed": true
   },
   "outputs": [],
   "source": [
    "#np.savetxt(\"disort16stream_test.dat\",np.c_[outspec[0,:],outspec[1,:]])"
   ]
  },
  {
   "cell_type": "code",
   "execution_count": 14,
   "metadata": {
    "collapsed": false
   },
   "outputs": [
    {
     "data": {
      "image/png": "[encoded data removed]",
      "text/plain": [
       "<matplotlib.figure.Figure at 0x104447c50>"
      ]
     },
     "metadata": {},
     "output_type": "display_data"
    }
   ],
   "source": [
    "B = np.empty(nwave,dtype='d') \n",
    "B = 3.14159274*((2.*6.62606957e-34*(2.99792458e8**2.)) / ((outspec[0,:]*1.e-6)**5.)) / ((np.exp((6.62606957e-34*2.99792458e8)/(outspec[0,:]*1e-6*1.3806488e-23*1000.)))-1.) * 1.e-6\n",
    "plt.rc('font',family='Times New Roman')\n",
    "fig=plt.figure(dpi=320)\n",
    "plt.axis([0.8, 7.0,0.0,5e4])\n",
    "#plt.plot(outspec[0,:],(outspec[1,:] / B),'r-')\n",
    "#plt.plot(outspec[0,:],B,'b-')\n",
    "plt.plot(outspec[0,:],outspec[1,:],'g-')\n",
    "#plt.plot(mikespec[0,:],outspec[1,:] / (mikespec[1,:]/1e6),'r-')\n",
    "#plt.plot(mikespec[0,:],((mikespec[1,:] / 1e6) / outspec[1,:]), 'r-')\n",
    "#plt.plot(outspec[0,:],np.full(nwave,1.0),'b--')\n",
    "\n",
    "#plt.plot(outspec[0,:],6.666*outspec[1,:],'b-')\n",
    "plt.ylabel(r'Flux')\n",
    "plt.xlabel('Wavelength / Microns')\n",
    "\n",
    "#asp = 10 / 3.5\n",
    "\n",
    "#plt.axes().set_aspect(asp)\n",
    "plt.savefig('testspec.pdf',format='pdf', dpi=720)"
   ]
  },
  {
   "cell_type": "code",
   "execution_count": 15,
   "metadata": {
    "collapsed": false
   },
   "outputs": [],
   "source": [
    "outspec =  outspec[:,np.logical_not(np.logical_or(outspec[0,:] > w2, outspec[0,:] < w1))]\n",
    "wlen = outspec.shape[1]\n",
    "wint = outspec[0,0] - outspec[0,wlen-1]\n",
    "disp = wint / wlen\n",
    "fwhm = 0.005\n",
    "gwidth = int(round(fwhm / disp))"
   ]
  },
  {
   "cell_type": "code",
   "execution_count": 16,
   "metadata": {
    "collapsed": true
   },
   "outputs": [],
   "source": [
    "mikespec[1,:] = mikespec[1,:] / 1e6\n",
    "mikespec =  mikespec[:,np.logical_not(np.logical_or(mikespec[0,:] > w2, mikespec[0,:] < w1))]\n",
    "wlen = mikespec.shape[1]\n",
    "wint = mikespec[0,0] - mikespec[0,wlen-1]\n",
    "disp = wint / wlen\n",
    "fwhm = 0.005\n",
    "gwidth = int(round(fwhm / disp))"
   ]
  },
  {
   "cell_type": "code",
   "execution_count": 17,
   "metadata": {
    "collapsed": false
   },
   "outputs": [],
   "source": [
    "from astropy.convolution import convolve, convolve_fft\n",
    "from astropy.convolution import Gaussian1DKernel\n"
   ]
  },
  {
   "cell_type": "code",
   "execution_count": 18,
   "metadata": {
    "collapsed": false
   },
   "outputs": [],
   "source": [
    "gauss = Gaussian1DKernel(gwidth)\n",
    "cspec = convolve(outspec[1,:],gauss,boundary='extend')\n",
    "spec = np.array([outspec[0,::-1],cspec[::-1]])"
   ]
  },
  {
   "cell_type": "code",
   "execution_count": 19,
   "metadata": {
    "collapsed": false
   },
   "outputs": [],
   "source": [
    "mgauss = Gaussian1DKernel(gwidth)\n",
    "mcspec = convolve(mikespec[1,:],mgauss,boundary='extend')\n",
    "mspec = np.array([mikespec[0,:],mcspec])"
   ]
  },
  {
   "cell_type": "code",
   "execution_count": 20,
   "metadata": {
    "collapsed": false
   },
   "outputs": [
    {
     "name": "stdout",
     "output_type": "stream",
     "text": [
      "[   2475.40307617    2399.2265625     2321.91967773 ...,  185716.546875\n",
      "  185431.1875      185122.609375  ]\n",
      "[ 55550.4323092   55795.28102287  56028.77812027 ...,   1276.12914883\n",
      "   1308.34736383   1339.84554056]\n"
     ]
    }
   ],
   "source": [
    "print mspec[1]\n",
    "print spec[1]"
   ]
  },
  {
   "cell_type": "code",
   "execution_count": 21,
   "metadata": {
    "collapsed": false
   },
   "outputs": [
    {
     "data": {
      "text/plain": [
       "<matplotlib.text.Text at 0x10cefb390>"
      ]
     },
     "execution_count": 21,
     "metadata": {},
     "output_type": "execute_result"
    },
    {
     "data": {
      "image/png": "[encoded data removed]",
      "text/plain": [
       "<matplotlib.figure.Figure at 0x107fb17d0>"
      ]
     },
     "metadata": {},
     "output_type": "display_data"
    }
   ],
   "source": [
    "plt.rc('font',family='Times New Roman')\n",
    "fig=plt.figure(dpi=320)\n",
    "plt.axis([1.0, 5.0, 0.,1.5e5])\n",
    "plt.plot(mspec[0,:],mspec[1,:],'r-')\n",
    "plt.plot(spec[0,:],spec[1,:],'b-')\n",
    "#plt.plot(spec[0,:],mspec[1,:] / spec[1,:],'g-')\n",
    "plt.ylabel(r'F_mike / F_ben')\n",
    "plt.xlabel('Wavelength / Microns')\n"
   ]
  },
  {
   "cell_type": "code",
   "execution_count": 22,
   "metadata": {
    "collapsed": false
   },
   "outputs": [
    {
     "name": "stdout",
     "output_type": "stream",
     "text": [
      "3334\n",
      "[ 55550.4323092   56748.41747527  55828.7885551  ...,   1320.11095358\n",
      "   1333.22342763   1346.15751705]\n"
     ]
    }
   ],
   "source": [
    "# now resample\n",
    "wavenew = np.arange(w1,w2,0.0015,dtype='f')\n",
    "wfit = sp.interpolate.splrep(spec[0,:],spec[1,:],s=0)\n",
    "binflux = sp.interpolate.splev(wavenew,wfit,der=0)\n",
    "print binflux.size\n",
    "print binflux"
   ]
  },
  {
   "cell_type": "code",
   "execution_count": 25,
   "metadata": {
    "collapsed": false
   },
   "outputs": [
    {
     "name": "stdout",
     "output_type": "stream",
     "text": [
      "945.498347701\n"
     ]
    }
   ],
   "source": [
    "speclen = binflux.size\n",
    "unc = np.max(binflux[10::])\n",
    "print unc /100\n",
    "error = np.full(speclen,unc/100)\n",
    "outflux = np.ones(speclen)\n",
    "outflux = binflux + error*np.random.randn(speclen)\n",
    "    "
   ]
  },
  {
   "cell_type": "code",
   "execution_count": 26,
   "metadata": {
    "collapsed": false
   },
   "outputs": [
    {
     "data": {
      "text/plain": [
       "<matplotlib.text.Text at 0x11b1e3410>"
      ]
     },
     "execution_count": 26,
     "metadata": {},
     "output_type": "execute_result"
    },
    {
     "data": {
      "image/png": "[encoded data removed]",
      "text/plain": [
       "<matplotlib.figure.Figure at 0x10cf15110>"
      ]
     },
     "metadata": {},
     "output_type": "display_data"
    }
   ],
   "source": [
    "plt.rc('font',family='Times New Roman')\n",
    "fig=plt.figure(dpi=320)\n",
    "plt.axis([0.8, 6.5, 0.,10e4])\n",
    "plt.plot(outspec[0,:],outspec[1,:],'r-')\n",
    "#plt.plot(spec[0,:],spec[1,:],'b-')\n",
    "plt.plot(wavenew,outflux,'b-')\n",
    "plt.ylabel(r'$Flux$')\n",
    "plt.xlabel('Wavelength / Microns')\n"
   ]
  },
  {
   "cell_type": "code",
   "execution_count": 27,
   "metadata": {
    "collapsed": false
   },
   "outputs": [],
   "source": [
    "np.savetxt('5gas_spectrum.dat', np.c_[wavenew,outflux,error])"
   ]
  },
  {
   "cell_type": "code",
   "execution_count": null,
   "metadata": {
    "collapsed": false
   },
   "outputs": [],
   "source": [
    "gwidth = 4\n",
    "if (gwidth % 2 == 0):\n",
    "    gwidth = gwidth + 1"
   ]
  },
  {
   "cell_type": "code",
   "execution_count": null,
   "metadata": {
    "collapsed": false
   },
   "outputs": [],
   "source": [
    "print gwidth"
   ]
  },
  {
   "cell_type": "code",
   "execution_count": null,
   "metadata": {
    "collapsed": false
   },
   "outputs": [],
   "source": [
    "theta = [-3.45, -3.40]\n",
    "fixvmr = -8."
   ]
  },
  {
   "cell_type": "code",
   "execution_count": null,
   "metadata": {
    "collapsed": false
   },
   "outputs": [],
   "source": [
    "test = np.array([theta[0],theta[1], fixvmr]).reshape(3,)\n",
    "print test"
   ]
  },
  {
   "cell_type": "code",
   "execution_count": null,
   "metadata": {
    "collapsed": false
   },
   "outputs": [],
   "source": [
    "ndim, nwalkers = 2, 4\n",
    "p0 = -1.* np.random.rand(ndim * nwalkers).reshape((nwalkers, ndim)) - 3.0\n",
    "print p0.shape"
   ]
  },
  {
   "cell_type": "code",
   "execution_count": null,
   "metadata": {
    "collapsed": false
   },
   "outputs": [],
   "source": [
    "plt.rc('font',family='Times New Roman')\n",
    "fig=plt.figure(dpi=320)\n",
    "plt.axis([0.7, 3.5, 0.,25000])\n",
    "bspec = np.loadtxt(\"sim_spectrum.dat\", unpack=\"true\")\n",
    "plt.plot(bspec[0,:],bspec[1,:],'r-')\n",
    "plt.plot(outspec[0,:],outspec[1,:],'b-')\n",
    "#plt.plot(spec[0,:],mspec[1,:] / spec[1,:],'g-')\n",
    "plt.ylabel(r'F_mike / F_ben')\n",
    "plt.xlabel('Wavelength / Microns')\n"
   ]
  },
  {
   "cell_type": "code",
   "execution_count": null,
   "metadata": {
    "collapsed": true
   },
   "outputs": [],
   "source": [
    "# rebinning with the fancy method\n",
    "# now rebin\n",
    "wavenew = np.arange(w1,w2,0.0015,dtype='f')\n",
    "ispec = spectrum.ArraySourceSpectrum(wave=spec[0,:], flux=spec[1,:])\n",
    "f = np.ones(len(spec[0,:]))\n",
    "filt = spectrum.ArraySpectralElement(spec[0,:], f, waveunits='microns')\n",
    "obs = observation.Observation(ispec, filt, binset=wavenew, force='taper')\n",
    "print obs.binflux.shape"
   ]
  },
  {
   "cell_type": "code",
   "execution_count": null,
   "metadata": {
    "collapsed": true
   },
   "outputs": [],
   "source": [
    "speclen = obs.binflux.size\n",
    "unc = np.max(obs.binflux)\n",
    "error = np.full(speclen,unc/50)\n",
    "outflux = np.ones(speclen)\n",
    "outflux = obs.binflux + error*np.random.randn(speclen)\n",
    "    "
   ]
  }
 ],
 "metadata": {
  "kernelspec": {
   "display_name": "Python 2",
   "language": "python",
   "name": "python2"
  },
  "language_info": {
   "codemirror_mode": {
    "name": "ipython",
    "version": 2
   },
   "file_extension": ".py",
   "mimetype": "text/x-python",
   "name": "python",
   "nbconvert_exporter": "python",
   "pygments_lexer": "ipython2",
   "version": "2.7.10"
  }
 },
 "nbformat": 4,
 "nbformat_minor": 0
}
