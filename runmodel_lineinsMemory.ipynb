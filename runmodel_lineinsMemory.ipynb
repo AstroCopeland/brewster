{
 "cells": [
  {
   "cell_type": "code",
   "execution_count": 1,
   "metadata": {
    "collapsed": false
   },
   "outputs": [
    {
     "name": "stderr",
     "output_type": "stream",
     "text": [
      "/opt/local/Library/Frameworks/Python.framework/Versions/2.7/lib/python2.7/site-packages/IPython/kernel/__init__.py:13: ShimWarning: The `IPython.kernel` package has been deprecated. You should import from ipykernel or jupyter_client instead.\n",
      "  \"You should import from ipykernel or jupyter_client instead.\", ShimWarning)\n"
     ]
    }
   ],
   "source": [
    "import matplotlib\n",
    "import matplotlib.pyplot as plt\n",
    "import matplotlib.image as mgimg\n",
    "import scipy as sp\n",
    "import numpy as np\n",
    "import pickle as pickle\n",
    "from scipy import interpolate\n",
    "from scipy.interpolate import interp1d\n",
    "from IPython.display import display\n",
    "%matplotlib inline\n",
    "#%config InlineBackend.close_figures = False\n",
    "from scipy.io.idl import readsav\n",
    "from astropy.convolution import convolve, convolve_fft\n",
    "from astropy.convolution import Gaussian1DKernel\n",
    "#from pysynphot import observation\n",
    "#from pysynphot import spectrum\n",
    "import forwardmodel\n",
    "import ciamod"
   ]
  },
  {
   "cell_type": "code",
   "execution_count": 2,
   "metadata": {
    "collapsed": false
   },
   "outputs": [
    {
     "name": "stdout",
     "output_type": "stream",
     "text": [
      "80\n",
      "[  9.99999975e-05   1.20226425e-04   1.44543999e-04   1.73780092e-04\n",
      "   2.08929574e-04   2.51188700e-04   3.01995198e-04   3.63077997e-04\n",
      "   4.36515693e-04   5.24807489e-04   6.30957249e-04   7.58577778e-04\n",
      "   9.12010903e-04   1.09647808e-03   1.31825637e-03   1.58489251e-03\n",
      "   1.90546061e-03   2.29086843e-03   2.75422912e-03   3.31131113e-03\n",
      "   3.98107106e-03   4.78629908e-03   5.75439911e-03   6.91830833e-03\n",
      "   8.31763912e-03   9.99999978e-03   1.20226424e-02   1.44543927e-02\n",
      "   1.73780080e-02   2.08929572e-02   2.51188558e-02   3.01995184e-02\n",
      "   3.63078006e-02   4.36515696e-02   5.24807498e-02   6.30957261e-02\n",
      "   7.58577362e-02   9.12010893e-02   1.09647810e-01   1.31825641e-01\n",
      "   1.58489242e-01   1.90546066e-01   2.29086712e-01   2.75422752e-01\n",
      "   3.31131101e-01   3.98107082e-01   4.78629917e-01   5.75439930e-01\n",
      "   6.91830814e-01   8.31763446e-01   1.00000000e+00   1.20226419e+00\n",
      "   1.44543922e+00   1.73779988e+00   2.08929467e+00   2.51188707e+00\n",
      "   3.01995182e+00   3.63077998e+00   4.36515713e+00   5.24807215e+00\n",
      "   6.30956936e+00   7.58577776e+00   9.12010956e+00   1.09647808e+01\n",
      "   1.31825638e+01   1.58489246e+01   1.90545959e+01   2.29086590e+01\n",
      "   2.75422897e+01   3.31131096e+01   3.98107071e+01   4.78629913e+01\n",
      "   5.75439606e+01   6.91830444e+01   8.31763916e+01   1.00000000e+02\n",
      "   1.20226425e+02   1.44543930e+02   1.73779999e+02   2.08929474e+02]\n"
     ]
    }
   ],
   "source": [
    "array = pickle.load(open(\"test_H2H2_H2He_CIA_H2O.pic\", \"rb\")) \n",
    "leveltemp = array[0]\n",
    "levelpress = array[1]\n",
    "mikespec = np.array([array[2],array[3]],dtype='f')\n",
    "mikespec[0] = 10000.0 / mikespec[0]\n",
    "print levelpress.size\n",
    "print levelpress"
   ]
  },
  {
   "cell_type": "code",
   "execution_count": 3,
   "metadata": {
    "collapsed": false
   },
   "outputs": [
    {
     "name": "stdout",
     "output_type": "stream",
     "text": [
      "64\n",
      "13\n",
      "[  1.00000000e-01   3.38844156e-01   1.14815362e+00   3.89045145e+00\n",
      "   1.31825674e+01   4.46683592e+01   1.51356125e+02   5.12861384e+02\n",
      "   1.73780083e+03   5.88843655e+03   1.99526231e+04   6.76082975e+04\n",
      "   2.29086765e+05]\n",
      "[  1.00000000e-04   1.25892541e-04   1.58489319e-04   1.99526231e-04\n",
      "   2.51188643e-04   3.16227766e-04   3.98107171e-04   5.01187234e-04\n",
      "   6.30957344e-04   7.94328235e-04   1.00000000e-03   1.25892541e-03\n",
      "   1.58489319e-03   1.99526231e-03   2.51188643e-03   3.16227766e-03\n",
      "   3.98107171e-03   5.01187234e-03   6.30957344e-03   7.94328235e-03\n",
      "   1.00000000e-02   1.25892541e-02   1.58489319e-02   1.99526231e-02\n",
      "   2.51188643e-02   3.16227766e-02   3.98107171e-02   5.01187234e-02\n",
      "   6.30957344e-02   7.94328235e-02   1.00000000e-01   1.25892541e-01\n",
      "   1.58489319e-01   1.99526231e-01   2.51188643e-01   3.16227766e-01\n",
      "   3.98107171e-01   5.01187234e-01   6.30957344e-01   7.94328235e-01\n",
      "   1.00000000e+00   1.25892541e+00   1.58489319e+00   1.99526231e+00\n",
      "   2.51188643e+00   3.16227766e+00   3.98107171e+00   5.01187234e+00\n",
      "   6.30957344e+00   7.94328235e+00   1.00000000e+01   1.25892541e+01\n",
      "   1.58489319e+01   1.99526231e+01   2.51188643e+01   3.16227766e+01\n",
      "   3.98107171e+01   5.01187234e+01   6.30957344e+01   7.94328235e+01\n",
      "   1.00000000e+02   1.25892541e+02   1.58489319e+02   1.99526231e+02]\n"
     ]
    }
   ],
   "source": [
    "# set up coarse pressure grid and fine pressure grid\n",
    "logcoarsePress = np.arange(-4.0, 2.5, 0.53)\n",
    "coarsePress = pow(10,logcoarsePress)\n",
    "logfinePress = np.arange(-4.0, 2.4, 0.1)\n",
    "finePress = pow(10,logfinePress)\n",
    "print finePress.size\n",
    "print coarsePress.size\n",
    "print coarsePress *1000.\n",
    "print finePress"
   ]
  },
  {
   "cell_type": "code",
   "execution_count": 4,
   "metadata": {
    "collapsed": false
   },
   "outputs": [
    {
     "data": {
      "text/plain": [
       "<matplotlib.text.Text at 0x10a9c0350>"
      ]
     },
     "execution_count": 4,
     "metadata": {},
     "output_type": "execute_result"
    },
    {
     "data": {
      "image/png": "[encoded data removed]",
      "text/plain": [
       "<matplotlib.figure.Figure at 0x10f8f8cd0>"
      ]
     },
     "metadata": {},
     "output_type": "display_data"
    }
   ],
   "source": [
    "mikepress = np.empty(levelpress.size - 1,dtype='float64')\n",
    "miketemp = np.empty(leveltemp.size -1, dtype='float64')\n",
    "for i in range(0,mikepress.size):\n",
    "    mikepress[i] = np.sqrt(levelpress[i] * levelpress[i+1])\n",
    "mtfit = sp.interpolate.splrep(np.log10(levelpress),(leveltemp),s=10)\n",
    "miketemp = sp.interpolate.splev(np.log10(mikepress),mtfit,der=0)\n",
    "tfit = sp.interpolate.splrep(np.log10(mikepress),(miketemp),s=10)\n",
    "temp = (np.asfortranarray(sp.interpolate.splev(np.log10(finePress),tfit,der=0),dtype='d'))\n",
    "\n",
    "plt.rc('font',family='Times New Roman')\n",
    "fig=plt.figure(dpi=320)\n",
    "plt.axis([0.,3000.,3.0,-7.0])\n",
    "plt.plot(miketemp,np.log10(mikepress),'r-')\n",
    "plt.plot(temp,np.log10(finePress),'b--')\n",
    "plt.ylabel(r'logP')\n",
    "plt.xlabel('T / K')\n",
    "\n",
    "#"
   ]
  },
  {
   "cell_type": "code",
   "execution_count": 5,
   "metadata": {
    "collapsed": false
   },
   "outputs": [],
   "source": [
    "#intemp = np.loadtxt(\"16temps.dat\",dtype='float32')\n",
    "#intemp = np.full(16,1000.,dtype='f')\n",
    "#inlayer = np.arange(0,15.25,1)  \n",
    "#layer = np.arange(0,15.00,0.25)\n",
    "#print layer.size\n",
    "#tfit = interpolate.splrep(inlayer,intemp,s=0)\n",
    "#temp = np.asfortranarray(interpolate.splev(layer,tfit, der=0),dtype='float32')\n",
    "w1 = 1.0\n",
    "w2 = 2.5\n",
    "logg = 5.0\n",
    "R2D2 = 1.0\n",
    "#print inpress\n",
    "#print mikepress"
   ]
  },
  {
   "cell_type": "code",
   "execution_count": 6,
   "metadata": {
    "collapsed": false
   },
   "outputs": [],
   "source": [
    "# Get the linelists\n",
    "ngas = 8\n",
    "gasnum = np.asfortranarray(np.array([1,2,4,5,6,3,20,21],dtype='i'))\n",
    "lists = [\"../Linelists/H2O_xsecs.pic\",\"../Linelists/ch4_xsecs.pic\",\"../Linelists/co_xsecs.pic\",\"../Linelists/co2_xsecs.pic\" ,\"../Linelists/nh3_xsecs.pic\",\"../Linelists/h2s_xsecs.pic\",\"../Linelists/K_xsecs.pic\",\"../Linelists/Na_xsecs.pic\"]"
   ]
  },
  {
   "cell_type": "code",
   "execution_count": 7,
   "metadata": {
    "collapsed": false
   },
   "outputs": [
    {
     "name": "stdout",
     "output_type": "stream",
     "text": [
      "16\n",
      "(16, 27, 9501)\n",
      "6001\n",
      "3500 9500\n",
      "[  4000.   4001.   4002. ...,   9998.   9999.  10000.]\n",
      "[   500.    501.    502. ...,   9998.   9999.  10000.]\n",
      "[   75.    85.   100.   120.   140.   160.   180.   200.   230.   260.\n",
      "   300.   350.   400.   500.   650.   800.  1000.  1200.  1400.  1600.\n",
      "  1800.  2000.  2300.  2600.  3000.  3500.  4000.]\n",
      "[  9.99999975e-06   2.99999992e-05   9.99999975e-05   3.00000014e-04\n",
      "   1.00000005e-03   3.00000003e-03   9.99999978e-03   2.99999993e-02\n",
      "   1.00000001e-01   3.00000012e-01   1.00000000e+00   3.00000000e+00\n",
      "   1.00000000e+01   3.00000000e+01   1.00000000e+02   3.00000000e+02]\n"
     ]
    }
   ],
   "source": [
    "rawwavenum, inpress, inlinetemps, inlinelist = pickle.load( open('../Linelists/H2O_xsecs.pic', \"rb\" ) )\n",
    "wn1 = 10000./w2\n",
    "wn2 = 10000. / w1\n",
    "inwavenum = np.asfortranarray(rawwavenum[np.where(np.logical_not(np.logical_or(rawwavenum[:] > wn2, rawwavenum[:] < wn1)))],dtype='float64')\n",
    "ntemps = inlinetemps.size\n",
    "npress= finePress.size\n",
    "nwave = inwavenum.size\n",
    "# Here we are interpolating the linelist onto our fine pressure scale. \n",
    "# let's only bother with the wavelength range of interest\n",
    "linelist = (np.ones([ngas,npress,ntemps,nwave],order='F')).astype('float64', order='F')\n",
    "print inpress.size\n",
    "print inlinelist.shape\n",
    "print nwave\n",
    "r1 = np.amin(np.where(np.logical_not(np.logical_or(rawwavenum[:] > wn2, rawwavenum[:] < wn1))))\n",
    "r2 = np.amax(np.where(np.logical_not(np.logical_or(rawwavenum[:] > wn2, rawwavenum[:] < wn1))))\n",
    "print r1, r2\n",
    "print inwavenum\n",
    "print rawwavenum\n",
    "print inlinetemps\n",
    "print inpress"
   ]
  },
  {
   "cell_type": "code",
   "execution_count": 59,
   "metadata": {
    "collapsed": false
   },
   "outputs": [
    {
     "name": "stdout",
     "output_type": "stream",
     "text": [
      "(16, 27, 9501)\n",
      "(8, 64, 27, 6001)\n",
      "0.01\n",
      "0.01\n",
      "3000.0\n",
      "10000.0\n",
      "10000.0\n",
      "-22.672906833\n",
      "-22.672906833\n",
      "-22.672906833\n"
     ]
    }
   ],
   "source": [
    "inklist = pickle.load( open(\"../Linelists/K_xsecs.pic\", \"rb\" ) )[3]\n",
    "print inklist.shape\n",
    "print linelist.shape\n",
    "print finePress[20]\n",
    "print inpress [6]\n",
    "print inlinetemps[24]\n",
    "print rawwavenum[9500]\n",
    "print inwavenum[6000]\n",
    "print np.log10(2.12370E-23)\n",
    "print np.log10(inklist[6,24,9500])\n",
    "print linelist[6,20,24,6000]"
   ]
  },
  {
   "cell_type": "code",
   "execution_count": 61,
   "metadata": {
    "collapsed": false
   },
   "outputs": [
    {
     "name": "stdout",
     "output_type": "stream",
     "text": [
      "(8, 64, 27, 6001)\n",
      "[-24.41049497 -24.31047594 -24.21045691 -24.11043788 -24.01041885\n",
      " -23.91038997 -23.81032786 -23.71026575 -23.61020364 -23.51014154\n",
      " -23.41007943 -23.30989414 -23.20970886 -23.10952358 -23.0093383\n",
      " -22.90904867 -22.80840729 -22.70776591 -22.60712454 -22.50648316\n",
      " -22.40584179 -22.30401438 -22.20218697 -22.10035956 -21.99853216\n",
      " -21.89600258 -21.79110609 -21.6862096  -21.58131311 -21.47641662\n",
      " -21.37152013 -21.26071063 -21.14990112 -21.03909162 -20.92828211\n",
      " -20.8175157  -20.70689454 -20.59627337 -20.48565221 -20.37503105\n",
      " -20.26440988 -20.23089689 -20.19738389 -20.1638709  -20.1303579\n",
      " -20.10451226 -20.10451226 -20.10451226 -20.10451226 -20.10451226 -50.         -50.\n",
      " -50.         -50.         -50.         -50.         -50.         -50.         -50.\n",
      " -50.         -50.         -50.         -50.         -50.        ]\n"
     ]
    },
    {
     "name": "stderr",
     "output_type": "stream",
     "text": [
      "/opt/local/Library/Frameworks/Python.framework/Versions/2.7/lib/python2.7/site-packages/ipykernel/__main__.py:5: RuntimeWarning: divide by zero encountered in log10\n"
     ]
    }
   ],
   "source": [
    "for gas in range (0,ngas):\n",
    "    inlinelist= pickle.load( open(lists[gas], \"rb\" ) )[3]\n",
    "    for i in range (0,ntemps):\n",
    "        for j in range (r1,r2+1):\n",
    "            pfit = interp1d(np.log10(inpress),np.log10(inlinelist[:,i,j]))\n",
    "            linelist[gas,:,i,(j-r1)] = np.asfortranarray(pfit(np.log10(finePress)))\n",
    "linelist[np.isnan(linelist)] = -50.0\n",
    "print linelist.shape\n",
    "#print np.result_type(linelist)\n",
    "press = finePress*1000.\n"
   ]
  },
  {
   "cell_type": "code",
   "execution_count": null,
   "metadata": {
    "collapsed": true
   },
   "outputs": [],
   "source": [
    "print linelist[6,:,1,5500]"
   ]
  },
  {
   "cell_type": "code",
   "execution_count": 28,
   "metadata": {
    "collapsed": false
   },
   "outputs": [
    {
     "name": "stdout",
     "output_type": "stream",
     "text": [
      "(8, 64)\n",
      "-19.5308071114\n",
      "31.6227766017\n",
      "1600.0\n",
      "[-22.039871   -22.03983986 -22.03980873 ..., -20.13383967 -20.13354593\n",
      " -20.13325242]\n"
     ]
    }
   ],
   "source": [
    "VMR1 = np.full((npress,),(-3.5)) # water\n",
    "vmr2 = np.full((npress,),(-3.4)) # ch4\n",
    "vmr3 = np.full((npress,),(-7.5))  # CO\n",
    "vmr4 = np.full((npress,),(-8.0)) # CO2\n",
    "vmr5 = np.full((npress,),(-4.6)) # NH3\n",
    "vmr6 = np.full((npress,),(-9.0))  # H2S\n",
    "vmr7 = np.full((npress,),(-6.0)) # K\n",
    "vmr8 = np.full((npress,),(-8.0)) # Na\n",
    "#print VMR1.shape\n",
    "logVMR = np.asfortranarray(np.reshape((VMR1,vmr2,vmr3,vmr4,vmr5,vmr6,vmr7,vmr8),(ngas,npress)),dtype='float64')\n",
    "print logVMR.shape\n"
   ]
  },
  {
   "cell_type": "code",
   "execution_count": 29,
   "metadata": {
    "collapsed": false
   },
   "outputs": [],
   "source": [
    "pcover = 1.0\n",
    "do_clouds = 0\n",
    "use_disort = 0\n",
    "cloudnum = np.array([1],dtype='i')\n",
    "#cloudname = np.reshape((cname),(1,1))\n",
    "cloudrad = np.full((1,npress,1),1e-4)\n",
    "cloudsig = np.full((1,npress,1),1e-5)\n",
    "cloudprof = np.full((1,npress,1),0.0)"
   ]
  },
  {
   "cell_type": "code",
   "execution_count": 11,
   "metadata": {
    "collapsed": false
   },
   "outputs": [
    {
     "name": "stdout",
     "output_type": "stream",
     "text": [
      "(4, 198, 6001)\n",
      "(198,)\n",
      "float32\n"
     ]
    }
   ],
   "source": [
    "tmpcia, ciatemps = ciamod.read_cia(\"CIA_DS_aug_2015.dat\",inwavenum)\n",
    "cia = np.asfortranarray(np.empty((4,ciatemps.size,nwave)),dtype='float32')\n",
    "cia[:,:,:] = tmpcia[:,:,:nwave] \n",
    "ciatemps = np.asfortranarray(ciatemps, dtype='float32')\n",
    "print cia.shape\n",
    "print ciatemps.shape\n",
    "print cia.dtype"
   ]
  },
  {
   "cell_type": "code",
   "execution_count": 12,
   "metadata": {
    "collapsed": false
   },
   "outputs": [],
   "source": [
    "tmpoutspec = forwardmodel.marv(temp,logg,R2D2,gasnum,logVMR,pcover,do_clouds,cloudnum,cloudrad,cloudsig,cloudprof,inlinetemps,press,inwavenum,linelist,cia,ciatemps,use_disort)\n",
    "outspec = np.zeros((2,nwave),dtype='d')\n",
    "outspec[:,:] = tmpoutspec[:,:nwave]"
   ]
  },
  {
   "cell_type": "code",
   "execution_count": null,
   "metadata": {
    "collapsed": false
   },
   "outputs": [],
   "source": [
    "#np.savetxt(\"disort16stream_test.dat\",np.c_[outspec[0,:],outspec[1,:]])\n",
    "#print outspec\n"
   ]
  },
  {
   "cell_type": "code",
   "execution_count": null,
   "metadata": {
    "collapsed": true
   },
   "outputs": [],
   "source": [
    "#np.savetxt('8gas_TESTspectrum.dat', np.c_[outspec[0],outspec[1]])"
   ]
  },
  {
   "cell_type": "code",
   "execution_count": 14,
   "metadata": {
    "collapsed": false
   },
   "outputs": [
    {
     "data": {
      "image/png": "[encoded data removed]",
      "text/plain": [
       "<matplotlib.figure.Figure at 0x10fa6afd0>"
      ]
     },
     "metadata": {},
     "output_type": "display_data"
    }
   ],
   "source": [
    "#B = np.empty(nwave,dtype='d') \n",
    "#B = 3.14159274*((2.*6.62606957e-34*(2.99792458e8**2.)) / ((outspec[0,:]*1.e-6)**5.)) / ((np.exp((6.62606957e-34*2.99792458e8)/(outspec[0,:]*1e-6*1.3806488e-23*1000.)))-1.) * 1.e-6\n",
    "plt.rc('font',family='Times New Roman')\n",
    "fig=plt.figure(dpi=320)\n",
    "plt.axis([0.8, 2.5,0.0,15e4])\n",
    "oldspec = np.loadtxt(\"8gas_TESTspectrum.dat\", unpack=True)\n",
    "#plt.plot(outspec[0,:],(outspec[1,:] / B),'r-')\n",
    "#plt.plot(outspec[0,:],B,'b-')\n",
    "plt.plot(oldspec[0,:],oldspec[1,:],'r-')\n",
    "plt.plot(outspec[0,:],outspec[1,:],'g-')\n",
    "plt.plot(outspec[0,:],(1.+ ((outspec[1,:]- oldspec[1,:])/outspec[1,:]))*1e5,'g-')\n",
    "\n",
    "#plt.plot(mikespec[0,:],outspec[1,:] / (mikespec[1,:]/1e6),'r-')\n",
    "#plt.plot(mikespec[0,:],((mikespec[1,:] / 1e6) / outspec[1,:]), 'r-')\n",
    "#plt.plot(outspec[0,:],np.full(nwave,1.0),'b--')\n",
    "\n",
    "#plt.plot(outspec[0,:],6.666*outspec[1,:],'b-')\n",
    "plt.ylabel(r'Flux')\n",
    "plt.xlabel('Wavelength / Microns')\n",
    "\n",
    "#asp = 10 / 3.5\n",
    "\n",
    "#plt.axes().set_aspect(asp)\n",
    "plt.savefig('testspec.pdf',format='pdf', dpi=720)"
   ]
  },
  {
   "cell_type": "code",
   "execution_count": null,
   "metadata": {
    "collapsed": false
   },
   "outputs": [],
   "source": [
    "outspec =  outspec[:,np.logical_not(np.logical_or(outspec[0,:] > w2, outspec[0,:] < w1))]\n",
    "wlen = outspec.shape[1]\n",
    "wint = outspec[0,0] - outspec[0,wlen-1]\n",
    "disp = wint / wlen\n",
    "fwhm = 0.005\n",
    "gwidth = int(round(fwhm / disp))\n",
    "print outspec.shape"
   ]
  },
  {
   "cell_type": "code",
   "execution_count": null,
   "metadata": {
    "collapsed": true
   },
   "outputs": [],
   "source": [
    "mikespec[1,:] = mikespec[1,:] / 1e6\n",
    "mikespec =  mikespec[:,np.logical_not(np.logical_or(mikespec[0,:] > w2, mikespec[0,:] < w1))]\n",
    "wlen = mikespec.shape[1]\n",
    "wint = mikespec[0,0] - mikespec[0,wlen-1]\n",
    "disp = wint / wlen\n",
    "fwhm = 0.005\n",
    "gwidth = int(round(fwhm / disp))"
   ]
  },
  {
   "cell_type": "code",
   "execution_count": null,
   "metadata": {
    "collapsed": false
   },
   "outputs": [],
   "source": [
    "from astropy.convolution import convolve, convolve_fft\n",
    "from astropy.convolution import Gaussian1DKernel\n"
   ]
  },
  {
   "cell_type": "code",
   "execution_count": null,
   "metadata": {
    "collapsed": false
   },
   "outputs": [],
   "source": [
    "gauss = Gaussian1DKernel(gwidth)\n",
    "cspec = convolve(outspec[1,:],gauss,boundary='extend')\n",
    "spec = np.array([outspec[0,::-1],cspec[::-1]])"
   ]
  },
  {
   "cell_type": "code",
   "execution_count": null,
   "metadata": {
    "collapsed": false
   },
   "outputs": [],
   "source": [
    "mgauss = Gaussian1DKernel(gwidth)\n",
    "mcspec = convolve(mikespec[1,:],mgauss,boundary='extend')\n",
    "mspec = np.array([mikespec[0,:],mcspec])"
   ]
  },
  {
   "cell_type": "code",
   "execution_count": null,
   "metadata": {
    "collapsed": false
   },
   "outputs": [],
   "source": [
    "print mspec[1]\n",
    "print spec[1]"
   ]
  },
  {
   "cell_type": "code",
   "execution_count": null,
   "metadata": {
    "collapsed": false
   },
   "outputs": [],
   "source": [
    "plt.rc('font',family='Times New Roman')\n",
    "fig=plt.figure(dpi=320)\n",
    "plt.axis([1.0, 5.0, 0.,1.5e5])\n",
    "plt.plot(mspec[0,:],mspec[1,:],'r-')\n",
    "plt.plot(spec[0,:],spec[1,:],'b-')\n",
    "#plt.plot(spec[0,:],mspec[1,:] / spec[1,:],'g-')\n",
    "plt.ylabel(r'F_mike / F_ben')\n",
    "plt.xlabel('Wavelength / Microns')\n"
   ]
  },
  {
   "cell_type": "code",
   "execution_count": null,
   "metadata": {
    "collapsed": false
   },
   "outputs": [],
   "source": [
    "# now resample\n",
    "wavenew = np.arange(w1,w2,0.0015,dtype='f')\n",
    "wfit = sp.interpolate.splrep(spec[0,:],spec[1,:],s=0)\n",
    "binflux = sp.interpolate.splev(wavenew,wfit,der=0)\n",
    "print binflux.size\n",
    "print binflux"
   ]
  },
  {
   "cell_type": "code",
   "execution_count": null,
   "metadata": {
    "collapsed": false
   },
   "outputs": [],
   "source": [
    "speclen = binflux.size\n",
    "unc = np.max(binflux[10::])\n",
    "print unc /50\n",
    "error = np.full(speclen,unc/50)\n",
    "outflux = np.ones(speclen)\n",
    "outflux = binflux + error*np.random.randn(speclen)\n",
    "    "
   ]
  },
  {
   "cell_type": "code",
   "execution_count": null,
   "metadata": {
    "collapsed": false
   },
   "outputs": [],
   "source": [
    "plt.rc('font',family='Times New Roman')\n",
    "fig=plt.figure(dpi=320)\n",
    "plt.axis([0.8, 6.5, 0.,10e4])\n",
    "plt.plot(outspec[0,:],outspec[1,:],'r-')\n",
    "#plt.plot(spec[0,:],spec[1,:],'b-')\n",
    "plt.plot(wavenew,outflux,'b-')\n",
    "plt.ylabel(r'$Flux$')\n",
    "plt.xlabel('Wavelength / Microns')\n"
   ]
  },
  {
   "cell_type": "code",
   "execution_count": null,
   "metadata": {
    "collapsed": false
   },
   "outputs": [],
   "source": [
    "np.savetxt('5gas_spectrum.dat', np.c_[wavenew,outflux,error])"
   ]
  },
  {
   "cell_type": "code",
   "execution_count": null,
   "metadata": {
    "collapsed": false
   },
   "outputs": [],
   "source": [
    "gwidth = 4\n",
    "if (gwidth % 2 == 0):\n",
    "    gwidth = gwidth + 1"
   ]
  },
  {
   "cell_type": "code",
   "execution_count": null,
   "metadata": {
    "collapsed": false
   },
   "outputs": [],
   "source": [
    "print gwidth"
   ]
  },
  {
   "cell_type": "code",
   "execution_count": null,
   "metadata": {
    "collapsed": false
   },
   "outputs": [],
   "source": [
    "theta = [-3.45, -3.40]\n",
    "fixvmr = -8."
   ]
  },
  {
   "cell_type": "code",
   "execution_count": null,
   "metadata": {
    "collapsed": false
   },
   "outputs": [],
   "source": [
    "test = np.array([theta[0],theta[1], fixvmr]).reshape(3,)\n",
    "print test"
   ]
  },
  {
   "cell_type": "code",
   "execution_count": null,
   "metadata": {
    "collapsed": false
   },
   "outputs": [],
   "source": [
    "ndim, nwalkers = 2, 4\n",
    "p0 = -1.* np.random.rand(ndim * nwalkers).reshape((nwalkers, ndim)) - 3.0\n",
    "print p0.shape"
   ]
  },
  {
   "cell_type": "code",
   "execution_count": null,
   "metadata": {
    "collapsed": false
   },
   "outputs": [],
   "source": [
    "plt.rc('font',family='Times New Roman')\n",
    "fig=plt.figure(dpi=320)\n",
    "plt.axis([0.7, 3.5, 0.,25000])\n",
    "bspec = np.loadtxt(\"sim_spectrum.dat\", unpack=\"true\")\n",
    "plt.plot(bspec[0,:],bspec[1,:],'r-')\n",
    "plt.plot(outspec[0,:],outspec[1,:],'b-')\n",
    "#plt.plot(spec[0,:],mspec[1,:] / spec[1,:],'g-')\n",
    "plt.ylabel(r'F_mike / F_ben')\n",
    "plt.xlabel('Wavelength / Microns')\n"
   ]
  },
  {
   "cell_type": "code",
   "execution_count": null,
   "metadata": {
    "collapsed": true
   },
   "outputs": [],
   "source": [
    "# rebinning with the fancy method\n",
    "# now rebin\n",
    "wavenew = np.arange(w1,w2,0.0015,dtype='f')\n",
    "ispec = spectrum.ArraySourceSpectrum(wave=spec[0,:], flux=spec[1,:])\n",
    "f = np.ones(len(spec[0,:]))\n",
    "filt = spectrum.ArraySpectralElement(spec[0,:], f, waveunits='microns')\n",
    "obs = observation.Observation(ispec, filt, binset=wavenew, force='taper')\n",
    "print obs.binflux.shape"
   ]
  },
  {
   "cell_type": "code",
   "execution_count": null,
   "metadata": {
    "collapsed": true
   },
   "outputs": [],
   "source": [
    "speclen = obs.binflux.size\n",
    "unc = np.max(obs.binflux)\n",
    "error = np.full(speclen,unc/50)\n",
    "outflux = np.ones(speclen)\n",
    "outflux = obs.binflux + error*np.random.randn(speclen)\n",
    "    "
   ]
  },
  {
   "cell_type": "code",
   "execution_count": null,
   "metadata": {
    "collapsed": false
   },
   "outputs": [],
   "source": [
    "s = 1e-18\n",
    "print s**2"
   ]
  },
  {
   "cell_type": "code",
   "execution_count": null,
   "metadata": {
    "collapsed": false
   },
   "outputs": [],
   "source": [
    "fresh = 2\n",
    "if (fresh != 0):\n",
    "    print \"balls\""
   ]
  },
  {
   "cell_type": "code",
   "execution_count": null,
   "metadata": {
    "collapsed": false
   },
   "outputs": [],
   "source": [
    "fresh = 0\n",
    "nwalkers = 200\n",
    "ndim= 25\n",
    "obspec = np.asfortranarray(np.loadtxt(\"G570D_2MHcalib.dat\",dtype='d',unpack='true'))\n",
    "\n",
    "p0 = np.empty([nwalkers,ndim])\n",
    "if (fresh == 0):\n",
    "    p0[:,0] = (0.5*np.random.randn(nwalkers).reshape(nwalkers)) - 3.5 # H2O\n",
    "    p0[:,1] = (0.5*np.random.randn(nwalkers).reshape(nwalkers)) - 3.5 # CH4\n",
    "    p0[:,2] = (0.5*np.random.randn(nwalkers).reshape(nwalkers)) - 7.5 # CO\n",
    "    p0[:,3] = (0.5*np.random.randn(nwalkers).reshape(nwalkers)) - 8.0 # CO2\n",
    "    p0[:,4] = (0.5*np.random.randn(nwalkers).reshape(nwalkers)) - 4.6 # NH3\n",
    "    p0[:,5] = (0.5*np.random.randn(nwalkers).reshape(nwalkers)) - 9.0  #H2S\n",
    "    p0[:,6] = (0.5*np.random.randn(nwalkers).reshape(nwalkers)) - 5.5  # Na+K\n",
    "    p0[:,7] = np.random.rand(nwalkers).reshape(nwalkers) + 4.2\n",
    "    p0[:,8] =  1.5e-19 + (np.random.randn(nwalkers).reshape(nwalkers) * 1.e-20)\n",
    "    p0[:,9] = np.random.randn(nwalkers).reshape(nwalkers) * 0.01\n",
    "    #p0[:,5] = np.log10((np.random.rand(nwalkers).reshape(nwalkers) * (min(obspec[2,10::3]**2)*(0.1 - 0.001))) + (0.001*min(obspec[2,10::3]**2)))\n",
    "    p0[:,10] =  50. + (np.random.randn(nwalkers).reshape(nwalkers))\n",
    "    p0[:,11] = np.log10((np.random.rand(nwalkers).reshape(nwalkers) * (max(obspec[2,:]**2)*(10. - 0.01))) + (0.01*min(obspec[2,10::3]**2)))\n",
    "\n",
    "    #p0[:,6] = 200. + ( np.random.rand(nwalkers).reshape(nwalkers) * 100. )\n",
    "    BTprof = np.loadtxt(\"BTtemp800_45_13.dat\")\n",
    "    for i in range(0,13):\n",
    "        p0[:,i+12] = (BTprof[i] - 200.) + (150. * np.random.randn(nwalkers).reshape(nwalkers))\n",
    "print p0[1:5,:]"
   ]
  },
  {
   "cell_type": "code",
   "execution_count": null,
   "metadata": {
    "collapsed": true
   },
   "outputs": [],
   "source": []
  }
 ],
 "metadata": {
  "kernelspec": {
   "display_name": "Python 2",
   "language": "python",
   "name": "python2"
  },
  "language_info": {
   "codemirror_mode": {
    "name": "ipython",
    "version": 2
   },
   "file_extension": ".py",
   "mimetype": "text/x-python",
   "name": "python",
   "nbconvert_exporter": "python",
   "pygments_lexer": "ipython2",
   "version": "2.7.10"
  }
 },
 "nbformat": 4,
 "nbformat_minor": 0
}
