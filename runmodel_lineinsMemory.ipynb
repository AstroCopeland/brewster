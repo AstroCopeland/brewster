{
 "cells": [
  {
   "cell_type": "code",
   "execution_count": 1,
   "metadata": {
    "collapsed": false
   },
   "outputs": [
    {
     "name": "stderr",
     "output_type": "stream",
     "text": [
      "/opt/local/Library/Frameworks/Python.framework/Versions/2.7/lib/python2.7/site-packages/IPython/kernel/__init__.py:13: ShimWarning: The `IPython.kernel` package has been deprecated. You should import from ipykernel or jupyter_client instead.\n",
      "  \"You should import from ipykernel or jupyter_client instead.\", ShimWarning)\n",
      "/Users/bburning/Library/Python/2.7/lib/python/site-packages/pysynphot/locations.py:14: UserWarning: PYSYN_CDBS is undefined; functionality will be SEVERELY crippled.\n",
      "  warnings.warn(\"PYSYN_CDBS is undefined; functionality will be SEVERELY \"\n",
      "/Users/bburning/Library/Python/2.7/lib/python/site-packages/pysynphot/locations.py:74: UserWarning: Extinction files should be moved to $PYSYN_CDBS/extinction for compatibility with future versions of pysynphot.\n",
      "  warnings.warn('Extinction files should be moved to '\n",
      "/Users/bburning/Library/Python/2.7/lib/python/site-packages/pysynphot/locations.py:110: UserWarning: Extinction files not found in grid/extinction\n",
      "  warnings.warn('Extinction files not found in %s' % (extdir,))\n",
      "/Users/bburning/Library/Python/2.7/lib/python/site-packages/pysynphot/locations.py:88: UserWarning: PYSYN_CDBS is undefined; cannot find mtab/*_tmg.fits file\n",
      "  warnings.warn(\"PYSYN_CDBS is undefined; cannot find %s file\" % template)\n",
      "/Users/bburning/Library/Python/2.7/lib/python/site-packages/pysynphot/locations.py:88: UserWarning: PYSYN_CDBS is undefined; cannot find mtab/*_tmc.fits file\n",
      "  warnings.warn(\"PYSYN_CDBS is undefined; cannot find %s file\" % template)\n",
      "/Users/bburning/Library/Python/2.7/lib/python/site-packages/pysynphot/locations.py:88: UserWarning: PYSYN_CDBS is undefined; cannot find mtab/*_tmt.fits file\n",
      "  warnings.warn(\"PYSYN_CDBS is undefined; cannot find %s file\" % template)\n"
     ]
    }
   ],
   "source": [
    "import matplotlib\n",
    "import matplotlib.pyplot as plt\n",
    "import matplotlib.image as mgimg\n",
    "import scipy as sp\n",
    "import numpy as np\n",
    "import cPickle as pickle\n",
    "from scipy import interpolate\n",
    "from scipy.interpolate import interp1d\n",
    "from IPython.display import display\n",
    "%matplotlib inline\n",
    "#%config InlineBackend.close_figures = False\n",
    "from scipy.io.idl import readsav\n",
    "from astropy.convolution import convolve, convolve_fft\n",
    "from astropy.convolution import Gaussian1DKernel\n",
    "from pysynphot import observation\n",
    "from pysynphot import spectrum\n",
    "import forwardmodel\n",
    "import ciamod"
   ]
  },
  {
   "cell_type": "code",
   "execution_count": 2,
   "metadata": {
    "collapsed": false
   },
   "outputs": [
    {
     "name": "stdout",
     "output_type": "stream",
     "text": [
      "80\n",
      "[  9.99999975e-05   1.20226425e-04   1.44543999e-04   1.73780092e-04\n",
      "   2.08929574e-04   2.51188700e-04   3.01995198e-04   3.63077997e-04\n",
      "   4.36515693e-04   5.24807489e-04   6.30957249e-04   7.58577778e-04\n",
      "   9.12010903e-04   1.09647808e-03   1.31825637e-03   1.58489251e-03\n",
      "   1.90546061e-03   2.29086843e-03   2.75422912e-03   3.31131113e-03\n",
      "   3.98107106e-03   4.78629908e-03   5.75439911e-03   6.91830833e-03\n",
      "   8.31763912e-03   9.99999978e-03   1.20226424e-02   1.44543927e-02\n",
      "   1.73780080e-02   2.08929572e-02   2.51188558e-02   3.01995184e-02\n",
      "   3.63078006e-02   4.36515696e-02   5.24807498e-02   6.30957261e-02\n",
      "   7.58577362e-02   9.12010893e-02   1.09647810e-01   1.31825641e-01\n",
      "   1.58489242e-01   1.90546066e-01   2.29086712e-01   2.75422752e-01\n",
      "   3.31131101e-01   3.98107082e-01   4.78629917e-01   5.75439930e-01\n",
      "   6.91830814e-01   8.31763446e-01   1.00000000e+00   1.20226419e+00\n",
      "   1.44543922e+00   1.73779988e+00   2.08929467e+00   2.51188707e+00\n",
      "   3.01995182e+00   3.63077998e+00   4.36515713e+00   5.24807215e+00\n",
      "   6.30956936e+00   7.58577776e+00   9.12010956e+00   1.09647808e+01\n",
      "   1.31825638e+01   1.58489246e+01   1.90545959e+01   2.29086590e+01\n",
      "   2.75422897e+01   3.31131096e+01   3.98107071e+01   4.78629913e+01\n",
      "   5.75439606e+01   6.91830444e+01   8.31763916e+01   1.00000000e+02\n",
      "   1.20226425e+02   1.44543930e+02   1.73779999e+02   2.08929474e+02]\n"
     ]
    }
   ],
   "source": [
    "array = pickle.load(open(\"test_H2H2_H2He_CIA_H2O.pic\", \"rb\")) \n",
    "leveltemp = array[0]\n",
    "levelpress = array[1]\n",
    "mikespec = np.array([array[2],array[3]],dtype='f')\n",
    "mikespec[0] = 10000.0 / mikespec[0]\n",
    "print levelpress.size\n",
    "print levelpress"
   ]
  },
  {
   "cell_type": "code",
   "execution_count": 3,
   "metadata": {
    "collapsed": false
   },
   "outputs": [
    {
     "name": "stdout",
     "output_type": "stream",
     "text": [
      "65\n",
      "13\n",
      "[  1.00000000e-04   1.25892541e-04   1.58489319e-04   1.99526231e-04\n",
      "   2.51188643e-04   3.16227766e-04   3.98107171e-04   5.01187234e-04\n",
      "   6.30957344e-04   7.94328235e-04   1.00000000e-03   1.25892541e-03\n",
      "   1.58489319e-03   1.99526231e-03   2.51188643e-03   3.16227766e-03\n",
      "   3.98107171e-03   5.01187234e-03   6.30957344e-03   7.94328235e-03\n",
      "   1.00000000e-02   1.25892541e-02   1.58489319e-02   1.99526231e-02\n",
      "   2.51188643e-02   3.16227766e-02   3.98107171e-02   5.01187234e-02\n",
      "   6.30957344e-02   7.94328235e-02   1.00000000e-01   1.25892541e-01\n",
      "   1.58489319e-01   1.99526231e-01   2.51188643e-01   3.16227766e-01\n",
      "   3.98107171e-01   5.01187234e-01   6.30957344e-01   7.94328235e-01\n",
      "   1.00000000e+00   1.25892541e+00   1.58489319e+00   1.99526231e+00\n",
      "   2.51188643e+00   3.16227766e+00   3.98107171e+00   5.01187234e+00\n",
      "   6.30957344e+00   7.94328235e+00   1.00000000e+01   1.25892541e+01\n",
      "   1.58489319e+01   1.99526231e+01   2.51188643e+01   3.16227766e+01\n",
      "   3.98107171e+01   5.01187234e+01   6.30957344e+01   7.94328235e+01\n",
      "   1.00000000e+02   1.25892541e+02   1.58489319e+02   1.99526231e+02\n",
      "   2.51188643e+02]\n"
     ]
    }
   ],
   "source": [
    "# set up coarse pressure grid and fine pressure grid\n",
    "logcoarsePress = np.arange(-4.0, 2.5, 0.5)\n",
    "coarsePress = pow(10,logcoarsePress)\n",
    "logfinePress = np.arange(-4.0, 2.5, 0.1)\n",
    "finePress = pow(10,logfinePress)\n",
    "print finePress.size\n",
    "print coarsePress.size\n",
    "print finePress"
   ]
  },
  {
   "cell_type": "code",
   "execution_count": 4,
   "metadata": {
    "collapsed": false
   },
   "outputs": [],
   "source": [
    "mikepress = np.empty(levelpress.size - 1,dtype='float64')\n",
    "miketemp = np.empty(leveltemp.size -1, dtype='float64')\n",
    "for i in range(0,mikepress.size):\n",
    "    mikepress[i] = np.sqrt(levelpress[i] * levelpress[i+1])\n",
    "mtfit = interp1d(np.log10(levelpress),leveltemp)\n",
    "miketemp = mtfit(np.log10(mikepress)) \n",
    "tfit = interp1d(np.log10(mikepress),miketemp,bounds_error=False,fill_value=miketemp[miketemp.size-1])\n",
    "temp = tfit(np.log10(finePress))"
   ]
  },
  {
   "cell_type": "code",
   "execution_count": 5,
   "metadata": {
    "collapsed": true
   },
   "outputs": [],
   "source": [
    "# Get the linelists\n",
    "ngas = 1\n",
    "gasnum = np.asfortranarray(np.array([1],dtype='i'))\n",
    "lists = [\"../Linelists/xsecarrH2O_1wno_500_10000.save\"]"
   ]
  },
  {
   "cell_type": "code",
   "execution_count": 6,
   "metadata": {
    "collapsed": false
   },
   "outputs": [],
   "source": [
    "x=readsav('../Linelists/xsecarrH2O_1wno_500_10000.save')\n",
    "inlinelist=x.xsecarr  #3D array with Nwavenubmers x Ntemps x Npressure\n",
    "inlinetemps=np.asfortranarray(x.t,dtype='float64')\n",
    "inpress=x.p\n",
    "inwavenum=x.wno\n",
    "ntemps = inlinetemps.size\n",
    "npress= finePress.size\n",
    "nwave = inwavenum.size\n",
    "#logpress = np.arange(-5.,2.5,0.125)\n",
    "#press = 10.**logpress\n",
    "#print press\n",
    "# Here we are interpolating the linelist onto our fine pressure scale. \n",
    "linelist = (np.ones([ngas,npress,ntemps,nwave],order='F')).astype('float64', order='F')\n",
    "for gas in range (0,ngas):\n",
    "    inlinelist=readsav(lists[gas]).xsecarr\n",
    "    for i in range (0,ntemps):\n",
    "        for j in range (0,nwave):\n",
    "            pfit = interp1d(np.log10(inpress),np.log10(inlinelist[:,i,j]))\n",
    "            linelist[gas,:,i,j] = np.asfortranarray(pfit(np.log10(finePress)))\n",
    "#print linelist.shape\n",
    "#print np.result_type(linelist)\n",
    "press = finePress*1000."
   ]
  },
  {
   "cell_type": "code",
   "execution_count": 13,
   "metadata": {
    "collapsed": false
   },
   "outputs": [],
   "source": [
    "#intemp = np.loadtxt(\"16temps.dat\",dtype='float32')\n",
    "#intemp = np.full(16,1000.,dtype='f')\n",
    "#inlayer = np.arange(0,15.25,1)  \n",
    "#layer = np.arange(0,15.00,0.25)\n",
    "#print layer.size\n",
    "#tfit = interpolate.splrep(inlayer,intemp,s=0)\n",
    "#temp = np.asfortranarray(interpolate.splev(layer,tfit, der=0),dtype='float32')\n",
    "w1 = 1.05\n",
    "w2 = 2.5\n",
    "logg = 4.5\n",
    "R2D2 = 0.5\n",
    "#print inpress\n",
    "#print mikepress"
   ]
  },
  {
   "cell_type": "code",
   "execution_count": 8,
   "metadata": {
    "collapsed": false
   },
   "outputs": [
    {
     "name": "stdout",
     "output_type": "stream",
     "text": [
      "(1, 65)\n"
     ]
    }
   ],
   "source": [
    "VMR1 = np.full((npress,),(-3.5)) # water\n",
    "#vmr2 = np.full((npress,),(-3.5)) # ch4\n",
    "#vmr3 = np.full((npress,),(-8.))  # K\n",
    "#print VMR1.shape\n",
    "logVMR = np.asfortranarray(np.reshape((VMR1),(ngas,npress)),dtype='float64')\n",
    "print logVMR.shape"
   ]
  },
  {
   "cell_type": "code",
   "execution_count": 9,
   "metadata": {
    "collapsed": false
   },
   "outputs": [],
   "source": [
    "pcover = 1.0\n",
    "do_clouds = 0\n",
    "cloudnum = np.array([1],dtype='i')\n",
    "#cloudname = np.reshape((cname),(1,1))\n",
    "cloudrad = np.full((1,npress,1),1e-4)\n",
    "cloudsig = np.full((1,npress,1),1e-5)\n",
    "cloudprof = np.full((1,npress,1),0.0)"
   ]
  },
  {
   "cell_type": "code",
   "execution_count": 10,
   "metadata": {
    "collapsed": false
   },
   "outputs": [
    {
     "name": "stdout",
     "output_type": "stream",
     "text": [
      "(4, 198, 9501)\n",
      "(198,)\n",
      "float32\n"
     ]
    }
   ],
   "source": [
    "cia, ciatemps = ciamod.read_cia(\"CIA_DS_aug_2015.dat\",inwavenum)\n",
    "cia = np.asfortranarray(cia, dtype='float32')\n",
    "ciatemps = np.asfortranarray(ciatemps, dtype='float32')\n",
    "print cia.shape\n",
    "print ciatemps.shape\n",
    "print cia.dtype"
   ]
  },
  {
   "cell_type": "code",
   "execution_count": 14,
   "metadata": {
    "collapsed": false
   },
   "outputs": [],
   "source": [
    "outspec = forwardmodel.marv(w1,w2,temp,logg,R2D2,gasnum,logVMR,pcover,do_clouds,cloudnum,cloudrad,cloudsig,cloudprof,inlinetemps,press,inwavenum,linelist,cia,ciatemps)"
   ]
  },
  {
   "cell_type": "code",
   "execution_count": null,
   "metadata": {
    "collapsed": true
   },
   "outputs": [],
   "source": [
    "#np.savetxt(\"disort16stream_test.dat\",np.c_[outspec[0,:],outspec[1,:]])"
   ]
  },
  {
   "cell_type": "code",
   "execution_count": 15,
   "metadata": {
    "collapsed": false
   },
   "outputs": [
    {
     "data": {
      "image/png": "[encoded data removed]",
      "text/plain": [
       "<matplotlib.figure.Figure at 0x11769fe10>"
      ]
     },
     "metadata": {},
     "output_type": "display_data"
    }
   ],
   "source": [
    "B = np.empty(nwave,dtype='d') \n",
    "B = 3.14159274*((2.*6.62606957e-34*(2.99792458e8**2.)) / ((outspec[0,:]*1.e-6)**5.)) / ((np.exp((6.62606957e-34*2.99792458e8)/(outspec[0,:]*1e-6*1.3806488e-23*1000.)))-1.) * 1.e-6\n",
    "plt.rc('font',family='Times New Roman')\n",
    "fig=plt.figure(dpi=320)\n",
    "plt.axis([1.0, 3.0,0.0,2e4])\n",
    "#plt.plot(outspec[0,:],(outspec[1,:] / B),'r-')\n",
    "#plt.plot(outspec[0,:],B,'b-')\n",
    "plt.plot(outspec[0,:],outspec[1,:],'g-')\n",
    "#plt.plot(mikespec[0,:],outspec[1,:] / (mikespec[1,:]/1e6),'r-')\n",
    "#plt.plot(mikespec[0,:],((mikespec[1,:] / 1e6) / outspec[1,:]), 'r-')\n",
    "#plt.plot(outspec[0,:],np.full(nwave,1.0),'b--')\n",
    "\n",
    "#plt.plot(outspec[0,:],6.666*outspec[1,:],'b-')\n",
    "plt.ylabel(r'Flux')\n",
    "plt.xlabel('Wavelength / Microns')\n",
    "\n",
    "#asp = 10 / 3.5\n",
    "\n",
    "#plt.axes().set_aspect(asp)\n",
    "plt.savefig('testspec.pdf',format='pdf', dpi=720)"
   ]
  },
  {
   "cell_type": "code",
   "execution_count": 16,
   "metadata": {
    "collapsed": false
   },
   "outputs": [],
   "source": [
    "outspec =  outspec[:,np.logical_not(np.logical_or(outspec[0,:] > w2, outspec[0,:] < w1))]\n",
    "wlen = outspec.shape[1]\n",
    "wint = outspec[0,0] - outspec[0,wlen-1]\n",
    "disp = wint / wlen\n",
    "fwhm = 0.005\n",
    "gwidth = int(round(fwhm / disp))"
   ]
  },
  {
   "cell_type": "code",
   "execution_count": 17,
   "metadata": {
    "collapsed": true
   },
   "outputs": [],
   "source": [
    "mikespec[1,:] = mikespec[1,:] / 1e6\n",
    "mikespec =  mikespec[:,np.logical_not(np.logical_or(mikespec[0,:] > w2, mikespec[0,:] < w1))]\n",
    "wlen = mikespec.shape[1]\n",
    "wint = mikespec[0,0] - mikespec[0,wlen-1]\n",
    "disp = wint / wlen\n",
    "fwhm = 0.005\n",
    "gwidth = int(round(fwhm / disp))"
   ]
  },
  {
   "cell_type": "code",
   "execution_count": 18,
   "metadata": {
    "collapsed": false
   },
   "outputs": [],
   "source": [
    "from astropy.convolution import convolve, convolve_fft\n",
    "from astropy.convolution import Gaussian1DKernel\n"
   ]
  },
  {
   "cell_type": "code",
   "execution_count": 19,
   "metadata": {
    "collapsed": false
   },
   "outputs": [],
   "source": [
    "gauss = Gaussian1DKernel(gwidth)\n",
    "cspec = convolve(outspec[1,:],gauss,boundary='extend')\n",
    "spec = np.array([outspec[0,:],cspec])"
   ]
  },
  {
   "cell_type": "code",
   "execution_count": 20,
   "metadata": {
    "collapsed": false
   },
   "outputs": [],
   "source": [
    "mgauss = Gaussian1DKernel(gwidth)\n",
    "mcspec = convolve(mikespec[1,:],mgauss,boundary='extend')\n",
    "mspec = np.array([mikespec[0,:],mcspec])"
   ]
  },
  {
   "cell_type": "code",
   "execution_count": 21,
   "metadata": {
    "collapsed": false
   },
   "outputs": [
    {
     "name": "stdout",
     "output_type": "stream",
     "text": [
      "[   4037.47045898    4026.22705078    4015.37329102 ...,  136248.296875\n",
      "  136321.859375    136392.875     ]\n",
      "[   646.64023459    647.98520824    649.31518043 ...,  21237.11700785\n",
      "  21255.70401921  21273.98166261]\n"
     ]
    }
   ],
   "source": [
    "print mspec[1]\n",
    "print spec[1]"
   ]
  },
  {
   "cell_type": "code",
   "execution_count": 22,
   "metadata": {
    "collapsed": false
   },
   "outputs": [
    {
     "data": {
      "text/plain": [
       "<matplotlib.text.Text at 0x10cd68e10>"
      ]
     },
     "execution_count": 22,
     "metadata": {},
     "output_type": "execute_result"
    },
    {
     "data": {
      "image/png": "[encoded data removed]",
      "text/plain": [
       "<matplotlib.figure.Figure at 0x10cd16dd0>"
      ]
     },
     "metadata": {},
     "output_type": "display_data"
    }
   ],
   "source": [
    "plt.rc('font',family='Times New Roman')\n",
    "fig=plt.figure(dpi=320)\n",
    "plt.axis([1.0, 2.5, 0.,1.5e5])\n",
    "plt.plot(mspec[0,:],mspec[1,:],'r-')\n",
    "plt.plot(spec[0,:],spec[1,:],'b-')\n",
    "#plt.plot(spec[0,:],mspec[1,:] / spec[1,:],'g-')\n",
    "plt.ylabel(r'F_mike / F_ben')\n",
    "plt.xlabel('Wavelength / Microns')\n"
   ]
  },
  {
   "cell_type": "code",
   "execution_count": 23,
   "metadata": {
    "collapsed": false
   },
   "outputs": [
    {
     "name": "stdout",
     "output_type": "stream",
     "text": [
      "(967,)\n"
     ]
    }
   ],
   "source": [
    "# now rebin\n",
    "wavenew = np.arange(w1,w2,0.0015,dtype='f')\n",
    "ispec = spectrum.ArraySourceSpectrum(wave=spec[0,:], flux=spec[1,:])\n",
    "f = np.ones(len(spec[0,:]))\n",
    "filt = spectrum.ArraySpectralElement(spec[0,:], f, waveunits='microns')\n",
    "obs = observation.Observation(ispec, filt, binset=wavenew, force='taper')\n",
    "print obs.binflux.shape"
   ]
  },
  {
   "cell_type": "code",
   "execution_count": 25,
   "metadata": {
    "collapsed": false
   },
   "outputs": [],
   "source": [
    "speclen = obs.binflux.size\n",
    "unc = np.max(obs.binflux)\n",
    "error = np.full(speclen,unc/50)\n",
    "outflux = np.ones(speclen)\n",
    "outflux = obs.binflux + error*np.random.randn(speclen)\n",
    "    "
   ]
  },
  {
   "cell_type": "code",
   "execution_count": 28,
   "metadata": {
    "collapsed": false
   },
   "outputs": [
    {
     "data": {
      "text/plain": [
       "<matplotlib.text.Text at 0x118a58550>"
      ]
     },
     "execution_count": 28,
     "metadata": {},
     "output_type": "execute_result"
    },
    {
     "data": {
      "image/png": "[encoded data removed]",
      "text/plain": [
       "<matplotlib.figure.Figure at 0x118af37d0>"
      ]
     },
     "metadata": {},
     "output_type": "display_data"
    }
   ],
   "source": [
    "plt.rc('font',family='Times New Roman')\n",
    "fig=plt.figure(dpi=320)\n",
    "plt.axis([0.8, 2.5, 0.,25000])\n",
    "plt.plot(outspec[0,:],outspec[1,:],'r-')\n",
    "#plt.plot(spec[0,:],spec[1,:],'b-')\n",
    "plt.plot(wavenew,outflux,'b-')\n",
    "plt.ylabel(r'$Flux$')\n",
    "plt.xlabel('Wavelength / Microns')\n"
   ]
  },
  {
   "cell_type": "code",
   "execution_count": 29,
   "metadata": {
    "collapsed": false
   },
   "outputs": [],
   "source": [
    "np.savetxt('sim_spectrum.dat', np.c_[wavenew,outflux,error])"
   ]
  },
  {
   "cell_type": "code",
   "execution_count": null,
   "metadata": {
    "collapsed": false
   },
   "outputs": [],
   "source": [
    "gwidth = 4\n",
    "if (gwidth % 2 == 0):\n",
    "    gwidth = gwidth + 1"
   ]
  },
  {
   "cell_type": "code",
   "execution_count": null,
   "metadata": {
    "collapsed": false
   },
   "outputs": [],
   "source": [
    "print gwidth"
   ]
  },
  {
   "cell_type": "code",
   "execution_count": null,
   "metadata": {
    "collapsed": false
   },
   "outputs": [],
   "source": [
    "theta = [-3.45, -3.40]\n",
    "fixvmr = -8."
   ]
  },
  {
   "cell_type": "code",
   "execution_count": null,
   "metadata": {
    "collapsed": false
   },
   "outputs": [],
   "source": [
    "test = np.array([theta[0],theta[1], fixvmr]).reshape(3,)\n",
    "print test"
   ]
  },
  {
   "cell_type": "code",
   "execution_count": null,
   "metadata": {
    "collapsed": false
   },
   "outputs": [],
   "source": [
    "ndim, nwalkers = 2, 4\n",
    "p0 = -1.* np.random.rand(ndim * nwalkers).reshape((nwalkers, ndim)) - 3.0\n",
    "print p0.shape"
   ]
  },
  {
   "cell_type": "code",
   "execution_count": 31,
   "metadata": {
    "collapsed": false
   },
   "outputs": [
    {
     "data": {
      "text/plain": [
       "<matplotlib.text.Text at 0x119132f90>"
      ]
     },
     "execution_count": 31,
     "metadata": {},
     "output_type": "execute_result"
    },
    {
     "data": {
      "image/png": "[encoded data removed]",
      "text/plain": [
       "<matplotlib.figure.Figure at 0x118e231d0>"
      ]
     },
     "metadata": {},
     "output_type": "display_data"
    }
   ],
   "source": [
    "plt.rc('font',family='Times New Roman')\n",
    "fig=plt.figure(dpi=320)\n",
    "plt.axis([0.7, 3.5, 0.,25000])\n",
    "bspec = np.loadtxt(\"sim_spectrum.dat\", unpack=\"true\")\n",
    "plt.plot(bspec[0,:],bspec[1,:],'r-')\n",
    "plt.plot(outspec[0,:],outspec[1,:],'b-')\n",
    "#plt.plot(spec[0,:],mspec[1,:] / spec[1,:],'g-')\n",
    "plt.ylabel(r'F_mike / F_ben')\n",
    "plt.xlabel('Wavelength / Microns')\n"
   ]
  },
  {
   "cell_type": "code",
   "execution_count": null,
   "metadata": {
    "collapsed": true
   },
   "outputs": [],
   "source": []
  }
 ],
 "metadata": {
  "kernelspec": {
   "display_name": "Python 2",
   "language": "python",
   "name": "python2"
  },
  "language_info": {
   "codemirror_mode": {
    "name": "ipython",
    "version": 2
   },
   "file_extension": ".py",
   "mimetype": "text/x-python",
   "name": "python",
   "nbconvert_exporter": "python",
   "pygments_lexer": "ipython2",
   "version": "2.7.10"
  }
 },
 "nbformat": 4,
 "nbformat_minor": 0
}
