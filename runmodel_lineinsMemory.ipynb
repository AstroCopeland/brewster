{
 "cells": [
  {
   "cell_type": "code",
   "execution_count": 1,
   "metadata": {
    "collapsed": false
   },
   "outputs": [
    {
     "name": "stderr",
     "output_type": "stream",
     "text": [
      "/opt/local/Library/Frameworks/Python.framework/Versions/2.7/lib/python2.7/site-packages/IPython/kernel/__init__.py:13: ShimWarning: The `IPython.kernel` package has been deprecated. You should import from ipykernel or jupyter_client instead.\n",
      "  \"You should import from ipykernel or jupyter_client instead.\", ShimWarning)\n",
      "/Users/bb/Library/Python/2.7/lib/python/site-packages/pysynphot/locations.py:14: UserWarning: PYSYN_CDBS is undefined; functionality will be SEVERELY crippled.\n",
      "  warnings.warn(\"PYSYN_CDBS is undefined; functionality will be SEVERELY \"\n",
      "/Users/bb/Library/Python/2.7/lib/python/site-packages/pysynphot/locations.py:74: UserWarning: Extinction files should be moved to $PYSYN_CDBS/extinction for compatibility with future versions of pysynphot.\n",
      "  warnings.warn('Extinction files should be moved to '\n",
      "/Users/bb/Library/Python/2.7/lib/python/site-packages/pysynphot/locations.py:110: UserWarning: Extinction files not found in grid/extinction\n",
      "  warnings.warn('Extinction files not found in %s' % (extdir,))\n",
      "/Users/bb/Library/Python/2.7/lib/python/site-packages/pysynphot/locations.py:88: UserWarning: PYSYN_CDBS is undefined; cannot find mtab/*_tmg.fits file\n",
      "  warnings.warn(\"PYSYN_CDBS is undefined; cannot find %s file\" % template)\n",
      "/Users/bb/Library/Python/2.7/lib/python/site-packages/pysynphot/locations.py:88: UserWarning: PYSYN_CDBS is undefined; cannot find mtab/*_tmc.fits file\n",
      "  warnings.warn(\"PYSYN_CDBS is undefined; cannot find %s file\" % template)\n",
      "/Users/bb/Library/Python/2.7/lib/python/site-packages/pysynphot/locations.py:88: UserWarning: PYSYN_CDBS is undefined; cannot find mtab/*_tmt.fits file\n",
      "  warnings.warn(\"PYSYN_CDBS is undefined; cannot find %s file\" % template)\n"
     ]
    }
   ],
   "source": [
    "import matplotlib\n",
    "import matplotlib.pyplot as plt\n",
    "import matplotlib.image as mgimg\n",
    "import scipy as sp\n",
    "import numpy as np\n",
    "import pickle\n",
    "from scipy import interpolate\n",
    "from scipy.interpolate import interp1d\n",
    "from IPython.display import display\n",
    "%matplotlib inline\n",
    "#%config InlineBackend.close_figures = False\n",
    "from scipy.io.idl import readsav\n",
    "from astropy.convolution import convolve, convolve_fft\n",
    "from astropy.convolution import Gaussian1DKernel\n",
    "from pysynphot import observation\n",
    "from pysynphot import spectrum\n",
    "import forwardmodel\n",
    "import ciamod"
   ]
  },
  {
   "cell_type": "code",
   "execution_count": 2,
   "metadata": {
    "collapsed": false
   },
   "outputs": [
    {
     "name": "stdout",
     "output_type": "stream",
     "text": [
      "65\n",
      "13\n",
      "[  1.00000000e-04   1.25892541e-04   1.58489319e-04   1.99526231e-04\n",
      "   2.51188643e-04   3.16227766e-04   3.98107171e-04   5.01187234e-04\n",
      "   6.30957344e-04   7.94328235e-04   1.00000000e-03   1.25892541e-03\n",
      "   1.58489319e-03   1.99526231e-03   2.51188643e-03   3.16227766e-03\n",
      "   3.98107171e-03   5.01187234e-03   6.30957344e-03   7.94328235e-03\n",
      "   1.00000000e-02   1.25892541e-02   1.58489319e-02   1.99526231e-02\n",
      "   2.51188643e-02   3.16227766e-02   3.98107171e-02   5.01187234e-02\n",
      "   6.30957344e-02   7.94328235e-02   1.00000000e-01   1.25892541e-01\n",
      "   1.58489319e-01   1.99526231e-01   2.51188643e-01   3.16227766e-01\n",
      "   3.98107171e-01   5.01187234e-01   6.30957344e-01   7.94328235e-01\n",
      "   1.00000000e+00   1.25892541e+00   1.58489319e+00   1.99526231e+00\n",
      "   2.51188643e+00   3.16227766e+00   3.98107171e+00   5.01187234e+00\n",
      "   6.30957344e+00   7.94328235e+00   1.00000000e+01   1.25892541e+01\n",
      "   1.58489319e+01   1.99526231e+01   2.51188643e+01   3.16227766e+01\n",
      "   3.98107171e+01   5.01187234e+01   6.30957344e+01   7.94328235e+01\n",
      "   1.00000000e+02   1.25892541e+02   1.58489319e+02   1.99526231e+02\n",
      "   2.51188643e+02]\n"
     ]
    }
   ],
   "source": [
    "# set up coarse pressure grid and fine pressure grid\n",
    "logcoarsePress = np.arange(-4.0, 2.5, 0.5)\n",
    "coarsePress = pow(10,logcoarsePress)\n",
    "logfinePress = np.arange(-4.0, 2.5, 0.1)\n",
    "finePress = pow(10,logfinePress)\n",
    "print finePress.size\n",
    "print coarsePress.size\n",
    "print finePress"
   ]
  },
  {
   "cell_type": "code",
   "execution_count": 3,
   "metadata": {
    "collapsed": false
   },
   "outputs": [
    {
     "name": "stdout",
     "output_type": "stream",
     "text": [
      "80\n",
      "[  9.99999975e-05   1.20226425e-04   1.44543999e-04   1.73780092e-04\n",
      "   2.08929574e-04   2.51188700e-04   3.01995198e-04   3.63077997e-04\n",
      "   4.36515693e-04   5.24807489e-04   6.30957249e-04   7.58577778e-04\n",
      "   9.12010903e-04   1.09647808e-03   1.31825637e-03   1.58489251e-03\n",
      "   1.90546061e-03   2.29086843e-03   2.75422912e-03   3.31131113e-03\n",
      "   3.98107106e-03   4.78629908e-03   5.75439911e-03   6.91830833e-03\n",
      "   8.31763912e-03   9.99999978e-03   1.20226424e-02   1.44543927e-02\n",
      "   1.73780080e-02   2.08929572e-02   2.51188558e-02   3.01995184e-02\n",
      "   3.63078006e-02   4.36515696e-02   5.24807498e-02   6.30957261e-02\n",
      "   7.58577362e-02   9.12010893e-02   1.09647810e-01   1.31825641e-01\n",
      "   1.58489242e-01   1.90546066e-01   2.29086712e-01   2.75422752e-01\n",
      "   3.31131101e-01   3.98107082e-01   4.78629917e-01   5.75439930e-01\n",
      "   6.91830814e-01   8.31763446e-01   1.00000000e+00   1.20226419e+00\n",
      "   1.44543922e+00   1.73779988e+00   2.08929467e+00   2.51188707e+00\n",
      "   3.01995182e+00   3.63077998e+00   4.36515713e+00   5.24807215e+00\n",
      "   6.30956936e+00   7.58577776e+00   9.12010956e+00   1.09647808e+01\n",
      "   1.31825638e+01   1.58489246e+01   1.90545959e+01   2.29086590e+01\n",
      "   2.75422897e+01   3.31131096e+01   3.98107071e+01   4.78629913e+01\n",
      "   5.75439606e+01   6.91830444e+01   8.31763916e+01   1.00000000e+02\n",
      "   1.20226425e+02   1.44543930e+02   1.73779999e+02   2.08929474e+02]\n"
     ]
    }
   ],
   "source": [
    "array = pickle.load(open(\"test_H2H2_H2He_CIA_H2O.pic\", \"rb\")) \n",
    "leveltemp = array[0]\n",
    "levelpress = array[1]\n",
    "mikespec = np.array([array[2],array[3]],dtype='f')\n",
    "mikespec[0] = 10000.0 / mikespec[0]\n",
    "print levelpress.size\n",
    "print levelpress"
   ]
  },
  {
   "cell_type": "code",
   "execution_count": 4,
   "metadata": {
    "collapsed": false
   },
   "outputs": [
    {
     "name": "stdout",
     "output_type": "stream",
     "text": [
      "[  268.92571657   271.92571657   274.83572249   277.74573187   280.65575305\n",
      "   283.56576538   286.47577182   289.41904576   292.73884549   296.68944279\n",
      "   300.81706238   305.12218154   309.86643865   314.81835116   320.03643301\n",
      "   325.58127594   331.12613444   336.91218407   343.29291088   349.9224697\n",
      "   356.64456175   363.65134344   370.76485189   378.04041684   386.288551\n",
      "   395.18446999   404.84997031   415.39339521   426.63194833   439.2959322\n",
      "   454.0511933    470.65710218   488.5020535    507.36550105   527.89615025\n",
      "   550.87459466   576.1516062    603.67571055   633.37590295   665.96656374\n",
      "   700.52649722   737.27439375   776.24279133   818.23541418   863.6907086\n",
      "   913.11398884   966.85180076  1025.78519012  1088.92744613  1154.99736691\n",
      "  1222.31085205  1288.69693082  1352.9638353   1415.7439226   1478.0912238\n",
      "  1550.84484891  1643.99234531  1747.21046521  1852.2993124   1957.56444941\n",
      "  2062.82955933  2168.09467436  2273.35994199  2357.57182555  2357.57182555]\n"
     ]
    }
   ],
   "source": [
    "mikepress = np.empty(levelpress.size - 1,dtype='float64')\n",
    "miketemp = np.empty(leveltemp.size -1, dtype='float64')\n",
    "for i in range(0,mikepress.size):\n",
    "    mikepress[i] = np.sqrt(levelpress[i] * levelpress[i+1])\n",
    "mtfit = interp1d(np.log10(levelpress),leveltemp)\n",
    "miketemp = mtfit(np.log10(mikepress)) \n",
    "tfit = interp1d(np.log10(mikepress),miketemp,bounds_error=False,fill_value=miketemp[miketemp.size-1])\n",
    "temp = tfit(np.log10(finePress))\n",
    "temp[0] = temp[1] - 3.0\n",
    "print temp\n",
    "#temp[:] = 1000.\n",
    "#print temp"
   ]
  },
  {
   "cell_type": "code",
   "execution_count": 5,
   "metadata": {
    "collapsed": true
   },
   "outputs": [],
   "source": [
    "# Get the linelists\n",
    "ngas = 5\n",
    "gasnum = np.asfortranarray(np.array([1,2,20,4,5],dtype='i'))\n",
    "lists = [\"../Linelists/xsecarrH2O_1wno_500_10000.save\",\"../Linelists/xsecarrCH4_1wno_500_10000.save\",\"../Linelists/xsecarrK_new_1wno_500_10000_02.save\",\"../Linelists/xsecarrCO_1wno_500_10000_02.save\",\"../Linelists/xsecarrCO2_1wno_500_10000_02.save\" ]"
   ]
  },
  {
   "cell_type": "code",
   "execution_count": 6,
   "metadata": {
    "collapsed": false
   },
   "outputs": [],
   "source": [
    "x=readsav('../Linelists/xsecarrH2O_1wno_500_10000.save')\n",
    "inlinelist=x.xsecarr  #3D array with Nwavenubmers x Ntemps x Npressure\n",
    "inlinetemps=np.asfortranarray(x.t,dtype='float64')\n",
    "inpress=x.p\n",
    "inwavenum=x.wno\n",
    "ntemps = inlinetemps.size\n",
    "npress= finePress.size\n",
    "nwave = inwavenum.size\n",
    "#logpress = np.arange(-5.,2.5,0.125)\n",
    "#press = 10.**logpress\n",
    "#print press\n",
    "# Here we are interpolating the linelist onto our fine pressure scale. \n",
    "linelist = (np.ones([ngas,npress,ntemps,nwave],order='F')).astype('float64', order='F')\n",
    "for gas in range (0,ngas):\n",
    "    inlinelist=readsav(lists[gas]).xsecarr\n",
    "    for i in range (0,ntemps):\n",
    "        for j in range (0,nwave):\n",
    "            pfit = interp1d(np.log10(inpress),np.log10(inlinelist[:,i,j]))\n",
    "            linelist[gas,:,i,j] = np.asfortranarray(pfit(np.log10(finePress)))\n",
    "#print linelist.shape\n",
    "#print np.result_type(linelist)\n",
    "press = finePress*1000."
   ]
  },
  {
   "cell_type": "code",
   "execution_count": 14,
   "metadata": {
    "collapsed": false
   },
   "outputs": [],
   "source": [
    "#intemp = np.loadtxt(\"16temps.dat\",dtype='float32')\n",
    "#intemp = np.full(16,1000.,dtype='f')\n",
    "#inlayer = np.arange(0,15.25,1)  \n",
    "#layer = np.arange(0,15.00,0.25)\n",
    "#print layer.size\n",
    "#tfit = interpolate.splrep(inlayer,intemp,s=0)\n",
    "#temp = np.asfortranarray(interpolate.splev(layer,tfit, der=0),dtype='float32')\n",
    "w1 = 1.05\n",
    "w2 = 5.0\n",
    "logg = 4.5\n",
    "R2D2 = 1.0\n",
    "use_disort = 0\n",
    "#print inpress\n",
    "#print mikepress"
   ]
  },
  {
   "cell_type": "code",
<<<<<<< HEAD
   "execution_count": 8,
=======
   "execution_count": null,
>>>>>>> cloud_testing
   "metadata": {
    "collapsed": false
   },
   "outputs": [],
   "source": [
    "VMR1 = np.full((npress,),(-3.5)) # water\n",
    "vmr2 = np.full((npress,),(-3.4)) # ch4\n",
    "vmr3 = np.full((npress,),(-8.0))  # K\n",
    "vmr4 = np.full((npress,),(-7.5)) # CO\n",
    "vmr5 = np.full((npress,),(-8.2)) # CO2\n",
    "#print VMR1.shape\n",
    "logVMR = np.asfortranarray(np.reshape((VMR1,vmr2,vmr3,vmr4,vmr5),(ngas,npress)),dtype='float64')\n",
    "print logVMR.shape"
   ]
  },
  {
   "cell_type": "code",
<<<<<<< HEAD
   "execution_count": 9,
=======
   "execution_count": null,
>>>>>>> cloud_testing
   "metadata": {
    "collapsed": false
   },
   "outputs": [],
   "source": [
    "pcover = 1.0\n",
    "do_clouds = 0\n",
    "cloudnum = np.array([1],dtype='i')\n",
    "#cloudname = np.reshape((cname),(1,1))\n",
    "cloudrad = np.full((1,npress,1),1e-4)\n",
    "cloudsig = np.full((1,npress,1),1e-5)\n",
    "cloudprof = np.full((1,npress,1),0.0)"
   ]
  },
  {
   "cell_type": "code",
<<<<<<< HEAD
   "execution_count": 15,
   "metadata": {
    "collapsed": false
   },
   "outputs": [
    {
     "name": "stdout",
     "output_type": "stream",
     "text": [
      "(4, 198, 9501)\n",
      "(198,)\n",
      "float32\n",
      "0\n"
     ]
    }
   ],
=======
   "execution_count": null,
   "metadata": {
    "collapsed": false
   },
   "outputs": [],
>>>>>>> cloud_testing
   "source": [
    "cia, ciatemps = ciamod.read_cia(\"CIA_DS_aug_2015.dat\",inwavenum)\n",
    "cia = np.asfortranarray(cia, dtype='float32')\n",
    "ciatemps = np.asfortranarray(ciatemps, dtype='float32')\n",
    "print cia.shape\n",
    "print ciatemps.shape\n",
    "print cia.dtype\n",
    "print use_disort"
   ]
  },
  {
   "cell_type": "code",
<<<<<<< HEAD
   "execution_count": 16,
=======
   "execution_count": null,
>>>>>>> cloud_testing
   "metadata": {
    "collapsed": false
   },
   "outputs": [],
   "source": [
    "outspec2 = forwardmodel.marv(w1,w2,temp,logg,R2D2,gasnum,logVMR,pcover,do_clouds,cloudnum,cloudrad,cloudsig,cloudprof,inlinetemps,press,inwavenum,linelist,cia,ciatemps,use_disort)"
   ]
  },
  {
   "cell_type": "code",
   "execution_count": null,
   "metadata": {
    "collapsed": true
   },
   "outputs": [],
   "source": [
    "#np.savetxt(\"disort16stream_test.dat\",np.c_[outspec[0,:],outspec[1,:]])"
   ]
  },
  {
   "cell_type": "code",
<<<<<<< HEAD
   "execution_count": 15,
=======
   "execution_count": 2,
>>>>>>> cloud_testing
   "metadata": {
    "collapsed": false,
    "scrolled": false
   },
   "outputs": [
    {
     "name": "stdout",
     "output_type": "stream",
     "text": [
<<<<<<< HEAD
      "nan\n"
=======
      "34461439.7382\n"
     ]
    },
    {
     "ename": "NameError",
     "evalue": "name 'outspec' is not defined",
     "output_type": "error",
     "traceback": [
      "\u001b[0;31m---------------------------------------------------------------------------\u001b[0m",
      "\u001b[0;31mNameError\u001b[0m                                 Traceback (most recent call last)",
      "\u001b[0;32m<ipython-input-2-aef0aadd053c>\u001b[0m in \u001b[0;36m<module>\u001b[0;34m()\u001b[0m\n\u001b[1;32m     24\u001b[0m \u001b[0;31m#plt.axes().set_aspect(asp)\u001b[0m\u001b[0;34m\u001b[0m\u001b[0;34m\u001b[0m\u001b[0m\n\u001b[1;32m     25\u001b[0m \u001b[0mplt\u001b[0m\u001b[0;34m.\u001b[0m\u001b[0msavefig\u001b[0m\u001b[0;34m(\u001b[0m\u001b[0;34m'testspec.pdf'\u001b[0m\u001b[0;34m,\u001b[0m\u001b[0mformat\u001b[0m\u001b[0;34m=\u001b[0m\u001b[0;34m'pdf'\u001b[0m\u001b[0;34m,\u001b[0m \u001b[0mdpi\u001b[0m\u001b[0;34m=\u001b[0m\u001b[0;36m720\u001b[0m\u001b[0;34m)\u001b[0m\u001b[0;34m\u001b[0m\u001b[0m\n\u001b[0;32m---> 26\u001b[0;31m \u001b[0;32mprint\u001b[0m \u001b[0moutspec\u001b[0m\u001b[0;34m[\u001b[0m\u001b[0;36m1\u001b[0m\u001b[0;34m,\u001b[0m\u001b[0;36m5000\u001b[0m\u001b[0;34m]\u001b[0m\u001b[0;34m\u001b[0m\u001b[0m\n\u001b[0m",
      "\u001b[0;31mNameError\u001b[0m: name 'outspec' is not defined"
>>>>>>> cloud_testing
     ]
    },
    {
     "data": {
<<<<<<< HEAD
      "image/png": "iVBORw0KGgoAAAANSUhEUgAAAYoAAAEPCAYAAABcA4N7AAAABHNCSVQICAgIfAhkiAAAAAlwSFlz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\n",
      "text/plain": [
       "<matplotlib.figure.Figure at 0x126be3510>"
=======
      "image/png": "iVBORw0KGgoAAAANSUhEUgAAAYoAAAEPCAYAAABcA4N7AAAABHNCSVQICAgIfAhkiAAAAAlwSFlz\nAAALEgAACxIB0t1+/AAAERpJREFUeJzt3XuwXWV9xvHvw1WhEYMgqK1aLEgYQSoarSAeBC8w2DK2\nXFS0QbHtiNVRnM44ioQqpbbeazp2qEhbKpfglDIWweK4BUSLRQQ1WkGtV4qIgapNuP76x14hx5jz\n5pyz2Wedc/L9zGSy9rverP1bayb72e9ae70rVYUkSVPZpu8CJEnzm0EhSWoyKCRJTQaFJKnJoJAk\nNRkUkqQmg0KS1LTduN8gycHAxcADwPOAo4HbgF2qalXX59TZtkmSxmsuRhTPrarHVNXjgN2BXavq\nPGBpkuVJDplt2xzULklbvbGOKJLsDhyT5GTgj4EJYE23eg1wFLD9CG3XjbN+SdKYg6KqbgeWJ9kP\n+DhwFXBnt3o9sCeQWbTd3bVJksZs7NcoAKpqTZJzgMOAnbrmJcAdQI3Q9kuSOHGVJM1CVWWqdXP5\nq6d7gHcCB3Sv9wM+CVw2i7ZlXduvqCr/VHH66af3XsN8+eOx8Fh4LNp/tmSsQZHk2CSDJG8CBlV1\nLbA+yUnA2qq6ZpS2cdYuSRoa9zWK1cDqTdrO3Ey/WbdJksbLG+4WqYmJib5LmDc8Fht5LDbyWExf\npnN+aqFIUotpfyRpLiSh5snFbEnSAmRQSJKaDApJUpNBIUlqMigkSU0GhSSpyaCQJDUZFJKkJoNC\nktRkUEiSmgwKSVKTQSFJajIoJElNBoUkqcmgkCQ1GRSSpCaDQpLUZFBIkpoMCklSk0EhSWoyKCRJ\nTQaFJKnJoJAkNRkUkqQmg0KS1GRQSJKaDApJUpNBIUlqMigkSU0GhSSpyaCQJDUZFJKkJoNCktRk\nUEiSmgwKSVLTduN+gyT7Au+uqqOTnArcBuxSVau69bNukySN31hHFEl2BJ4P7JzkYGDXqjoPWJpk\neZJDZts2zrolSRuNe0SxAvh74CXAUcCarn1N93r7EdquG2/pkiQYY1AkOQK4uqrWJQmwG3Bnt3o9\nsCeQWbTd3bVt1sqVKx9cnpiYYGJiYvSdkaRFZDAYMBgMpt0/VTWWQpJcAOzRvTwQeARwfFVdnOR4\n4ACggBuravUM2k4A9q+qt27mPWtc+yNJi1USqipTrR/bNYqqOqGqDquqw4AvA4cAT+1W7wd8EriM\nYRDMpG1Z1yZJmgNz9fPYqqrPA+uTnASsraprqura2bbNUd2StNUb26mnPnjqSZJmrrdTT5KkxcGg\nkCQ1GRSSpCaDQpLUZFBIkpoMCklSk0EhSWoyKCRJTQaFJKnJoJAkNRkUkqQmg0KS1GRQSJKaDApJ\nUpNBIUlqMigkSU0GhSSpyaCQJDUZFJKkJoNCktRkUEiSmgwKSVKTQSFJajIoJElNBoUkqcmgkCQ1\nGRSSpCaDQpLUZFBIkpoMCklSk0EhSWoyKCRJTQaFJKnJoJAkNRkUkqQmg0KS1LTduDacZCnwPuAg\n4B1VdVGSU4HbgF2qalXXb9ZtkqTxG+eIYveqWgG8ADg+ycHArlV1HrA0yfIkh8y2bYx1S5ImGduI\noqq+2S0+HvggcBSwpmtb073efoS268ZVuyRpo7EFBUCSvYCzgNuBO7s/AOuBPYHMou3urk2SNAfG\nGhRV9e0khwM3AQNgp27VEuAOoEZo26yVK1c+uDwxMcHExMTI+yFJi8lgMGAwGEy7f6pqfNVseJPk\nbOCjwJFVdVqSM4B/Bx6YbVtVXbOZ96m52B9JWkySUFWZav04f/X0BmA/4HPAh6vq+iSHJTkJWLvh\ng36UNknS+M3JiGKuOKKQpJnb0ojCG+4kSU0GhSSpyaCQJDUZFJKkJoNCktRkUEiSmgwKSVKTQSFJ\najIoJElNBoUkqcmgkCQ1zSookuzwUBciSZqfphUUSZ45aXl74P1jq0iSNK9Md5rxFUl2B+4C3kvj\nwUGSpMVlukFxCXAqw+dfv6Kqvji+kiRJ88l0r1GcA6wClgF7JfnA+EqSJM0n0x1RHFVVN3bLFyb5\n4bgKkiTNL9MNimOSHNMtbwM8EfBxpJK0FZhuUNzL8NnXAR4F3De2iiRJ88qsnpmd5KKqOm4M9YzE\nZ2ZL0sxt6ZnZ0xpRJPnMJv/m66MWJklaGKY1okjy3Kr67KTX21bV/WOtbBYcUUjSzG1pRDFlUCR5\nBVP/fPagqnr9Q1DfQ8qgkKSZ21JQtO6jOBDYFth1020CfhpL0laiNaLYjuEd2S8HDgJ+DfhiVd06\nd+XNjCMKSZq5WY8oquo+4JKqugu4CnjhfA4JSdJ4bGkKj227KcW3Bb6dZIckOyZ5yRzUJkmaB5q/\nekryc+D2zazaraqWjK2qWfLUkyTN3Kj3UTy/qj6/mY0uH7kySdKCMKs7s+crRxSSNHOj/DxWkiSD\nQpLUZlBIkpoMCklSk0EhSWoyKCRJTQaFJKlpuo9CnbEkS4BzgKcBl1fVKUlOZvgY1d2A91RVjdI2\nrtolSRuNc0TxTOCVwFOAw5M8HXhOVZ0L3AYcm+SJs20bY92SpEnGFhRVdWVVrauqdcBXgaOAm7vV\nX+teP3+ENknSHBjbqacNulNQ3wPuBf63a74b2JPhaaS1s2yTJM2BsQcFcCJwGvBSYGnXtgS4g+HM\ntLNt26yVK1c+uDwxMcHExMToeyBJi8hgMGAwGEy7/1gnBUxyDPAfVXVrkicAZ1TViiSvAu4BPgu8\nYzZtVXXeZt7Pa9ySNENbmhRwbEGR5LXAmxl++98BeD+wE7CO4amjs7pfM50yw7Y9gHdV1QObeU+D\nQpJmqLeg6INBIUkz5zTjkqSRGBSSpCaDQpLUZFBIkpoMCklSk0EhSWoyKCRJTQaFJKnJoJAkNRkU\nkqQmg0KS1GRQSJKaDApJUpNBIUlqMigkSU0GhSSpyaCQJDUZFJKkJoNCktRkUEiSmgwKSVKTQSFJ\najIoJElNBoUkqcmgkCQ1GRSSpCaDQpLUZFBIkpoMCklSk0EhSWoyKCRJTQaFJKnJoJAkNRkUkqQm\ng0KS1GRQSJKaDApJUtN249x4kkOBt1fVEUm2Ad4GfAvYtqr+cZS2cdYtSdporCOKqroKeHj38mXA\nj6rqn4HfSfLrI7ZJkubAXJx6uqf7+0jg693yzcARI7ZJkubAWE89bWI3YG23vB7Yc8S2zVq5cuWD\nyxMTE0xMTDwUtUvSojEYDBgMBtPuP5dBcTuwc7e8BLhjhLafTPUmk4NCkvSrNv0SfcYZZzT7z+Wv\nni4DDuiW9wGuHLFNkjQHUlXj23iyP/BvwIuAbwDvAG4BqKqPdr9mmlXbFO9X49wfSVqMklBVmXL9\nYvpgNSgkaea2FBTecCdJajIoJElNBoUkqcmgkCQ1GRSSpCaDQpLUZFBIkpoMCklSk0EhSWoyKCRJ\nTQaFJKnJoJAkNRkUkqQmg0KS1GRQSJKaDApJUpNBIUlqMigkSU0GhSSpyaCQJDUZFJKkJoNCktRk\nUEiSmgwKSVKTQSFJajIoJElNBoUkqcmgkCQ1GRSSpCaDQpLUZFBIkpoMCklSk0EhSWoyKCRJTQaF\nJKnJoJAkNS2ooEhyapITk5zSdy3z3WAw6LuEecNjsZHHYiOPxfQtmKBIcgiwa1WdByxNsrzvmuYz\n/xNs5LHYyGOxkcdi+hZMUABHAmu65TXAUT3WIklbjYUUFLsBa7vlu4E9e6xFkrYaqaq+a5iWJO8E\nbqyq1UlOAPavqrdu0mdh7IwkzTNVlanWbTeXhYzoMoann1YDy4BPbtqhtaOSpNlZMKeequpaYH2S\nk4C1VXVN3zVJ0tZgwZx6kiT1Y8GMKCRJ/VgUQZHk0CRX9l1H35IsSbI6ybeSrOq7nr4lWZrk3CRf\nSXJc3/X0Lcm+ST7Rdx3zQZKDk9ya5IdJ9um7nr5k6A+THJnksVP1W0gXs6dUVVcleXjfdcwDzwRe\n2S3fkOSgqrq+z4J6tntVrUjyGOBDwEV9F9SXJDsCLwB27ruWeeK5VfWYvouYB/4S+IeqWtPqtChG\nFJ17+i6gb1V1ZVWtq6p1wFeB/+m7pj5V1Te7xccDH+yzlnlgBXB230XMB0l2B45J8u0kR/RdT1+S\nPBtYDjwvyV8k2X6qvospKNRJsgT4XlX9sO9a+pbkN4GzgNf2XUtfug/Dq7svEFu9qrq9qpYDRwN/\nk2SXvmvqye8BH6mqDwG7Aq+bqqNBsTidCJzWdxHzQVV9Bzgc2C/Jo/qupycnA6uSfAY4MMlb+i5o\nPuhOt5wD7NV3LT3ZEfhZt/wJ4ClTdVwU1yi0UZJjgEuq6hdJHl1VP+67pr5VVSX5AvDTvmvpQ1Wd\nsGE5yWeq6qw+65ln7mHjHHJbm2uA3wb+FdgBuG6qjotiRJFkf2CvJPv1XUufkrwWeC9waZIb2con\nTkzyhiR/l+SVwIfLm4YEJDk2ySDJm4BBVd3dd019qKqLgZ27L5ePBz4yVV9vuJMkNS2KEYUkaXwM\nCklSk0EhSWoyKCRJTQaFJKnJoJAkNRkU0iRJtk3y3iSveIi2t3eSG6bR79Wz2PanZleVNDMGhRak\n7qape7sP4mcl+VmSE7t1+ya5PMluM91uVd3PcELFkf5vdNM3P66qbgaacywleQRw56TXeyf5cpK3\nbdJvryT3J9lwI+ULR6lRmi6DQgtSVa0GbgR2rKovABdOWn0XwzuxfzLLzd8/an3AG4Df6pa3dOfv\nEcCDz1PpwuVC4DWbzOh5LPDTqrqs6+fdspoTzvWkhex84HiGI4B1DD9IzwOOBD6WZAWwB/AE4K+B\nZwB/BTyV4XMZVlbVH3X9dmD4gX3i5DdIcjzwcIYzbb4OeCfwX8ABwPqqelX34JvfZzjB2qEMpzQ/\nFHh0klu67RwHvAY4v6rO2WQ/llbVXZu0/Qi4Gng5cG43I/D/Afd12zsAWFVVz0nyBOBFwP7AfwJf\nAv4WuB5YC3y827edGE49f0l3nC5lOM3Ll6rq9O50233AiqpytKIHOaLQQnYhcGz3rftmhjOj7gLs\nVFXrgUcyfGDRfwMHV9VFwPeBhwF7A2cmeTHwOOC7wHeYNJNoN4fYwcCtwA3duu8Da6rqZQwfBATD\nKcy/w3Am0v2r6hqGo53LJ031fhnweuAPJu9Akm3oPvw3433AG7vllwIf27Ciqm6a1O/tDJ81cTrD\n8LqJYSicCvw5w+D6QFWdyXCksz1wO/A54Dhgw6SBL+7qfvMU9Wgr5YhCC1ZV/SDJbcCfARcA+zD8\n1v+VrsungFczDIZtu7ZzGT4F8Laq+mw3YvhuVV0BXJEkDJ8UCLAM+PEm657HxusJ93Z/X8vG0Hj5\nFLX+PMm6rpbJng18fop/c32Su5K8AHhkVd0xLOFBGwLmyVX1AHBHdxwA7qqqDaOPZd16gK93x+l+\n4M6qWpdkh27de4CLgU8Df7q5mrR1ckShhe584Kiq+hbDEcYbgcu7dR9leIrlB5P6XwC8jOEpGYBb\ngFOSPCzJvvzyswluAU5K8qgkewBP79p/6dOa4bfwd1XVBVX1pa6tgG26EcNkm/7bJ096Et/mvK/b\nj0sbfe5IcjTApAvdk30/yd7d8nbA16ao5T6Gp+X2TXJg4/20lTEotNCtpvsWXVVXA2dX1YbH4n4Z\n+CfgScDhSXasql8AVzAcbcDwfP0twDeBY7rAeRpwEMMA+DjDayBvAW5i+EG6PMmTgEckeRrDEcin\nktyQ5Ioky7q+bwKeBfxGkmd023xskke3dqi75vDi7tTXJcC/VNU3ukdXPjLJ73bv/6TuCX5vAd6V\n5NMMQ2EfYFmSDQ+i+RPgtCQnMxwx3Ac8uduPg7pt7gWcyXC0dT3DkYcEOM24NLIkb66qd3fLuwIv\nrKrzey5Lesh4jUIa3Z5JLgW+x/C0ztk91yM9pBxRSJKavEYhSWoyKCRJTQaFJKnJoJAkNRkUkqQm\ng0KS1PT//cTF5pwSrYYAAAAASUVORK5CYII=\n",
      "text/plain": [
       "<matplotlib.figure.Figure at 0x10b8cbb90>"
>>>>>>> cloud_testing
      ]
     },
     "metadata": {},
     "output_type": "display_data"
    }
   ],
   "source": [
    "#B = np.empty(nwave,dtype='d') \n",
    "#B = 3.14159274*((2.*6.62606957e-34*(2.99792458e8**2.)) / ((outspec[0,:]*1.e-6)**5.)) / ((np.exp((6.62606957e-34*2.99792458e8)/(outspec[0,:]*1e-6*1.3806488e-23*1000.)))-1.) * 1.e-6\n",
    "plt.rc('font',family='Times New Roman')\n",
    "fig=plt.figure(dpi=320)\n",
    "plt.axis([1.0, 6.0,0,5e4])\n",
    "#plt.plot(outspec[0,:],(outspec[1,:] / B),'r-')\n",
    "#plt.plot(outspec[0,:],B,'b-')\n",
<<<<<<< HEAD
    "#bspec = np.loadtxt(\"5gas_spectrum.dat\", unpack=\"true\")\n",
    "#plt.plot(bspec[0,:],bspec[1,:],'r-')\n",
    "plt.plot(outspec[0,:],outspec[1,:],'g-')\n",
    "plt.plot(outspec2[0,:],outspec2[1,:],'r-')\n",
=======
    "bspec = np.loadtxt(\"5gas_spectrum.dat\", unpack=\"true\")\n",
    "#print bspec.shape[1]\n",
    "#plt.plot(bspec[0,:],bspec[1,:],'r-')\n",
    "#plt.plot(outspec[0,:],outspec[1,:],'g-')\n",
    "#plt.plot(outspec2[0,:],outspec2[1,:],'r-')\n",
>>>>>>> cloud_testing
    "#plt.plot(mikespec[0,:],outspec[1,:] / (mikespec[1,:]/1e6),'r-')\n",
    "#plt.plot(mikespec[0,:],((mikespec[1,:] / 1e6) / outspec[1,:]), 'r-')\n",
    "#plt.plot(outspec[0,:],np.full(nwave,1.0),'b--')\n",
    "\n",
    "#plt.plot(outspec[0,:],6.666*outspec[1,:],'b-')\n",
    "plt.ylabel(r'Flux')\n",
    "plt.xlabel('Wavelength / Microns')\n",
    "\n",
    "#asp = 10 / 3.5\n",
    "\n",
    "#plt.axes().set_aspect(asp)\n",
    "plt.savefig('testspec.pdf',format='pdf', dpi=720)\n",
    "print outspec[1,5000]"
   ]
  },
  {
   "cell_type": "code",
   "execution_count": null,
   "metadata": {
    "collapsed": false
   },
   "outputs": [],
   "source": [
    "outspec =  outspec[:,np.logical_not(np.logical_or(outspec[0,:] > w2, outspec[0,:] < w1))]\n",
    "wlen = outspec.shape[1]\n",
    "wint = outspec[0,0] - outspec[0,wlen-1]\n",
    "disp = wint / wlen\n",
    "fwhm = 0.005\n",
    "gwidth = int(round(fwhm / disp))"
   ]
  },
  {
   "cell_type": "code",
   "execution_count": null,
   "metadata": {
    "collapsed": true
   },
   "outputs": [],
   "source": [
    "mikespec[1,:] = mikespec[1,:] / 1e6\n",
    "mikespec =  mikespec[:,np.logical_not(np.logical_or(mikespec[0,:] > w2, mikespec[0,:] < w1))]\n",
    "wlen = mikespec.shape[1]\n",
    "wint = mikespec[0,0] - mikespec[0,wlen-1]\n",
    "disp = wint / wlen\n",
    "fwhm = 0.005\n",
    "gwidth = int(round(fwhm / disp))"
   ]
  },
  {
   "cell_type": "code",
   "execution_count": null,
   "metadata": {
    "collapsed": false
   },
   "outputs": [],
   "source": [
    "from astropy.convolution import convolve, convolve_fft\n",
    "from astropy.convolution import Gaussian1DKernel\n"
   ]
  },
  {
   "cell_type": "code",
   "execution_count": null,
   "metadata": {
    "collapsed": false
   },
   "outputs": [],
   "source": [
    "gauss = Gaussian1DKernel(gwidth)\n",
    "cspec = convolve(outspec[1,:],gauss,boundary='extend')\n",
    "spec = np.array([outspec[0,:],cspec])"
   ]
  },
  {
   "cell_type": "code",
   "execution_count": null,
   "metadata": {
    "collapsed": false
   },
   "outputs": [],
   "source": [
    "mgauss = Gaussian1DKernel(gwidth)\n",
    "mcspec = convolve(mikespec[1,:],mgauss,boundary='extend')\n",
    "mspec = np.array([mikespec[0,:],mcspec])"
   ]
  },
  {
   "cell_type": "code",
   "execution_count": null,
   "metadata": {
    "collapsed": false
   },
   "outputs": [],
   "source": [
    "print mspec[1]\n",
    "print spec[1]"
   ]
  },
  {
   "cell_type": "code",
   "execution_count": null,
   "metadata": {
    "collapsed": false
   },
   "outputs": [],
   "source": [
    "plt.rc('font',family='Times New Roman')\n",
    "fig=plt.figure(dpi=320)\n",
    "plt.axis([1.0, 5.0, 0.,1.5e5])\n",
    "plt.plot(mspec[0,:],mspec[1,:],'r-')\n",
    "plt.plot(spec[0,:],spec[1,:],'b-')\n",
    "#plt.plot(spec[0,:],mspec[1,:] / spec[1,:],'g-')\n",
    "plt.ylabel(r'F_mike / F_ben')\n",
    "plt.xlabel('Wavelength / Microns')\n"
   ]
  },
  {
   "cell_type": "code",
   "execution_count": null,
   "metadata": {
    "collapsed": false
   },
   "outputs": [],
   "source": [
    "# now rebin\n",
    "wavenew = np.arange(w1,w2,0.0015,dtype='f')\n",
    "ispec = spectrum.ArraySourceSpectrum(wave=spec[0,:], flux=spec[1,:])\n",
    "f = np.ones(len(spec[0,:]))\n",
    "filt = spectrum.ArraySpectralElement(spec[0,:], f, waveunits='microns')\n",
    "obs = observation.Observation(ispec, filt, binset=wavenew, force='taper')\n",
    "print obs.binflux.shape"
   ]
  },
  {
   "cell_type": "code",
   "execution_count": null,
   "metadata": {
    "collapsed": false
   },
   "outputs": [],
   "source": [
    "speclen = obs.binflux.size\n",
    "unc = np.max(obs.binflux)\n",
    "error = np.full(speclen,unc/50)\n",
    "outflux = np.ones(speclen)\n",
    "outflux = obs.binflux + error*np.random.randn(speclen)\n",
    "    "
   ]
  },
  {
   "cell_type": "code",
   "execution_count": null,
   "metadata": {
    "collapsed": false
   },
   "outputs": [],
   "source": [
    "plt.rc('font',family='Times New Roman')\n",
    "fig=plt.figure(dpi=320)\n",
    "plt.axis([0.8, 5.2, 0.,25000])\n",
    "plt.plot(outspec[0,:],outspec[1,:],'r-')\n",
    "#plt.plot(spec[0,:],spec[1,:],'b-')\n",
    "plt.plot(wavenew,outflux,'b-')\n",
    "plt.ylabel(r'$Flux$')\n",
    "plt.xlabel('Wavelength / Microns')\n"
   ]
  },
  {
   "cell_type": "code",
   "execution_count": null,
   "metadata": {
    "collapsed": false
   },
   "outputs": [],
   "source": [
    "np.savetxt('5gas_spectrum.dat', np.c_[wavenew,outflux,error])"
   ]
  },
  {
   "cell_type": "code",
   "execution_count": null,
   "metadata": {
    "collapsed": false
   },
   "outputs": [],
   "source": [
    "gwidth = 4\n",
    "if (gwidth % 2 == 0):\n",
    "    gwidth = gwidth + 1"
   ]
  },
  {
   "cell_type": "code",
   "execution_count": null,
   "metadata": {
    "collapsed": false
   },
   "outputs": [],
   "source": [
    "print gwidth"
   ]
  },
  {
   "cell_type": "code",
   "execution_count": null,
   "metadata": {
    "collapsed": false
   },
   "outputs": [],
   "source": [
    "theta = [-3.45, -3.40]\n",
    "fixvmr = -8."
   ]
  },
  {
   "cell_type": "code",
   "execution_count": null,
   "metadata": {
    "collapsed": false
   },
   "outputs": [],
   "source": [
    "test = np.array([theta[0],theta[1], fixvmr]).reshape(3,)\n",
    "print test"
   ]
  },
  {
   "cell_type": "code",
   "execution_count": null,
   "metadata": {
    "collapsed": false
   },
   "outputs": [],
   "source": [
    "ndim, nwalkers = 2, 4\n",
    "p0 = -1.* np.random.rand(ndim * nwalkers).reshape((nwalkers, ndim)) - 3.0\n",
    "print p0.shape"
   ]
  },
  {
   "cell_type": "code",
   "execution_count": null,
   "metadata": {
    "collapsed": false
   },
   "outputs": [],
   "source": [
    "plt.rc('font',family='Times New Roman')\n",
    "fig=plt.figure(dpi=320)\n",
    "plt.axis([0.7, 3.5, 0.,25000])\n",
    "bspec = np.loadtxt(\"sim_spectrum.dat\", unpack=\"true\")\n",
    "plt.plot(bspec[0,:],bspec[1,:],'r-')\n",
    "plt.plot(outspec[0,:],outspec[1,:],'b-')\n",
    "#plt.plot(spec[0,:],mspec[1,:] / spec[1,:],'g-')\n",
    "plt.ylabel(r'F_mike / F_ben')\n",
    "plt.xlabel('Wavelength / Microns')\n"
   ]
  },
  {
   "cell_type": "code",
   "execution_count": null,
   "metadata": {
    "collapsed": true
   },
   "outputs": [],
   "source": []
  }
 ],
 "metadata": {
  "kernelspec": {
   "display_name": "Python 2",
   "language": "python",
   "name": "python2"
  },
  "language_info": {
   "codemirror_mode": {
    "name": "ipython",
    "version": 2
   },
   "file_extension": ".py",
   "mimetype": "text/x-python",
   "name": "python",
   "nbconvert_exporter": "python",
   "pygments_lexer": "ipython2",
   "version": "2.7.10"
  }
 },
 "nbformat": 4,
 "nbformat_minor": 0
}
