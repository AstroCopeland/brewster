{
 "cells": [
  {
   "cell_type": "code",
   "execution_count": 1,
   "metadata": {
    "collapsed": false
   },
   "outputs": [
    {
     "name": "stderr",
     "output_type": "stream",
     "text": [
      "/opt/local/Library/Frameworks/Python.framework/Versions/2.7/lib/python2.7/site-packages/IPython/kernel/__init__.py:13: ShimWarning: The `IPython.kernel` package has been deprecated. You should import from ipykernel or jupyter_client instead.\n",
      "  \"You should import from ipykernel or jupyter_client instead.\", ShimWarning)\n"
     ]
    }
   ],
   "source": [
    "import multiprocessing\n",
    "import time\n",
    "import numpy as np\n",
    "import scipy as sp\n",
    "import emcee\n",
    "import testkit\n",
    "import ciamod\n",
    "import os\n",
    "import gc\n",
    "import sys\n",
    "import pickle\n",
    "from scipy.io.idl import readsav\n",
    "from scipy import interpolate\n",
    "from scipy.interpolate import interp1d\n",
    "import matplotlib\n",
    "import matplotlib.pyplot as plt\n",
    "import matplotlib.image as mgimg\n",
    "import TPmod\n",
    "from IPython.display import display\n",
    "%matplotlib inline\n"
   ]
  },
  {
   "cell_type": "code",
   "execution_count": 2,
   "metadata": {
    "collapsed": false
   },
   "outputs": [
    {
     "name": "stdout",
     "output_type": "stream",
     "text": [
      "[  1.00000000e-04   1.25892541e-04   1.58489319e-04   1.99526231e-04\n",
      "   2.51188643e-04   3.16227766e-04   3.98107171e-04   5.01187234e-04\n",
      "   6.30957344e-04   7.94328235e-04   1.00000000e-03   1.25892541e-03\n",
      "   1.58489319e-03   1.99526231e-03   2.51188643e-03   3.16227766e-03\n",
      "   3.98107171e-03   5.01187234e-03   6.30957344e-03   7.94328235e-03\n",
      "   1.00000000e-02   1.25892541e-02   1.58489319e-02   1.99526231e-02\n",
      "   2.51188643e-02   3.16227766e-02   3.98107171e-02   5.01187234e-02\n",
      "   6.30957344e-02   7.94328235e-02   1.00000000e-01   1.25892541e-01\n",
      "   1.58489319e-01   1.99526231e-01   2.51188643e-01   3.16227766e-01\n",
      "   3.98107171e-01   5.01187234e-01   6.30957344e-01   7.94328235e-01\n",
      "   1.00000000e+00   1.25892541e+00   1.58489319e+00   1.99526231e+00\n",
      "   2.51188643e+00   3.16227766e+00   3.98107171e+00   5.01187234e+00\n",
      "   6.30957344e+00   7.94328235e+00   1.00000000e+01   1.25892541e+01\n",
      "   1.58489319e+01   1.99526231e+01   2.51188643e+01   3.16227766e+01\n",
      "   3.98107171e+01   5.01187234e+01   6.30957344e+01   7.94328235e+01\n",
      "   1.00000000e+02   1.25892541e+02   1.58489319e+02   1.99526231e+02]\n"
     ]
    }
   ],
   "source": [
    "# set up the model arguments the drop these into theta(state vector) or runargs\n",
    "\n",
    "# set up pressure grids in bar cos its intuitive\n",
    "logcoarsePress = np.arange(-4.0, 2.5, 0.53)\n",
    "coarsePress = pow(10,logcoarsePress)\n",
    "logfinePress = np.arange(-4.0, 2.4, 0.1)\n",
    "finePress = pow(10,logfinePress)\n",
    "# forward model wants pressure in bar\n",
    "press = finePress\n",
    "#nprof = coarsePress.size\n",
    "#print nprof\n",
    "print finePress"
   ]
  },
  {
   "cell_type": "code",
   "execution_count": 3,
   "metadata": {
    "collapsed": false
   },
   "outputs": [],
   "source": [
    "w1 = 0.8\n",
    "w2 = 2.4\n",
    "\n",
    "dist = 8.19\n",
    "# hardwired FWHM of data in microns\n",
    "fwhm = 0.005\n",
    "\n",
    "npatches = 1\n",
    "nclouds= 1\n",
    "\n",
    "do_clouds = np.asfortranarray(np.array([1]),dtype='i')\n",
    "cloudnum = np.zeros([npatches,nclouds],dtype='i')\n",
    "cloudnum[:,:] = 5\n",
    "cloudnum = np.asfortranarray(cloudnum,dtype = 'i')\n",
    "\n",
    "cloudtype = np.asfortranarray(np.array([1]),dtype='i')\n",
    "\n",
    "use_disort = 0 \n",
    "\n",
    "do_fudge = 1\n",
    "# Set the profile type\n",
    "proftype = 2\n",
    "\n",
    "\n",
    "# now the linelist\n",
    "# Set up number of gases, and point at the lists. see gaslist.dat\n",
    "ngas = 10\n",
    "gasnum = np.asfortranarray(np.array([1,2,4,5,7,8,10,11,20,21],dtype='i'))\n",
    "lists = [\"../Linelists/H2O_xsecs.pic\",\"../Linelists/ch4_xsecs.pic\",\"../Linelists/co_xsecs.pic\",\"../Linelists/co2_xsecs.pic\",\"../Linelists/tio_xsecs.pic\",\"../Linelists/vo_xsecs.pic\",\"../Linelists/crh_xsecs.pic\" ,\"../Linelists/feh_xsecs.pic\",\"../Linelists/K_Mike_xsecs.pic\",\"../Linelists/Na_Mike_xsecs.pic\"]"
   ]
  },
  {
   "cell_type": "code",
   "execution_count": 4,
   "metadata": {
    "collapsed": false
   },
   "outputs": [],
   "source": [
    "# get the basic framework from water list\n",
    "rawwavenum, inpress, inlinetemps, inlinelist = pickle.load( open('../Linelists/H2O_xsecs.pic', \"rb\" ) )\n",
    "wn1 = 10000./w2\n",
    "wn2 = 10000. / w1\n",
    "inwavenum = np.asfortranarray(rawwavenum[np.where(np.logical_not(np.logical_or(rawwavenum[:] > wn2, rawwavenum[:] < wn1)))],dtype='float64')\n",
    "ntemps = inlinetemps.size\n",
    "npress= finePress.size\n",
    "nwave = inwavenum.size\n",
    "r1 = np.amin(np.where(np.logical_not(np.logical_or(rawwavenum[:] > wn2, rawwavenum[:] < wn1))))\n",
    "r2 = np.amax(np.where(np.logical_not(np.logical_or(rawwavenum[:] > wn2, rawwavenum[:] < wn1))))\n",
    "\n",
    "# Here we are interpolating the linelist onto our fine pressure scale.\n",
    "# pickles have linelist as 4th entry....\n",
    "linelist = (np.ones([ngas,npress,ntemps,nwave],order='F')).astype('float64', order='F')\n",
    "for gas in range (0,ngas):\n",
    "    inlinelist= pickle.load( open(lists[gas], \"rb\" ) )[3]\n",
    "    # make missing bits crazy. They are all high pressure, low-temp points.\n",
    "    #inlinelist[np.isnan(inlinelist)] = 1.0\n",
    "    for i in range (0,ntemps):\n",
    "        for j in range (r1,r2+1):\n",
    "            pfit = interp1d(np.log10(inpress),np.log10(inlinelist[:,i,j]))\n",
    "            linelist[gas,:,i,(j-r1)] = np.asfortranarray(pfit(np.log10(finePress)))\n",
    "\n",
    "linelist[np.isnan(linelist)] = -50.0\n"
   ]
  },
  {
   "cell_type": "code",
   "execution_count": 5,
   "metadata": {
    "collapsed": false
   },
   "outputs": [],
   "source": [
    "# Get the cia bits\n",
    "tmpcia, ciatemps = ciamod.read_cia(\"CIA_DS_aug_2015.dat\",inwavenum)\n",
    "cia = np.asfortranarray(np.empty((4,ciatemps.size,nwave)),dtype='float32')\n",
    "cia[:,:,:] = tmpcia[:,:,:nwave] \n",
    "ciatemps = np.asfortranarray(ciatemps, dtype='float32')\n"
   ]
  },
  {
   "cell_type": "code",
   "execution_count": 6,
   "metadata": {
    "collapsed": false
   },
   "outputs": [],
   "source": [
    "# get the observed spectrum\n",
    "obspec = np.asfortranarray(np.loadtxt(\"2M0355_2massJcalib.dat\",dtype='d',unpack='true'))\n",
    "\n",
    "\n",
    "\n",
    "# place holder values for cloudparams\n",
    "cloudparams = np.ones([5],dtype='d')\n",
    "cloudparams[0] = 0.\n",
    "cloudparams[1] = 10\n",
    "cloudparams[2] = 12\n",
    "cloudparams[3] = 1e-4\n",
    "cloudparams[4] = 1e-5\n",
    "\n",
    "\n",
    "runargs = dist, cloudtype,cloudparams,do_clouds,gasnum,cloudnum,inlinetemps,coarsePress,press,inwavenum,linelist,cia,ciatemps,use_disort,fwhm,obspec,proftype,do_fudge"
   ]
  },
  {
   "cell_type": "code",
   "execution_count": 7,
   "metadata": {
    "collapsed": false
   },
   "outputs": [
    {
     "name": "stdout",
     "output_type": "stream",
     "text": [
      "23\n"
     ]
    }
   ],
   "source": [
    "# for proftype = 2 with no clouds, ndim = nprof + ngas-1, + (dlam,beta,logg, r2d2)\n",
    "ndim =23 #(nprof + (ngas-1) + 9)\n",
    "theta = np.empty(ndim)\n",
    "print ndim"
   ]
  },
  {
   "cell_type": "code",
   "execution_count": 21,
   "metadata": {
    "collapsed": false
   },
   "outputs": [],
   "source": [
    "theta[0] = (0.5*np.random.randn()) - 3.5 # H2O\n",
    "theta[1] = (0.5*np.random.randn()) - 6.0 # Ch4\n",
    "theta[2] = (0.5*np.random.randn()) - 6.0 # CO\n",
    "theta[3] = (0.5*np.random.randn()) - 6.0 # CO2\n",
    "theta[4] = (0.5*np.random.randn()) - 8.0 # TiO\n",
    "theta[5] = (1.0*np.random.randn()) - 8.0 # VO     \n",
    "theta[6] = (1.0*np.random.randn()) - 8.0 # CrH\n",
    "theta[7] = (0.5*np.random.randn()) - 8.0 # FeH\n",
    "theta[8] = (0.5*np.random.randn()) - 5.5 # Na+K\n",
    "theta[9] = np.random.rand() + 3.5  # logg\n",
    "theta[10] = 5e-20 +  1e-19 * np.random.rand()   # r2d2\n",
    "theta[11] = np.random.randn() * 0.001 # dlam\n",
    "theta[12] = np.log10((np.random.rand() * (max(obspec[2,:]**2)*(10. - 0.01))) + (0.01*min(obspec[2,10::3]**2)))\n",
    "#BTprof = np.loadtxt(\"BTtemp800_45_13.dat\")\n",
    "#theta[13] = np.random.rand() # patch fraction\n",
    "theta[13] =  -23. + np.random.rand() # cloud tau\n",
    "theta[14] = -4. + 6.*np.random.rand()  # P0\n",
    "theta[15] = np.random.rand()  # cloud thickness (in delta-log-pressure)\n",
    "theta[16]  = -1.5 + 0.1*np.random.randn() # rg\n",
    "theta[17]  = -2.0 + 0.5*np.random.randn() # rsig\n",
    "theta[18] = 0.69 #0.6 + 0.1*np.random.rand()  # a1\n",
    "theta[19] = 0.14#0.1+ 0.05*np.random.randn()  # a2\n",
    "theta[20] =  0.042 #0.2+ 0.05* np.random.randn() #P1\n",
    "theta[21] = 1.9 #2. + 0.2*np.random.randn() #P2\n",
    "theta[22] = 3500. #3000. + (np.random.rand() * 1000.0)  #T3\n"
   ]
  },
  {
   "cell_type": "code",
   "execution_count": 22,
   "metadata": {
    "collapsed": false
   },
   "outputs": [
    {
     "name": "stdout",
     "output_type": "stream",
     "text": [
      "[ -3.35112381e+00  -5.77043395e+00  -5.88757568e+00  -5.60334163e+00\n",
      "  -8.54825221e+00  -8.59391626e+00  -7.99174073e+00  -8.63124194e+00\n",
      "  -5.87762673e+00   3.72504052e+00   1.24567934e-19   3.79761160e-04\n",
      "  -2.87463053e+01  -2.25041992e+01  -3.88784180e+00   5.88841644e-01\n",
      "  -1.35737140e+00  -7.92333592e-01   6.90000000e-01   1.40000000e-01\n",
      "   4.20000000e-02   1.90000000e+00   3.50000000e+03]\n"
     ]
    }
   ],
   "source": [
    "print theta"
   ]
  },
  {
   "cell_type": "code",
   "execution_count": 23,
   "metadata": {
    "collapsed": false
   },
   "outputs": [],
   "source": [
    "#theta  = np.array([-4.65137266e+00,-6.57541788e+00,-6.34541845e+00,-6.02055239e+00,-7.61015960e+00,-7.69296447e+00,-7.96925859e+00,-8.17067701e+00,-5.24967753e+00,4.18197125e+00,9.11939275e-20,-1.54483118e-03,-2.85043035e+01,-2.27027401e+01,-3.75394039e+00,9.64633089e-01,-1.45772432e+00,-2.04566685e+00,6.92313315e-01,1.14992499e-01,4.17682415e-02,1.91757363e+00,3.52950729e+03])"
   ]
  },
  {
   "cell_type": "code",
   "execution_count": 24,
   "metadata": {
    "collapsed": false
   },
   "outputs": [
    {
     "name": "stdout",
     "output_type": "stream",
     "text": [
      "[1]\n",
      "[ 1  2  4  5  7  8 10 11 20 21]\n",
      "[[5]]\n",
      "[1]\n",
      "23\n"
     ]
    }
   ],
   "source": [
    "print do_clouds\n",
    "print gasnum\n",
    "print cloudnum\n",
    "print cloudtype\n",
    "#print theta[15]\n",
    "#print theta[16]\n",
    "#r2d2= theta[10]\n",
    "#logg = theta[9]\n",
    "#D = 3.086e+16 * dist\n",
    "#R = np.sqrt(r2d2) * D\n",
    "#g = (10.**logg)/100.\n",
    "#M = (R**2 * g/(6.67E-11))/1.898E27\n",
    "#print R/70000e3, M\n",
    "print theta.size"
   ]
  },
  {
   "cell_type": "code",
   "execution_count": 25,
   "metadata": {
    "collapsed": false
   },
   "outputs": [
    {
     "data": {
      "text/plain": [
       "<matplotlib.text.Text at 0x10e8bb210>"
      ]
     },
     "execution_count": 25,
     "metadata": {},
     "output_type": "execute_result"
    },
    {
     "data": {
      "image/png": "[encoded data removed]",
      "text/plain": [
       "<matplotlib.figure.Figure at 0x11aeb9050>"
      ]
     },
     "metadata": {},
     "output_type": "display_data"
    }
   ],
   "source": [
    "plt.rc('font',family='Times New Roman')\n",
    "fig=plt.figure(dpi=320)\n",
    "plt.axis([-500., 6000.,3.0,-5.0])\n",
    "logP = np.log10(press)\n",
    "plotT = TPmod.set_prof(proftype,coarsePress,press,theta[18:])\n",
    "plt.plot(plotT,logP, \"r-\")\n",
    "\n",
    "plt.ylabel(r'log(P)')\n",
    "plt.xlabel('T/K')\n"
   ]
  },
  {
   "cell_type": "code",
   "execution_count": 26,
   "metadata": {
    "collapsed": false
   },
   "outputs": [
    {
     "name": "stdout",
     "output_type": "stream",
     "text": [
      "a1 =  0.69\n",
      "a2 =  0.14\n",
      "P1 =  0.042\n",
      "P3 =  1.9\n",
      "T3 =  3500.0\n",
      "T =  [ 2385.52867187  2386.03147831  2386.66323602  2387.44085655  2388.37996374\n",
      "  2389.49443131  2390.79610055  2392.29468562  2393.99784626  2395.91138765\n",
      "  2398.03953866  2400.38526017  2402.95054478  2405.73668136  2408.7444712\n",
      "  2411.97439313  2415.42672215  2419.10161007  2422.99913741  2427.11934527\n",
      "  2431.46225377  2436.02775599  2440.81574278  2445.8261047   2451.05866582\n",
      "  2456.51317681  2462.18935357  2468.08702817  2474.20653012  2480.54948292\n",
      "  2487.12027396  2493.92851405  2500.99281204  2508.34611129  2516.04263447\n",
      "  2524.16615435  2532.83888423  2542.22984882  2552.56127858  2564.11150072\n",
      "  2577.21030813  2592.23381356  2609.5891629   2629.69508851  2652.95833446\n",
      "  2679.74733014  2710.3643192   2745.01678555  2783.78875788  2826.6127474\n",
      "  2873.24388221  2923.2391816   2975.94646471  3030.50842962  3085.88720917\n",
      "  3140.91266955  3194.35384632  3245.00788224  3291.79591972  3333.85213944\n",
      "  3370.59177784  3401.74696954  3427.36512585  3447.77139763]\n",
      "Rj =  1.27596111756\n",
      "M =  3.33721654106\n",
      "logg =  3.72504052036\n",
      "R2D2 =  1.24567934171e-19\n",
      "dlam =  0.000379761160292\n",
      "VMRs =  [-3.35112381 -5.77043395 -5.88757568 -5.60334163 -8.54825221 -8.59391626\n",
      " -7.99174073 -8.63124194 -5.87762673]\n",
      "ng =  9\n",
      "sum VMRs =  0.000452357249247\n",
      "clouddens =  -22.5041992268\n",
      "cloud_top =  -3.88784179707\n",
      "cloud_bot =  -3.29900015285\n",
      "rg =  -1.35737140318\n",
      "rsig =  -0.792333591832\n",
      "cloud_tau0 =  1.0\n",
      "w0 =  0.5\n",
      "gg =  0.0\n",
      "pcover =  [ 0.5  0.5]\n",
      "sum(pcover) =  1.0\n",
      "[[  2.39980802e+00   2.39923225e+00   2.39865675e+00 ...,   8.00128020e-01\n",
      "    8.00064005e-01   8.00000000e-01]\n",
      " [  5.72674638e-14   5.76646278e-14   5.71645134e-14 ...,   1.14016466e-13\n",
      "    1.02534723e-13   1.19788596e-13]]\n",
      "-43905.4162398\n"
     ]
    }
   ],
   "source": [
    "LP = testkit.lnprob(theta,*runargs) #* -2. / (obspec.shape[1] /3.)\n",
    "#print testkit.lnprob(theta2,*runargs) * -2. / (obspec.shape[1] /3.)\n",
    "print LP"
   ]
  },
  {
   "cell_type": "code",
   "execution_count": 14,
   "metadata": {
    "collapsed": false
   },
   "outputs": [],
   "source": [
    "#len(pickle.dumps([theta,runargs], -1)) / 1e9"
   ]
  },
  {
   "cell_type": "code",
   "execution_count": null,
   "metadata": {
    "collapsed": false
   },
   "outputs": [],
   "source": [
    "#for gas in range (0,ngas):\n",
    "##    test= pickle.load( open(lists[gas], \"rb\" ) )[3]\n",
    "#    test[np.isnan(test)] = 1.0\n",
    "#    print test[np.where(np.less(test,0))]\n",
    "print cloudprof.shape"
   ]
  },
  {
   "cell_type": "code",
   "execution_count": null,
   "metadata": {
    "collapsed": false
   },
   "outputs": [],
   "source": [
    "plt.rc('font',family='Times New Roman')\n",
    "fig=plt.figure(dpi=320)\n",
    "plt.axis([-8., 2.,3.0,-5.0])\n",
    "logP = np.log10(press)\n",
    "plt.plot(np.log10(cloudprof[0,:,0]),logP, \"r-\")\n",
    "\n",
    "plt.ylabel(r'log(P)')\n",
    "plt.xlabel('log10(dtau)')"
   ]
  },
  {
   "cell_type": "code",
   "execution_count": null,
   "metadata": {
    "collapsed": true
   },
   "outputs": [],
   "source": []
  },
  {
   "cell_type": "code",
   "execution_count": null,
   "metadata": {
    "collapsed": false
   },
   "outputs": [],
   "source": [
    "import forwardmodel\n",
    "print forwardmodel.marv.__doc__"
   ]
  },
  {
   "cell_type": "code",
   "execution_count": null,
   "metadata": {
    "collapsed": true
   },
   "outputs": [],
   "source": []
  }
 ],
 "metadata": {
  "kernelspec": {
   "display_name": "Python 2",
   "language": "python",
   "name": "python2"
  },
  "language_info": {
   "codemirror_mode": {
    "name": "ipython",
    "version": 2
   },
   "file_extension": ".py",
   "mimetype": "text/x-python",
   "name": "python",
   "nbconvert_exporter": "python",
   "pygments_lexer": "ipython2",
   "version": "2.7.10"
  }
 },
 "nbformat": 4,
 "nbformat_minor": 0
}
