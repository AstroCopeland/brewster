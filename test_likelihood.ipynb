{
 "cells": [
  {
   "cell_type": "code",
   "execution_count": 1,
   "metadata": {
    "collapsed": false
   },
   "outputs": [
    {
     "name": "stderr",
     "output_type": "stream",
     "text": [
      "/opt/local/Library/Frameworks/Python.framework/Versions/2.7/lib/python2.7/site-packages/IPython/kernel/__init__.py:13: ShimWarning: The `IPython.kernel` package has been deprecated. You should import from ipykernel or jupyter_client instead.\n",
      "  \"You should import from ipykernel or jupyter_client instead.\", ShimWarning)\n"
     ]
    }
   ],
   "source": [
    "import multiprocessing\n",
    "import time\n",
    "import numpy as np\n",
    "import scipy as sp\n",
    "import emcee\n",
    "import testkit\n",
    "import ciamod\n",
    "import os\n",
    "import gc\n",
    "import sys\n",
    "import pickle\n",
    "from scipy.io.idl import readsav\n",
    "from scipy import interpolate\n",
    "from scipy.interpolate import interp1d\n"
   ]
  },
  {
   "cell_type": "code",
   "execution_count": 2,
   "metadata": {
    "collapsed": false
   },
   "outputs": [
    {
     "name": "stdout",
     "output_type": "stream",
     "text": [
      "13\n",
      "64\n"
     ]
    }
   ],
   "source": [
    "# set up the model arguments the drop these into theta(state vector) or runargs\n",
    "\n",
    "# set up pressure grids in bar cos its intuitive\n",
    "logcoarsePress = np.arange(-4.0, 2.5, 0.53)\n",
    "#logcoarsePress = np.arange(-4.0, 3.0, 0.5)\n",
    "coarsePress = 1000.* pow(10,logcoarsePress)\n",
    "logfinePress = np.arange(-4.0, 2.4, 0.1)\n",
    "finePress = 1000.* pow(10,logfinePress)\n",
    "# forward model wants pressure in mbar\n",
    "press = finePress\n",
    "nprof = coarsePress.size\n",
    "print nprof\n",
    "print finePress.size"
   ]
  },
  {
   "cell_type": "code",
   "execution_count": 3,
   "metadata": {
    "collapsed": false
   },
   "outputs": [],
   "source": [
    "w1 = 1.0\n",
    "w2 = 10.0\n",
    "npatches = 1\n",
    "pcover = np.array([npatches],dtype='f')\n",
    "pcover[:] = 1.0\n",
    "do_clouds = np.array([npatches],dtype='i')\n",
    "do_clouds[:] = 1\n",
    "cloudnum = np.array([npatches],dtype='i')\n",
    "cloudnum[:] = 99\n",
    "cloudtype = np.array([npatches],dtype='i')\n",
    "cloudtype[:] = 1\n",
    "\n",
    "use_disort = 0 \n",
    "\n",
    "# now the linelist\n",
    "# Set up number of gases, and point at the lists. see gaslist.dat\n",
    "ngas = 4\n",
    "gasnum = np.asfortranarray(np.array([1,2,6,3],dtype='i'))\n",
    "lists = [\"../Linelists/H2O_xsecs.pic\",\"../Linelists/ch4_xsecs.pic\",\"../Linelists/nh3_xsecs.pic\",\"../Linelists/h2s_xsecs.pic\"]\n"
   ]
  },
  {
   "cell_type": "code",
   "execution_count": 4,
   "metadata": {
    "collapsed": false
   },
   "outputs": [],
   "source": [
    "# get the basic framework from water list\n",
    "rawwavenum, inpress, inlinetemps, inlinelist = pickle.load( open('..//Linelists/H2O_xsecs.pic', \"rb\" ) )\n",
    "inpress=1000.*inpress\n",
    "wn1 = 10000./w2\n",
    "wn2 = 10000. / w1\n",
    "inwavenum = np.asfortranarray(rawwavenum[np.where(np.logical_not(np.logical_or(rawwavenum[:] > wn2, rawwavenum[:] < wn1)))],dtype='float64')\n",
    "ntemps = inlinetemps.size\n",
    "npress= finePress.size\n",
    "nwave = inwavenum.size\n",
    "r1 = np.amin(np.where(np.logical_not(np.logical_or(rawwavenum[:] > wn2, rawwavenum[:] < wn1))))\n",
    "r2 = np.amax(np.where(np.logical_not(np.logical_or(rawwavenum[:] > wn2, rawwavenum[:] < wn1))))\n",
    "\n",
    "# Here we are interpolating the linelist onto our fine pressure scale.\n",
    "# pickles have linelist as 4th entry....\n",
    "linelist = (np.ones([ngas,npress,ntemps,nwave],order='F')).astype('float64', order='F')\n",
    "for gas in range (0,ngas):\n",
    "    inlinelist= pickle.load( open(lists[gas], \"rb\" ) )[3]\n",
    "    for i in range (0,ntemps):\n",
    "        for j in range (r1,r2+1):\n",
    "            pfit = interp1d(np.log10(inpress),np.log10(inlinelist[:,i,j]))\n",
    "            linelist[gas,:,i,(j-r1)] = np.asfortranarray(pfit(np.log10(finePress)))\n",
    "\n",
    "linelist[np.isnan(linelist)] = -50.0\n"
   ]
  },
  {
   "cell_type": "code",
   "execution_count": 5,
   "metadata": {
    "collapsed": true
   },
   "outputs": [],
   "source": [
    "# cloudparams is structured array with 5 entries\n",
    "# each one has a patch*cloud entries\n",
    "#cloudparams = np.ones(5)\n",
    "# 5 entries in cloudparams for simple slab model are:\n",
    "# 0) log10(number density)\n",
    "# 1) top layer id (or pressure)\n",
    "# 2) base ID (these are both in 61 layers)\n",
    "# 3) rg\n",
    "# 4) rsig\n",
    "##cloudparams[0] = -20.\n",
    "#cloudparams[1] = 10\n",
    "#cloudparams[2] = 12\n",
    "#cloudparams[3] = 1e-4\n",
    "#cloudparams[4] = 1e-5\n",
    "# hardwired gas and cloud IDs\n",
    "#cloudnum = np.array([1],dtype='i')\n",
    "\n"
   ]
  },
  {
   "cell_type": "code",
   "execution_count": 6,
   "metadata": {
    "collapsed": false
   },
   "outputs": [],
   "source": [
    "# Get the cia bits\n",
    "tmpcia, ciatemps = ciamod.read_cia(\"CIA_DS_aug_2015.dat\",inwavenum)\n",
    "cia = np.asfortranarray(np.empty((4,ciatemps.size,nwave)),dtype='float32')\n",
    "cia[:,:,:] = tmpcia[:,:,:nwave] \n",
    "ciatemps = np.asfortranarray(ciatemps, dtype='float32')\n"
   ]
  },
  {
   "cell_type": "code",
   "execution_count": 7,
   "metadata": {
    "collapsed": false
   },
   "outputs": [],
   "source": [
    "# hardwired FWHM of data\n",
    "fwhm = 0.005\n",
    "#fixvmrs = -8.0\n",
    "\n",
    "# get the observed spectrum\n",
    "obspec = np.asfortranarray(np.loadtxt(\"caro_test_spec_1_10.dat\",dtype='d',unpack='true'))\n",
    "\n",
    "# NEXT LINE ADDS SYTEMATIC TO SPECTRUM FOR Log F retrieval\n",
    "#obspec[1,:] = obspec[1,:] + 0.1*(min(obspec[2,10::3]**2))\n",
    "\n",
    "\n",
    "runargs = pcover, cloudtype,do_clouds,gasnum,cloudnum,inlinetemps,coarsePress,press,inwavenum,linelist,cia,ciatemps,use_disort,fwhm,obspec\n",
    "\n"
   ]
  },
  {
   "cell_type": "code",
   "execution_count": 8,
   "metadata": {
    "collapsed": false
   },
   "outputs": [
    {
     "name": "stdout",
     "output_type": "stream",
     "text": [
      "27\n"
     ]
    }
   ],
   "source": [
    "nprof = 13\n",
    "ndim =(nprof + (ngas) + 10)\n",
    "theta = np.empty(ndim)\n",
    "print ndim"
   ]
  },
  {
   "cell_type": "code",
   "execution_count": 19,
   "metadata": {
    "collapsed": false
   },
   "outputs": [],
   "source": [
    "theta[0] = 0.5 * np.random.randn() - 3.5 # H2O\n",
    "theta[1] = 0.5 * np.random.randn() - 3.5 # CH4\n",
    "theta[2] = 0.5* np.random.randn() - 3.5 # NH3\n",
    "theta[3] = 0.5* np.random.randn() - 5.0 # H2S\n",
    "theta[4] = (3*np.random.rand()) # -19. # log ref density\n",
    "theta[5] = 100. * np.random.rand() #cloud top\n",
    "theta[6] = 100. * np.random.rand() #cloud bottom\n",
    "#  radii in um\n",
    "theta[7] = np.random.rand()# + 10.# rg\n",
    "theta[8] = 0.5 * np.random.randn() # rsig\n",
    "theta[9] = np.random.rand() + 4.2  # logg\n",
    "theta[10] =  0.95 + 0.1* np.random.rand()   # r2d2\n",
    "theta[11] = np.random.randn() * 0.001 # dlam\n",
    "theta[12] =  50. + np.random.randn() # gamma\n",
    "theta[13] = np.log10((np.random.rand() * (max(obspec[2,:]**2)*(10. - 0.01))) + (0.01*min(obspec[2,10::3]**2)))\n",
    "BTprof = np.loadtxt(\"BTtemp800_45_13.dat\")\n",
    "theta[14:] = (BTprof-200) + (100. * np.random.rand())\n"
   ]
  },
  {
   "cell_type": "code",
   "execution_count": 20,
   "metadata": {
    "collapsed": false
   },
   "outputs": [
    {
     "name": "stdout",
     "output_type": "stream",
     "text": [
      "[ -4.53978978e+00  -3.96917458e+00  -3.34916193e+00  -5.06592362e+00\n",
      "   3.35754150e-01   8.89971210e+01   9.26920980e+01   2.48316370e-01\n",
      "   1.46426813e-01   4.97456101e+00   9.73550031e-01   1.88020967e-04\n",
      "   5.04455852e+01   1.01043735e+01   2.19577028e+02   2.46788593e+02\n",
      "   2.76583932e+02   3.00083169e+02   3.31541353e+02   3.55329891e+02\n",
      "   3.93056181e+02   4.86336625e+02   7.28256219e+02   1.07392576e+03\n",
      "   1.43576652e+03   2.44260922e+03   3.36992856e+03]\n"
     ]
    }
   ],
   "source": [
    "print theta"
   ]
  },
  {
   "cell_type": "code",
   "execution_count": 21,
   "metadata": {
    "collapsed": false
   },
   "outputs": [
    {
     "name": "stdout",
     "output_type": "stream",
     "text": [
      "[[  1.00000000e+01   9.99000999e+00   9.98003992e+00 ...,   1.00020004e+00\n",
      "    1.00010001e+00   1.00000000e+00]\n",
      " [  2.68310036e+02   3.24770213e+02   3.59900459e+02 ...,   4.79349841e+05\n",
      "    4.27770307e+05   4.01226264e+05]]\n",
      "-144965.380147\n"
     ]
    }
   ],
   "source": [
    "print testkit.lnprob(theta,*runargs) #* -2. / (obspec.shape[1] /3.)\n",
    "#print testkit.lnprob(theta2,*runargs) * -2. / (obspec.shape[1] /3.)\n"
   ]
  },
  {
   "cell_type": "code",
   "execution_count": 12,
   "metadata": {
    "collapsed": false
   },
   "outputs": [
    {
     "name": "stdout",
     "output_type": "stream",
     "text": [
      "[   75.    85.   100.   120.   140.   160.   180.   200.   230.   260.\n",
      "   300.   350.   400.   500.   650.   800.  1000.  1200.  1400.  1600.\n",
      "  1800.  2000.  2300.  2600.  3000.  3500.  4000.]\n"
     ]
    }
   ],
   "source": [
    "print pickle.load(open(\"../Linelists/H2O_xsecs.pic\",\"rb\"))[2]"
   ]
  },
  {
   "cell_type": "code",
   "execution_count": null,
   "metadata": {
    "collapsed": false
   },
   "outputs": [],
   "source": [
    "print theta[14:]\n"
   ]
  },
  {
   "cell_type": "code",
   "execution_count": null,
   "metadata": {
    "collapsed": false
   },
   "outputs": [],
   "source": [
    "print abs(44.87)"
   ]
  },
  {
   "cell_type": "code",
   "execution_count": null,
   "metadata": {
    "collapsed": true
   },
   "outputs": [],
   "source": []
  }
 ],
 "metadata": {
  "kernelspec": {
   "display_name": "Python 2",
   "language": "python",
   "name": "python2"
  },
  "language_info": {
   "codemirror_mode": {
    "name": "ipython",
    "version": 2
   },
   "file_extension": ".py",
   "mimetype": "text/x-python",
   "name": "python",
   "nbconvert_exporter": "python",
   "pygments_lexer": "ipython2",
   "version": "2.7.10"
  }
 },
 "nbformat": 4,
 "nbformat_minor": 0
}
