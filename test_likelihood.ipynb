{
 "cells": [
  {
   "cell_type": "code",
   "execution_count": 1,
   "metadata": {
    "collapsed": false
   },
   "outputs": [
    {
     "name": "stderr",
     "output_type": "stream",
     "text": [
      "/opt/local/Library/Frameworks/Python.framework/Versions/2.7/lib/python2.7/site-packages/IPython/kernel/__init__.py:13: ShimWarning: The `IPython.kernel` package has been deprecated. You should import from ipykernel or jupyter_client instead.\n",
      "  \"You should import from ipykernel or jupyter_client instead.\", ShimWarning)\n"
     ]
    }
   ],
   "source": [
    "import multiprocessing\n",
    "import time\n",
    "import numpy as np\n",
    "import scipy as sp\n",
    "import emcee\n",
    "import testkit\n",
    "import ciamod\n",
    "import os\n",
    "import gc\n",
    "import sys\n",
    "import pickle\n",
    "from scipy.io.idl import readsav\n",
    "from scipy import interpolate\n",
    "from scipy.interpolate import interp1d\n"
   ]
  },
  {
   "cell_type": "code",
   "execution_count": 2,
   "metadata": {
    "collapsed": false
   },
   "outputs": [
    {
     "name": "stdout",
     "output_type": "stream",
     "text": [
      "13\n",
      "64\n"
     ]
    }
   ],
   "source": [
    "# set up the model arguments the drop these into theta(state vector) or runargs\n",
    "\n",
    "# set up pressure grids in bar cos its intuitive\n",
    "logcoarsePress = np.arange(-4.0, 2.5, 0.53)\n",
    "#logcoarsePress = np.arange(-4.0, 3.0, 0.5)\n",
    "coarsePress = pow(10,logcoarsePress)\n",
    "logfinePress = np.arange(-4.0, 2.4, 0.1)\n",
    "finePress = pow(10,logfinePress)\n",
    "# forward model wants pressure in mbar\n",
    "press = finePress\n",
    "nprof = coarsePress.size\n",
    "print nprof\n",
    "print finePress.size"
   ]
  },
  {
   "cell_type": "code",
   "execution_count": 3,
   "metadata": {
    "collapsed": false
   },
   "outputs": [],
   "source": [
    "w1 = 1.0\n",
    "w2 = 2.50\n",
    "npatches = 1\n",
    "pcover = np.array([npatches],dtype='f')\n",
    "pcover[:] = 1.0\n",
    "do_clouds = np.array([npatches],dtype='i')\n",
    "do_clouds[:] = 0\n",
    "cloudnum = np.array([npatches],dtype='i')\n",
    "cloudnum[:] = 99\n",
    "cloudtype = np.array([npatches],dtype='i')\n",
    "cloudtype[:] = 1\n",
    "\n",
    "use_disort = 0 \n",
    "proftype = 2\n",
    "dist = 11.84\n",
    "# now the linelist\n",
    "# Set up number of gases, and point at the lists. see gaslist.dat\n",
    "ngas = 10\n",
    "gasnum = np.asfortranarray(np.array([1,4,7,8,10,11,3,2,20,21],dtype='i'))\n",
    "lists = [\"../Linelists/H2O_xsecs.pic\",\"../Linelists/co_xsecs.pic\",\"../Linelists/tio_xsecs.pic\",\"../Linelists/vo_xsecs.pic\",\"../Linelists/crh_xsecs.pic\" ,\"../Linelists/feh_xsecs.pic\",\"../Linelists/h2s_xsecs.pic\",\"../Linelists/ch4_xsecs.pic\",\"../Linelists/K_Mike_xsecs.pic\",\"../Linelists/Na_Mike_xsecs.pic\"]"
   ]
  },
  {
   "cell_type": "code",
   "execution_count": 10,
   "metadata": {
    "collapsed": false
   },
   "outputs": [
    {
     "name": "stderr",
     "output_type": "stream",
     "text": [
      "/opt/local/Library/Frameworks/Python.framework/Versions/2.7/lib/python2.7/site-packages/ipykernel/__main__.py:19: RuntimeWarning: invalid value encountered in log10\n"
     ]
    }
   ],
   "source": [
    "# get the basic framework from water list\n",
    "rawwavenum, inpress, inlinetemps, inlinelist = pickle.load( open('..//Linelists/H2O_xsecs.pic', \"rb\" ) )\n",
    "wn1 = 10000./w2\n",
    "wn2 = 10000. / w1\n",
    "inwavenum = np.asfortranarray(rawwavenum[np.where(np.logical_not(np.logical_or(rawwavenum[:] > wn2, rawwavenum[:] < wn1)))],dtype='float64')\n",
    "ntemps = inlinetemps.size\n",
    "npress= finePress.size\n",
    "nwave = inwavenum.size\n",
    "r1 = np.amin(np.where(np.logical_not(np.logical_or(rawwavenum[:] > wn2, rawwavenum[:] < wn1))))\n",
    "r2 = np.amax(np.where(np.logical_not(np.logical_or(rawwavenum[:] > wn2, rawwavenum[:] < wn1))))\n",
    "\n",
    "# Here we are interpolating the linelist onto our fine pressure scale.\n",
    "# pickles have linelist as 4th entry....\n",
    "linelist = (np.ones([ngas,npress,ntemps,nwave],order='F')).astype('float64', order='F')\n",
    "for gas in range (0,ngas):\n",
    "    inlinelist= pickle.load( open(lists[gas], \"rb\" ) )[3]\n",
    "    for i in range (0,ntemps):\n",
    "        for j in range (r1,r2+1):\n",
    "            pfit = interp1d(np.log10(inpress),np.log10(inlinelist[:,i,j]))\n",
    "            linelist[gas,:,i,(j-r1)] = np.asfortranarray(pfit(np.log10(finePress)))\n",
    "\n",
    "linelist[np.isnan(linelist)] = -50.0\n"
   ]
  },
  {
   "cell_type": "code",
   "execution_count": 11,
   "metadata": {
    "collapsed": false
   },
   "outputs": [],
   "source": [
    "# cloudparams is structured array with 5 entries\n",
    "# each one has a patch*cloud entries\n",
    "cloudparams = np.ones(5)\n",
    "# 5 entries in cloudparams for simple slab model are:\n",
    "# 0) log10(number density)\n",
    "# 1) top layer id (or pressure)\n",
    "# 2) base ID (these are both in 61 layers)\n",
    "# 3) rg\n",
    "# 4) rsig\n",
    "cloudparams[0] = -20.\n",
    "cloudparams[1] = 10\n",
    "cloudparams[2] = 12\n",
    "cloudparams[3] = 1e-4\n",
    "cloudparams[4] = 1e-5\n",
    "# hardwired gas and cloud IDs\n",
    "cloudnum = np.array([1],dtype='i')\n",
    "\n"
   ]
  },
  {
   "cell_type": "code",
   "execution_count": 12,
   "metadata": {
    "collapsed": false
   },
   "outputs": [],
   "source": [
    "# Get the cia bits\n",
    "tmpcia, ciatemps = ciamod.read_cia(\"CIA_DS_aug_2015.dat\",inwavenum)\n",
    "cia = np.asfortranarray(np.empty((4,ciatemps.size,nwave)),dtype='float32')\n",
    "cia[:,:,:] = tmpcia[:,:,:nwave] \n",
    "ciatemps = np.asfortranarray(ciatemps, dtype='float32')\n"
   ]
  },
  {
   "cell_type": "code",
   "execution_count": 13,
   "metadata": {
    "collapsed": false
   },
   "outputs": [],
   "source": [
    "# hardwired FWHM of data\n",
    "fwhm = 0.005\n",
    "#fixvmrs = -8.0\n",
    "\n",
    "# get the observed spectrum\n",
    "obspec = np.asfortranarray(np.loadtxt(\"2M2224_mkoJcalib.dat\",dtype='d',unpack='true'))\n",
    "\n",
    "# NEXT LINE ADDS SYTEMATIC TO SPECTRUM FOR Log F retrieval\n",
    "#obspec[1,:] = obspec[1,:] + 0.1*(min(obspec[2,10::3]**2))\n",
    "\n",
    "\n",
    "runargs = dist,pcover, cloudtype,cloudparams,do_clouds,gasnum,cloudnum,inlinetemps,coarsePress,press,inwavenum,linelist,cia,ciatemps,use_disort,fwhm,obspec,proftype\n",
    "\n"
   ]
  },
  {
   "cell_type": "code",
   "execution_count": 14,
   "metadata": {
    "collapsed": false
   },
   "outputs": [
    {
     "name": "stdout",
     "output_type": "stream",
     "text": [
      "18\n"
     ]
    }
   ],
   "source": [
    "nprof = 5\n",
    "# for proftype = 2 with no clouds, ndim = nprof + ngas-1, + (dlam,beta,logg, r2d2)\n",
    "ndim =(nprof + (ngas-1) + 4)\n",
    "theta = np.empty(ndim)\n",
    "print ndim"
   ]
  },
  {
   "cell_type": "code",
   "execution_count": 18,
   "metadata": {
    "collapsed": false
   },
   "outputs": [],
   "source": [
    "theta[0] = (0.5*np.random.randn()) - 3.0 # H2O\n",
    "theta[1] = (0.5*np.random.randn()) - 3.0 # CO\n",
    "theta[2] = (0.5*np.random.randn()) - 8.0 # TiO\n",
    "theta[3] = (0.5*np.random.randn()) - 8.0 # VO\n",
    "theta[4] = (1.0*np.random.randn()) - 6.0 # CrH\n",
    "theta[5] = (0.5*np.random.randn()) - 4.0 # FeH\n",
    "theta[6] = (0.5*np.random.randn()) - 5.0 # H2\n",
    "theta[7] = (0.5*np.random.randn()) - 8.5 # CH4\n",
    "theta[8] = (0.5*np.random.randn()) - 5.5 # Na+K\n",
    "#theta[4] = (3*np.random.rand()) # -19. # log ref density\n",
    "#theta[5] = 100. * np.random.rand() #cloud top\n",
    "#theta[6] = 100. * np.random.rand() #cloud bottom\n",
    "#  radii in um\n",
    "#theta[7] = np.random.rand()# + 10.# rg\n",
    "#theta[8] = 0.5 * np.random.randn() # rsig\n",
    "theta[9] = np.random.rand() + 4.2  # logg\n",
    "theta[10] =   1e-19 * np.random.rand()   # r2d2\n",
    "theta[11] = np.random.randn() * 0.001 # dlam\n",
    "theta[12] = np.log10((np.random.rand() * (max(obspec[2,:]**2)*(10. - 0.01))) + (0.01*min(obspec[2,10::3]**2)))\n",
    "#BTprof = np.loadtxt(\"BTtemp800_45_13.dat\")\n",
    "theta[13] = np.random.rand()\n",
    "theta[14] = np.random.rand()\n",
    "theta[15] =  1e-4 + (np.random.rand() * 10.)\n",
    "theta[16] =  theta[15] + np.random.rand() * 100.\n",
    "theta[17] = np.random.rand() * 3000.0"
   ]
  },
  {
   "cell_type": "code",
   "execution_count": 19,
   "metadata": {
    "collapsed": false
   },
   "outputs": [
    {
     "name": "stdout",
     "output_type": "stream",
     "text": [
      "[ -2.79102526e+00  -3.36016183e+00  -7.75686931e+00  -8.70907527e+00\n",
      "  -6.36514211e+00  -3.77592522e+00  -4.96629211e+00  -8.70750593e+00\n",
      "  -5.85470809e+00   4.64533739e+00   7.45921985e-20  -4.42227900e-04\n",
      "  -2.92681762e+01   6.90848474e-01   8.68455263e-01   9.07627384e+00\n",
      "   8.69241414e+01   3.95023289e+02]\n"
     ]
    }
   ],
   "source": [
    "print theta"
   ]
  },
  {
   "cell_type": "code",
   "execution_count": 20,
   "metadata": {
    "collapsed": false
   },
   "outputs": [
    {
     "name": "stdout",
     "output_type": "stream",
     "text": [
      "[[  2.50000000e+00   2.49937516e+00   2.49875062e+00 ...,   1.00020004e+00\n",
      "    1.00010001e+00   1.00000000e+00]\n",
      " [  4.27959595e-21   3.02390603e-21   4.13873720e-21 ...,   4.93761687e-49\n",
      "    5.86351031e-57   9.94539133e-55]]\n",
      "4208.64596575\n"
     ]
    }
   ],
   "source": [
    "print testkit.lnprob(theta,*runargs) #* -2. / (obspec.shape[1] /3.)\n",
    "#print testkit.lnprob(theta2,*runargs) * -2. / (obspec.shape[1] /3.)\n"
   ]
  },
  {
   "cell_type": "code",
   "execution_count": 9,
   "metadata": {
    "collapsed": false
   },
   "outputs": [
    {
     "name": "stdout",
     "output_type": "stream",
     "text": [
      "[   75.    85.   100.   120.   140.   160.   180.   200.   230.   260.\n",
      "   300.   350.   400.   500.   650.   800.  1000.  1200.  1400.  1600.\n",
      "  1800.  2000.  2300.  2600.  3000.  3500.  4000.]\n"
     ]
    }
   ],
   "source": [
    "print pickle.load(open(\"../Linelists/H2O_xsecs.pic\",\"rb\"))[2]"
   ]
  },
  {
   "cell_type": "code",
   "execution_count": null,
   "metadata": {
    "collapsed": false
   },
   "outputs": [],
   "source": [
    "print linelist"
   ]
  },
  {
   "cell_type": "code",
   "execution_count": null,
   "metadata": {
    "collapsed": false
   },
   "outputs": [],
   "source": []
  },
  {
   "cell_type": "code",
   "execution_count": null,
   "metadata": {
    "collapsed": true
   },
   "outputs": [],
   "source": []
  }
 ],
 "metadata": {
  "kernelspec": {
   "display_name": "Python 2",
   "language": "python",
   "name": "python2"
  },
  "language_info": {
   "codemirror_mode": {
    "name": "ipython",
    "version": 2
   },
   "file_extension": ".py",
   "mimetype": "text/x-python",
   "name": "python",
   "nbconvert_exporter": "python",
   "pygments_lexer": "ipython2",
   "version": "2.7.10"
  }
 },
 "nbformat": 4,
 "nbformat_minor": 0
}
