{
 "cells": [
  {
   "cell_type": "code",
   "execution_count": 1,
   "metadata": {},
   "outputs": [],
   "source": [
    "import multiprocessing\n",
    "import time\n",
    "import numpy as np\n",
    "import scipy as sp\n",
    "import emcee\n",
    "import testkit\n",
    "import ciamod\n",
    "import settings\n",
    "import os\n",
    "import gc\n",
    "import sys\n",
    "import pickle\n",
    "from scipy.io.idl import readsav\n",
    "from scipy import interpolate\n",
    "from scipy.interpolate import interp1d\n",
    "from scipy.interpolate import InterpolatedUnivariateSpline\n",
    "\n",
    "import matplotlib\n",
    "import matplotlib.pyplot as plt\n",
    "import matplotlib.image as mgimg\n",
    "import TPmod\n",
    "import forwardmodel\n",
    "from IPython.display import display\n",
    "%matplotlib inline\n"
   ]
  },
  {
   "cell_type": "code",
   "execution_count": 28,
   "metadata": {},
   "outputs": [],
   "source": [
    "# First get data and parameters for object\n",
    "\n",
    "# get the observed spectrum\n",
    "obspec = np.asfortranarray(np.loadtxt(\"correct_units_VHS1256b.txt\",dtype='d',unpack='true'))\n",
    "\n",
    "# start with the wavelength range\n",
    "w1 = 1.0\n",
    "w2 = 18.\n",
    "\n",
    "\n",
    "# How many patches & clouds do we want??\n",
    "# Must be at least 1 of each, but can turn off cloud below\n",
    "npatches = 1\n",
    "nclouds = 1\n",
    "\n",
    "# set up array for setting patchy cloud answers\n",
    "do_clouds = np.zeros([npatches],dtype='i')\n",
    "\n",
    "# Which patches are cloudy\n",
    "do_clouds[:] = 1\n",
    "\n",
    "# set up cloud detail arrays\n",
    "cloudnum = np.zeros([npatches,nclouds],dtype='i')\n",
    "cloudtype =np.zeros([npatches,nclouds],dtype='i')\n",
    "\n",
    "# Now fill cloud details. What kind of clouds and shape are they?\n",
    "# Cloud types\n",
    "# 1:  slab cloud\n",
    "# 2: deep thick cloud , we only see the top\n",
    "# 3: slab with fixed thickness log dP = 0.005 (i.e. fits within a single layer)\n",
    "# 4: deep thick cloud with fixed height (i.e. appears in a single layer)\n",
    "# In both cases the cloud properties are density, rg, rsig for real clouds\n",
    "# and dtau, w0, and power law for cloudnum = 89 or 99 for grey\n",
    "cloudnum[:,0] = 5\n",
    "cloudtype[:,0] = 2\n",
    "\n",
    "#cloudnum[:,1] = 2\n",
    "#cloudtype[:,1] = 2\n",
    "\n",
    "# second patch turn off top cloud\n",
    "#cloudnum[1,0] = 5\n",
    "#cloudtype[1,0] = 0\n",
    "\n",
    "\n",
    "# gravity??\n",
    "logg = 4.0\n",
    "\n",
    "# distance (parsecs)\n",
    "dist = 10.00\n",
    "\n",
    "# scale factor r2d2 from distance 1 Rj radius\n",
    "r2d2 = (71492e3)**2. / (dist * 3.086e+16)**2.\n",
    "\n",
    "# Are we doing H- bound-free, free-free continuum opacities?\n",
    "# (Is the profile going above approx 3000K in the photosphere?)\n",
    "do_bff = 1\n",
    "\n",
    "chemeq = 0\n",
    "\n",
    "# Set the profile type. If we're using a fixed one. Give the file name\n",
    "proftype = 2\n",
    "pfile = \"t1700g1000f3.dat\"\n",
    "\n",
    "\n",
    "# set up pressure grids in bar cos its intuitive\n",
    "logcoarsePress = np.arange(-4.0, 2.5, 0.53)\n",
    "logfinePress = np.arange(-4.0, 2.4, 0.1)\n",
    "# forward model wants pressure in bar\n",
    "#logcoarsePress = np.arange(-4.0, 3.0, 0.5)\n",
    "coarsePress = pow(10,logcoarsePress)\n",
    "press = pow(10,logfinePress)\n",
    "nlayers = press.size\n",
    "\n",
    "# Where are the cross sections?\n",
    "# give the full path\n",
    "xpath = \"../Linelists/\"\n",
    "\n",
    "# now the cross sections\n",
    "\n",
    "# Now list the gases.\n",
    "# If Na is after K, at the end of the list, alkalis will be tied\n",
    "# together at Asplund solar ratio. See Line at al (2015)\n",
    "# Else if K is after Na, they'll be separate\n",
    "\n",
    "gaslist = ['h2o','co','co2','ch4','tio', 'vo', 'crh', 'feh', 'h2s','k','na']\n",
    "ngas = len(gaslist)\n",
    "\n",
    "# some switches for alternative cross sections\n",
    "# Use Mike's Alkalis?\n",
    "malk = 0\n",
    "# Use Mike's CH4?\n",
    "mch4 = 0\n",
    "\n",
    "fwhm = 2700\n",
    "# Are we using DISORT for radiative transfer?\n",
    "# (HINT: Not in this century)\n",
    "use_disort = 0 \n",
    "\n",
    "# use the fudge factor?\n",
    "do_fudge = 1\n",
    "\n",
    "\n"
   ]
  },
  {
   "cell_type": "code",
   "execution_count": 3,
   "metadata": {},
   "outputs": [
    {
     "name": "stdout",
     "output_type": "stream",
     "text": [
      "(3, 18442)\n",
      "[1.00000000e-04 1.25892541e-04 1.58489319e-04 1.99526231e-04\n",
      " 2.51188643e-04 3.16227766e-04 3.98107171e-04 5.01187234e-04\n",
      " 6.30957344e-04 7.94328235e-04 1.00000000e-03 1.25892541e-03\n",
      " 1.58489319e-03 1.99526231e-03 2.51188643e-03 3.16227766e-03\n",
      " 3.98107171e-03 5.01187234e-03 6.30957344e-03 7.94328235e-03\n",
      " 1.00000000e-02 1.25892541e-02 1.58489319e-02 1.99526231e-02\n",
      " 2.51188643e-02 3.16227766e-02 3.98107171e-02 5.01187234e-02\n",
      " 6.30957344e-02 7.94328235e-02 1.00000000e-01 1.25892541e-01\n",
      " 1.58489319e-01 1.99526231e-01 2.51188643e-01 3.16227766e-01\n",
      " 3.98107171e-01 5.01187234e-01 6.30957344e-01 7.94328235e-01\n",
      " 1.00000000e+00 1.25892541e+00 1.58489319e+00 1.99526231e+00\n",
      " 2.51188643e+00 3.16227766e+00 3.98107171e+00 5.01187234e+00\n",
      " 6.30957344e+00 7.94328235e+00 1.00000000e+01 1.25892541e+01\n",
      " 1.58489319e+01 1.99526231e+01 2.51188643e+01 3.16227766e+01\n",
      " 3.98107171e+01 5.01187234e+01 6.30957344e+01 7.94328235e+01\n",
      " 1.00000000e+02 1.25892541e+02 1.58489319e+02 1.99526231e+02]\n"
     ]
    }
   ],
   "source": [
    "print(obspec.shape)\n",
    "print(press)"
   ]
  },
  {
   "cell_type": "code",
   "execution_count": 29,
   "metadata": {},
   "outputs": [],
   "source": [
    "prof = np.full(13,100.)\n",
    "if (proftype == 9):\n",
    "    modP,modT = np.loadtxt(pfile,skiprows=1,usecols=(1,2),unpack=True)\n",
    "    tfit = InterpolatedUnivariateSpline(np.log10(modP),modT,k=1)\n",
    "    prof = tfit(logcoarsePress)\n"
   ]
  },
  {
   "cell_type": "code",
   "execution_count": 5,
   "metadata": {},
   "outputs": [
    {
     "name": "stdout",
     "output_type": "stream",
     "text": [
      "['../Linelists/h2o_ucl2017_xsecs_R10K.pic', '../Linelists/co_xsecs_R10K.pic', '../Linelists/co2_xsecs_R10K.pic', '../Linelists/ch4_xsecs_R10K.pic', '../Linelists/tio_xsecs_R10K.pic', '../Linelists/vo_xsecs_R10K.pic', '../Linelists/crh_xsecs_R10K.pic', '../Linelists/feh_xsecs_R10K.pic', '../Linelists/h2s_xsecs_R10K.pic', '../Linelists/K_xsecs_R10K.pic', '../Linelists/Na_xsecs_R10K.pic']\n",
      "[ 1  4  5  2  7  8 10 11  3 20 21]\n"
     ]
    }
   ],
   "source": [
    "# Now we'll get the opacity files into an array\n",
    "totgas = 24\n",
    "gasdata = []\n",
    "with open('gaslistR10K.dat') as fa:\n",
    "     for line_aa in fa.readlines()[1:totgas+1]:\n",
    "        line_aa = line_aa.strip()\n",
    "        gasdata.append(line_aa.split())\n",
    "list1 = []    \n",
    "for i in range(0,ngas):\n",
    "    for j in range(0,totgas):\n",
    "            if (gasdata[j][1].lower() == gaslist[i].lower()):\n",
    "                list1.append(gasdata[j])\n",
    "\n",
    "\n",
    "    \n",
    "if (malk == 1):\n",
    "    for i in range (0,ngas):    \n",
    "        list1[i] = [w.replace('K_xsecs.pic', 'K_Mike_xsecs.pic') for w in list1[i]]\n",
    "        list1[i] = [w.replace('Na_xsecs.pic', 'Na_Mike_xsecs.pic') for w in list1[i]]\n",
    "\n",
    "if (mch4 ==1):\n",
    "    for i in range (0,ngas):    \n",
    "        list1[i] = [w.replace('CH4_xsecs.pic', 'CH4_Mike_xsecs.pic') for w in list1[i]]\n",
    "    \n",
    "\n",
    "lists = [xpath+i[3] for i in list1[0:ngas]]\n",
    "gasnum = np.asfortranarray(np.array([i[0] for i in list1[0:ngas]],dtype='i'))\n",
    "print(lists)\n",
    "print(gasnum)"
   ]
  },
  {
   "cell_type": "code",
   "execution_count": 6,
   "metadata": {},
   "outputs": [],
   "source": [
    "# get the basic framework from water list\n",
    "rawwavenum, inpress, inlinetemps, inlinelist = pickle.load( open(xpath+'/crh_xsecs_R10K.pic', \"rb\" ) )\n",
    "\n",
    "wn1 = 10000./w2\n",
    "wn2 = 10000. / w1\n",
    "inwavenum = np.asfortranarray(rawwavenum[np.where(np.logical_not(np.logical_or(rawwavenum[:] > wn2, rawwavenum[:] < wn1)))],dtype='float64')\n",
    "ntemps = inlinetemps.size\n",
    "npress= press.size\n",
    "nwave = inwavenum.size\n",
    "r1 = np.amin(np.where(np.logical_not(np.logical_or(rawwavenum[:] > wn2, rawwavenum[:] < wn1))))\n",
    "r2 = np.amax(np.where(np.logical_not(np.logical_or(rawwavenum[:] > wn2, rawwavenum[:] < wn1))))\n",
    "\n",
    "# Here we are interpolating the linelist onto our fine pressure scale.\n",
    "# pickles have linelist as 4th entry....\n",
    "linelist = (np.ones([ngas,npress,ntemps,nwave],order='F')).astype('float64', order='F')\n",
    "for gas in range (0,ngas):\n",
    "    inlinelist= pickle.load( open(lists[gas], \"rb\" ) )[3]\n",
    "    for i in range (0,ntemps):\n",
    "        for j in range (r1,r2+1):\n",
    "            pfit = interp1d(np.log10(inpress),np.log10(inlinelist[:,i,j]))\n",
    "            linelist[gas,:,i,(j-r1)] = np.asfortranarray(pfit(np.log10(press)))\n",
    "\n",
    "linelist[np.isnan(linelist)] = -50.0\n"
   ]
  },
  {
   "cell_type": "code",
   "execution_count": 7,
   "metadata": {},
   "outputs": [
    {
     "name": "stdout",
     "output_type": "stream",
     "text": [
      "(11,)\n",
      "(11, 64, 27, 28905)\n"
     ]
    }
   ],
   "source": [
    "print(gasnum.shape)\n",
    "print(linelist.shape)"
   ]
  },
  {
   "cell_type": "code",
   "execution_count": 8,
   "metadata": {},
   "outputs": [],
   "source": [
    "# Get the cia bits\n",
    "tmpcia, ciatemps = ciamod.read_cia(\"CIA_DS_aug_2015.dat\",inwavenum)\n",
    "cia = np.asfortranarray(np.empty((4,ciatemps.size,nwave)),dtype='float32')\n",
    "cia[:,:,:] = tmpcia[:,:,:nwave] \n",
    "ciatemps = np.asfortranarray(ciatemps, dtype='float32')\n"
   ]
  },
  {
   "cell_type": "code",
   "execution_count": 9,
   "metadata": {},
   "outputs": [],
   "source": [
    "# Sort out the BFF opacity stuff and chemical equilibrium tables:\n",
    "metscale,coscale,Tgrid,Pgrid,gasnames,abunds = pickle.load(open(\"chem_eq_tables_P3K.pic\", \"rb\"))\n",
    "nlayers = press.shape[0]\n",
    "nabpress = Pgrid.size\n",
    "nabtemp = Tgrid.size\n",
    "nabgas = abunds.shape[4]\n",
    "nmet = metscale.size\n",
    "nco = coscale.size\n",
    "\n",
    "\n",
    "\n",
    "bff_raw = np.zeros([nabtemp,nlayers,3])\n",
    "gases_myP = np.zeros([nmet,nco,nabtemp,nlayers,ngas+3])\n",
    "gases = np.zeros([nmet,nco,nabtemp,nabpress,ngas+3])\n",
    "\n",
    "if (chemeq == 0):\n",
    "    # Just want the ion fractions for solar metallicity in this case\n",
    "    ab_myP = np.empty([nabtemp,nlayers,nabgas])\n",
    "    i1 = np.where(metscale == 0.0)\n",
    "    i2 = np.where(coscale == 1.0)\n",
    "    for gas in range (0,nabgas):\n",
    "        for i in range (0,nabtemp):\n",
    "            pfit = InterpolatedUnivariateSpline(Pgrid,np.log10(abunds[i1[0],i2[0],i,:,gas]),k=1)\n",
    "            ab_myP[i,:,gas] = pfit(np.log10(press))\n",
    "            \n",
    "            bff_raw = np.zeros([nabtemp,nlayers,3])\n",
    "            bff_raw[:,:,0] = ab_myP[:,:,0]\n",
    "            bff_raw[:,:,1] = ab_myP[:,:,2]\n",
    "            bff_raw[:,:,2] = ab_myP[:,:,4]\n",
    "\n",
    "else:\n",
    "    # In this case we need the rows for the gases we're doing and ion fractions\n",
    "    gases[:,:,:,:,0] = abunds[:,:,:,:,0]\n",
    "    gases[:,:,:,:,1] = abunds[:,:,:,:,2]\n",
    "    gases[:,:,:,:,2] = abunds[:,:,:,:,4]\n",
    "    nmatch = 0 \n",
    "    for i in range(0,ngas):\n",
    "        for j in range(0,nabgas):\n",
    "            if (gasnames[j].lower() == gaslist[i].lower()):\n",
    "                gases[:,:,:,:,i+3] = abunds[:,:,:,:,j]\n",
    "                nmatch = nmatch + 1\n",
    "    if (nmatch != ngas):\n",
    "        print(\"you've requested a gas that isn't in the Vischer table. Please chaeck and try again.\")\n",
    "        exit\n",
    "    \n",
    "    for i in range(0,nmet):\n",
    "        for j in range(0,nco):\n",
    "            for k in range(0,ngas+3):\n",
    "                for l in range(0,nabtemp):\n",
    "                    pfit = InterpolatedUnivariateSpline(Pgrid,np.log10(gases[i,j,l,:,k]),k=1)\n",
    "                    gases_myP[i,j,l,:,k] = pfit(np.log10(press))\n",
    "    \n",
    "\n",
    "\n",
    "ceTgrid = Tgrid\n"
   ]
  },
  {
   "cell_type": "code",
   "execution_count": 30,
   "metadata": {},
   "outputs": [],
   "source": [
    "settings.init()\n",
    "settings.runargs = gases_myP,chemeq,dist, cloudtype,do_clouds,gasnum,cloudnum,inlinetemps,coarsePress,press,inwavenum,linelist,cia,ciatemps,use_disort,fwhm,obspec,proftype,do_fudge, prof,do_bff,bff_raw,ceTgrid,metscale,coscale\n"
   ]
  },
  {
   "cell_type": "code",
   "execution_count": 31,
   "metadata": {},
   "outputs": [
    {
     "name": "stdout",
     "output_type": "stream",
     "text": [
      "23\n"
     ]
    }
   ],
   "source": [
    "# for proftype = 2 with no clouds, ndim = nprof + ngas-1, + (dlam,beta,logg, r2d2)\n",
    "ndim = 23 #(nprof + (ngas-1) + 9)\n",
    "p0 = np.empty(ndim)\n",
    "print(ndim)\n",
    "theta = p0"
   ]
  },
  {
   "cell_type": "code",
   "execution_count": 40,
   "metadata": {},
   "outputs": [],
   "source": [
    "p0[0] = (0.5*np.random.randn()) - 3.5 # H2O\n",
    "p0[1] = (0.5*np.random.randn()) - 4.0 # CO\n",
    "p0[2] = (0.5*np.random.randn()) - 4.0 # CO2\n",
    "p0[3] = (0.5*np.random.randn()) - 4.0 # CH4\n",
    "p0[4] = (0.5*np.random.randn()) - 8.0 # TiO\n",
    "p0[5] = (0.5*np.random.randn()) - 8.0 # VO\n",
    "p0[6] = (0.5*np.random.randn()) - 8.0 # CrH\n",
    "p0[7] = (1.0*np.random.randn()) - 8.0 # FeH\n",
    "p0[8] = (0.5*np.random.randn()) - 8.0 # H2S\n",
    "p0[9] = (0.5*np.random.randn()) - 5.5 # Na+K\n",
    "p0[10] = 0.1*np.random.randn() + 4.9  # gravity\n",
    "p0[11] = r2d2 + (np.random.randn() * (0.1*r2d2))  # scale factor\n",
    "p0[12] = np.random.randn() * 0.001  # dlambda\n",
    "p0[13] = np.log10((np.random.rand() * (max(obspec[2,:]**2)*(0.1 - 0.01))) + (0.01*min(obspec[2,10::3]**2)))\n",
    "p0[14] = np.random.randn()\n",
    "p0[15] = np.random.rand()\n",
    "p0[16] = np.random.randn()\n",
    "p0[17] = np.abs(0.1 + 0.01*np.random.randn())\n",
    "p0[18] = 0.39 + 0.1*np.random.randn()\n",
    "p0[19] = 0.14 +0.05*np.random.randn()\n",
    "p0[20] = -1.2 + 0.2*np.random.randn()\n",
    "p0[21] = 2.25+ 0.2*np.random.randn()\n",
    "p0[22] = 4200. + (500.*  np.random.randn())\n",
    "\n",
    "#while True:\n",
    "#    Tcheck = TPmod.set_prof(proftype, coarsePress, press, p0[ndim-5:])\n",
    "#    if min(Tcheck) > 1.0:\n",
    "#        break\n",
    "#    else:\n",
    "#        p0[ndim-5] = 0.39 + 0.01*np.random.randn()\n",
    "#        p0[ndim-4] = 0.14 + 0.01*np.random.randn()\n",
    "#        p0[ndim-3] = -1.2 + 0.2*np.random.randn()\n",
    "#        p0[ndim-2] = 2. + 0.2*np.random.randn()\n",
    "#        p0[ndim-1] = 4200. + (200.*np.random.randn())\n",
    "    "
   ]
  },
  {
   "cell_type": "code",
   "execution_count": 44,
   "metadata": {},
   "outputs": [
    {
     "name": "stdout",
     "output_type": "stream",
     "text": [
      "[-4.18958118e+00 -3.25314524e+00 -4.06412724e+00 -4.26183326e+00\n",
      " -8.07702225e+00 -7.90433743e+00 -7.45940901e+00 -7.67931295e+00\n",
      " -7.28897163e+00 -5.12035015e+00  4.84192794e+00  6.01598158e-20\n",
      "  9.49557635e-05 -3.13669261e+01 -2.82692322e-01  5.22696006e-03\n",
      " -9.67623541e-02  1.00595710e-01  2.95807919e-01  1.56297531e-01\n",
      " -1.20024803e+00  2.15051054e+00  4.84886494e+03]\n"
     ]
    }
   ],
   "source": [
    "print(theta)\n",
    "prof = theta[ndim-5:]"
   ]
  },
  {
   "cell_type": "code",
   "execution_count": 45,
   "metadata": {},
   "outputs": [
    {
     "name": "stdout",
     "output_type": "stream",
     "text": [
      "[1]\n",
      "[ 1  4  5  2  7  8 10 11  3 20 21]\n",
      "[[5]]\n",
      "[[2]]\n",
      "1.0813122687601906 31.448811507090888\n"
     ]
    }
   ],
   "source": [
    "print(do_clouds)\n",
    "print(gasnum)\n",
    "print(cloudnum)\n",
    "print(cloudtype)\n",
    "#print theta[15]\n",
    "#print theta[16]\n",
    "r2d2= theta[11]\n",
    "logg = theta[10]\n",
    "D = 3.086e+16 * dist\n",
    "R = np.sqrt(r2d2) * D\n",
    "g = (10.**logg)/100.\n",
    "M = (R**2 * g/(6.67E-11))/1.898E27\n",
    "print(R/70000e3, M)"
   ]
  },
  {
   "cell_type": "code",
   "execution_count": 47,
   "metadata": {},
   "outputs": [
    {
     "data": {
      "text/plain": [
       "Text(0.5, 0, 'T/K')"
      ]
     },
     "execution_count": 47,
     "metadata": {},
     "output_type": "execute_result"
    },
    {
     "data": {
      "image/png": "[encoded data removed]",
      "text/plain": [
       "<Figure size 1920x1280 with 1 Axes>"
      ]
     },
     "metadata": {
      "needs_background": "light"
     },
     "output_type": "display_data"
    }
   ],
   "source": [
    "plt.rc('font',family='Times New Roman')\n",
    "fig=plt.figure(dpi=320)\n",
    "plt.axis([-500., 6000.,3.0,-5.0])\n",
    "#plt.plot(prof,logcoarsePress,'k-')\n",
    "plt.plot(modT,np.log10(modP),'g-')\n",
    "logP = np.log10(press)\n",
    "plotT = TPmod.set_prof(proftype,coarsePress,press,prof)\n",
    "plt.plot(plotT,logP, \"r-\")\n",
    "\n",
    "plt.ylabel(r'log(P)')\n",
    "plt.xlabel('T/K')\n"
   ]
  },
  {
   "cell_type": "code",
   "execution_count": 48,
   "metadata": {},
   "outputs": [
    {
     "name": "stdout",
     "output_type": "stream",
     "text": [
      "-17881373.351953123\n"
     ]
    }
   ],
   "source": [
    "LP = testkit.lnprob(theta) #* -2. / (obspec.shape[1] /3.)\n",
    "#print testkit.lnprob(theta2,*runargs) * -2. / (obspec.shape[1] /3.)\n",
    "print(LP)"
   ]
  },
  {
   "cell_type": "code",
   "execution_count": 17,
   "metadata": {},
   "outputs": [
    {
     "ename": "SyntaxError",
     "evalue": "invalid syntax (<ipython-input-17-739f4d57739b>, line 1)",
     "output_type": "error",
     "traceback": [
      "\u001b[0;36m  File \u001b[0;32m\"<ipython-input-17-739f4d57739b>\"\u001b[0;36m, line \u001b[0;32m1\u001b[0m\n\u001b[0;31m    [ 0.          0.          0.          0.          0.          0.          0.\u001b[0m\n\u001b[0m                   ^\u001b[0m\n\u001b[0;31mSyntaxError\u001b[0m\u001b[0;31m:\u001b[0m invalid syntax\n"
     ]
    }
   ],
   "source": [
    "[ 0.          0.          0.          0.          0.          0.          0.\n",
    "  0.          0.          0.          0.          0.          0.          0.\n",
    "  0.          0.          0.          0.          0.          0.\n",
    "  0.44268837  0.55731163  0.          0.          0.          0.          0.\n",
    "  0.          0.          0.          0.          0.          0.          0.\n",
    "  0.          0.          0.          0.          0.          0.          0.\n",
    "  0.          0.          0.          0.          0.          0.          0.\n",
    "  0.          0.          0.          0.          0.          0.          0.\n",
    "  0.          0.          0.          0.          0.          0.          0.\n",
    "  0.          0.        ]"
   ]
  },
  {
   "cell_type": "code",
   "execution_count": null,
   "metadata": {},
   "outputs": [],
   "source": [
    "pickle.compatible_formats\n"
   ]
  },
  {
   "cell_type": "code",
   "execution_count": 19,
   "metadata": {},
   "outputs": [
    {
     "name": "stdout",
     "output_type": "stream",
     "text": [
      "outspec,phot_press,tau_spec,cfunc = marv(temp,logg,r2d2,ingasnum,logvmr,pcover,do_clouds,incloudnum,cloudrad,cloudsig,cloudprof,inlinetemps,inpress,inwavenum,inlinelist,cia,ciatemps,use_disort,make_pspec,make_tspec,make_cf,do_bff,bff)\n",
      "\n",
      "Wrapper for ``marv``.\n",
      "\n",
      "Parameters\n",
      "----------\n",
      "temp : in/output rank-1 array('d') with bounds (f2py_temp_d0)\n",
      "logg : input float\n",
      "r2d2 : input float\n",
      "ingasnum : in/output rank-1 array('i') with bounds (f2py_ingasnum_d0)\n",
      "logvmr : in/output rank-2 array('d') with bounds (f2py_logvmr_d0,f2py_logvmr_d1)\n",
      "pcover : in/output rank-1 array('f') with bounds (f2py_pcover_d0)\n",
      "do_clouds : in/output rank-1 array('i') with bounds (f2py_do_clouds_d0)\n",
      "incloudnum : in/output rank-2 array('i') with bounds (f2py_incloudnum_d0,f2py_incloudnum_d1)\n",
      "cloudrad : in/output rank-3 array('d') with bounds (f2py_cloudrad_d0,f2py_cloudrad_d1,f2py_cloudrad_d2)\n",
      "cloudsig : in/output rank-3 array('d') with bounds (f2py_cloudsig_d0,f2py_cloudsig_d1,f2py_cloudsig_d2)\n",
      "cloudprof : in/output rank-3 array('d') with bounds (f2py_cloudprof_d0,f2py_cloudprof_d1,f2py_cloudprof_d2)\n",
      "inlinetemps : input rank-1 array('f') with bounds (27)\n",
      "inpress : in/output rank-1 array('f') with bounds (f2py_inpress_d0)\n",
      "inwavenum : in/output rank-1 array('d') with bounds (f2py_inwavenum_d0)\n",
      "inlinelist : in/output rank-4 array('d') with bounds (f2py_inlinelist_d0,f2py_inlinelist_d1,f2py_inlinelist_d2,f2py_inlinelist_d3)\n",
      "cia : in/output rank-3 array('f') with bounds (f2py_cia_d0,f2py_cia_d1,f2py_cia_d2)\n",
      "ciatemps : in/output rank-1 array('f') with bounds (198)\n",
      "use_disort : input int\n",
      "make_pspec : input int\n",
      "make_tspec : input int\n",
      "make_cf : input int\n",
      "do_bff : input int\n",
      "bff : in/output rank-2 array('d') with bounds (f2py_bff_d0,f2py_bff_d1)\n",
      "\n",
      "Returns\n",
      "-------\n",
      "outspec : rank-2 array('d') with bounds (2,19501)\n",
      "phot_press : rank-2 array('d') with bounds (4,19501)\n",
      "tau_spec : rank-2 array('d') with bounds (4,19501)\n",
      "cfunc : rank-3 array('d') with bounds (4,19501,100)\n",
      "\n"
     ]
    }
   ],
   "source": [
    "#for gas in range (0,ngas):\n",
    "##    test= pickle.load( open(lists[gas], \"rb\" ) )[3]\n",
    "#    test[np.isnan(test)] = 1.0\n",
    "#    print test[np.where(np.less(test,0))]\n",
    "print forwardmodel.marv.__doc__"
   ]
  },
  {
   "cell_type": "code",
   "execution_count": 19,
   "metadata": {},
   "outputs": [
    {
     "ename": "NameError",
     "evalue": "name 'cloudprof' is not defined",
     "output_type": "error",
     "traceback": [
      "\u001b[0;31m---------------------------------------------------------------------------\u001b[0m",
      "\u001b[0;31mNameError\u001b[0m                                 Traceback (most recent call last)",
      "\u001b[0;32m<ipython-input-19-8ffb674ee737>\u001b[0m in \u001b[0;36m<module>\u001b[0;34m()\u001b[0m\n\u001b[1;32m      3\u001b[0m \u001b[0mplt\u001b[0m\u001b[0;34m.\u001b[0m\u001b[0maxis\u001b[0m\u001b[0;34m(\u001b[0m\u001b[0;34m[\u001b[0m\u001b[0;34m-\u001b[0m\u001b[0;36m8.\u001b[0m\u001b[0;34m,\u001b[0m \u001b[0;36m2.\u001b[0m\u001b[0;34m,\u001b[0m\u001b[0;36m3.0\u001b[0m\u001b[0;34m,\u001b[0m\u001b[0;34m-\u001b[0m\u001b[0;36m5.0\u001b[0m\u001b[0;34m]\u001b[0m\u001b[0;34m)\u001b[0m\u001b[0;34m\u001b[0m\u001b[0m\n\u001b[1;32m      4\u001b[0m \u001b[0mlogP\u001b[0m \u001b[0;34m=\u001b[0m \u001b[0mnp\u001b[0m\u001b[0;34m.\u001b[0m\u001b[0mlog10\u001b[0m\u001b[0;34m(\u001b[0m\u001b[0mpress\u001b[0m\u001b[0;34m)\u001b[0m\u001b[0;34m\u001b[0m\u001b[0m\n\u001b[0;32m----> 5\u001b[0;31m \u001b[0mplt\u001b[0m\u001b[0;34m.\u001b[0m\u001b[0mplot\u001b[0m\u001b[0;34m(\u001b[0m\u001b[0mnp\u001b[0m\u001b[0;34m.\u001b[0m\u001b[0mlog10\u001b[0m\u001b[0;34m(\u001b[0m\u001b[0mcloudprof\u001b[0m\u001b[0;34m[\u001b[0m\u001b[0;36m0\u001b[0m\u001b[0;34m,\u001b[0m\u001b[0;34m:\u001b[0m\u001b[0;34m,\u001b[0m\u001b[0;36m0\u001b[0m\u001b[0;34m]\u001b[0m\u001b[0;34m)\u001b[0m\u001b[0;34m,\u001b[0m\u001b[0mlogP\u001b[0m\u001b[0;34m,\u001b[0m \u001b[0;34m\"r-\"\u001b[0m\u001b[0;34m)\u001b[0m\u001b[0;34m\u001b[0m\u001b[0m\n\u001b[0m\u001b[1;32m      6\u001b[0m \u001b[0;34m\u001b[0m\u001b[0m\n\u001b[1;32m      7\u001b[0m \u001b[0mplt\u001b[0m\u001b[0;34m.\u001b[0m\u001b[0mylabel\u001b[0m\u001b[0;34m(\u001b[0m\u001b[0;34mr'log(P)'\u001b[0m\u001b[0;34m)\u001b[0m\u001b[0;34m\u001b[0m\u001b[0m\n",
      "\u001b[0;31mNameError\u001b[0m: name 'cloudprof' is not defined"
     ]
    },
    {
     "data": {
      "image/png": "[encoded data removed]",
      "text/plain": [
       "<matplotlib.figure.Figure at 0x10ce4f210>"
      ]
     },
     "metadata": {},
     "output_type": "display_data"
    }
   ],
   "source": [
    "plt.rc('font',family='Times New Roman')\n",
    "fig=plt.figure(dpi=320)\n",
    "plt.axis([-8., 2.,3.0,-5.0])\n",
    "logP = np.log10(press)\n",
    "plt.plot(np.log10(cloudprof[0,:,0]),logP, \"r-\")\n",
    "\n",
    "plt.ylabel(r'log(P)')\n",
    "plt.xlabel('log10(dtau)')"
   ]
  },
  {
   "cell_type": "code",
   "execution_count": null,
   "metadata": {},
   "outputs": [],
   "source": [
    "import forwardmodel\n",
    "print forwardmodel.marv.__doc__"
   ]
  },
  {
   "cell_type": "code",
   "execution_count": null,
   "metadata": {
    "collapsed": true
   },
   "outputs": [],
   "source": []
  },
  {
   "cell_type": "code",
   "execution_count": null,
   "metadata": {
    "collapsed": true
   },
   "outputs": [],
   "source": []
  }
 ],
 "metadata": {
  "kernelspec": {
   "display_name": "Python 3",
   "language": "python",
   "name": "python3"
  },
  "language_info": {
   "codemirror_mode": {
    "name": "ipython",
    "version": 3
   },
   "file_extension": ".py",
   "mimetype": "text/x-python",
   "name": "python",
   "nbconvert_exporter": "python",
   "pygments_lexer": "ipython3",
   "version": "3.8.5"
  }
 },
 "nbformat": 4,
 "nbformat_minor": 1
}
