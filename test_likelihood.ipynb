{
 "cells": [
  {
   "cell_type": "code",
   "execution_count": 5,
   "metadata": {
    "collapsed": false
   },
   "outputs": [],
   "source": [
    "import multiprocessing\n",
    "import time\n",
    "import numpy as np\n",
    "import scipy as sp\n",
    "import emcee\n",
    "import testkit\n",
    "import ciamod\n",
    "import os\n",
    "import gc\n",
    "import sys\n",
    "import pickle\n",
    "from scipy.io.idl import readsav\n",
    "from scipy import interpolate\n",
    "from scipy.interpolate import interp1d\n",
    "from scipy.interpolate import InterpolatedUnivariateSpline\n",
    "\n",
    "import matplotlib\n",
    "import matplotlib.pyplot as plt\n",
    "import matplotlib.image as mgimg\n",
    "import TPmod\n",
    "import forwardmodel\n",
    "from IPython.display import display\n",
    "%matplotlib inline\n"
   ]
  },
  {
   "cell_type": "code",
   "execution_count": 6,
   "metadata": {
    "collapsed": false
   },
   "outputs": [
    {
     "name": "stdout",
     "output_type": "stream",
     "text": [
      "75\n",
      "[  1.00000000e-03   1.20226443e-03   1.44543977e-03   1.73780083e-03\n",
      "   2.08929613e-03   2.51188643e-03   3.01995172e-03   3.63078055e-03\n",
      "   4.36515832e-03   5.24807460e-03   6.30957344e-03   7.58577575e-03\n",
      "   9.12010839e-03   1.09647820e-02   1.31825674e-02   1.58489319e-02\n",
      "   1.90546072e-02   2.29086765e-02   2.75422870e-02   3.31131121e-02\n",
      "   3.98107171e-02   4.78630092e-02   5.75439937e-02   6.91830971e-02\n",
      "   8.31763771e-02   1.00000000e-01   1.20226443e-01   1.44543977e-01\n",
      "   1.73780083e-01   2.08929613e-01   2.51188643e-01   3.01995172e-01\n",
      "   3.63078055e-01   4.36515832e-01   5.24807460e-01   6.30957344e-01\n",
      "   7.58577575e-01   9.12010839e-01   1.09647820e+00   1.31825674e+00\n",
      "   1.58489319e+00   1.90546072e+00   2.29086765e+00   2.75422870e+00\n",
      "   3.31131121e+00   3.98107171e+00   4.78630092e+00   5.75439937e+00\n",
      "   6.91830971e+00   8.31763771e+00   1.00000000e+01   1.20226443e+01\n",
      "   1.44543977e+01   1.73780083e+01   2.08929613e+01   2.51188643e+01\n",
      "   3.01995172e+01   3.63078055e+01   4.36515832e+01   5.24807460e+01\n",
      "   6.30957344e+01   7.58577575e+01   9.12010839e+01   1.09647820e+02\n",
      "   1.31825674e+02   1.58489319e+02   1.90546072e+02   2.29086765e+02\n",
      "   2.75422870e+02   3.31131121e+02   3.98107171e+02   4.78630092e+02\n",
      "   5.75439937e+02   6.91830971e+02   8.31763771e+02]\n"
     ]
    }
   ],
   "source": [
    "# set up the model arguments the drop these into theta(state vector) or runargs\n",
    "#set up pressure grids in bar cos its intuitive\n",
    "logcoarsePress = np.arange(-4.0, 2.5, 0.53)\n",
    "#logcoarsePress = np.arange(-4.0, 3.0, 0.5)\n",
    "coarsePress = pow(10,logcoarsePress)\n",
    "logfinePress = np.arange(-3.0, 3.0, 0.08)\n",
    "finePress = pow(10,logfinePress)\n",
    "# forward model wants pressure in bar\n",
    "press = finePress\n",
    "#nprof = coarsePress.size\n",
    "#print nprof\n",
    "print (finePress.size)\n",
    "print (finePress)"
   ]
  },
  {
   "cell_type": "code",
   "execution_count": 7,
   "metadata": {
    "collapsed": false
   },
   "outputs": [],
   "source": [
    "w1 = 0.8\n",
    "w2 = 2.4\n",
    "\n",
    "dist = 11.35\n",
    "# hardwired FWHM of data in microns\n",
    "fwhm = 0.005\n",
    "\n",
    "npatches = 1\n",
    "nclouds = 1\n",
    "\n",
    "\n",
    "do_clouds = np.array([0],dtype='i')\n",
    "\n",
    "\n",
    "# CURRENTLY ONLY COPE WITH ONE CLOUDY PATCH.\n",
    "#SO MAKE ALL CLOUD PARAMETERS THE SAME FOR EASE OF PROCESSING \n",
    "\n",
    "cloudnum = np.zeros([npatches,nclouds],dtype='i')\n",
    "cloudnum[:,:] = 89\n",
    "cloudtype = np.asfortranarray(np.ones([npatches,nclouds]),dtype='i')\n",
    "cloudtype[:,:] = 2\n",
    "\n",
    "\n",
    "use_disort = 0 \n",
    "\n",
    "# use the fudge factor?\n",
    "do_fudge = 1\n",
    "\n",
    "# Set the profile type\n",
    "proftype = 9\n",
    "\n",
    "prof = np.full(13,100.)\n",
    "if (proftype == 9):\n",
    "    modP,modT = np.loadtxt(\"t1700g1000f3.dat\",skiprows=1,usecols=(1,2),unpack=True)\n",
    "    tfit = InterpolatedUnivariateSpline(np.log10(modP),modT,k=1)\n",
    "    prof = tfit(logcoarsePress)\n",
    "\n",
    "# now the linelist\n",
    "# Set up number of gases, and point at the lists. see gaslist.dat\n",
    "ngas = 9\n",
    "gasnum = np.asfortranarray(np.array([1,4,7,8,9,10,11,20,21],dtype='i'))\n",
    "lists = [\"../Linelists/H2O_xsecs.pic\",\"../Linelists/co_xsecs.pic\",\"../Linelists/tio_xsecs.pic\",\"../Linelists/vo_xsecs.pic\",\"../Linelists/cah_xsecs.pic\",\"../Linelists/crh_xsecs.pic\" ,\"../Linelists/feh_xsecs.pic\",\"../Linelists/K_xsecs.pic\",\"../Linelists/Na_xsecs.pic\"]"
   ]
  },
  {
   "cell_type": "code",
   "execution_count": 8,
   "metadata": {
    "collapsed": false
   },
   "outputs": [
    {
     "name": "stdout",
     "output_type": "stream",
     "text": [
      "1\n",
      "89\n"
     ]
    }
   ],
   "source": [
    "cloudparams = np.ones([5,npatches,nclouds],dtype='d')\n",
    "print (cloudparams.shape[2])\n",
    "print (cloudnum[0,0])"
   ]
  },
  {
   "cell_type": "code",
   "execution_count": 10,
   "metadata": {
    "collapsed": false
   },
   "outputs": [],
   "source": [
    "# get the basic framework from water list\n",
    "rawwavenum, inpress, inlinetemps, inlinelist = pickle.load( open('../Linelists/H2O_xsecs.pic', \"rb\"))\n",
    "wn1 = 10000./w2\n",
    "wn2 = 10000. / w1\n",
    "inwavenum = np.asfortranarray(rawwavenum[np.where(np.logical_not(np.logical_or(rawwavenum[:] > wn2, rawwavenum[:] < wn1)))],dtype='float64')\n",
    "ntemps = inlinetemps.size\n",
    "npress= finePress.size\n",
    "nwave = inwavenum.size\n",
    "r1 = np.amin(np.where(np.logical_not(np.logical_or(rawwavenum[:] > wn2, rawwavenum[:] < wn1))))\n",
    "r2 = np.amax(np.where(np.logical_not(np.logical_or(rawwavenum[:] > wn2, rawwavenum[:] < wn1))))\n",
    "\n",
    "# Here we are interpolating the linelist onto our fine pressure scale.\n",
    "# pickles have linelist as 4th entry....\n",
    "linelist = (np.ones([ngas,npress,ntemps,nwave],order='F')).astype('float64', order='F')\n",
    "for gas in range (0,ngas):\n",
    "    inlinelist= pickle.load( open(lists[gas], \"rb\" ) )[3]\n",
    "    # make missing bits crazy. They are all high pressure, low-temp points.\n",
    "    #inlinelist[np.isnan(inlinelist)] = 1.0\n",
    "    for i in range (0,ntemps):\n",
    "        for j in range (r1,r2+1):\n",
    "            pfit = InterpolatedUnivariateSpline(np.log10(inpress),np.log10(inlinelist[:,i,j]),k=1)\n",
    "            linelist[gas,:,i,(j-r1)] = np.asfortranarray(pfit(np.log10(finePress)))\n",
    "\n",
    "linelist[np.isnan(linelist)] = -50.0\n"
   ]
  },
  {
   "cell_type": "code",
   "execution_count": 11,
   "metadata": {
    "collapsed": false
   },
   "outputs": [
    {
     "name": "stdout",
     "output_type": "stream",
     "text": [
      "(9,)\n",
      "9\n"
     ]
    }
   ],
   "source": [
    "print gasnum.shape\n",
    "print linelist.shape[0]"
   ]
  },
  {
   "cell_type": "code",
   "execution_count": 12,
   "metadata": {
    "collapsed": false
   },
   "outputs": [],
   "source": [
    "# Get the cia bits\n",
    "tmpcia, ciatemps = ciamod.read_cia(\"CIA_DS_aug_2015.dat\",inwavenum)\n",
    "cia = np.asfortranarray(np.empty((4,ciatemps.size,nwave)),dtype='float32')\n",
    "cia[:,:,:] = tmpcia[:,:,:nwave] \n",
    "ciatemps = np.asfortranarray(ciatemps, dtype='float32')\n"
   ]
  },
  {
   "cell_type": "code",
   "execution_count": 13,
   "metadata": {
    "collapsed": false
   },
   "outputs": [],
   "source": [
    "# Sort out the BFF opacity stuff:\n",
    "\n",
    "intab = np.loadtxt(\"2015_06_1060grid_feh_00_co_10.txt\",skiprows=1)\n",
    "test = np.array(intab)\n",
    "test2 = test.reshape(60,18,36)\n",
    "Pgrid = test2[20:21,:,1].reshape(18)\n",
    "Tgrid =  test2[:,10:11,0].reshape(60)\n",
    "abunds= test2[:,:,2:]\n",
    "nlayers = 75\n",
    "nabpress = 18\n",
    "nabtemp = 60\n",
    "nabgas = 34\n",
    "ab_myP = np.empty([nabtemp,nlayers,nabgas])\n",
    "for gas in range (0,nabgas):\n",
    "    for i in range (0,nabtemp):\n",
    "            pfit = InterpolatedUnivariateSpline(Pgrid,np.log10(abunds[i,:,gas]),k=1)\n",
    "            ab_myP[i,:,gas] = pfit(np.log10(finePress))\n",
    "            \n",
    "bff_raw = np.empty([nabtemp,nlayers,3])\n",
    "bff_raw[:,:,0] = ab_myP[:,:,0]\n",
    "bff_raw[:,:,1] = ab_myP[:,:,2]\n",
    "bff_raw[:,:,2] = ab_myP[:,:,4]\n",
    "\n",
    "bfTgrid = Tgrid\n",
    "do_bff = 1"
   ]
  },
  {
   "cell_type": "code",
   "execution_count": 15,
   "metadata": {
    "collapsed": false
   },
   "outputs": [],
   "source": [
    "# get the observed spectrum\n",
    "obspec = np.asfortranarray(np.loadtxt(\"2M2224_mkoJcalib_trim.dat\",dtype='d',unpack='true'))\n",
    "\n",
    "do_fudge = 1\n",
    "\n",
    "# place holder values for cloudparams\n",
    "cloudparams = np.ones([5,npatches,nclouds],dtype='d')\n",
    "cloudparams[0,:,:] = 0.\n",
    "cloudparams[1,:,:] = 0.0\n",
    "cloudparams[2,:,:] = 0.1\n",
    "cloudparams[3,:,:] = 0.0\n",
    "cloudparams[4,:] = 0.0\n",
    "\n",
    "\n",
    "runargs = dist, cloudtype,cloudparams,do_clouds,gasnum,cloudnum,inlinetemps,coarsePress,press,inwavenum,linelist,cia,ciatemps,use_disort,fwhm,obspec,proftype,do_fudge,prof,do_bff,bff_raw,bfTgrid\n"
   ]
  },
  {
   "cell_type": "code",
   "execution_count": 16,
   "metadata": {
    "collapsed": false
   },
   "outputs": [
    {
     "name": "stdout",
     "output_type": "stream",
     "text": [
      "12\n"
     ]
    }
   ],
   "source": [
    "# for proftype = 2 with no clouds, ndim = nprof + ngas-1, + (dlam,beta,logg, r2d2)\n",
    "ndim =12 #(nprof + (ngas-1) + 9)\n",
    "theta = np.empty(ndim)\n",
    "print ndim"
   ]
  },
  {
   "cell_type": "code",
   "execution_count": 17,
   "metadata": {
    "collapsed": false
   },
   "outputs": [],
   "source": [
    "theta[0] = -3.16459894e+00 #(0.5*np.random.randn()) - 3.5 # H2O\n",
    "theta[1] = -1.96267367e+00 #(0.5*np.random.randn()) - 6.0 # CO\n",
    "theta[2] = -1.14442303e+01 #(0.5*np.random.randn()) - 8.0 # TiO\n",
    "theta[3] = -1.07901469e+01 #(1.0*np.random.randn()) - 8.0 # VO \n",
    "theta[4] = -1.07901469e+01 #(1.0*np.random.randn()) - 8.0 # CaH\n",
    "theta[5] = -7.18029425e+00 #(1.0*np.random.randn()) - 8.0 # CrH\n",
    "theta[6] = -8.08165811e+00 #(0.5*np.random.randn()) - 8.0 # FeH\n",
    "theta[7] = -3.97709062e+00 #(0.5*np.random.randn()) - 5.5 # Na+K\n",
    "theta[8] = 5.24787282e+00 #np.random.rand() + 4.2  # logg\n",
    "theta[9] = 1e-20 +  5e-20 * np.random.rand()   # r2d2\n",
    "theta[10] = 1.87727140e-03#np.random.randn() * 0.001 # dlam\n",
    "theta[11] = np.log10((np.random.rand() * (max(obspec[2,:]**2)*(10. - 0.01))) + (0.01*min(obspec[2,10::3]**2)))\n",
    "#theta[13] = 2.0 #-15.0 # density\n",
    "#theta[14] = -4. + 6.*np.random.rand()  # P0  \n",
    "#theta[15] = np.random.rand() # cloud thickness (in delta-log-pressure\n",
    "#while True:\n",
    "#    Tcheck = TPmod.set_prof(proftype,coarsePress,press,theta[17:])\n",
    "#    if (min(Tcheck) > 1.0):\n",
    "#        break\n",
    "#    else:\n",
    "##        theta[17] = 0.3 + 0.1*np.random.randn()\n",
    "#        theta[18] = 0.2* np.random.rand()\n",
    "#        theta[19] = -2.* np.random.rand()\n",
    "#        theta[20] = 2. + np.random.rand()\n",
    "#        theta[21] = 4000. + (1000.*  np.random.rand())"
   ]
  },
  {
   "cell_type": "code",
   "execution_count": 18,
   "metadata": {
    "collapsed": false
   },
   "outputs": [
    {
     "name": "stdout",
     "output_type": "stream",
     "text": [
      "[ -3.16459894e+00  -1.96267367e+00  -1.14442303e+01  -1.07901469e+01\n",
      "  -1.07901469e+01  -7.18029425e+00  -8.08165811e+00  -3.97709062e+00\n",
      "   5.24787282e+00   2.04334229e-20   1.87727140e-03  -2.99310784e+01]\n"
     ]
    }
   ],
   "source": [
    "print theta"
   ]
  },
  {
   "cell_type": "code",
   "execution_count": 19,
   "metadata": {
    "collapsed": false
   },
   "outputs": [
    {
     "name": "stdout",
     "output_type": "stream",
     "text": [
      "[0]\n",
      "[ 1  4  7  8  9 10 11 20 21]\n",
      "[[89]]\n",
      "[[2]]\n",
      "0.715260603937 35.0409174252\n",
      "5\n",
      "(5, 1, 1)\n"
     ]
    }
   ],
   "source": [
    "print do_clouds\n",
    "print gasnum\n",
    "print cloudnum\n",
    "print cloudtype\n",
    "#print theta[15]\n",
    "#print theta[16]\n",
    "r2d2= theta[9]\n",
    "logg = theta[8]\n",
    "D = 3.086e+16 * dist\n",
    "R = np.sqrt(r2d2) * D\n",
    "g = (10.**logg)/100.\n",
    "M = (R**2 * g/(6.67E-11))/1.898E27\n",
    "print R/70000e3, M\n",
    "print cloudparams.size\n",
    "print cloudparams.shape"
   ]
  },
  {
   "cell_type": "code",
   "execution_count": 20,
   "metadata": {
    "collapsed": false
   },
   "outputs": [
    {
     "data": {
      "text/plain": [
       "<matplotlib.text.Text at 0x11c7d6650>"
      ]
     },
     "execution_count": 20,
     "metadata": {},
     "output_type": "execute_result"
    },
    {
     "data": {
      "image/png": "[encoded data removed]",
      "text/plain": [
       "<matplotlib.figure.Figure at 0x11c7918d0>"
      ]
     },
     "metadata": {},
     "output_type": "display_data"
    }
   ],
   "source": [
    "plt.rc('font',family='Times New Roman')\n",
    "fig=plt.figure(dpi=320)\n",
    "plt.axis([-500., 6000.,3.0,-5.0])\n",
    "plt.plot(prof,logcoarsePress,'k-')\n",
    "plt.plot(modT,np.log10(modP),'g-')\n",
    "logP = np.log10(press)\n",
    "plotT = TPmod.set_prof(proftype,coarsePress,press,prof)\n",
    "plt.plot(plotT,logP, \"r-\")\n",
    "\n",
    "plt.ylabel(r'log(P)')\n",
    "plt.xlabel('T/K')\n"
   ]
  },
  {
   "cell_type": "code",
   "execution_count": 21,
   "metadata": {
    "collapsed": false
   },
   "outputs": [
    {
     "name": "stdout",
     "output_type": "stream",
     "text": [
      "4363.75882201\n"
     ]
    }
   ],
   "source": [
    "LP = testkit.lnprob(theta,*runargs) #* -2. / (obspec.shape[1] /3.)\n",
    "#print testkit.lnprob(theta2,*runargs) * -2. / (obspec.shape[1] /3.)\n",
    "print LP"
   ]
  },
  {
   "cell_type": "code",
   "execution_count": null,
   "metadata": {
    "collapsed": false
   },
   "outputs": [],
   "source": [
    "#len(pickle.dumps([theta,runargs], -1)) / 1e9"
   ]
  },
  {
   "cell_type": "code",
   "execution_count": 20,
   "metadata": {
    "collapsed": false
   },
   "outputs": [
    {
     "name": "stdout",
     "output_type": "stream",
     "text": [
      "outspec,phot_press,tau_spec = marv(temp,logg,r2d2,ingasnum,logvmr,pcover,do_clouds,incloudnum,cloudrad,cloudsig,cloudprof,inlinetemps,inpress,inwavenum,inlinelist,cia,ciatemps,use_disort,make_pspec,make_tspec,do_bff,bff)\n",
      "\n",
      "Wrapper for ``marv``.\n",
      "\n",
      "Parameters\n",
      "----------\n",
      "temp : in/output rank-1 array('d') with bounds (f2py_temp_d0)\n",
      "logg : input float\n",
      "r2d2 : input float\n",
      "ingasnum : in/output rank-1 array('i') with bounds (f2py_ingasnum_d0)\n",
      "logvmr : in/output rank-2 array('d') with bounds (f2py_logvmr_d0,f2py_logvmr_d1)\n",
      "pcover : in/output rank-1 array('f') with bounds (f2py_pcover_d0)\n",
      "do_clouds : in/output rank-1 array('i') with bounds (f2py_do_clouds_d0)\n",
      "incloudnum : in/output rank-2 array('i') with bounds (f2py_incloudnum_d0,f2py_incloudnum_d1)\n",
      "cloudrad : in/output rank-3 array('d') with bounds (f2py_cloudrad_d0,f2py_cloudrad_d1,f2py_cloudrad_d2)\n",
      "cloudsig : in/output rank-3 array('d') with bounds (f2py_cloudsig_d0,f2py_cloudsig_d1,f2py_cloudsig_d2)\n",
      "cloudprof : in/output rank-3 array('d') with bounds (f2py_cloudprof_d0,f2py_cloudprof_d1,f2py_cloudprof_d2)\n",
      "inlinetemps : input rank-1 array('f') with bounds (27)\n",
      "inpress : in/output rank-1 array('f') with bounds (f2py_inpress_d0)\n",
      "inwavenum : in/output rank-1 array('d') with bounds (f2py_inwavenum_d0)\n",
      "inlinelist : in/output rank-4 array('d') with bounds (f2py_inlinelist_d0,f2py_inlinelist_d1,f2py_inlinelist_d2,f2py_inlinelist_d3)\n",
      "cia : in/output rank-3 array('f') with bounds (f2py_cia_d0,f2py_cia_d1,f2py_cia_d2)\n",
      "ciatemps : in/output rank-1 array('f') with bounds (198)\n",
      "use_disort : input int\n",
      "make_pspec : input int\n",
      "make_tspec : input int\n",
      "do_bff : input int\n",
      "bff : in/output rank-2 array('d') with bounds (f2py_bff_d0,f2py_bff_d1)\n",
      "\n",
      "Returns\n",
      "-------\n",
      "outspec : rank-2 array('d') with bounds (2,19501)\n",
      "phot_press : rank-2 array('d') with bounds (4,19501)\n",
      "tau_spec : rank-2 array('d') with bounds (4,19501)\n",
      "\n"
     ]
    }
   ],
   "source": [
    "#for gas in range (0,ngas):\n",
    "##    test= pickle.load( open(lists[gas], \"rb\" ) )[3]\n",
    "#    test[np.isnan(test)] = 1.0\n",
    "#    print test[np.where(np.less(test,0))]\n",
    "print forwardmodel.marv.__doc__"
   ]
  },
  {
   "cell_type": "code",
   "execution_count": null,
   "metadata": {
    "collapsed": false
   },
   "outputs": [],
   "source": [
    "plt.rc('font',family='Times New Roman')\n",
    "fig=plt.figure(dpi=320)\n",
    "plt.axis([-8., 2.,3.0,-5.0])\n",
    "logP = np.log10(press)\n",
    "plt.plot(np.log10(cloudprof[0,:,0]),logP, \"r-\")\n",
    "\n",
    "plt.ylabel(r'log(P)')\n",
    "plt.xlabel('log10(dtau)')"
   ]
  },
  {
   "cell_type": "code",
   "execution_count": null,
   "metadata": {
    "collapsed": false
   },
   "outputs": [],
   "source": [
    "import forwardmodel\n",
    "print forwardmodel.marv.__doc__"
   ]
  },
  {
   "cell_type": "code",
   "execution_count": null,
   "metadata": {
    "collapsed": true
   },
   "outputs": [],
   "source": []
  },
  {
   "cell_type": "code",
   "execution_count": null,
   "metadata": {
    "collapsed": true
   },
   "outputs": [],
   "source": []
  }
 ],
 "metadata": {
  "kernelspec": {
   "display_name": "Python 2",
   "language": "python",
   "name": "python2"
  },
  "language_info": {
   "codemirror_mode": {
    "name": "ipython",
    "version": 2
   },
   "file_extension": ".py",
   "mimetype": "text/x-python",
   "name": "python",
   "nbconvert_exporter": "python",
   "pygments_lexer": "ipython2",
   "version": "2.7.13"
  }
 },
 "nbformat": 4,
 "nbformat_minor": 0
}
