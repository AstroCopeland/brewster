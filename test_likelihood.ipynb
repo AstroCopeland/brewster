{
 "cells": [
  {
   "cell_type": "code",
   "execution_count": 1,
   "metadata": {
    "collapsed": false
   },
   "outputs": [
    {
     "name": "stderr",
     "output_type": "stream",
     "text": [
      "/opt/local/Library/Frameworks/Python.framework/Versions/2.7/lib/python2.7/site-packages/IPython/kernel/__init__.py:13: ShimWarning: The `IPython.kernel` package has been deprecated. You should import from ipykernel or jupyter_client instead.\n",
      "  \"You should import from ipykernel or jupyter_client instead.\", ShimWarning)\n"
     ]
    }
   ],
   "source": [
    "import multiprocessing\n",
    "import time\n",
    "import numpy as np\n",
    "import scipy as sp\n",
    "import emcee\n",
    "import testkit\n",
    "import ciamod\n",
    "import os\n",
    "import gc\n",
    "import sys\n",
    "import pickle\n",
    "from scipy.io.idl import readsav\n",
    "from scipy import interpolate\n",
    "from scipy.interpolate import interp1d\n",
    "import matplotlib\n",
    "import matplotlib.pyplot as plt\n",
    "import matplotlib.image as mgimg\n",
    "import TPmod\n",
    "from IPython.display import display\n",
    "%matplotlib inline\n"
   ]
  },
  {
   "cell_type": "code",
   "execution_count": 2,
   "metadata": {
    "collapsed": false
   },
   "outputs": [
    {
     "name": "stdout",
     "output_type": "stream",
     "text": [
      "[  1.00000000e-04   1.25892541e-04   1.58489319e-04   1.99526231e-04\n",
      "   2.51188643e-04   3.16227766e-04   3.98107171e-04   5.01187234e-04\n",
      "   6.30957344e-04   7.94328235e-04   1.00000000e-03   1.25892541e-03\n",
      "   1.58489319e-03   1.99526231e-03   2.51188643e-03   3.16227766e-03\n",
      "   3.98107171e-03   5.01187234e-03   6.30957344e-03   7.94328235e-03\n",
      "   1.00000000e-02   1.25892541e-02   1.58489319e-02   1.99526231e-02\n",
      "   2.51188643e-02   3.16227766e-02   3.98107171e-02   5.01187234e-02\n",
      "   6.30957344e-02   7.94328235e-02   1.00000000e-01   1.25892541e-01\n",
      "   1.58489319e-01   1.99526231e-01   2.51188643e-01   3.16227766e-01\n",
      "   3.98107171e-01   5.01187234e-01   6.30957344e-01   7.94328235e-01\n",
      "   1.00000000e+00   1.25892541e+00   1.58489319e+00   1.99526231e+00\n",
      "   2.51188643e+00   3.16227766e+00   3.98107171e+00   5.01187234e+00\n",
      "   6.30957344e+00   7.94328235e+00   1.00000000e+01   1.25892541e+01\n",
      "   1.58489319e+01   1.99526231e+01   2.51188643e+01   3.16227766e+01\n",
      "   3.98107171e+01   5.01187234e+01   6.30957344e+01   7.94328235e+01\n",
      "   1.00000000e+02   1.25892541e+02   1.58489319e+02   1.99526231e+02]\n"
     ]
    }
   ],
   "source": [
    "# set up the model arguments the drop these into theta(state vector) or runargs\n",
    "\n",
    "# set up pressure grids in bar cos its intuitive\n",
    "logcoarsePress = np.arange(-4.0, 2.5, 0.53)\n",
    "coarsePress = pow(10,logcoarsePress)\n",
    "logfinePress = np.arange(-4.0, 2.4, 0.1)\n",
    "finePress = pow(10,logfinePress)\n",
    "# forward model wants pressure in bar\n",
    "press = finePress\n",
    "#nprof = coarsePress.size\n",
    "#print nprof\n",
    "print finePress"
   ]
  },
  {
   "cell_type": "code",
   "execution_count": 3,
   "metadata": {
    "collapsed": false
   },
   "outputs": [],
   "source": [
    "w1 = 0.7\n",
    "w2 = 2.5\n",
    "\n",
    "dist = 11.35\n",
    "# hardwired FWHM of data in microns\n",
    "fwhm = 0.005\n",
    "\n",
    "npatches = 1\n",
    "nclouds= 1\n",
    "pcover = np.ones([npatches],dtype='f')\n",
    "pcover[:] = 1.0\n",
    "do_clouds = np.zeros([npatches],dtype='i')\n",
    "do_clouds[:] = 1\n",
    "cloudnum = np.zeros([npatches,nclouds],dtype='i')\n",
    "cloudnum[:,:] = 99\n",
    "cloudtype = np.array([npatches],dtype='i')\n",
    "cloudtype[:] = 1\n",
    "\n",
    "use_disort = 0 \n",
    "\n",
    "# Set the profile type\n",
    "proftype = 2\n",
    "\n",
    "\n",
    "# now the linelist\n",
    "# Set up number of gases, and point at the lists. see gaslist.dat\n",
    "ngas = 9\n",
    "gasnum = np.asfortranarray(np.array([1,2,4,7,8,10,11,20,21],dtype='i'))\n",
    "lists = [\"../Linelists/H2O_xsecs.pic\",\"../Linelists/ch4_xsecs.pic\",\"../Linelists/co_xsecs.pic\",\"../Linelists/tio_xsecs.pic\",\"../Linelists/vo_xsecs.pic\",\"../Linelists/crh_xsecs.pic\" ,\"../Linelists/feh_xsecs.pic\",\"../Linelists/K_Mike_xsecs.pic\",\"../Linelists/Na_Mike_xsecs.pic\"]"
   ]
  },
  {
   "cell_type": "code",
   "execution_count": 4,
   "metadata": {
    "collapsed": false
   },
   "outputs": [],
   "source": [
    "# get the basic framework from water list\n",
    "rawwavenum, inpress, inlinetemps, inlinelist = pickle.load( open('../Linelists/H2O_xsecs.pic', \"rb\" ) )\n",
    "wn1 = 10000./w2\n",
    "wn2 = 10000. / w1\n",
    "inwavenum = np.asfortranarray(rawwavenum[np.where(np.logical_not(np.logical_or(rawwavenum[:] > wn2, rawwavenum[:] < wn1)))],dtype='float64')\n",
    "ntemps = inlinetemps.size\n",
    "npress= finePress.size\n",
    "nwave = inwavenum.size\n",
    "r1 = np.amin(np.where(np.logical_not(np.logical_or(rawwavenum[:] > wn2, rawwavenum[:] < wn1))))\n",
    "r2 = np.amax(np.where(np.logical_not(np.logical_or(rawwavenum[:] > wn2, rawwavenum[:] < wn1))))\n",
    "\n",
    "# Here we are interpolating the linelist onto our fine pressure scale.\n",
    "# pickles have linelist as 4th entry....\n",
    "linelist = (np.ones([ngas,npress,ntemps,nwave],order='F')).astype('float64', order='F')\n",
    "for gas in range (0,ngas):\n",
    "    inlinelist= pickle.load( open(lists[gas], \"rb\" ) )[3]\n",
    "    # make missing bits crazy. They are all high pressure, low-temp points.\n",
    "    #inlinelist[np.isnan(inlinelist)] = 1.0\n",
    "    for i in range (0,ntemps):\n",
    "        for j in range (r1,r2+1):\n",
    "            pfit = interp1d(np.log10(inpress),np.log10(inlinelist[:,i,j]))\n",
    "            linelist[gas,:,i,(j-r1)] = np.asfortranarray(pfit(np.log10(finePress)))\n",
    "\n",
    "linelist[np.isnan(linelist)] = -50.0\n"
   ]
  },
  {
   "cell_type": "code",
   "execution_count": 5,
   "metadata": {
    "collapsed": false
   },
   "outputs": [],
   "source": [
    "# Get the cia bits\n",
    "tmpcia, ciatemps = ciamod.read_cia(\"CIA_DS_aug_2015.dat\",inwavenum)\n",
    "cia = np.asfortranarray(np.empty((4,ciatemps.size,nwave)),dtype='float32')\n",
    "cia[:,:,:] = tmpcia[:,:,:nwave] \n",
    "ciatemps = np.asfortranarray(ciatemps, dtype='float32')\n"
   ]
  },
  {
   "cell_type": "code",
   "execution_count": 6,
   "metadata": {
    "collapsed": false
   },
   "outputs": [],
   "source": [
    "# get the observed spectrum\n",
    "obspec = np.asfortranarray(np.loadtxt(\"2M2224_mkoJcalib.dat\",dtype='d',unpack='true'))\n",
    "\n",
    "\n",
    "\n",
    "# place holder values for cloudparams\n",
    "cloudparams = np.ones([5],dtype='d')\n",
    "cloudparams[0] = 0.\n",
    "cloudparams[1] = 10\n",
    "cloudparams[2] = 12\n",
    "cloudparams[3] = 1e-4\n",
    "cloudparams[4] = 1e-5\n",
    "\n",
    "\n",
    "runargs = dist, pcover, cloudtype,cloudparams,do_clouds,gasnum,cloudnum,inlinetemps,coarsePress,press,inwavenum,linelist,cia,ciatemps,use_disort,fwhm,obspec,proftype\n"
   ]
  },
  {
   "cell_type": "code",
   "execution_count": 7,
   "metadata": {
    "collapsed": false
   },
   "outputs": [
    {
     "name": "stdout",
     "output_type": "stream",
     "text": [
      "22\n"
     ]
    }
   ],
   "source": [
    "# for proftype = 2 with no clouds, ndim = nprof + ngas-1, + (dlam,beta,logg, r2d2)\n",
    "ndim =22 #(nprof + (ngas-1) + 9)\n",
    "theta = np.empty(ndim)\n",
    "print ndim"
   ]
  },
  {
   "cell_type": "code",
   "execution_count": 8,
   "metadata": {
    "collapsed": false
   },
   "outputs": [],
   "source": [
    "theta[0] = (0.5*np.random.randn()) - 3.5 # H2O\n",
    "theta[1] = (0.5*np.random.randn()) - 6.0 # Ch4\n",
    "theta[2] = (0.5*np.random.randn()) - 6.0 # CO\n",
    "theta[3] = (0.5*np.random.randn()) - 8.0 # TiO\n",
    "theta[4] = (1.0*np.random.randn()) - 8.0 # VO     \n",
    "theta[5] = (1.0*np.random.randn()) - 8.0 # CrH\n",
    "theta[6] = (0.5*np.random.randn()) - 8.0 # FeH\n",
    "theta[7] = (0.5*np.random.randn()) - 5.5 # Na+K\n",
    "theta[8] = np.random.rand() + 4.2  # logg\n",
    "theta[9] = 1e-20 +  5e-20 * np.random.rand()   # r2d2\n",
    "theta[10] = np.random.randn() * 0.001 # dlam\n",
    "theta[11] = np.log10((np.random.rand() * (max(obspec[2,:]**2)*(10. - 0.01))) + (0.01*min(obspec[2,10::3]**2)))\n",
    "#BTprof = np.loadtxt(\"BTtemp800_45_13.dat\")\n",
    "theta[12] = 0.5* np.random.rand()  # cloud tau\n",
    "theta[13] = -4. + 6.*np.random.rand()  # P0\n",
    "theta[14] = np.random.rand()  # cloud thickness (in delta-log-pressure)\n",
    "theta[15]  = np.random.rand()  # w0\n",
    "theta[16]  = np.random.choice([-1,+1]) * np.random.rand() # gg\n",
    "theta[17] = 0.3 + 0.1*np.random.randn()  # a1\n",
    "theta[18] = 0.2* np.random.rand()  # a2\n",
    "theta[19] =  -2. * np.random.rand() #P1\n",
    "theta[20] =  2. + np.random.rand() #P2\n",
    "theta[21] = 4000. + (np.random.rand() * 1000.0)  #T3\n",
    "while True:\n",
    "    Tcheck = TPmod.set_prof(proftype,coarsePress,press,theta[17:])\n",
    "    if (min(Tcheck) > 1.0):\n",
    "        break\n",
    "    else:\n",
    "        theta[17] = 0.3 + 0.1*np.random.randn()\n",
    "        theta[18] = 0.2* np.random.rand()\n",
    "        theta[19] = -2.* np.random.rand()\n",
    "        theta[20] = 2. + np.random.rand()\n",
    "        theta[21] = 4000. + (1000.*  np.random.rand())"
   ]
  },
  {
   "cell_type": "code",
   "execution_count": 9,
   "metadata": {
    "collapsed": false
   },
   "outputs": [
    {
     "name": "stdout",
     "output_type": "stream",
     "text": [
      "[ -3.10110709e+00  -5.71768471e+00  -5.84935725e+00  -7.65686159e+00\n",
      "  -8.89263334e+00  -7.79738559e+00  -7.91509086e+00  -6.13282882e+00\n",
      "   4.22209533e+00   1.02044895e-20  -1.00253869e-03  -2.97900600e+01\n",
      "   2.08101424e-01  -1.17761574e+00   6.78621855e-01   1.64565361e-02\n",
      "  -5.91721632e-01   3.63019631e-01   1.37996850e-01  -4.19255649e-01\n",
      "   2.97167246e+00   4.69150867e+03]\n"
     ]
    }
   ],
   "source": [
    "print theta"
   ]
  },
  {
   "cell_type": "code",
   "execution_count": 10,
   "metadata": {
    "collapsed": false
   },
   "outputs": [
    {
     "name": "stdout",
     "output_type": "stream",
     "text": [
      "[1]\n",
      "[ 1  2  4  7  8 10 11 20 21]\n",
      "[[99]]\n",
      "[1]\n",
      "0.505463017347 1.64910436752\n"
     ]
    }
   ],
   "source": [
    "print do_clouds\n",
    "print gasnum\n",
    "print cloudnum\n",
    "print cloudtype\n",
    "#print theta[15]\n",
    "#print theta[16]\n",
    "r2d2= theta[9]\n",
    "logg = theta[8]\n",
    "D = 3.086e+16 * dist\n",
    "R = np.sqrt(r2d2) * D\n",
    "g = (10.**logg)/100.\n",
    "M = (R**2 * g/(6.67E-11))/1.898E27\n",
    "print R/70000e3, M"
   ]
  },
  {
   "cell_type": "code",
   "execution_count": 11,
   "metadata": {
    "collapsed": false
   },
   "outputs": [
    {
     "data": {
      "text/plain": [
       "<matplotlib.text.Text at 0x10c56c310>"
      ]
     },
     "execution_count": 11,
     "metadata": {},
     "output_type": "execute_result"
    },
    {
     "data": {
      "image/png": "[encoded data removed]",
      "text/plain": [
       "<matplotlib.figure.Figure at 0x10c56c150>"
      ]
     },
     "metadata": {},
     "output_type": "display_data"
    }
   ],
   "source": [
    "plt.rc('font',family='Times New Roman')\n",
    "fig=plt.figure(dpi=320)\n",
    "plt.axis([-500., 6000.,3.0,-5.0])\n",
    "logP = np.log10(press)\n",
    "plotT = TPmod.set_prof(proftype,coarsePress,press,theta[17:])\n",
    "plt.plot(plotT,logP, \"r-\")\n",
    "\n",
    "plt.ylabel(r'log(P)')\n",
    "plt.xlabel('T/K')\n"
   ]
  },
  {
   "cell_type": "code",
   "execution_count": 12,
   "metadata": {
    "collapsed": false
   },
   "outputs": [
    {
     "name": "stdout",
     "output_type": "stream",
     "text": [
      "a1 =  0.363019631157\n",
      "a2 =  0.137996849506\n",
      "P1 =  -0.419255649217\n",
      "P3 =  2.97167246139\n",
      "T3 =  4691.5086715\n",
      "T =  [  453.30381622   532.86119017   611.34506067   685.918268     754.24565226\n",
      "   814.7233959    866.57821693   909.83276966   945.16287144   973.69087769\n",
      "   996.76417113  1015.75975876  1031.94033477  1046.36991556  1059.88318797\n",
      "  1073.09455352  1086.43043341  1100.17046572  1114.48866542  1129.48708062\n",
      "  1145.2211522   1161.71676965  1178.96893104  1196.98777782  1215.74849921\n",
      "  1235.21441344  1255.33417826  1276.04007487  1297.24852965  1318.86416333\n",
      "  1340.78846793  1362.93360787  1385.24083467  1407.70175469  1430.37950302\n",
      "  1453.42613192  1477.09254573  1501.72824698  1527.76986981  1555.71957385\n",
      "  1586.11631314  1619.50426599  1656.40300082  1697.28324502  1742.54656129\n",
      "  1792.52112465  1847.45789777  1907.53260847  1972.84834515  2043.43517871\n",
      "  2119.24360359  2200.12949302  2285.82971947  2375.9296453   2469.82628513\n",
      "  2566.69377807  2665.46025972  2764.8064591   2863.19518655  2958.9364996\n",
      "  3050.28920878  3135.58813134  3213.38135941  3282.55645655]\n",
      "Rj =  0.506106495606\n",
      "M =  1.64910436752\n",
      "logg =  4.22209533277\n",
      "R2D2 =  1.02044895344e-20\n",
      "VMRs =  [-3.10110709 -5.71768471 -5.84935725 -7.65686159 -8.89263334 -7.79738559\n",
      " -7.91509086 -6.13282882]\n",
      "ng =  8\n",
      "sum VMRs =  0.00079642412126\n",
      "clouddens =  -100.0\n",
      "cloud_top =  -1.1776157449\n",
      "cloud_bot =  -0.498993890319\n",
      "rg =  0.0001\n",
      "rsig =  1e-06\n",
      "cloud_tau0 =  0.208101423792\n",
      "w0 =  0.0164565360955\n",
      "gg =  -0.591721631872\n",
      "4031.34355167\n"
     ]
    }
   ],
   "source": [
    "LP = testkit.lnprob(theta,*runargs) #* -2. / (obspec.shape[1] /3.)\n",
    "#print testkit.lnprob(theta2,*runargs) * -2. / (obspec.shape[1] /3.)\n",
    "print LP"
   ]
  },
  {
   "cell_type": "code",
   "execution_count": 13,
   "metadata": {
    "collapsed": false
   },
   "outputs": [],
   "source": [
    "#len(pickle.dumps([theta,runargs], -1)) / 1e9"
   ]
  },
  {
   "cell_type": "code",
   "execution_count": 14,
   "metadata": {
    "collapsed": false
   },
   "outputs": [
    {
     "ename": "NameError",
     "evalue": "name 'cloudprof' is not defined",
     "output_type": "error",
     "traceback": [
      "\u001b[0;31m---------------------------------------------------------------------------\u001b[0m",
      "\u001b[0;31mNameError\u001b[0m                                 Traceback (most recent call last)",
      "\u001b[0;32m<ipython-input-14-be9de35b758a>\u001b[0m in \u001b[0;36m<module>\u001b[0;34m()\u001b[0m\n\u001b[1;32m      3\u001b[0m \u001b[0;31m#    test[np.isnan(test)] = 1.0\u001b[0m\u001b[0;34m\u001b[0m\u001b[0;34m\u001b[0m\u001b[0m\n\u001b[1;32m      4\u001b[0m \u001b[0;31m#    print test[np.where(np.less(test,0))]\u001b[0m\u001b[0;34m\u001b[0m\u001b[0;34m\u001b[0m\u001b[0m\n\u001b[0;32m----> 5\u001b[0;31m \u001b[0;32mprint\u001b[0m \u001b[0mcloudprof\u001b[0m\u001b[0;34m.\u001b[0m\u001b[0mshape\u001b[0m\u001b[0;34m\u001b[0m\u001b[0m\n\u001b[0m",
      "\u001b[0;31mNameError\u001b[0m: name 'cloudprof' is not defined"
     ]
    }
   ],
   "source": [
    "#for gas in range (0,ngas):\n",
    "##    test= pickle.load( open(lists[gas], \"rb\" ) )[3]\n",
    "#    test[np.isnan(test)] = 1.0\n",
    "#    print test[np.where(np.less(test,0))]\n",
    "print cloudprof.shape"
   ]
  },
  {
   "cell_type": "code",
   "execution_count": null,
   "metadata": {
    "collapsed": false
   },
   "outputs": [],
   "source": [
    "plt.rc('font',family='Times New Roman')\n",
    "fig=plt.figure(dpi=320)\n",
    "plt.axis([-8., 2.,3.0,-5.0])\n",
    "logP = np.log10(press)\n",
    "plt.plot(np.log10(cloudprof[0,:,0]),logP, \"r-\")\n",
    "\n",
    "plt.ylabel(r'log(P)')\n",
    "plt.xlabel('log10(dtau)')"
   ]
  },
  {
   "cell_type": "code",
   "execution_count": null,
   "metadata": {
    "collapsed": true
   },
   "outputs": [],
   "source": []
  },
  {
   "cell_type": "code",
   "execution_count": null,
   "metadata": {
    "collapsed": true
   },
   "outputs": [],
   "source": []
  },
  {
   "cell_type": "code",
   "execution_count": null,
   "metadata": {
    "collapsed": true
   },
   "outputs": [],
   "source": []
  }
 ],
 "metadata": {
  "kernelspec": {
   "display_name": "Python 2",
   "language": "python",
   "name": "python2"
  },
  "language_info": {
   "codemirror_mode": {
    "name": "ipython",
    "version": 2
   },
   "file_extension": ".py",
   "mimetype": "text/x-python",
   "name": "python",
   "nbconvert_exporter": "python",
   "pygments_lexer": "ipython2",
   "version": "2.7.10"
  }
 },
 "nbformat": 4,
 "nbformat_minor": 0
}
