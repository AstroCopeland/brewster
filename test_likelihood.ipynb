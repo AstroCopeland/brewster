{
 "cells": [
  {
   "cell_type": "code",
   "execution_count": 1,
   "metadata": {
    "collapsed": false
   },
   "outputs": [
    {
     "name": "stderr",
     "output_type": "stream",
     "text": [
      "/opt/local/Library/Frameworks/Python.framework/Versions/2.7/lib/python2.7/site-packages/IPython/kernel/__init__.py:13: ShimWarning: The `IPython.kernel` package has been deprecated. You should import from ipykernel or jupyter_client instead.\n",
      "  \"You should import from ipykernel or jupyter_client instead.\", ShimWarning)\n"
     ]
    }
   ],
   "source": [
    "import multiprocessing\n",
    "import time\n",
    "import numpy as np\n",
    "import scipy as sp\n",
    "import emcee\n",
    "import testkit\n",
    "import ciamod\n",
    "import os\n",
    "import gc\n",
    "import sys\n",
    "import pickle\n",
    "from scipy.io.idl import readsav\n",
    "from scipy import interpolate\n",
    "from scipy.interpolate import interp1d\n",
    "import matplotlib\n",
    "import matplotlib.pyplot as plt\n",
    "import matplotlib.image as mgimg\n",
    "import TPmod\n",
    "from IPython.display import display\n",
    "%matplotlib inline\n"
   ]
  },
  {
   "cell_type": "code",
   "execution_count": 2,
   "metadata": {
    "collapsed": false
   },
   "outputs": [],
   "source": [
    "# set up the model arguments the drop these into theta(state vector) or runargs\n",
    "\n",
    "# set up pressure grids in bar cos its intuitive\n",
    "logcoarsePress = np.arange(-4.0, 2.5, 0.53)\n",
    "coarsePress = pow(10,logcoarsePress)\n",
    "logfinePress = np.arange(-4.0, 2.4, 0.1)\n",
    "finePress = pow(10,logfinePress)\n",
    "# forward model wants pressure in bar\n",
    "press = finePress\n",
    "#nprof = coarsePress.size\n",
    "#print nprof\n",
    "#print finePress.size"
   ]
  },
  {
   "cell_type": "code",
   "execution_count": 27,
   "metadata": {
    "collapsed": false
   },
   "outputs": [],
   "source": [
    "w1 = 0.7\n",
    "w2 = 2.5\n",
    "\n",
    "dist = 11.35\n",
    "# hardwired FWHM of data in microns\n",
    "fwhm = 0.005\n",
    "\n",
    "npatches = 1\n",
    "nclouds= 1\n",
    "pcover = np.ones([npatches],dtype='f')\n",
    "pcover[:] = 1.0\n",
    "do_clouds = np.zeros([npatches],dtype='i')\n",
    "do_clouds[:] = 0\n",
    "cloudnum = np.zeros([npatches,nclouds],dtype='i')\n",
    "cloudnum[:,:] = 99\n",
    "cloudtype = np.array([npatches],dtype='i')\n",
    "cloudtype[:] = 2\n",
    "\n",
    "use_disort = 0 \n",
    "\n",
    "# Set the profile type\n",
    "proftype = 2\n",
    "\n",
    "\n",
    "# now the linelist\n",
    "# Set up number of gases, and point at the lists. see gaslist.dat\n",
    "ngas = 10\n",
    "gasnum = np.asfortranarray(np.array([1,4,7,8,9,10,11,12,20,21],dtype='i'))\n",
    "lists = [\"../Linelists/H2O_xsecs.pic\",\"../Linelists/co_xsecs.pic\",\"../Linelists/tio_xsecs.pic\",\"../Linelists/vo_xsecs.pic\",\"../Linelists/cah_xsecs.pic\",\"../Linelists/crh_xsecs.pic\" ,\"../Linelists/feh_xsecs.pic\",\"../Linelists/mgh_xsecs.pic\",\"../Linelists/K_Mike_xsecs.pic\",\"../Linelists/Na_Mike_xsecs.pic\"]"
   ]
  },
  {
   "cell_type": "code",
   "execution_count": 28,
   "metadata": {
    "collapsed": false
   },
   "outputs": [],
   "source": [
    "# get the basic framework from water list\n",
    "rawwavenum, inpress, inlinetemps, inlinelist = pickle.load( open('../Linelists/H2O_xsecs.pic', \"rb\" ) )\n",
    "wn1 = 10000./w2\n",
    "wn2 = 10000. / w1\n",
    "inwavenum = np.asfortranarray(rawwavenum[np.where(np.logical_not(np.logical_or(rawwavenum[:] > wn2, rawwavenum[:] < wn1)))],dtype='float64')\n",
    "ntemps = inlinetemps.size\n",
    "npress= finePress.size\n",
    "nwave = inwavenum.size\n",
    "r1 = np.amin(np.where(np.logical_not(np.logical_or(rawwavenum[:] > wn2, rawwavenum[:] < wn1))))\n",
    "r2 = np.amax(np.where(np.logical_not(np.logical_or(rawwavenum[:] > wn2, rawwavenum[:] < wn1))))\n",
    "\n",
    "# Here we are interpolating the linelist onto our fine pressure scale.\n",
    "# pickles have linelist as 4th entry....\n",
    "linelist = (np.ones([ngas,npress,ntemps,nwave],order='F')).astype('float64', order='F')\n",
    "for gas in range (0,ngas):\n",
    "    inlinelist= pickle.load( open(lists[gas], \"rb\" ) )[3]\n",
    "    # make missing bits crazy. They are all high pressure, low-temp points.\n",
    "    #inlinelist[np.isnan(inlinelist)] = 1.0\n",
    "    for i in range (0,ntemps):\n",
    "        for j in range (r1,r2+1):\n",
    "            pfit = interp1d(np.log10(inpress),np.log10(inlinelist[:,i,j]))\n",
    "            linelist[gas,:,i,(j-r1)] = np.asfortranarray(pfit(np.log10(finePress)))\n",
    "\n",
    "linelist[np.isnan(linelist)] = -50.0\n"
   ]
  },
  {
   "cell_type": "code",
   "execution_count": 29,
   "metadata": {
    "collapsed": false
   },
   "outputs": [],
   "source": [
    "# Get the cia bits\n",
    "tmpcia, ciatemps = ciamod.read_cia(\"CIA_DS_aug_2015.dat\",inwavenum)\n",
    "cia = np.asfortranarray(np.empty((4,ciatemps.size,nwave)),dtype='float32')\n",
    "cia[:,:,:] = tmpcia[:,:,:nwave] \n",
    "ciatemps = np.asfortranarray(ciatemps, dtype='float32')\n"
   ]
  },
  {
   "cell_type": "code",
   "execution_count": 30,
   "metadata": {
    "collapsed": false
   },
   "outputs": [],
   "source": [
    "# get the observed spectrum\n",
    "obspec = np.asfortranarray(np.loadtxt(\"2M2224_mkoJcalib.dat\",dtype='d',unpack='true'))\n",
    "\n",
    "\n",
    "\n",
    "# place holder values for cloudparams\n",
    "cloudparams = np.ones([5],dtype='d')\n",
    "cloudparams[0] = 0.\n",
    "cloudparams[1] = 10\n",
    "cloudparams[2] = 12\n",
    "cloudparams[3] = 1e-4\n",
    "cloudparams[4] = 1e-5\n",
    "\n",
    "\n",
    "runargs = dist, pcover, cloudtype,cloudparams,do_clouds,gasnum,cloudnum,inlinetemps,coarsePress,press,inwavenum,linelist,cia,ciatemps,use_disort,fwhm,obspec,proftype\n"
   ]
  },
  {
   "cell_type": "code",
   "execution_count": 31,
   "metadata": {
    "collapsed": false
   },
   "outputs": [
    {
     "name": "stdout",
     "output_type": "stream",
     "text": [
      "18\n"
     ]
    }
   ],
   "source": [
    "# for proftype = 2 with no clouds, ndim = nprof + ngas-1, + (dlam,beta,logg, r2d2)\n",
    "ndim =18 #(nprof + (ngas-1) + 9)\n",
    "theta = np.empty(ndim)\n",
    "print ndim"
   ]
  },
  {
   "cell_type": "code",
   "execution_count": 57,
   "metadata": {
    "collapsed": false
   },
   "outputs": [],
   "source": [
    "theta[0] = (0.5*np.random.randn()) - 3.0 # H2O\n",
    "theta[1] = (0.5*np.random.randn()) - 3.0 # CO\n",
    "theta[2] = (0.5*np.random.randn()) - 8.0 # TiO\n",
    "theta[3] = (0.5*np.random.randn()) - 8.0 # VO\n",
    "theta[4] = (1.0*np.random.randn()) - 6.0 # CaH     \n",
    "theta[5] = (1.0*np.random.randn()) - 6.0 # CrH\n",
    "theta[6] = (0.5*np.random.randn()) - 4.0 # FeH\n",
    "theta[7] = (1.0*np.random.randn()) - 6.0 # MgH\n",
    "theta[8] = (0.5*np.random.randn()) - 5.5 # Na+K\n",
    "theta[9] = np.random.rand() + 4.2  # logg\n",
    "theta[10] = 1e-21 +  5e-20 * np.random.rand()   # r2d2\n",
    "theta[11] = np.random.randn() * 0.001 # dlam\n",
    "theta[12] = np.log10((np.random.rand() * (max(obspec[2,:]**2)*(10. - 0.01))) + (0.01*min(obspec[2,10::3]**2)))\n",
    "#BTprof = np.loadtxt(\"BTtemp800_45_13.dat\")\n",
    "#theta[13] = 1e-4 + 10. *  np.random.rand()  # P0\n",
    "#theta[14] = 1e-4 + np.random.rand()  # scale pressure\n",
    "#theta[15]  = np.random.rand()  # w0\n",
    "#theta[16]  = np.random.choice([-1,+1]) * np.random.rand() # gg\n",
    "theta[13] =  np.random.rand()  # a1\n",
    "theta[14] =  np.random.rand()  # a2\n",
    "theta[15] =  1e-4 + (np.random.rand() * 10.) #P1\n",
    "theta[16] =  theta[15] + np.random.rand() * 100.  #P2\n",
    "theta[17] = 1000. + (np.random.rand() * 3000.0)  #T3\n",
    "while True:\n",
    "    Tcheck = TPmod.set_prof(proftype,coarsePress,press,theta[13:])\n",
    "    if (min(Tcheck) > 1.0):\n",
    "        break\n",
    "    else:\n",
    "        theta[13] = np.random.rand()\n",
    "        theta[14] =  np.random.rand()\n",
    "        theta[15] = 1e-4 + (10.* np.random.rand())\n",
    "        theta[16] = theta[15] +(100. *  np.random.rand())\n",
    "        theta[17] = 1000. + (3000.*  np.random.rand())"
   ]
  },
  {
   "cell_type": "code",
   "execution_count": 58,
   "metadata": {
    "collapsed": false
   },
   "outputs": [
    {
     "name": "stdout",
     "output_type": "stream",
     "text": [
      "[ -3.06587161e+00  -2.89294607e+00  -6.92930980e+00  -8.78959690e+00\n",
      "  -6.55108724e+00  -5.67881148e+00  -3.70900560e+00  -5.56154154e+00\n",
      "  -5.26459820e+00   4.55492433e+00   4.79620200e-21   1.49590939e-03\n",
      "  -3.04139800e+01   2.05456330e-01   9.31356239e-01   4.80568781e+00\n",
      "   4.26084297e+01   3.81186539e+03]\n"
     ]
    }
   ],
   "source": [
    "print theta"
   ]
  },
  {
   "cell_type": "code",
   "execution_count": 59,
   "metadata": {
    "collapsed": false
   },
   "outputs": [
    {
     "name": "stdout",
     "output_type": "stream",
     "text": [
      "[0]\n",
      "[ 1  4  7  8  9 10 11 12 20 21]\n",
      "[[99]]\n",
      "[2]\n",
      "0.346531306801 1.6679511286\n"
     ]
    }
   ],
   "source": [
    "print do_clouds\n",
    "print gasnum\n",
    "print cloudnum\n",
    "print cloudtype\n",
    "#print theta[15]\n",
    "#print theta[16]\n",
    "r2d2= theta[10]\n",
    "logg = theta[9]\n",
    "D = 3.086e+16 * dist\n",
    "R = np.sqrt(r2d2) * D\n",
    "g = (10.**logg)/100.\n",
    "M = (R**2 * g/(6.67E-11))/1.898E27\n",
    "print R/70000e3, M"
   ]
  },
  {
   "cell_type": "code",
   "execution_count": 60,
   "metadata": {
    "collapsed": false
   },
   "outputs": [
    {
     "data": {
      "text/plain": [
       "<matplotlib.text.Text at 0x114264850>"
      ]
     },
     "execution_count": 60,
     "metadata": {},
     "output_type": "execute_result"
    },
    {
     "data": {
      "image/png": "[encoded data removed]",
      "text/plain": [
       "<matplotlib.figure.Figure at 0x117412d10>"
      ]
     },
     "metadata": {},
     "output_type": "display_data"
    }
   ],
   "source": [
    "plt.rc('font',family='Times New Roman')\n",
    "fig=plt.figure(dpi=320)\n",
    "plt.axis([-500., 4000.,3.0,-5.0])\n",
    "logP = np.log10(press)\n",
    "plotT = TPmod.set_prof(proftype,coarsePress,press,theta[13:])\n",
    "plt.plot(plotT,logP, \"r-\")\n",
    "\n",
    "plt.ylabel(r'log(P)')\n",
    "plt.xlabel('T/K')\n"
   ]
  },
  {
   "cell_type": "code",
   "execution_count": 61,
   "metadata": {
    "collapsed": false
   },
   "outputs": [
    {
     "name": "stdout",
     "output_type": "stream",
     "text": [
      "1770.6723842\n"
     ]
    }
   ],
   "source": [
    "LP = testkit.lnprob(theta,*runargs) #* -2. / (obspec.shape[1] /3.)\n",
    "#print testkit.lnprob(theta2,*runargs) * -2. / (obspec.shape[1] /3.)\n",
    "print LP"
   ]
  },
  {
   "cell_type": "code",
   "execution_count": 50,
   "metadata": {
    "collapsed": false
   },
   "outputs": [],
   "source": [
    "#len(pickle.dumps([theta,runargs], -1)) / 1e9"
   ]
  },
  {
   "cell_type": "code",
   "execution_count": 51,
   "metadata": {
    "collapsed": false
   },
   "outputs": [
    {
     "ename": "NameError",
     "evalue": "name 'cloudprof' is not defined",
     "output_type": "error",
     "traceback": [
      "\u001b[0;31m---------------------------------------------------------------------------\u001b[0m",
      "\u001b[0;31mNameError\u001b[0m                                 Traceback (most recent call last)",
      "\u001b[0;32m<ipython-input-51-be9de35b758a>\u001b[0m in \u001b[0;36m<module>\u001b[0;34m()\u001b[0m\n\u001b[1;32m      3\u001b[0m \u001b[0;31m#    test[np.isnan(test)] = 1.0\u001b[0m\u001b[0;34m\u001b[0m\u001b[0;34m\u001b[0m\u001b[0m\n\u001b[1;32m      4\u001b[0m \u001b[0;31m#    print test[np.where(np.less(test,0))]\u001b[0m\u001b[0;34m\u001b[0m\u001b[0;34m\u001b[0m\u001b[0m\n\u001b[0;32m----> 5\u001b[0;31m \u001b[0;32mprint\u001b[0m \u001b[0mcloudprof\u001b[0m\u001b[0;34m.\u001b[0m\u001b[0mshape\u001b[0m\u001b[0;34m\u001b[0m\u001b[0m\n\u001b[0m",
      "\u001b[0;31mNameError\u001b[0m: name 'cloudprof' is not defined"
     ]
    }
   ],
   "source": [
    "#for gas in range (0,ngas):\n",
    "##    test= pickle.load( open(lists[gas], \"rb\" ) )[3]\n",
    "#    test[np.isnan(test)] = 1.0\n",
    "#    print test[np.where(np.less(test,0))]\n",
    "print cloudprof.shape"
   ]
  },
  {
   "cell_type": "code",
   "execution_count": null,
   "metadata": {
    "collapsed": false
   },
   "outputs": [],
   "source": [
    "plt.rc('font',family='Times New Roman')\n",
    "fig=plt.figure(dpi=320)\n",
    "plt.axis([-8., 2.,3.0,-5.0])\n",
    "logP = np.log10(press)\n",
    "plt.plot(np.log10(cloudprof[0,:,0]),logP, \"r-\")\n",
    "\n",
    "plt.ylabel(r'log(P)')\n",
    "plt.xlabel('log10(dtau)')"
   ]
  },
  {
   "cell_type": "code",
   "execution_count": null,
   "metadata": {
    "collapsed": true
   },
   "outputs": [],
   "source": []
  },
  {
   "cell_type": "code",
   "execution_count": null,
   "metadata": {
    "collapsed": true
   },
   "outputs": [],
   "source": []
  }
 ],
 "metadata": {
  "kernelspec": {
   "display_name": "Python 2",
   "language": "python",
   "name": "python2"
  },
  "language_info": {
   "codemirror_mode": {
    "name": "ipython",
    "version": 2
   },
   "file_extension": ".py",
   "mimetype": "text/x-python",
   "name": "python",
   "nbconvert_exporter": "python",
   "pygments_lexer": "ipython2",
   "version": "2.7.10"
  }
 },
 "nbformat": 4,
 "nbformat_minor": 0
}
