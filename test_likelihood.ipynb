{
 "cells": [
  {
   "cell_type": "code",
   "execution_count": 1,
   "metadata": {
    "collapsed": false
   },
   "outputs": [
    {
     "name": "stderr",
     "output_type": "stream",
     "text": [
      "/opt/local/Library/Frameworks/Python.framework/Versions/2.7/lib/python2.7/site-packages/IPython/kernel/__init__.py:13: ShimWarning: The `IPython.kernel` package has been deprecated. You should import from ipykernel or jupyter_client instead.\n",
      "  \"You should import from ipykernel or jupyter_client instead.\", ShimWarning)\n"
     ]
    }
   ],
   "source": [
    "import multiprocessing\n",
    "import time\n",
    "import numpy as np\n",
    "import scipy as sp\n",
    "import emcee\n",
    "import testkit\n",
    "import ciamod\n",
    "import os\n",
    "import gc\n",
    "import sys\n",
    "import pickle\n",
    "from scipy.io.idl import readsav\n",
    "from scipy import interpolate\n",
    "from scipy.interpolate import interp1d\n"
   ]
  },
  {
   "cell_type": "code",
   "execution_count": 2,
   "metadata": {
    "collapsed": false
   },
   "outputs": [
    {
     "name": "stdout",
     "output_type": "stream",
     "text": [
      "13\n",
      "64\n"
     ]
    }
   ],
   "source": [
    "# set up the model arguments the drop these into theta(state vector) or runargs\n",
    "\n",
    "# set up pressure grids in bar cos its intuitive\n",
    "logcoarsePress = np.arange(-4.0, 2.5, 0.53)\n",
    "#logcoarsePress = np.arange(-4.0, 3.0, 0.5)\n",
    "coarsePress = 1000.* pow(10,logcoarsePress)\n",
    "logfinePress = np.arange(-4.0, 2.4, 0.1)\n",
    "finePress = 1000.* pow(10,logfinePress)\n",
    "# forward model wants pressure in mbar\n",
    "press = finePress\n",
    "nprof = coarsePress.size\n",
    "print nprof\n",
    "print finePress.size"
   ]
  },
  {
   "cell_type": "code",
   "execution_count": 3,
   "metadata": {
    "collapsed": true
   },
   "outputs": [],
   "source": [
    "#r2d2 = 1.\n",
    "#logg = 5.0\n",
    "#dlam = 0.\n",
    "w1 = 1.0\n",
    "w2 = 2.5\n",
    "pcover = 1.0\n",
    "do_clouds = 0\n",
    "use_disort = 0 \n",
    "\n",
    "# now the linelist\n",
    "# Set up number of gases, and point at the lists. see gaslist.dat\n",
    "ngas = 8\n",
    "gasnum = np.asfortranarray(np.array([1,2,4,5,6,3,20,21],dtype='i'))\n",
    "lists = [\"../Linelists/xsecarrH2O_1wno_500_10000.save\",\"../Linelists/xsecarrCH4_1wno_500_10000.save\",\"../Linelists/xsecarrCO_1wno_500_10000_02.save\",\"../Linelists/xsecarrCO2_1wno_500_10000_02.save\" ,\"../Linelists/xsecarrNH3_1wno_500_10000.save\",\"../Linelists/xsecarrH2S_1wno_500_10000.save\",\"../Linelists/xsecarrK_new_1wno_500_10000_02.save\",\"../Linelists/xsecarrNa_new_1wno_500_10000_02.save\"]\n"
   ]
  },
  {
   "cell_type": "code",
   "execution_count": 4,
   "metadata": {
    "collapsed": false
   },
   "outputs": [],
   "source": [
    "# get the basic framework from water list\n",
    "x=readsav('../Linelists/xsecarrH2O_1wno_500_10000.save')\n",
    "inlinelist=x.xsecarr  #3D array with Nwavenubmers x Ntemps x Npressure\n",
    "inlinetemps=np.asfortranarray(x.t,dtype='float64')\n",
    "inpress=1000.*x.p\n",
    "rawwavenum=x.wno\n",
    "wn1 = 10000./w2\n",
    "wn2 = 10000. / w1\n",
    "inwavenum = np.asfortranarray(rawwavenum[np.where(np.logical_not(np.logical_or(rawwavenum[:] > wn2, rawwavenum[:] < wn1)))],dtype='float64')\n",
    "ntemps = inlinetemps.size\n",
    "npress= finePress.size\n",
    "nwave = inwavenum.size\n",
    "r1 = np.amin(np.where(np.logical_not(np.logical_or(rawwavenum[:] > wn2, rawwavenum[:] < wn1))))\n",
    "r2 = np.amax(np.where(np.logical_not(np.logical_or(rawwavenum[:] > wn2, rawwavenum[:] < wn1))))\n",
    "\n",
    "# Here we are interpolating the linelist onto our fine pressure scale. \n",
    "linelist = (np.ones([ngas,npress,ntemps,nwave],order='F')).astype('float64', order='F')\n",
    "for gas in range (0,ngas):\n",
    "    inlinelist=readsav(lists[gas]).xsecarr\n",
    "    for i in range (0,ntemps):\n",
    "        for j in range (r1,r2+1):\n",
    "            pfit = interp1d(np.log10(inpress),np.log10(inlinelist[:,i,j]))\n",
    "            linelist[gas,:,i,(j-r1)] = np.asfortranarray(pfit(np.log10(finePress)))\n",
    "\n",
    "linelist[np.isnan(linelist)] = -50.0\n"
   ]
  },
  {
   "cell_type": "code",
   "execution_count": 5,
   "metadata": {
    "collapsed": true
   },
   "outputs": [],
   "source": [
    "# cloudparams is structured array with 5 entries\n",
    "# each one has a patch*cloud entries\n",
    "cloudparams = np.ones(5)\n",
    "# 5 entries in cloudparams for simple slab model are:\n",
    "# 0) log10(number density)\n",
    "# 1) top layer id (or pressure)\n",
    "# 2) base ID (these are both in 61 layers)\n",
    "# 3) rg\n",
    "# 4) rsig\n",
    "cloudparams[0] = -20.\n",
    "cloudparams[1] = 10\n",
    "cloudparams[2] = 12\n",
    "cloudparams[3] = 1e-4\n",
    "cloudparams[4] = 1e-5\n",
    "# hardwired gas and cloud IDs\n",
    "cloudnum = np.array([1],dtype='i')\n",
    "\n"
   ]
  },
  {
   "cell_type": "code",
   "execution_count": 6,
   "metadata": {
    "collapsed": false
   },
   "outputs": [],
   "source": [
    "# Get the cia bits\n",
    "tmpcia, ciatemps = ciamod.read_cia(\"CIA_DS_aug_2015.dat\",inwavenum)\n",
    "cia = np.asfortranarray(np.empty((4,ciatemps.size,nwave)),dtype='float32')\n",
    "cia[:,:,:] = tmpcia[:,:,:nwave] \n",
    "ciatemps = np.asfortranarray(ciatemps, dtype='float32')\n"
   ]
  },
  {
   "cell_type": "code",
   "execution_count": 7,
   "metadata": {
    "collapsed": false
   },
   "outputs": [],
   "source": [
    "# hardwired FWHM of data\n",
    "fwhm = 0.013\n",
    "#fixvmrs = -8.0\n",
    "\n",
    "# get the observed spectrum\n",
    "obspec = np.asfortranarray(np.loadtxt(\"G570D_calib.dat\",dtype='d',unpack='true'))\n",
    "\n",
    "# NEXT LINE ADDS SYTEMATIC TO SPECTRUM FOR Log F retrieval\n",
    "#obspec[1,:] = obspec[1,:] + 0.1*(min(obspec[2,10::3]**2))\n",
    "\n",
    "\n",
    "runargs = pcover, cloudparams,do_clouds,gasnum,cloudnum,inlinetemps,coarsePress,press,inwavenum,linelist,cia,ciatemps,use_disort,fwhm,obspec\n"
   ]
  },
  {
   "cell_type": "code",
   "execution_count": 11,
   "metadata": {
    "collapsed": false
   },
   "outputs": [],
   "source": [
    "ndim = 24\n",
    "theta = np.empty(ndim)\n",
    "theta[0] = np.random.randn() - 3.5 # H2O\n",
    "theta[1] = np.random.randn() - 3.5 # CH4\n",
    "theta[2] = np.random.randn() - 7.5 # CO\n",
    "theta[3] = np.random.randn() - 8.0 # CO2\n",
    "theta[4] = np.random.randn() - 4.6 # NH3\n",
    "theta[5] = np.random.randn() - 9.0  #H2S\n",
    "theta[6] = np.random.randn() - 5.5  # Na+K\n",
    "theta[7] = np.random.rand() + 4.0\n",
    "theta[8] =  1.5e-19 + (np.random.randn() * 1.e-20)\n",
    "theta[9] = np.random.randn() * 0.01\n",
    "#p0[:,5] = np.log10((np.random.rand(nwalkers).reshape(nwalkers) * (min(obspec[2,10::3]**2)*(0.1 - 0.001))) + (0.001*min(obspec[2,10::3]**2)))\n",
    "theta[10] =  50. + (np.random.randn())\n",
    "#p0[:,6] = (-2. *  np.random.rand(nwalkers).reshape(nwalkers)) - 2.\n",
    "#p0[:,6] = 200. + ( np.random.rand(nwalkers).reshape(nwalkers) * 100. )\n",
    "toffset = 150.* np.random.rand()\n",
    "for i in range (11,10+nprof):\n",
    "    #p0[:,i] = p0[:,6] + (150.*(i-6))\n",
    "    theta[i] = 650.+toffset + ((coarsePress[i-11]/100.)**1.1)\n",
    "theta[23] = 3000. + 200 * np.random.rand()"
   ]
  },
  {
   "cell_type": "code",
   "execution_count": 16,
   "metadata": {
    "collapsed": false
   },
   "outputs": [
    {
     "name": "stdout",
     "output_type": "stream",
     "text": [
      "[ -2.95457004e+00  -3.97258331e+00  -8.86151548e+00  -8.87761641e+00\n",
      "  -4.92530567e+00  -1.04515140e+01  -6.89595704e+00   4.70991722e+00\n",
      "   1.35977921e-19   7.82725714e-03   4.99305213e+01   7.96631731e+02\n",
      "   7.96633149e+02   7.96638575e+02   7.96659349e+02   7.96738876e+02\n",
      "   7.97043327e+02   7.98208841e+02   8.02670716e+02   8.19751878e+02\n",
      "   8.85142791e+02   1.13547539e+03   2.09381050e+03   3.18688346e+03]\n",
      "[ -2.64174651e+00  -2.92174198e+00  -1.06520064e+01  -6.85512214e+00\n",
      "  -7.71799871e+00  -1.16581345e+01  -4.53163570e+00   5.97976476e+00\n",
      "   2.47941068e-20  -1.94873539e-03   9.05698433e+02   9.38519853e+02\n",
      "   9.38521271e+02   9.38526697e+02   9.38547471e+02   9.38626999e+02\n",
      "   9.38931450e+02   9.40096963e+02   9.44558838e+02   9.61640000e+02\n",
      "   1.02703091e+03   1.27736351e+03   2.23569862e+03   2.97941114e+03]\n"
     ]
    }
   ],
   "source": [
    "theta2 = np.array([-2.64174651e+00,  -2.92174198e+00,  -1.06520064e+01,  -6.85512214e+00,\n",
    "   -7.71799871e+00,  -1.16581345e+01,  -4.53163570e+00,   5.97976476e+00,\n",
    "    2.47941068e-20,  -1.94873539e-03,   9.05698433e+02,   9.38519853e+02,\n",
    "    9.38521271e+02,   9.38526697e+02,   9.38547471e+02,   9.38626999e+02,\n",
    "    9.38931450e+02,   9.40096963e+02,   9.44558838e+02,   9.61640000e+02,\n",
    "    1.02703091e+03,   1.27736351e+03,   2.23569862e+03,   2.97941114e+03])\n",
    "\n",
    "print theta\n",
    "print theta2"
   ]
  },
  {
   "cell_type": "code",
   "execution_count": 18,
   "metadata": {
    "collapsed": false
   },
   "outputs": [
    {
     "name": "stdout",
     "output_type": "stream",
     "text": [
      "[[  2.50000000e+00   2.49937516e+00   2.49875062e+00 ...,   1.00020004e+00\n",
      "    1.00010001e+00   1.00000000e+00]\n",
      " [  4.02828419e-16   4.00673178e-16   4.00611870e-16 ...,   1.80113599e-15\n",
      "    1.75839921e-15   1.21721245e-15]]\n",
      "1.5\n",
      "[[  2.50782726e+00   2.50720241e+00   2.50657788e+00 ...,   1.00802730e+00\n",
      "    1.00792727e+00   1.00782726e+00]\n",
      " [  4.02828419e-16   4.00673178e-16   4.00611870e-16 ...,   1.80113599e-15\n",
      "    1.75839921e-15   1.21721245e-15]]\n",
      "53\n",
      "243.550065827\n",
      "[[  2.50000000e+00   2.49937516e+00   2.49875062e+00 ...,   1.00020004e+00\n",
      "    1.00010001e+00   1.00000000e+00]\n",
      " [  2.33574177e-16   2.34741464e-16   2.31964092e-16 ...,   1.26069454e-15\n",
      "    1.25846352e-15   1.18636677e-15]]\n",
      "1.5\n",
      "[[  2.49805126e+00   2.49742642e+00   2.49680189e+00 ...,   9.98251305e-01\n",
      "    9.98151275e-01   9.98051265e-01]\n",
      " [  2.33574177e-16   2.34741464e-16   2.31964092e-16 ...,   1.26069454e-15\n",
      "    1.25846352e-15   1.18636677e-15]]\n",
      "53\n",
      "-38.1202968738\n"
     ]
    }
   ],
   "source": [
    "print testkit.lnprob(theta,*runargs) * -2. / (obspec.shape[1] /3.)\n",
    "print testkit.lnprob(theta2,*runargs) * -2. / (obspec.shape[1] /3.)\n"
   ]
  },
  {
   "cell_type": "code",
   "execution_count": null,
   "metadata": {
    "collapsed": true
   },
   "outputs": [],
   "source": []
  },
  {
   "cell_type": "code",
   "execution_count": null,
   "metadata": {
    "collapsed": true
   },
   "outputs": [],
   "source": []
  }
 ],
 "metadata": {
  "kernelspec": {
   "display_name": "Python 2",
   "language": "python",
   "name": "python2"
  },
  "language_info": {
   "codemirror_mode": {
    "name": "ipython",
    "version": 2
   },
   "file_extension": ".py",
   "mimetype": "text/x-python",
   "name": "python",
   "nbconvert_exporter": "python",
   "pygments_lexer": "ipython2",
   "version": "2.7.10"
  }
 },
 "nbformat": 4,
 "nbformat_minor": 0
}
