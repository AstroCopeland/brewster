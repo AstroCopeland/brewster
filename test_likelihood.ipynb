{
 "cells": [
  {
   "cell_type": "code",
   "execution_count": 1,
   "metadata": {
    "collapsed": false
   },
   "outputs": [
    {
     "name": "stderr",
     "output_type": "stream",
     "text": [
      "/opt/local/Library/Frameworks/Python.framework/Versions/2.7/lib/python2.7/site-packages/IPython/kernel/__init__.py:13: ShimWarning: The `IPython.kernel` package has been deprecated. You should import from ipykernel or jupyter_client instead.\n",
      "  \"You should import from ipykernel or jupyter_client instead.\", ShimWarning)\n"
     ]
    }
   ],
   "source": [
    "import multiprocessing\n",
    "import time\n",
    "import numpy as np\n",
    "import scipy as sp\n",
    "import emcee\n",
    "import testkit\n",
    "import ciamod\n",
    "import os\n",
    "import gc\n",
    "import sys\n",
    "import pickle\n",
    "from scipy.io.idl import readsav\n",
    "from scipy import interpolate\n",
    "from scipy.interpolate import interp1d\n",
    "import matplotlib\n",
    "import matplotlib.pyplot as plt\n",
    "import matplotlib.image as mgimg\n",
    "import TPmod\n",
    "from IPython.display import display\n",
    "%matplotlib inline\n"
   ]
  },
  {
   "cell_type": "code",
   "execution_count": 2,
   "metadata": {
    "collapsed": false
   },
   "outputs": [
    {
     "name": "stdout",
     "output_type": "stream",
     "text": [
      "[  1.00000000e-04   1.25892541e-04   1.58489319e-04   1.99526231e-04\n",
      "   2.51188643e-04   3.16227766e-04   3.98107171e-04   5.01187234e-04\n",
      "   6.30957344e-04   7.94328235e-04   1.00000000e-03   1.25892541e-03\n",
      "   1.58489319e-03   1.99526231e-03   2.51188643e-03   3.16227766e-03\n",
      "   3.98107171e-03   5.01187234e-03   6.30957344e-03   7.94328235e-03\n",
      "   1.00000000e-02   1.25892541e-02   1.58489319e-02   1.99526231e-02\n",
      "   2.51188643e-02   3.16227766e-02   3.98107171e-02   5.01187234e-02\n",
      "   6.30957344e-02   7.94328235e-02   1.00000000e-01   1.25892541e-01\n",
      "   1.58489319e-01   1.99526231e-01   2.51188643e-01   3.16227766e-01\n",
      "   3.98107171e-01   5.01187234e-01   6.30957344e-01   7.94328235e-01\n",
      "   1.00000000e+00   1.25892541e+00   1.58489319e+00   1.99526231e+00\n",
      "   2.51188643e+00   3.16227766e+00   3.98107171e+00   5.01187234e+00\n",
      "   6.30957344e+00   7.94328235e+00   1.00000000e+01   1.25892541e+01\n",
      "   1.58489319e+01   1.99526231e+01   2.51188643e+01   3.16227766e+01\n",
      "   3.98107171e+01   5.01187234e+01   6.30957344e+01   7.94328235e+01\n",
      "   1.00000000e+02   1.25892541e+02   1.58489319e+02   1.99526231e+02]\n"
     ]
    }
   ],
   "source": [
    "# set up the model arguments the drop these into theta(state vector) or runargs\n",
    "\n",
    "# set up pressure grids in bar cos its intuitive\n",
    "logcoarsePress = np.arange(-4.0, 2.5, 0.53)\n",
    "coarsePress = pow(10,logcoarsePress)\n",
    "logfinePress = np.arange(-4.0, 2.4, 0.1)\n",
    "finePress = pow(10,logfinePress)\n",
    "# forward model wants pressure in bar\n",
    "press = finePress\n",
    "#nprof = coarsePress.size\n",
    "#print nprof\n",
    "print finePress"
   ]
  },
  {
   "cell_type": "code",
   "execution_count": 3,
   "metadata": {
    "collapsed": false
   },
   "outputs": [],
   "source": [
    "w1 = 0.8\n",
    "w2 = 2.4\n",
    "\n",
    "dist = 8.19\n",
    "# hardwired FWHM of data in microns\n",
    "fwhm = 0.005\n",
    "\n",
    "npatches = 1\n",
    "nclouds= 1\n",
    "\n",
    "do_clouds = np.asfortranarray(np.array([1]),dtype='i')\n",
    "cloudnum = np.zeros([npatches,nclouds],dtype='i')\n",
    "cloudnum[:,:] = 5\n",
    "cloudnum = np.asfortranarray(cloudnum,dtype = 'i')\n",
    "\n",
    "cloudtype = np.asfortranarray(np.array([1]),dtype='i')\n",
    "\n",
    "use_disort = 0 \n",
    "\n",
    "do_fudge = 1\n",
    "# Set the profile type\n",
    "proftype = 2\n",
    "\n",
    "\n",
    "# now the linelist\n",
    "# Set up number of gases, and point at the lists. see gaslist.dat\n",
    "ngas = 10\n",
    "gasnum = np.asfortranarray(np.array([1,2,4,5,7,8,10,11,20,21],dtype='i'))\n",
    "lists = [\"../Linelists/H2O_xsecs.pic\",\"../Linelists/ch4_xsecs.pic\",\"../Linelists/co_xsecs.pic\",\"../Linelists/co2_xsecs.pic\",\"../Linelists/tio_xsecs.pic\",\"../Linelists/vo_xsecs.pic\",\"../Linelists/crh_xsecs.pic\" ,\"../Linelists/feh_xsecs.pic\",\"../Linelists/K_Mike_xsecs.pic\",\"../Linelists/Na_Mike_xsecs.pic\"]"
   ]
  },
  {
   "cell_type": "code",
   "execution_count": 4,
   "metadata": {
    "collapsed": false
   },
   "outputs": [],
   "source": [
    "# get the basic framework from water list\n",
    "rawwavenum, inpress, inlinetemps, inlinelist = pickle.load( open('../Linelists/H2O_xsecs.pic', \"rb\" ) )\n",
    "wn1 = 10000./w2\n",
    "wn2 = 10000. / w1\n",
    "inwavenum = np.asfortranarray(rawwavenum[np.where(np.logical_not(np.logical_or(rawwavenum[:] > wn2, rawwavenum[:] < wn1)))],dtype='float64')\n",
    "ntemps = inlinetemps.size\n",
    "npress= finePress.size\n",
    "nwave = inwavenum.size\n",
    "r1 = np.amin(np.where(np.logical_not(np.logical_or(rawwavenum[:] > wn2, rawwavenum[:] < wn1))))\n",
    "r2 = np.amax(np.where(np.logical_not(np.logical_or(rawwavenum[:] > wn2, rawwavenum[:] < wn1))))\n",
    "\n",
    "# Here we are interpolating the linelist onto our fine pressure scale.\n",
    "# pickles have linelist as 4th entry....\n",
    "linelist = (np.ones([ngas,npress,ntemps,nwave],order='F')).astype('float64', order='F')\n",
    "for gas in range (0,ngas):\n",
    "    inlinelist= pickle.load( open(lists[gas], \"rb\" ) )[3]\n",
    "    # make missing bits crazy. They are all high pressure, low-temp points.\n",
    "    #inlinelist[np.isnan(inlinelist)] = 1.0\n",
    "    for i in range (0,ntemps):\n",
    "        for j in range (r1,r2+1):\n",
    "            pfit = interp1d(np.log10(inpress),np.log10(inlinelist[:,i,j]))\n",
    "            linelist[gas,:,i,(j-r1)] = np.asfortranarray(pfit(np.log10(finePress)))\n",
    "\n",
    "linelist[np.isnan(linelist)] = -50.0\n"
   ]
  },
  {
   "cell_type": "code",
   "execution_count": 5,
   "metadata": {
    "collapsed": false
   },
   "outputs": [],
   "source": [
    "# Get the cia bits\n",
    "tmpcia, ciatemps = ciamod.read_cia(\"CIA_DS_aug_2015.dat\",inwavenum)\n",
    "cia = np.asfortranarray(np.empty((4,ciatemps.size,nwave)),dtype='float32')\n",
    "cia[:,:,:] = tmpcia[:,:,:nwave] \n",
    "ciatemps = np.asfortranarray(ciatemps, dtype='float32')\n"
   ]
  },
  {
   "cell_type": "code",
   "execution_count": 66,
   "metadata": {
    "collapsed": false
   },
   "outputs": [],
   "source": [
    "# get the observed spectrum\n",
    "obspec = np.asfortranarray(np.loadtxt(\"2M0355_2massJcalib.dat\",dtype='d',unpack='true'))\n",
    "\n",
    "\n",
    "\n",
    "# place holder values for cloudparams\n",
    "cloudparams = np.ones([5],dtype='d')\n",
    "cloudparams[0] = 0.\n",
    "cloudparams[1] = 10\n",
    "cloudparams[2] = 12\n",
    "cloudparams[3] = 1e-4\n",
    "cloudparams[4] = 1e-5\n",
    "\n",
    "\n",
    "runargs = dist, cloudtype,cloudparams,do_clouds,gasnum,cloudnum,inlinetemps,coarsePress,press,inwavenum,linelist,cia,ciatemps,use_disort,fwhm,obspec,proftype,do_fudge"
   ]
  },
  {
   "cell_type": "code",
   "execution_count": 67,
   "metadata": {
    "collapsed": false
   },
   "outputs": [
    {
     "name": "stdout",
     "output_type": "stream",
     "text": [
      "23\n"
     ]
    }
   ],
   "source": [
    "# for proftype = 2 with no clouds, ndim = nprof + ngas-1, + (dlam,beta,logg, r2d2)\n",
    "ndim =23 #(nprof + (ngas-1) + 9)\n",
    "theta = np.empty(ndim)\n",
    "print ndim"
   ]
  },
  {
   "cell_type": "code",
   "execution_count": 56,
   "metadata": {
    "collapsed": false
   },
   "outputs": [],
   "source": [
    "theta[0] = (0.5*np.random.randn()) - 3.5 # H2O\n",
    "theta[1] = (0.5*np.random.randn()) - 6.0 # Ch4\n",
    "theta[2] = (0.5*np.random.randn()) - 6.0 # CO\n",
    "theta[3] = (0.5*np.random.randn()) - 6.0 # CO2\n",
    "theta[4] = (0.5*np.random.randn()) - 8.0 # TiO\n",
    "theta[5] = (1.0*np.random.randn()) - 8.0 # VO     \n",
    "theta[6] = (1.0*np.random.randn()) - 8.0 # CrH\n",
    "theta[7] = (0.5*np.random.randn()) - 8.0 # FeH\n",
    "theta[8] = (0.5*np.random.randn()) - 5.5 # Na+K\n",
    "theta[9] = np.random.rand() + 3.5  # logg\n",
    "theta[10] = 5e-20 +  1e-19 * np.random.rand()   # r2d2\n",
    "theta[11] = np.random.randn() * 0.001 # dlam\n",
    "theta[12] = np.log10((np.random.rand() * (max(obspec[2,:]**2)*(10. - 0.01))) + (0.01*min(obspec[2,10::3]**2)))\n",
    "#BTprof = np.loadtxt(\"BTtemp800_45_13.dat\")\n",
    "#theta[13] = np.random.rand() # patch fraction\n",
    "theta[13] =  -23. + np.random.rand() # cloud tau\n",
    "theta[14] = -4. + 6.*np.random.rand()  # P0\n",
    "theta[15] = np.random.rand()  # cloud thickness (in delta-log-pressure)\n",
    "theta[16]  = -1.5 + 0.1*np.random.randn()\n",
    "theta[17]  = -2.0 + 0.5*np.random.randn() # gg\n",
    "theta[18] = 0.6 + 0.1*np.random.rand()  # a1\n",
    "theta[19] = 0.1+ 0.05*np.random.randn()  # a2\n",
    "theta[20] =  0.0+ 0.05* np.random.randn() #P1\n",
    "theta[21] =  2. + 0.2*np.random.randn() #P2\n",
    "theta[22] = 3000. + (np.random.rand() * 1000.0)  #T3\n",
    "while True:\n",
    "    Tcheck = TPmod.set_prof(proftype,coarsePress,press,theta[18:])\n",
    "    if (min(Tcheck) > 1.0):\n",
    "        break\n",
    "    else:\n",
    "        theta[18] = 0.6 + 0.1*np.random.rand()\n",
    "        theta[19] = 0.1* 0.05*np.random.randn()\n",
    "        theta[20] = 0.0* 0.05*np.random.randn()\n",
    "        theta[21] = 2. + 0.2*np.random.randn()\n",
    "        theta[22] = 3000. + (1000.*  np.random.rand())"
   ]
  },
  {
   "cell_type": "code",
   "execution_count": 57,
   "metadata": {
    "collapsed": false
   },
   "outputs": [
    {
     "name": "stdout",
     "output_type": "stream",
     "text": [
      "[ -2.85907318e+00  -6.11802648e+00  -6.31686811e+00  -6.57382134e+00\n",
      "  -7.23012860e+00  -7.97434028e+00  -8.02544225e+00  -8.46227050e+00\n",
      "  -5.55621351e+00   4.11588223e+00   6.02984683e-20  -3.32237317e-04\n",
      "  -2.85162208e+01  -2.23196860e+01  -1.51510994e+00   3.31793745e-01\n",
      "  -1.55776817e+00  -2.81766463e+00   6.51335101e-01   1.39082585e-01\n",
      "   7.65175565e-02   2.04715182e+00   3.90210489e+03]\n"
     ]
    }
   ],
   "source": [
    "print theta"
   ]
  },
  {
   "cell_type": "code",
   "execution_count": 68,
   "metadata": {
    "collapsed": false
   },
   "outputs": [],
   "source": [
    "theta  = np.array([-4.65137266e+00,-6.57541788e+00,-6.34541845e+00,-6.02055239e+00,-7.61015960e+00,-7.69296447e+00,-7.96925859e+00,-8.17067701e+00,-5.24967753e+00,4.18197125e+00,9.11939275e-20,-1.54483118e-03,-2.85043035e+01,-2.27027401e+01,-3.75394039e+00,9.64633089e-01,-1.45772432e+00,-2.04566685e+00,6.92313315e-01,1.14992499e-01,4.17682415e-02,1.91757363e+00,3.52950729e+03])"
   ]
  },
  {
   "cell_type": "code",
   "execution_count": 69,
   "metadata": {
    "collapsed": false
   },
   "outputs": [
    {
     "name": "stdout",
     "output_type": "stream",
     "text": [
      "[1]\n",
      "[ 1  2  4  5  7  8 10 11 20 21]\n",
      "[[5]]\n",
      "[1]\n"
     ]
    }
   ],
   "source": [
    "print do_clouds\n",
    "print gasnum\n",
    "print cloudnum\n",
    "print cloudtype\n",
    "#print theta[15]\n",
    "#print theta[16]\n",
    "#r2d2= theta[10]\n",
    "#logg = theta[9]\n",
    "#D = 3.086e+16 * dist\n",
    "#R = np.sqrt(r2d2) * D\n",
    "#g = (10.**logg)/100.\n",
    "#M = (R**2 * g/(6.67E-11))/1.898E27\n",
    "#print R/70000e3, M"
   ]
  },
  {
   "cell_type": "code",
   "execution_count": 70,
   "metadata": {
    "collapsed": false
   },
   "outputs": [
    {
     "data": {
      "text/plain": [
       "<matplotlib.text.Text at 0x118333910>"
      ]
     },
     "execution_count": 70,
     "metadata": {},
     "output_type": "execute_result"
    },
    {
     "data": {
      "image/png": "[encoded data removed]",
      "text/plain": [
       "<matplotlib.figure.Figure at 0x1185e01d0>"
      ]
     },
     "metadata": {},
     "output_type": "display_data"
    }
   ],
   "source": [
    "plt.rc('font',family='Times New Roman')\n",
    "fig=plt.figure(dpi=320)\n",
    "plt.axis([-500., 6000.,3.0,-5.0])\n",
    "logP = np.log10(press)\n",
    "plotT = TPmod.set_prof(proftype,coarsePress,press,theta[18:])\n",
    "plt.plot(plotT,logP, \"r-\")\n",
    "\n",
    "plt.ylabel(r'log(P)')\n",
    "plt.xlabel('T/K')\n"
   ]
  },
  {
   "cell_type": "code",
   "execution_count": 71,
   "metadata": {
    "collapsed": false
   },
   "outputs": [
    {
     "name": "stdout",
     "output_type": "stream",
     "text": [
      "a1 =  0.692313315\n",
      "a2 =  0.114992499\n",
      "P1 =  0.0417682415\n",
      "P3 =  1.91757363\n",
      "T3 =  3529.50729\n",
      "T =  [ 1939.29879701  1939.79824889  1940.4257917   1941.19822419  1942.13106595\n",
      "  1943.23809813  1944.53108304  1946.01967002  1947.71146769  1949.61224253\n",
      "  1951.72619517  1954.05626676  1956.60443658  1959.37198491  1962.35970772\n",
      "  1965.56808061  1968.99737676  1972.64774696  1976.51927121  1980.61199031\n",
      "  1984.92592427  1989.46097851  1994.21712369  1999.1944269   2004.39307793\n",
      "  2009.81355579  2015.45697041  2021.32571866  2027.42466554  2033.76314364\n",
      "  2040.35813493  2047.2390275   2054.45428057  2062.08014189  2070.23121679\n",
      "  2079.07220423  2088.82956399  2099.80139157  2112.36351622  2126.96995208\n",
      "  2144.14300783  2164.46136613  2188.53695547  2216.98591465  2250.39549002\n",
      "  2289.28835575  2334.08565597  2385.06937083  2442.34417071  2505.79921191\n",
      "  2575.07161967  2649.5155963   2728.18360214  2809.82789859  2892.93078763\n",
      "  2975.76928239  3056.5145622   3133.35925803  3204.65815379  3269.06251388\n",
      "  3325.62690607  3373.87098867  3413.78673269  3445.79158622]\n",
      "Rj =  1.09173508965\n",
      "M =  6.99640231931\n",
      "logg =  4.18197125\n",
      "R2D2 =  9.11939275e-20\n",
      "dlam =  -0.00154483118\n",
      "VMRs =  [-4.65137266 -6.57541788 -6.34541845 -6.02055239 -7.6101596  -7.69296447\n",
      " -7.96925859 -8.17067701 -5.24967753]\n",
      "ng =  9\n",
      "sum VMRs =  2.96774712825e-05\n",
      "clouddens =  -22.7027401\n",
      "cloud_top =  -3.75394039\n",
      "cloud_bot =  -2.789307301\n",
      "rg =  -1.45772432\n",
      "rsig =  -2.04566685\n",
      "cloud_tau0 =  1.0\n",
      "w0 =  0.5\n",
      "gg =  0.0\n",
      "pcover =  [ 0.5  0.5]\n",
      "sum(pcover) =  1.0\n",
      "[[ 2.39980802  2.39923225  2.39865675 ...,  0.80012802  0.80006401  0.8       ]\n",
      " [        nan         nan         nan ...,         nan         nan\n",
      "          nan]]\n",
      "[[[-150.        ]\n",
      "  [-150.        ]\n",
      "  [ -24.10720089]\n",
      "  [ -22.7027401 ]\n",
      "  [ -22.7027401 ]\n",
      "  [ -22.7027401 ]\n",
      "  [ -22.7027401 ]\n",
      "  [ -22.7027401 ]\n",
      "  [ -22.7027401 ]\n",
      "  [ -22.7027401 ]\n",
      "  [ -22.7027401 ]\n",
      "  [ -22.7027401 ]\n",
      "  [ -22.91960365]\n",
      "  [-150.        ]\n",
      "  [-150.        ]\n",
      "  [-150.        ]\n",
      "  [-150.        ]\n",
      "  [-150.        ]\n",
      "  [-150.        ]\n",
      "  [-150.        ]\n",
      "  [-150.        ]\n",
      "  [-150.        ]\n",
      "  [-150.        ]\n",
      "  [-150.        ]\n",
      "  [-150.        ]\n",
      "  [-150.        ]\n",
      "  [-150.        ]\n",
      "  [-150.        ]\n",
      "  [-150.        ]\n",
      "  [-150.        ]\n",
      "  [-150.        ]\n",
      "  [-150.        ]\n",
      "  [-150.        ]\n",
      "  [-150.        ]\n",
      "  [-150.        ]\n",
      "  [-150.        ]\n",
      "  [-150.        ]\n",
      "  [-150.        ]\n",
      "  [-150.        ]\n",
      "  [-150.        ]\n",
      "  [-150.        ]\n",
      "  [-150.        ]\n",
      "  [-150.        ]\n",
      "  [-150.        ]\n",
      "  [-150.        ]\n",
      "  [-150.        ]\n",
      "  [-150.        ]\n",
      "  [-150.        ]\n",
      "  [-150.        ]\n",
      "  [-150.        ]\n",
      "  [-150.        ]\n",
      "  [-150.        ]\n",
      "  [-150.        ]\n",
      "  [-150.        ]\n",
      "  [-150.        ]\n",
      "  [-150.        ]\n",
      "  [-150.        ]\n",
      "  [-150.        ]\n",
      "  [-150.        ]\n",
      "  [-150.        ]\n",
      "  [-150.        ]\n",
      "  [-150.        ]\n",
      "  [-150.        ]\n",
      "  [-150.        ]]]\n",
      "-inf\n"
     ]
    }
   ],
   "source": [
    "LP = testkit.lnprob(theta,*runargs) #* -2. / (obspec.shape[1] /3.)\n",
    "#print testkit.lnprob(theta2,*runargs) * -2. / (obspec.shape[1] /3.)\n",
    "print LP"
   ]
  },
  {
   "cell_type": "code",
   "execution_count": null,
   "metadata": {
    "collapsed": false
   },
   "outputs": [],
   "source": [
    "#len(pickle.dumps([theta,runargs], -1)) / 1e9"
   ]
  },
  {
   "cell_type": "code",
   "execution_count": null,
   "metadata": {
    "collapsed": false
   },
   "outputs": [],
   "source": [
    "#for gas in range (0,ngas):\n",
    "##    test= pickle.load( open(lists[gas], \"rb\" ) )[3]\n",
    "#    test[np.isnan(test)] = 1.0\n",
    "#    print test[np.where(np.less(test,0))]\n",
    "print cloudprof.shape"
   ]
  },
  {
   "cell_type": "code",
   "execution_count": null,
   "metadata": {
    "collapsed": false
   },
   "outputs": [],
   "source": [
    "plt.rc('font',family='Times New Roman')\n",
    "fig=plt.figure(dpi=320)\n",
    "plt.axis([-8., 2.,3.0,-5.0])\n",
    "logP = np.log10(press)\n",
    "plt.plot(np.log10(cloudprof[0,:,0]),logP, \"r-\")\n",
    "\n",
    "plt.ylabel(r'log(P)')\n",
    "plt.xlabel('log10(dtau)')"
   ]
  },
  {
   "cell_type": "code",
   "execution_count": null,
   "metadata": {
    "collapsed": true
   },
   "outputs": [],
   "source": []
  },
  {
   "cell_type": "code",
   "execution_count": null,
   "metadata": {
    "collapsed": false
   },
   "outputs": [],
   "source": [
    "import forwardmodel\n",
    "print forwardmodel.marv.__doc__"
   ]
  },
  {
   "cell_type": "code",
   "execution_count": null,
   "metadata": {
    "collapsed": true
   },
   "outputs": [],
   "source": []
  }
 ],
 "metadata": {
  "kernelspec": {
   "display_name": "Python 2",
   "language": "python",
   "name": "python2"
  },
  "language_info": {
   "codemirror_mode": {
    "name": "ipython",
    "version": 2
   },
   "file_extension": ".py",
   "mimetype": "text/x-python",
   "name": "python",
   "nbconvert_exporter": "python",
   "pygments_lexer": "ipython2",
   "version": "2.7.10"
  }
 },
 "nbformat": 4,
 "nbformat_minor": 0
}
