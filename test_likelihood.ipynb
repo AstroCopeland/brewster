{
 "cells": [
  {
   "cell_type": "code",
   "execution_count": 1,
   "metadata": {
    "collapsed": false
   },
   "outputs": [
    {
     "name": "stderr",
     "output_type": "stream",
     "text": [
      "/opt/local/Library/Frameworks/Python.framework/Versions/2.7/lib/python2.7/site-packages/IPython/kernel/__init__.py:13: ShimWarning: The `IPython.kernel` package has been deprecated. You should import from ipykernel or jupyter_client instead.\n",
      "  \"You should import from ipykernel or jupyter_client instead.\", ShimWarning)\n"
     ]
    }
   ],
   "source": [
    "import multiprocessing\n",
    "import time\n",
    "import numpy as np\n",
    "import scipy as sp\n",
    "import emcee\n",
    "import testkit\n",
    "import ciamod\n",
    "import os\n",
    "import gc\n",
    "import sys\n",
    "import pickle\n",
    "from scipy.io.idl import readsav\n",
    "from scipy import interpolate\n",
    "from scipy.interpolate import interp1d\n"
   ]
  },
  {
   "cell_type": "code",
   "execution_count": 2,
   "metadata": {
    "collapsed": false
   },
   "outputs": [],
   "source": [
    "# set up the model arguments the drop these into theta(state vector) or runargs\n",
    "\n",
    "# set up pressure grids in bar cos its intuitive\n",
    "logcoarsePress = np.arange(-4.0, 2.5, 0.53)\n",
    "coarsePress = pow(10,logcoarsePress)\n",
    "logfinePress = np.arange(-4.0, 2.4, 0.1)\n",
    "finePress = pow(10,logfinePress)\n",
    "# forward model wants pressure in bar\n",
    "press = finePress\n",
    "#nprof = coarsePress.size\n",
    "#print nprof\n",
    "#print finePress.size"
   ]
  },
  {
   "cell_type": "code",
   "execution_count": 3,
   "metadata": {
    "collapsed": false
   },
   "outputs": [],
   "source": [
    "w1 = 0.7\n",
    "w2 = 2.5\n",
    "\n",
    "dist = 11.35\n",
    "# hardwired FWHM of data in microns\n",
    "fwhm = 0.005\n",
    "\n",
    "npatches = 1\n",
    "nclouds= 1\n",
    "pcover = np.ones([npatches],dtype='f')\n",
    "pcover[:] = 1.0\n",
    "do_clouds = np.zeros([npatches],dtype='i')\n",
    "do_clouds[:] = 1\n",
    "cloudnum = np.zeros([npatches,nclouds],dtype='i')\n",
    "cloudnum[:,:] = 99\n",
    "cloudtype = np.array([npatches],dtype='i')\n",
    "cloudtype[:] = 2\n",
    "\n",
    "use_disort = 0 \n",
    "\n",
    "# Set the profile type\n",
    "proftype = 2\n",
    "\n",
    "\n",
    "# now the linelist\n",
    "# Set up number of gases, and point at the lists. see gaslist.dat\n",
    "ngas = 10\n",
    "gasnum = np.asfortranarray(np.array([1,4,7,8,10,11,3,2,20,21],dtype='i'))\n",
    "lists = [\"../Linelists/H2O_xsecs.pic\",\"../Linelists/co_xsecs.pic\",\"../Linelists/tio_xsecs.pic\",\"../Linelists/vo_xsecs.pic\",\"../Linelists/cah_xsecs.pic\",\"../Linelists/crh_xsecs.pic\" ,\"../Linelists/feh_xsecs.pic\",\"../Linelists/mgh_xsecs.pic\",\"../Linelists/K_Mike_xsecs.pic\",\"../Linelists/Na_Mike_xsecs.pic\"]"
   ]
  },
  {
   "cell_type": "code",
   "execution_count": 4,
   "metadata": {
    "collapsed": false
   },
   "outputs": [],
   "source": [
    "# get the basic framework from water list\n",
    "rawwavenum, inpress, inlinetemps, inlinelist = pickle.load( open('../Linelists/H2O_xsecs.pic', \"rb\" ) )\n",
    "wn1 = 10000./w2\n",
    "wn2 = 10000. / w1\n",
    "inwavenum = np.asfortranarray(rawwavenum[np.where(np.logical_not(np.logical_or(rawwavenum[:] > wn2, rawwavenum[:] < wn1)))],dtype='float64')\n",
    "ntemps = inlinetemps.size\n",
    "npress= finePress.size\n",
    "nwave = inwavenum.size\n",
    "r1 = np.amin(np.where(np.logical_not(np.logical_or(rawwavenum[:] > wn2, rawwavenum[:] < wn1))))\n",
    "r2 = np.amax(np.where(np.logical_not(np.logical_or(rawwavenum[:] > wn2, rawwavenum[:] < wn1))))\n",
    "\n",
    "# Here we are interpolating the linelist onto our fine pressure scale.\n",
    "# pickles have linelist as 4th entry....\n",
    "linelist = (np.ones([ngas,npress,ntemps,nwave],order='F')).astype('float64', order='F')\n",
    "for gas in range (0,ngas):\n",
    "    inlinelist= pickle.load( open(lists[gas], \"rb\" ) )[3]\n",
    "    # make missing bits crazy. They are all high pressure, low-temp points.\n",
    "    #inlinelist[np.isnan(inlinelist)] = 1.0\n",
    "    for i in range (0,ntemps):\n",
    "        for j in range (r1,r2+1):\n",
    "            pfit = interp1d(np.log10(inpress),np.log10(inlinelist[:,i,j]))\n",
    "            linelist[gas,:,i,(j-r1)] = np.asfortranarray(pfit(np.log10(finePress)))\n",
    "\n",
    "linelist[np.isnan(linelist)] = -50.0\n"
   ]
  },
  {
   "cell_type": "code",
   "execution_count": 5,
   "metadata": {
    "collapsed": false
   },
   "outputs": [],
   "source": [
    "# Get the cia bits\n",
    "tmpcia, ciatemps = ciamod.read_cia(\"CIA_DS_aug_2015.dat\",inwavenum)\n",
    "cia = np.asfortranarray(np.empty((4,ciatemps.size,nwave)),dtype='float32')\n",
    "cia[:,:,:] = tmpcia[:,:,:nwave] \n",
    "ciatemps = np.asfortranarray(ciatemps, dtype='float32')\n"
   ]
  },
  {
   "cell_type": "code",
   "execution_count": 6,
   "metadata": {
    "collapsed": false
   },
   "outputs": [],
   "source": [
    "# get the observed spectrum\n",
    "obspec = np.asfortranarray(np.loadtxt(\"2M2224_mkoJcalib.dat\",dtype='d',unpack='true'))\n",
    "\n",
    "\n",
    "\n",
    "# place holder values for cloudparams\n",
    "cloudparams = np.ones([5],dtype='d')\n",
    "cloudparams[0] = 0.\n",
    "cloudparams[1] = 10\n",
    "cloudparams[2] = 12\n",
    "cloudparams[3] = 1e-4\n",
    "cloudparams[4] = 1e-5\n",
    "\n",
    "\n",
    "runargs = dist, pcover, cloudtype,cloudparams,do_clouds,gasnum,cloudnum,inlinetemps,coarsePress,press,inwavenum,linelist,cia,ciatemps,use_disort,fwhm,obspec,proftype\n"
   ]
  },
  {
   "cell_type": "code",
   "execution_count": 7,
   "metadata": {
    "collapsed": false
   },
   "outputs": [
    {
     "name": "stdout",
     "output_type": "stream",
     "text": [
      "22\n"
     ]
    }
   ],
   "source": [
    "# for proftype = 2 with no clouds, ndim = nprof + ngas-1, + (dlam,beta,logg, r2d2)\n",
    "ndim =22 #(nprof + (ngas-1) + 9)\n",
    "theta = np.empty(ndim)\n",
    "print ndim"
   ]
  },
  {
   "cell_type": "code",
   "execution_count": 16,
   "metadata": {
    "collapsed": false
   },
   "outputs": [],
   "source": [
    "theta[0] = (0.5*np.random.randn()) - 3.0 # H2O\n",
    "theta[1] = (0.5*np.random.randn()) - 3.0 # CO\n",
    "theta[2] = (0.5*np.random.randn()) - 8.0 # TiO\n",
    "theta[3] = (0.5*np.random.randn()) - 8.0 # VO\n",
    "theta[4] = (1.0*np.random.randn()) - 6.0 # CrH\n",
    "theta[5] = (0.5*np.random.randn()) - 4.0 # FeH\n",
    "theta[6] = (0.5*np.random.randn()) - 5.0 # H2\n",
    "theta[7] = (0.5*np.random.randn()) - 8.5 # CH4\n",
    "theta[8] = (0.5*np.random.randn()) - 5.5 # Na+K\n",
    "theta[9] = np.random.rand() + 4.2  # logg\n",
    "theta[10] =   5e-20 * np.random.rand()   # r2d2\n",
    "theta[11] = np.random.randn() * 0.001 # dlam\n",
    "theta[12] = np.log10((np.random.rand() * (max(obspec[2,:]**2)*(10. - 0.01))) + (0.01*min(obspec[2,10::3]**2)))\n",
    "#BTprof = np.loadtxt(\"BTtemp800_45_13.dat\")\n",
    "theta[13] = 1e-4 + 10. *  np.random.rand()  # P0\n",
    "theta[14] = 1e-4 + np.random.rand()  # scale pressure\n",
    "theta[15]  = np.random.rand()  # w0\n",
    "theta[16]  = np.random.choice([-1,+1]) * np.random.rand() # gg\n",
    "theta[17] = np.random.rand()  # a1\n",
    "theta[18] = np.random.rand()  # a2\n",
    "theta[19] =  1e-4 + (np.random.rand() * 10.) #P1\n",
    "theta[20] =  theta[20] + np.random.rand() * 100.  #P2\n",
    "theta[21] = 1000. + (np.random.rand() * 3000.0)  #T3"
   ]
  },
  {
   "cell_type": "code",
   "execution_count": 17,
   "metadata": {
    "collapsed": false
   },
   "outputs": [
    {
     "name": "stdout",
     "output_type": "stream",
     "text": [
      "[ -3.20890961e+00  -2.11507731e+00  -7.65835566e+00  -8.28002468e+00\n",
      "  -4.68899561e+00  -4.37621704e+00  -5.45486816e+00  -9.05273790e+00\n",
      "  -4.62248446e+00   5.03140623e+00   3.11276567e-20   8.76743185e-04\n",
      "  -3.02880461e+01   1.28625505e+00   1.20666865e-01   7.86554302e-01\n",
      "   4.32160051e-01   6.61458629e-01   1.76932933e-01   7.13290124e-01\n",
      "   1.24099771e+02   1.52244320e+03]\n"
     ]
    }
   ],
   "source": [
    "print theta"
   ]
  },
  {
   "cell_type": "code",
   "execution_count": 18,
   "metadata": {
    "collapsed": false
   },
   "outputs": [
    {
     "name": "stdout",
     "output_type": "stream",
     "text": [
      "[1]\n",
      "[[99]]\n",
      "[2]\n",
      "0.78655430222\n",
      "0.432160050865\n",
      "0.882809416661 32.4275534072\n"
     ]
    }
   ],
   "source": [
    "print do_clouds\n",
    "print cloudnum\n",
    "print cloudtype\n",
    "print theta[15]\n",
    "print theta[16]\n",
    "r2d2= theta[10]\n",
    "logg = theta[9]\n",
    "D = 3.086e+16 * dist\n",
    "R = np.sqrt(r2d2) * D\n",
    "g = (10.**logg)/100.\n",
    "M = (R**2 * g/(6.67E-11))/1.898E27\n",
    "print R/70000e3, M"
   ]
  },
  {
   "cell_type": "code",
   "execution_count": 19,
   "metadata": {
    "collapsed": false
   },
   "outputs": [
    {
     "name": "stdout",
     "output_type": "stream",
     "text": [
      "-524.319852733\n"
     ]
    }
   ],
   "source": [
    "print testkit.lnprob(theta,*runargs) #* -2. / (obspec.shape[1] /3.)\n",
    "#print testkit.lnprob(theta2,*runargs) * -2. / (obspec.shape[1] /3.)\n"
   ]
  },
  {
   "cell_type": "code",
   "execution_count": null,
   "metadata": {
    "collapsed": false
   },
   "outputs": [],
   "source": [
    "len(pickle.dumps([theta,runargs], -1)) / 1e9"
   ]
  },
  {
   "cell_type": "code",
   "execution_count": null,
   "metadata": {
    "collapsed": false
   },
   "outputs": [],
   "source": [
    "for gas in range (0,ngas):\n",
    "    test= pickle.load( open(lists[gas], \"rb\" ) )[3]\n",
    "    test[np.isnan(test)] = 1.0\n",
    "    print test[np.where(np.less(test,0))]"
   ]
  },
  {
   "cell_type": "code",
   "execution_count": null,
   "metadata": {
    "collapsed": true
   },
   "outputs": [],
   "source": []
  },
  {
   "cell_type": "code",
   "execution_count": null,
   "metadata": {
    "collapsed": true
   },
   "outputs": [],
   "source": []
  },
  {
   "cell_type": "code",
   "execution_count": null,
   "metadata": {
    "collapsed": true
   },
   "outputs": [],
   "source": []
  },
  {
   "cell_type": "code",
   "execution_count": null,
   "metadata": {
    "collapsed": true
   },
   "outputs": [],
   "source": []
  }
 ],
 "metadata": {
  "kernelspec": {
   "display_name": "Python 2",
   "language": "python",
   "name": "python2"
  },
  "language_info": {
   "codemirror_mode": {
    "name": "ipython",
    "version": 2
   },
   "file_extension": ".py",
   "mimetype": "text/x-python",
   "name": "python",
   "nbconvert_exporter": "python",
   "pygments_lexer": "ipython2",
   "version": "2.7.10"
  }
 },
 "nbformat": 4,
 "nbformat_minor": 0
}
