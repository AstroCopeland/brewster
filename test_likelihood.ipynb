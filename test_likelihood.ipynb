{
 "cells": [
  {
   "cell_type": "code",
   "execution_count": null,
   "metadata": {
    "collapsed": false
   },
   "outputs": [],
   "source": [
    "import multiprocessing\n",
    "import time\n",
    "import numpy as np\n",
    "import scipy as sp\n",
    "import emcee\n",
    "import testkit\n",
    "import ciamod\n",
    "import os\n",
    "import gc\n",
    "import sys\n",
    "import pickle\n",
    "from scipy.io.idl import readsav\n",
    "from scipy import interpolate\n",
    "from scipy.interpolate import interp1d\n",
    "import matplotlib\n",
    "import matplotlib.pyplot as plt\n",
    "import matplotlib.image as mgimg\n",
    "import TPmod\n",
    "from IPython.display import display\n",
    "%matplotlib inline\n"
   ]
  },
  {
   "cell_type": "code",
   "execution_count": null,
   "metadata": {
    "collapsed": false
   },
   "outputs": [],
   "source": [
    "# set up the model arguments the drop these into theta(state vector) or runargs\n",
    "\n",
    "# set up pressure grids in bar cos its intuitive\n",
    "logcoarsePress = np.arange(-4.0, 2.5, 0.53)\n",
    "coarsePress = pow(10,logcoarsePress)\n",
    "logfinePress = np.arange(-4.0, 2.4, 0.1)\n",
    "finePress = pow(10,logfinePress)\n",
    "# forward model wants pressure in bar\n",
    "press = finePress\n",
    "#nprof = coarsePress.size\n",
    "#print nprof\n",
    "print finePress"
   ]
  },
  {
   "cell_type": "code",
   "execution_count": null,
   "metadata": {
    "collapsed": false
   },
   "outputs": [],
   "source": [
    "w1 = 0.8\n",
    "w2 = 2.4\n",
    "\n",
    "dist = 11.35\n",
    "# hardwired FWHM of data in microns\n",
    "fwhm = 0.005\n",
    "\n",
    "npatches = 1\n",
    "nclouds= 1\n",
    "\n",
    "do_clouds = np.asfortranarray(np.array([1]),dtype='i')\n",
    "cloudnum = np.zeros([npatches,nclouds],dtype='i')\n",
    "cloudnum[:,:] = 89\n",
    "cloudnum = np.asfortranarray(cloudnum,dtype = 'i')\n",
    "\n",
    "cloudtype = np.asfortranarray(np.array([1]),dtype='i')\n",
    "\n",
    "use_disort = 0 \n",
    "\n",
    "# Set the profile type\n",
    "proftype = 2\n",
    "\n",
    "\n",
    "# now the linelist\n",
    "# Set up number of gases, and point at the lists. see gaslist.dat\n",
    "ngas = 11\n",
    "gasnum = np.asfortranarray(np.array([1,4,5,7,8,9,10,11,12,20,21],dtype='i'))\n",
    "lists = [\"../Linelists/H2O_xsecs.pic\",\"../Linelists/co_xsecs.pic\",\"../Linelists/co2_xsecs.pic\",\"../Linelists/tio_xsecs.pic\",\"../Linelists/vo_xsecs.pic\",\"../Linelists/cah_xsecs.pic\",\"../Linelists/crh_xsecs.pic\" ,\"../Linelists/feh_xsecs.pic\",\"../Linelists/mgh_xsecs.pic\",\"../Linelists/K_Mike_xsecs.pic\",\"../Linelists/Na_Mike_xsecs.pic\"]"
   ]
  },
  {
   "cell_type": "code",
   "execution_count": null,
   "metadata": {
    "collapsed": false
   },
   "outputs": [],
   "source": [
    "# get the basic framework from water list\n",
    "rawwavenum, inpress, inlinetemps, inlinelist = pickle.load( open('../Linelists/H2O_xsecs.pic', \"rb\" ) )\n",
    "wn1 = 10000./w2\n",
    "wn2 = 10000. / w1\n",
    "inwavenum = np.asfortranarray(rawwavenum[np.where(np.logical_not(np.logical_or(rawwavenum[:] > wn2, rawwavenum[:] < wn1)))],dtype='float64')\n",
    "ntemps = inlinetemps.size\n",
    "npress= finePress.size\n",
    "nwave = inwavenum.size\n",
    "r1 = np.amin(np.where(np.logical_not(np.logical_or(rawwavenum[:] > wn2, rawwavenum[:] < wn1))))\n",
    "r2 = np.amax(np.where(np.logical_not(np.logical_or(rawwavenum[:] > wn2, rawwavenum[:] < wn1))))\n",
    "\n",
    "# Here we are interpolating the linelist onto our fine pressure scale.\n",
    "# pickles have linelist as 4th entry....\n",
    "linelist = (np.ones([ngas,npress,ntemps,nwave],order='F')).astype('float64', order='F')\n",
    "for gas in range (0,ngas):\n",
    "    inlinelist= pickle.load( open(lists[gas], \"rb\" ) )[3]\n",
    "    # make missing bits crazy. They are all high pressure, low-temp points.\n",
    "    #inlinelist[np.isnan(inlinelist)] = 1.0\n",
    "    for i in range (0,ntemps):\n",
    "        for j in range (r1,r2+1):\n",
    "            pfit = interp1d(np.log10(inpress),np.log10(inlinelist[:,i,j]))\n",
    "            linelist[gas,:,i,(j-r1)] = np.asfortranarray(pfit(np.log10(finePress)))\n",
    "\n",
    "linelist[np.isnan(linelist)] = -50.0\n"
   ]
  },
  {
   "cell_type": "code",
   "execution_count": null,
   "metadata": {
    "collapsed": false
   },
   "outputs": [],
   "source": [
    "# Get the cia bits\n",
    "tmpcia, ciatemps = ciamod.read_cia(\"CIA_DS_aug_2015.dat\",inwavenum)\n",
    "cia = np.asfortranarray(np.empty((4,ciatemps.size,nwave)),dtype='float32')\n",
    "cia[:,:,:] = tmpcia[:,:,:nwave] \n",
    "ciatemps = np.asfortranarray(ciatemps, dtype='float32')\n"
   ]
  },
  {
   "cell_type": "code",
   "execution_count": null,
   "metadata": {
    "collapsed": false
   },
   "outputs": [],
   "source": [
    "# get the observed spectrum\n",
    "obspec = np.asfortranarray(np.loadtxt(\"2M2224_mkoJcalib_trim.dat\",dtype='d',unpack='true'))\n",
    "\n",
    "do_fudge = 1\n",
    "\n",
    "# place holder values for cloudparams\n",
    "cloudparams = np.ones([5],dtype='d')\n",
    "cloudparams[0] = 0.\n",
    "cloudparams[1] = 10\n",
    "cloudparams[2] = 12\n",
    "cloudparams[3] = 1e-4\n",
    "cloudparams[4] = 1e-5\n",
    "\n",
    "\n",
    "runargs = dist, cloudtype,cloudparams,do_clouds,gasnum,cloudnum,inlinetemps,coarsePress,press,inwavenum,linelist,cia,ciatemps,use_disort,fwhm,obspec,proftype,do_fudge\n"
   ]
  },
  {
   "cell_type": "code",
   "execution_count": null,
   "metadata": {
    "collapsed": false
   },
   "outputs": [],
   "source": [
    "# for proftype = 2 with no clouds, ndim = nprof + ngas-1, + (dlam,beta,logg, r2d2)\n",
    "ndim =24 #(nprof + (ngas-1) + 9)\n",
    "theta = np.empty(ndim)\n",
    "print ndim"
   ]
  },
  {
   "cell_type": "code",
   "execution_count": null,
   "metadata": {
    "collapsed": false
   },
   "outputs": [],
   "source": [
    "theta[0] = -3.16459894e+00 #(0.5*np.random.randn()) - 3.5 # H2O\n",
    "theta[1] = -1.96267367e+00 #(0.5*np.random.randn()) - 6.0 # CO\n",
    "theta[2] = -6.28328840e+00 #(0.5*np.random.randn()) - 6.0 # CO2\n",
    "theta[3] = -1.14442303e+01 #(0.5*np.random.randn()) - 8.0 # TiO\n",
    "theta[4] = -1.07901469e+01 #(1.0*np.random.randn()) - 8.0 # VO \n",
    "theta[5] = -1.07901469e+01 #(1.0*np.random.randn()) - 8.0 # CaH\n",
    "theta[6] = -7.18029425e+00 #(1.0*np.random.randn()) - 8.0 # CrH\n",
    "theta[7] = -8.08165811e+00 #(0.5*np.random.randn()) - 8.0 # FeH\n",
    "theta[8] = -1.07901469e+01 #(1.0*np.random.randn()) - 8.0 # MgH\n",
    "theta[9] = -3.97709062e+00 #(0.5*np.random.randn()) - 5.5 # Na+K\n",
    "theta[10] = 5.24787282e+00 #np.random.rand() + 4.2  # logg\n",
    "theta[11] = 4.11803776e-20#1e-20 +  5e-20 * np.random.rand()   # r2d2\n",
    "theta[12] = 1.87727140e-03#np.random.randn() * 0.001 # dlam\n",
    "theta[13] = -3.08418583e+01 #np.log10((np.random.rand() * (max(obspec[2,:]**2)*(10. - 0.01))) + (0.01*min(obspec[2,10::3]**2)))\n",
    "theta[14] = 2.33709683e+00 #-4. + 6.*np.random.rand()  # P0\n",
    "theta[15] = 6.37533419e-01 #np.random.rand()  # cloud thickness (in delta-log-pressure\n",
    "theta[16] = 9.84147558e-02\n",
    "theta[17]  = 8.94528051e-02 #np.random.rand()  # w0\n",
    "theta[18] = -1 * np.random.rand()\n",
    "theta[19] = 4.20451513e-01#0.3 + 0.1*np.random.randn()  # a1\n",
    "theta[20] = 2.58074049e-01#0.2* np.random.rand()  # a2\n",
    "theta[21] = 8.44467392e-01# -2. * np.random.rand() #P1\n",
    "theta[22] = 3.14884270e+00 #2. + np.random.rand() #P2\n",
    "theta[23] = 2.29205684e+03 #4000. + (np.random.rand() * 1000.0)  #T3\n",
    "#while True:\n",
    "#    Tcheck = TPmod.set_prof(proftype,coarsePress,press,theta[17:])\n",
    "#    if (min(Tcheck) > 1.0):\n",
    "#        break\n",
    "#    else:\n",
    "##        theta[17] = 0.3 + 0.1*np.random.randn()\n",
    "#        theta[18] = 0.2* np.random.rand()\n",
    "#        theta[19] = -2.* np.random.rand()\n",
    "#        theta[20] = 2. + np.random.rand()\n",
    "#        theta[21] = 4000. + (1000.*  np.random.rand())"
   ]
  },
  {
   "cell_type": "code",
   "execution_count": null,
   "metadata": {
    "collapsed": false
   },
   "outputs": [],
   "source": [
    "print theta"
   ]
  },
  {
   "cell_type": "code",
   "execution_count": null,
   "metadata": {
    "collapsed": false
   },
   "outputs": [],
   "source": [
    "print do_clouds\n",
    "print gasnum\n",
    "print cloudnum\n",
    "print cloudtype\n",
    "#print theta[15]\n",
    "#print theta[16]\n",
    "r2d2= theta[11]\n",
    "logg = theta[10]\n",
    "D = 3.086e+16 * dist\n",
    "R = np.sqrt(r2d2) * D\n",
    "g = (10.**logg)/100.\n",
    "M = (R**2 * g/(6.67E-11))/1.898E27\n",
    "print R/70000e3, M"
   ]
  },
  {
   "cell_type": "code",
   "execution_count": null,
   "metadata": {
    "collapsed": false
   },
   "outputs": [],
   "source": [
    "plt.rc('font',family='Times New Roman')\n",
    "fig=plt.figure(dpi=320)\n",
    "plt.axis([-500., 6000.,3.0,-5.0])\n",
    "logP = np.log10(press)\n",
    "plotT = TPmod.set_prof(proftype,coarsePress,press,theta[19:])\n",
    "plt.plot(plotT,logP, \"r-\")\n",
    "\n",
    "plt.ylabel(r'log(P)')\n",
    "plt.xlabel('T/K')\n"
   ]
  },
  {
   "cell_type": "raw",
   "metadata": {},
   "source": []
  },
  {
   "cell_type": "code",
   "execution_count": null,
   "metadata": {
    "collapsed": false
   },
   "outputs": [],
   "source": [
    "LP = testkit.lnprob(theta,*runargs) #* -2. / (obspec.shape[1] /3.)\n",
    "#print testkit.lnprob(theta2,*runargs) * -2. / (obspec.shape[1] /3.)\n",
    "print LP"
   ]
  },
  {
   "cell_type": "code",
   "execution_count": null,
   "metadata": {
    "collapsed": false
   },
   "outputs": [],
   "source": [
    "#len(pickle.dumps([theta,runargs], -1)) / 1e9"
   ]
  },
  {
   "cell_type": "code",
   "execution_count": null,
   "metadata": {
    "collapsed": false
   },
   "outputs": [],
   "source": [
    "#for gas in range (0,ngas):\n",
    "##    test= pickle.load( open(lists[gas], \"rb\" ) )[3]\n",
    "#    test[np.isnan(test)] = 1.0\n",
    "#    print test[np.where(np.less(test,0))]\n",
    "print cloudprof.shape"
   ]
  },
  {
   "cell_type": "code",
   "execution_count": null,
   "metadata": {
    "collapsed": false
   },
   "outputs": [],
   "source": [
    "plt.rc('font',family='Times New Roman')\n",
    "fig=plt.figure(dpi=320)\n",
    "plt.axis([-8., 2.,3.0,-5.0])\n",
    "logP = np.log10(press)\n",
    "plt.plot(np.log10(cloudprof[0,:,0]),logP, \"r-\")\n",
    "\n",
    "plt.ylabel(r'log(P)')\n",
    "plt.xlabel('log10(dtau)')"
   ]
  },
  {
   "cell_type": "code",
   "execution_count": null,
   "metadata": {
    "collapsed": true
   },
   "outputs": [],
   "source": []
  },
  {
   "cell_type": "code",
   "execution_count": null,
   "metadata": {
    "collapsed": false
   },
   "outputs": [],
   "source": [
    "import forwardmodel\n",
    "print forwardmodel.marv.__doc__"
   ]
  },
  {
   "cell_type": "code",
   "execution_count": null,
   "metadata": {
    "collapsed": true
   },
   "outputs": [],
   "source": []
  }
 ],
 "metadata": {
  "kernelspec": {
   "display_name": "Python 2",
   "language": "python",
   "name": "python2"
  },
  "language_info": {
   "codemirror_mode": {
    "name": "ipython",
    "version": 2
   },
   "file_extension": ".py",
   "mimetype": "text/x-python",
   "name": "python",
   "nbconvert_exporter": "python",
   "pygments_lexer": "ipython2",
   "version": "2.7.10"
  }
 },
 "nbformat": 4,
 "nbformat_minor": 0
}
